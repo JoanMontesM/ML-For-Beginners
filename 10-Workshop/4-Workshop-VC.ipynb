{
  "cells": [
    {
      "cell_type": "markdown",
      "metadata": {
        "colab_type": "text",
        "id": "view-in-github"
      },
      "source": [
        "<a href=\"https://colab.research.google.com/github/SMC-AAU-CPH/ML-For-Beginners/blob/main/4-Web-App/images/4-Workshop-VC.ipynb\" target=\"_parent\"><img src=\"https://colab.research.google.com/assets/colab-badge.svg\" alt=\"Open In Colab\"/></a>"
      ]
    },
    {
      "cell_type": "markdown",
      "metadata": {
        "id": "5dsSLdP6yEly"
      },
      "source": [
        "# 4 Workshop (Part 1): 🥷 Tools Ninja"
      ]
    },
    {
      "cell_type": "markdown",
      "metadata": {
        "id": "DRXVNOG0yEl0"
      },
      "source": [
        "## 4.1 Operations: git updates and venv (towards rethinking Assigments 2 & 3)\n"
      ]
    },
    {
      "cell_type": "markdown",
      "metadata": {
        "id": "586r-ocSyEl1"
      },
      "source": [
        "\n",
        "Before going into details, would you like to accelerate and simplify your experimentation in Assignments 2 & 3?\n",
        "\n",
        "Then check `pycaret`, an open-source, a low-code ML library at https://pycaret.gitbook.io/.\n",
        "\n",
        "A regression workflow looks like this in pyaceret:\n",
        "\n",
        "![Regression with Functional API](https://1927305171-files.gitbook.io/~/files/v0/b/gitbook-x-prod.appspot.com/o/spaces%2FjAq5m5T7Qtz03TnB0Wve%2Fuploads%2FgTROKBMFONTsqypBKQcS%2Fregression_functional.png?alt=media&token=3e548aa2-eee5-46bf-ae22-7592d41588ca)\n",
        "\n",
        "A classification workflow looks like this in pyaceret:\n",
        "\n",
        "![Classification with Functional API](https://1927305171-files.gitbook.io/~/files/v0/b/gitbook-x-prod.appspot.com/o/spaces%2FjAq5m5T7Qtz03TnB0Wve%2Fuploads%2FdghtBxphPufGO3uOyHiU%2Fclassification_functional.png?alt=media&token=dbe9dfca-3c0e-45ca-b2b2-8a040115b9d4)\n",
        "\n",
        "These apply to all `scikit-learn` models, and similar APIs exist also for the future topics like clustering and time-series analysis.\n",
        "\n",
        "In this workshop, we will use it to test classification and regression, and deploy our best models. Before that, however, we check out our code and make a safe virtual environment for our experimentations without affecting our main codebase."
      ]
    },
    {
      "cell_type": "markdown",
      "metadata": {
        "id": "wdGgi8YByEl1"
      },
      "source": [
        "###  4.1.1 git operations\n"
      ]
    },
    {
      "cell_type": "markdown",
      "metadata": {
        "id": "T4yI-uDYyEl1"
      },
      "source": [
        "\n",
        "If you *cloned* the https://github.com/SMC-AAU-CPH/ML-For-Beginners repo just issue ```git status``` and wait to see \"Already up to date\"\n",
        "\n",
        "If there are conflicts, you can `stash` your changes for not loosing them and move on.   \n"
      ]
    },
    {
      "cell_type": "code",
      "execution_count": null,
      "metadata": {
        "id": "8-ULj8T8yEl1"
      },
      "outputs": [],
      "source": [
        "# ! git stash           // stash the local changes and reset your working directory\n",
        "# ! git pull            // pull the latest changes from the remote and merge them\n",
        "# ! git stash pop       // apply your stashed changes back to your working directory"
      ]
    },
    {
      "cell_type": "markdown",
      "metadata": {
        "id": "FfEQDTc0yEl2"
      },
      "source": [
        "\n",
        "If you have *forked* the https://github.com/SMC-AAU-CPH/ML-For-Beginners repo, you set its `upstream` and either `pull` or `merge` the changes. To try programatically in a Terminal, uncomment the code below.\n"
      ]
    },
    {
      "cell_type": "code",
      "execution_count": null,
      "metadata": {
        "id": "HG6M1s9JyEl2"
      },
      "outputs": [],
      "source": [
        "# ! git remote add upstream https://github.com/SMC-AAU-CPH/ML-For-Beginners\n",
        "# ! git fetch upstream\n",
        "# ! git merge upstream/main\n",
        "# ! git push origin main"
      ]
    },
    {
      "cell_type": "markdown",
      "metadata": {
        "id": "zRqQsM9fyEl3"
      },
      "source": [
        "## 4.2 Introducing PyCaret: Regression\n"
      ]
    },
    {
      "cell_type": "markdown",
      "metadata": {
        "id": "YmMH8XEpyEl3"
      },
      "source": [
        "pycaret workflow\n",
        "\n",
        "Setup ➡️ Compare Models ➡️ Analyze Model ➡️ Prediction ➡️ Save Model"
      ]
    },
    {
      "cell_type": "markdown",
      "metadata": {
        "id": "neAkY_iOyEl4"
      },
      "source": [
        "### 4.2.1 Regression workflow\n"
      ]
    },
    {
      "cell_type": "code",
      "execution_count": 2,
      "metadata": {
        "colab": {
          "base_uri": "https://localhost:8080/",
          "height": 35
        },
        "id": "xm0LZ_hCyEl4",
        "outputId": "4c911b01-c4f4-458b-c889-588843808c03"
      },
      "outputs": [
        {
          "data": {
            "text/plain": [
              "'3.3.2'"
            ]
          },
          "execution_count": 2,
          "metadata": {},
          "output_type": "execute_result"
        }
      ],
      "source": [
        "# check installed version (must be >3.0)\n",
        "import pycaret\n",
        "pycaret.__version__"
      ]
    },
    {
      "cell_type": "markdown",
      "metadata": {
        "id": "xgBHB-LPyEl5"
      },
      "source": [
        "PyCaret's Regression Module is a supervised machine learning module that is used for estimating the relationships between a dependent variable (often called the outcome variable, or target) and one or more independent variables (often called features, predictors, or covariates).\n",
        "\n",
        "The objective of regression is to predict continuous values such as predicting sales amount, predicting quantity, predicting temperature, etc. Regression module provides several pre-processing features to preprocess the data for modeling through the setup function.\n",
        "\n",
        "PyCaret's regression module has many preprocessing capabilities and it coems with over 25 ready-to-use algorithms and several plots to analyze the performance of trained models."
      ]
    },
    {
      "cell_type": "code",
      "execution_count": 3,
      "metadata": {
        "colab": {
          "base_uri": "https://localhost:8080/",
          "height": 206
        },
        "id": "gEOqGOYxyEl5",
        "outputId": "5149ea47-21d0-4cd8-e588-0d866c224630"
      },
      "outputs": [
        {
          "data": {
            "application/vnd.microsoft.datawrangler.viewer.v0+json": {
              "columns": [
                {
                  "name": "index",
                  "rawType": "int64",
                  "type": "integer"
                },
                {
                  "name": "age",
                  "rawType": "int64",
                  "type": "integer"
                },
                {
                  "name": "sex",
                  "rawType": "object",
                  "type": "string"
                },
                {
                  "name": "bmi",
                  "rawType": "float64",
                  "type": "float"
                },
                {
                  "name": "children",
                  "rawType": "int64",
                  "type": "integer"
                },
                {
                  "name": "smoker",
                  "rawType": "object",
                  "type": "string"
                },
                {
                  "name": "region",
                  "rawType": "object",
                  "type": "string"
                },
                {
                  "name": "charges",
                  "rawType": "float64",
                  "type": "float"
                }
              ],
              "ref": "041b3040-3fd9-423f-9699-e74222299638",
              "rows": [
                [
                  "0",
                  "19",
                  "female",
                  "27.9",
                  "0",
                  "yes",
                  "southwest",
                  "16884.924"
                ],
                [
                  "1",
                  "18",
                  "male",
                  "33.77",
                  "1",
                  "no",
                  "southeast",
                  "1725.5523"
                ],
                [
                  "2",
                  "28",
                  "male",
                  "33.0",
                  "3",
                  "no",
                  "southeast",
                  "4449.462"
                ],
                [
                  "3",
                  "33",
                  "male",
                  "22.705",
                  "0",
                  "no",
                  "northwest",
                  "21984.47061"
                ],
                [
                  "4",
                  "32",
                  "male",
                  "28.88",
                  "0",
                  "no",
                  "northwest",
                  "3866.8552"
                ]
              ],
              "shape": {
                "columns": 7,
                "rows": 5
              }
            },
            "text/html": [
              "<div>\n",
              "<style scoped>\n",
              "    .dataframe tbody tr th:only-of-type {\n",
              "        vertical-align: middle;\n",
              "    }\n",
              "\n",
              "    .dataframe tbody tr th {\n",
              "        vertical-align: top;\n",
              "    }\n",
              "\n",
              "    .dataframe thead th {\n",
              "        text-align: right;\n",
              "    }\n",
              "</style>\n",
              "<table border=\"1\" class=\"dataframe\">\n",
              "  <thead>\n",
              "    <tr style=\"text-align: right;\">\n",
              "      <th></th>\n",
              "      <th>age</th>\n",
              "      <th>sex</th>\n",
              "      <th>bmi</th>\n",
              "      <th>children</th>\n",
              "      <th>smoker</th>\n",
              "      <th>region</th>\n",
              "      <th>charges</th>\n",
              "    </tr>\n",
              "  </thead>\n",
              "  <tbody>\n",
              "    <tr>\n",
              "      <th>0</th>\n",
              "      <td>19</td>\n",
              "      <td>female</td>\n",
              "      <td>27.900</td>\n",
              "      <td>0</td>\n",
              "      <td>yes</td>\n",
              "      <td>southwest</td>\n",
              "      <td>16884.92400</td>\n",
              "    </tr>\n",
              "    <tr>\n",
              "      <th>1</th>\n",
              "      <td>18</td>\n",
              "      <td>male</td>\n",
              "      <td>33.770</td>\n",
              "      <td>1</td>\n",
              "      <td>no</td>\n",
              "      <td>southeast</td>\n",
              "      <td>1725.55230</td>\n",
              "    </tr>\n",
              "    <tr>\n",
              "      <th>2</th>\n",
              "      <td>28</td>\n",
              "      <td>male</td>\n",
              "      <td>33.000</td>\n",
              "      <td>3</td>\n",
              "      <td>no</td>\n",
              "      <td>southeast</td>\n",
              "      <td>4449.46200</td>\n",
              "    </tr>\n",
              "    <tr>\n",
              "      <th>3</th>\n",
              "      <td>33</td>\n",
              "      <td>male</td>\n",
              "      <td>22.705</td>\n",
              "      <td>0</td>\n",
              "      <td>no</td>\n",
              "      <td>northwest</td>\n",
              "      <td>21984.47061</td>\n",
              "    </tr>\n",
              "    <tr>\n",
              "      <th>4</th>\n",
              "      <td>32</td>\n",
              "      <td>male</td>\n",
              "      <td>28.880</td>\n",
              "      <td>0</td>\n",
              "      <td>no</td>\n",
              "      <td>northwest</td>\n",
              "      <td>3866.85520</td>\n",
              "    </tr>\n",
              "  </tbody>\n",
              "</table>\n",
              "</div>"
            ],
            "text/plain": [
              "   age     sex     bmi  children smoker     region      charges\n",
              "0   19  female  27.900         0    yes  southwest  16884.92400\n",
              "1   18    male  33.770         1     no  southeast   1725.55230\n",
              "2   28    male  33.000         3     no  southeast   4449.46200\n",
              "3   33    male  22.705         0     no  northwest  21984.47061\n",
              "4   32    male  28.880         0     no  northwest   3866.85520"
            ]
          },
          "metadata": {},
          "output_type": "display_data"
        }
      ],
      "source": [
        "### load sample dataset from pycaret dataset module\n",
        "from pycaret.datasets import get_data\n",
        "data = get_data('insurance')"
      ]
    },
    {
      "cell_type": "markdown",
      "metadata": {
        "id": "EFg0M2y4yEl6"
      },
      "source": [
        "#### Setup"
      ]
    },
    {
      "cell_type": "markdown",
      "metadata": {
        "id": "rT3p7lFXyEl6"
      },
      "source": [
        "The `setup` function initializes the training environment and creates the transformation pipeline. Setup function must be called before executing any other function in PyCaret. It only has two required parameters i.e. `data` and `target`. All the other parameters are optional.\n"
      ]
    },
    {
      "cell_type": "code",
      "execution_count": 4,
      "metadata": {
        "colab": {
          "base_uri": "https://localhost:8080/",
          "height": 770
        },
        "id": "RssjoU0nyEl6",
        "outputId": "37db36f4-2b7c-473f-bde9-1c4fdd63c3d4"
      },
      "outputs": [
        {
          "data": {
            "text/html": [
              "<style type=\"text/css\">\n",
              "#T_e1327_row9_col1 {\n",
              "  background-color: lightgreen;\n",
              "}\n",
              "</style>\n",
              "<table id=\"T_e1327\">\n",
              "  <thead>\n",
              "    <tr>\n",
              "      <th class=\"blank level0\" >&nbsp;</th>\n",
              "      <th id=\"T_e1327_level0_col0\" class=\"col_heading level0 col0\" >Description</th>\n",
              "      <th id=\"T_e1327_level0_col1\" class=\"col_heading level0 col1\" >Value</th>\n",
              "    </tr>\n",
              "  </thead>\n",
              "  <tbody>\n",
              "    <tr>\n",
              "      <th id=\"T_e1327_level0_row0\" class=\"row_heading level0 row0\" >0</th>\n",
              "      <td id=\"T_e1327_row0_col0\" class=\"data row0 col0\" >Session id</td>\n",
              "      <td id=\"T_e1327_row0_col1\" class=\"data row0 col1\" >123</td>\n",
              "    </tr>\n",
              "    <tr>\n",
              "      <th id=\"T_e1327_level0_row1\" class=\"row_heading level0 row1\" >1</th>\n",
              "      <td id=\"T_e1327_row1_col0\" class=\"data row1 col0\" >Target</td>\n",
              "      <td id=\"T_e1327_row1_col1\" class=\"data row1 col1\" >charges</td>\n",
              "    </tr>\n",
              "    <tr>\n",
              "      <th id=\"T_e1327_level0_row2\" class=\"row_heading level0 row2\" >2</th>\n",
              "      <td id=\"T_e1327_row2_col0\" class=\"data row2 col0\" >Target type</td>\n",
              "      <td id=\"T_e1327_row2_col1\" class=\"data row2 col1\" >Regression</td>\n",
              "    </tr>\n",
              "    <tr>\n",
              "      <th id=\"T_e1327_level0_row3\" class=\"row_heading level0 row3\" >3</th>\n",
              "      <td id=\"T_e1327_row3_col0\" class=\"data row3 col0\" >Original data shape</td>\n",
              "      <td id=\"T_e1327_row3_col1\" class=\"data row3 col1\" >(1338, 7)</td>\n",
              "    </tr>\n",
              "    <tr>\n",
              "      <th id=\"T_e1327_level0_row4\" class=\"row_heading level0 row4\" >4</th>\n",
              "      <td id=\"T_e1327_row4_col0\" class=\"data row4 col0\" >Transformed data shape</td>\n",
              "      <td id=\"T_e1327_row4_col1\" class=\"data row4 col1\" >(1338, 10)</td>\n",
              "    </tr>\n",
              "    <tr>\n",
              "      <th id=\"T_e1327_level0_row5\" class=\"row_heading level0 row5\" >5</th>\n",
              "      <td id=\"T_e1327_row5_col0\" class=\"data row5 col0\" >Transformed train set shape</td>\n",
              "      <td id=\"T_e1327_row5_col1\" class=\"data row5 col1\" >(936, 10)</td>\n",
              "    </tr>\n",
              "    <tr>\n",
              "      <th id=\"T_e1327_level0_row6\" class=\"row_heading level0 row6\" >6</th>\n",
              "      <td id=\"T_e1327_row6_col0\" class=\"data row6 col0\" >Transformed test set shape</td>\n",
              "      <td id=\"T_e1327_row6_col1\" class=\"data row6 col1\" >(402, 10)</td>\n",
              "    </tr>\n",
              "    <tr>\n",
              "      <th id=\"T_e1327_level0_row7\" class=\"row_heading level0 row7\" >7</th>\n",
              "      <td id=\"T_e1327_row7_col0\" class=\"data row7 col0\" >Numeric features</td>\n",
              "      <td id=\"T_e1327_row7_col1\" class=\"data row7 col1\" >3</td>\n",
              "    </tr>\n",
              "    <tr>\n",
              "      <th id=\"T_e1327_level0_row8\" class=\"row_heading level0 row8\" >8</th>\n",
              "      <td id=\"T_e1327_row8_col0\" class=\"data row8 col0\" >Categorical features</td>\n",
              "      <td id=\"T_e1327_row8_col1\" class=\"data row8 col1\" >3</td>\n",
              "    </tr>\n",
              "    <tr>\n",
              "      <th id=\"T_e1327_level0_row9\" class=\"row_heading level0 row9\" >9</th>\n",
              "      <td id=\"T_e1327_row9_col0\" class=\"data row9 col0\" >Preprocess</td>\n",
              "      <td id=\"T_e1327_row9_col1\" class=\"data row9 col1\" >True</td>\n",
              "    </tr>\n",
              "    <tr>\n",
              "      <th id=\"T_e1327_level0_row10\" class=\"row_heading level0 row10\" >10</th>\n",
              "      <td id=\"T_e1327_row10_col0\" class=\"data row10 col0\" >Imputation type</td>\n",
              "      <td id=\"T_e1327_row10_col1\" class=\"data row10 col1\" >simple</td>\n",
              "    </tr>\n",
              "    <tr>\n",
              "      <th id=\"T_e1327_level0_row11\" class=\"row_heading level0 row11\" >11</th>\n",
              "      <td id=\"T_e1327_row11_col0\" class=\"data row11 col0\" >Numeric imputation</td>\n",
              "      <td id=\"T_e1327_row11_col1\" class=\"data row11 col1\" >mean</td>\n",
              "    </tr>\n",
              "    <tr>\n",
              "      <th id=\"T_e1327_level0_row12\" class=\"row_heading level0 row12\" >12</th>\n",
              "      <td id=\"T_e1327_row12_col0\" class=\"data row12 col0\" >Categorical imputation</td>\n",
              "      <td id=\"T_e1327_row12_col1\" class=\"data row12 col1\" >mode</td>\n",
              "    </tr>\n",
              "    <tr>\n",
              "      <th id=\"T_e1327_level0_row13\" class=\"row_heading level0 row13\" >13</th>\n",
              "      <td id=\"T_e1327_row13_col0\" class=\"data row13 col0\" >Maximum one-hot encoding</td>\n",
              "      <td id=\"T_e1327_row13_col1\" class=\"data row13 col1\" >25</td>\n",
              "    </tr>\n",
              "    <tr>\n",
              "      <th id=\"T_e1327_level0_row14\" class=\"row_heading level0 row14\" >14</th>\n",
              "      <td id=\"T_e1327_row14_col0\" class=\"data row14 col0\" >Encoding method</td>\n",
              "      <td id=\"T_e1327_row14_col1\" class=\"data row14 col1\" >None</td>\n",
              "    </tr>\n",
              "    <tr>\n",
              "      <th id=\"T_e1327_level0_row15\" class=\"row_heading level0 row15\" >15</th>\n",
              "      <td id=\"T_e1327_row15_col0\" class=\"data row15 col0\" >Fold Generator</td>\n",
              "      <td id=\"T_e1327_row15_col1\" class=\"data row15 col1\" >KFold</td>\n",
              "    </tr>\n",
              "    <tr>\n",
              "      <th id=\"T_e1327_level0_row16\" class=\"row_heading level0 row16\" >16</th>\n",
              "      <td id=\"T_e1327_row16_col0\" class=\"data row16 col0\" >Fold Number</td>\n",
              "      <td id=\"T_e1327_row16_col1\" class=\"data row16 col1\" >10</td>\n",
              "    </tr>\n",
              "    <tr>\n",
              "      <th id=\"T_e1327_level0_row17\" class=\"row_heading level0 row17\" >17</th>\n",
              "      <td id=\"T_e1327_row17_col0\" class=\"data row17 col0\" >CPU Jobs</td>\n",
              "      <td id=\"T_e1327_row17_col1\" class=\"data row17 col1\" >-1</td>\n",
              "    </tr>\n",
              "    <tr>\n",
              "      <th id=\"T_e1327_level0_row18\" class=\"row_heading level0 row18\" >18</th>\n",
              "      <td id=\"T_e1327_row18_col0\" class=\"data row18 col0\" >Use GPU</td>\n",
              "      <td id=\"T_e1327_row18_col1\" class=\"data row18 col1\" >False</td>\n",
              "    </tr>\n",
              "    <tr>\n",
              "      <th id=\"T_e1327_level0_row19\" class=\"row_heading level0 row19\" >19</th>\n",
              "      <td id=\"T_e1327_row19_col0\" class=\"data row19 col0\" >Log Experiment</td>\n",
              "      <td id=\"T_e1327_row19_col1\" class=\"data row19 col1\" >False</td>\n",
              "    </tr>\n",
              "    <tr>\n",
              "      <th id=\"T_e1327_level0_row20\" class=\"row_heading level0 row20\" >20</th>\n",
              "      <td id=\"T_e1327_row20_col0\" class=\"data row20 col0\" >Experiment Name</td>\n",
              "      <td id=\"T_e1327_row20_col1\" class=\"data row20 col1\" >reg-default-name</td>\n",
              "    </tr>\n",
              "    <tr>\n",
              "      <th id=\"T_e1327_level0_row21\" class=\"row_heading level0 row21\" >21</th>\n",
              "      <td id=\"T_e1327_row21_col0\" class=\"data row21 col0\" >USI</td>\n",
              "      <td id=\"T_e1327_row21_col1\" class=\"data row21 col1\" >37e7</td>\n",
              "    </tr>\n",
              "  </tbody>\n",
              "</table>\n"
            ],
            "text/plain": [
              "<pandas.io.formats.style.Styler at 0x32008f410>"
            ]
          },
          "metadata": {},
          "output_type": "display_data"
        }
      ],
      "source": [
        "# import pycaret regression and init setup\n",
        "import pycaret.regression\n",
        "from pycaret.regression import *\n",
        "s_reg = setup(data, target = 'charges', session_id = 123)"
      ]
    },
    {
      "cell_type": "markdown",
      "metadata": {
        "id": "ZMvH-JnqyEl6"
      },
      "source": [
        "We will discuss several items in this info grip. PyCaret has two set of API's that you can work with. (1) Functional (as seen above) and (2) Object Oriented API. We will use the Functional API in the following. If OOP is your coding style, use it instead. You can even switch back and forth between two set of API's. The choice of method will not impact the results and has been tested for consistency.\n"
      ]
    },
    {
      "cell_type": "markdown",
      "metadata": {
        "id": "0h_wvKupyEl6"
      },
      "source": [
        "#### Compare Models"
      ]
    },
    {
      "cell_type": "markdown",
      "metadata": {
        "id": "DwMJ8kAbyEl6"
      },
      "source": [
        "The `compare_models` function trains and evaluates the performance of all the estimators available in the model library using cross-validation. The output of this function is a scoring grid with average cross-validated scores. Metrics evaluated during CV can be accessed using the `get_metrics` function. Custom metrics can be added or removed using `add_metric` and `remove_metric` function."
      ]
    },
    {
      "cell_type": "code",
      "execution_count": 5,
      "metadata": {
        "colab": {
          "base_uri": "https://localhost:8080/",
          "height": 666,
          "referenced_widgets": [
            "09d754ecaff0451faf48816e96a11ff5",
            "6488cdf3e82b4d9ab8577b63f97c7272",
            "0d6c2b5df0d34b0495c42a40afad8541",
            "ef31f8a94bc74552b11df3ccb88069c2",
            "ee76d6e3e71545f2abecf23490132057",
            "9453aec4162c40cd959f1ccedfe1e1ca",
            "97917a37691e4e938212b05b5847788f",
            "753c4da1f7d7473f8803f1b869f6cfed",
            "9589d00b27a7442e87c38e4a8294a221",
            "d81b009e5a854df9bff4afd80a261a73",
            "f5d08bf2944a4e82adca0d693b166a4c"
          ]
        },
        "id": "ThbBrMxxyEl6",
        "outputId": "71225483-4de9-41a4-9e3f-83db24e3389e"
      },
      "outputs": [
        {
          "data": {
            "text/html": [],
            "text/plain": [
              "<IPython.core.display.HTML object>"
            ]
          },
          "metadata": {},
          "output_type": "display_data"
        },
        {
          "data": {
            "text/html": [
              "<style type=\"text/css\">\n",
              "#T_fd633 th {\n",
              "  text-align: left;\n",
              "}\n",
              "#T_fd633_row0_col0, #T_fd633_row0_col6, #T_fd633_row1_col0, #T_fd633_row1_col1, #T_fd633_row1_col2, #T_fd633_row1_col3, #T_fd633_row1_col4, #T_fd633_row1_col5, #T_fd633_row1_col6, #T_fd633_row2_col0, #T_fd633_row2_col1, #T_fd633_row2_col2, #T_fd633_row2_col3, #T_fd633_row2_col4, #T_fd633_row2_col5, #T_fd633_row2_col6, #T_fd633_row3_col0, #T_fd633_row3_col1, #T_fd633_row3_col2, #T_fd633_row3_col3, #T_fd633_row3_col4, #T_fd633_row3_col5, #T_fd633_row3_col6, #T_fd633_row4_col0, #T_fd633_row4_col1, #T_fd633_row4_col2, #T_fd633_row4_col3, #T_fd633_row4_col4, #T_fd633_row4_col5, #T_fd633_row4_col6, #T_fd633_row5_col0, #T_fd633_row5_col1, #T_fd633_row5_col2, #T_fd633_row5_col3, #T_fd633_row5_col4, #T_fd633_row5_col5, #T_fd633_row5_col6, #T_fd633_row6_col0, #T_fd633_row6_col1, #T_fd633_row6_col2, #T_fd633_row6_col3, #T_fd633_row6_col4, #T_fd633_row6_col5, #T_fd633_row6_col6, #T_fd633_row7_col0, #T_fd633_row7_col1, #T_fd633_row7_col2, #T_fd633_row7_col3, #T_fd633_row7_col4, #T_fd633_row7_col5, #T_fd633_row7_col6, #T_fd633_row8_col0, #T_fd633_row8_col1, #T_fd633_row8_col2, #T_fd633_row8_col3, #T_fd633_row8_col4, #T_fd633_row8_col5, #T_fd633_row8_col6, #T_fd633_row9_col0, #T_fd633_row9_col1, #T_fd633_row9_col2, #T_fd633_row9_col3, #T_fd633_row9_col4, #T_fd633_row9_col5, #T_fd633_row9_col6, #T_fd633_row10_col0, #T_fd633_row10_col1, #T_fd633_row10_col2, #T_fd633_row10_col3, #T_fd633_row10_col4, #T_fd633_row10_col5, #T_fd633_row11_col0, #T_fd633_row11_col1, #T_fd633_row11_col2, #T_fd633_row11_col3, #T_fd633_row11_col4, #T_fd633_row11_col5, #T_fd633_row11_col6, #T_fd633_row12_col0, #T_fd633_row12_col1, #T_fd633_row12_col2, #T_fd633_row12_col3, #T_fd633_row12_col4, #T_fd633_row12_col5, #T_fd633_row12_col6, #T_fd633_row13_col0, #T_fd633_row13_col1, #T_fd633_row13_col2, #T_fd633_row13_col3, #T_fd633_row13_col4, #T_fd633_row13_col5, #T_fd633_row13_col6, #T_fd633_row14_col0, #T_fd633_row14_col1, #T_fd633_row14_col2, #T_fd633_row14_col3, #T_fd633_row14_col4, #T_fd633_row14_col5, #T_fd633_row14_col6, #T_fd633_row15_col0, #T_fd633_row15_col1, #T_fd633_row15_col2, #T_fd633_row15_col3, #T_fd633_row15_col4, #T_fd633_row15_col5, #T_fd633_row15_col6, #T_fd633_row16_col0, #T_fd633_row16_col1, #T_fd633_row16_col2, #T_fd633_row16_col3, #T_fd633_row16_col4, #T_fd633_row16_col5, #T_fd633_row16_col6 {\n",
              "  text-align: left;\n",
              "}\n",
              "#T_fd633_row0_col1, #T_fd633_row0_col2, #T_fd633_row0_col3, #T_fd633_row0_col4, #T_fd633_row0_col5, #T_fd633_row10_col6 {\n",
              "  text-align: left;\n",
              "  background-color: yellow;\n",
              "}\n",
              "#T_fd633_row0_col7, #T_fd633_row1_col7, #T_fd633_row2_col7, #T_fd633_row3_col7, #T_fd633_row4_col7, #T_fd633_row5_col7, #T_fd633_row6_col7, #T_fd633_row7_col7, #T_fd633_row8_col7, #T_fd633_row9_col7, #T_fd633_row10_col7, #T_fd633_row11_col7, #T_fd633_row12_col7, #T_fd633_row13_col7, #T_fd633_row14_col7, #T_fd633_row15_col7 {\n",
              "  text-align: left;\n",
              "  background-color: lightgrey;\n",
              "}\n",
              "#T_fd633_row16_col7 {\n",
              "  text-align: left;\n",
              "  background-color: yellow;\n",
              "  background-color: lightgrey;\n",
              "}\n",
              "</style>\n",
              "<table id=\"T_fd633\">\n",
              "  <thead>\n",
              "    <tr>\n",
              "      <th class=\"blank level0\" >&nbsp;</th>\n",
              "      <th id=\"T_fd633_level0_col0\" class=\"col_heading level0 col0\" >Model</th>\n",
              "      <th id=\"T_fd633_level0_col1\" class=\"col_heading level0 col1\" >MAE</th>\n",
              "      <th id=\"T_fd633_level0_col2\" class=\"col_heading level0 col2\" >MSE</th>\n",
              "      <th id=\"T_fd633_level0_col3\" class=\"col_heading level0 col3\" >RMSE</th>\n",
              "      <th id=\"T_fd633_level0_col4\" class=\"col_heading level0 col4\" >R2</th>\n",
              "      <th id=\"T_fd633_level0_col5\" class=\"col_heading level0 col5\" >RMSLE</th>\n",
              "      <th id=\"T_fd633_level0_col6\" class=\"col_heading level0 col6\" >MAPE</th>\n",
              "      <th id=\"T_fd633_level0_col7\" class=\"col_heading level0 col7\" >TT (Sec)</th>\n",
              "    </tr>\n",
              "  </thead>\n",
              "  <tbody>\n",
              "    <tr>\n",
              "      <th id=\"T_fd633_level0_row0\" class=\"row_heading level0 row0\" >gbr</th>\n",
              "      <td id=\"T_fd633_row0_col0\" class=\"data row0 col0\" >Gradient Boosting Regressor</td>\n",
              "      <td id=\"T_fd633_row0_col1\" class=\"data row0 col1\" >2701.9927</td>\n",
              "      <td id=\"T_fd633_row0_col2\" class=\"data row0 col2\" >23548981.3626</td>\n",
              "      <td id=\"T_fd633_row0_col3\" class=\"data row0 col3\" >4832.9682</td>\n",
              "      <td id=\"T_fd633_row0_col4\" class=\"data row0 col4\" >0.8320</td>\n",
              "      <td id=\"T_fd633_row0_col5\" class=\"data row0 col5\" >0.4447</td>\n",
              "      <td id=\"T_fd633_row0_col6\" class=\"data row0 col6\" >0.3137</td>\n",
              "      <td id=\"T_fd633_row0_col7\" class=\"data row0 col7\" >0.0170</td>\n",
              "    </tr>\n",
              "    <tr>\n",
              "      <th id=\"T_fd633_level0_row1\" class=\"row_heading level0 row1\" >rf</th>\n",
              "      <td id=\"T_fd633_row1_col0\" class=\"data row1 col0\" >Random Forest Regressor</td>\n",
              "      <td id=\"T_fd633_row1_col1\" class=\"data row1 col1\" >2771.4583</td>\n",
              "      <td id=\"T_fd633_row1_col2\" class=\"data row1 col2\" >25416502.3827</td>\n",
              "      <td id=\"T_fd633_row1_col3\" class=\"data row1 col3\" >5028.6343</td>\n",
              "      <td id=\"T_fd633_row1_col4\" class=\"data row1 col4\" >0.8172</td>\n",
              "      <td id=\"T_fd633_row1_col5\" class=\"data row1 col5\" >0.4690</td>\n",
              "      <td id=\"T_fd633_row1_col6\" class=\"data row1 col6\" >0.3303</td>\n",
              "      <td id=\"T_fd633_row1_col7\" class=\"data row1 col7\" >0.0440</td>\n",
              "    </tr>\n",
              "    <tr>\n",
              "      <th id=\"T_fd633_level0_row2\" class=\"row_heading level0 row2\" >et</th>\n",
              "      <td id=\"T_fd633_row2_col0\" class=\"data row2 col0\" >Extra Trees Regressor</td>\n",
              "      <td id=\"T_fd633_row2_col1\" class=\"data row2 col1\" >2833.3624</td>\n",
              "      <td id=\"T_fd633_row2_col2\" class=\"data row2 col2\" >28427844.2412</td>\n",
              "      <td id=\"T_fd633_row2_col3\" class=\"data row2 col3\" >5305.6516</td>\n",
              "      <td id=\"T_fd633_row2_col4\" class=\"data row2 col4\" >0.7991</td>\n",
              "      <td id=\"T_fd633_row2_col5\" class=\"data row2 col5\" >0.4877</td>\n",
              "      <td id=\"T_fd633_row2_col6\" class=\"data row2 col6\" >0.3363</td>\n",
              "      <td id=\"T_fd633_row2_col7\" class=\"data row2 col7\" >0.0300</td>\n",
              "    </tr>\n",
              "    <tr>\n",
              "      <th id=\"T_fd633_level0_row3\" class=\"row_heading level0 row3\" >ada</th>\n",
              "      <td id=\"T_fd633_row3_col0\" class=\"data row3 col0\" >AdaBoost Regressor</td>\n",
              "      <td id=\"T_fd633_row3_col1\" class=\"data row3 col1\" >4316.0568</td>\n",
              "      <td id=\"T_fd633_row3_col2\" class=\"data row3 col2\" >29220505.6498</td>\n",
              "      <td id=\"T_fd633_row3_col3\" class=\"data row3 col3\" >5398.4561</td>\n",
              "      <td id=\"T_fd633_row3_col4\" class=\"data row3 col4\" >0.7903</td>\n",
              "      <td id=\"T_fd633_row3_col5\" class=\"data row3 col5\" >0.6368</td>\n",
              "      <td id=\"T_fd633_row3_col6\" class=\"data row3 col6\" >0.7394</td>\n",
              "      <td id=\"T_fd633_row3_col7\" class=\"data row3 col7\" >0.0100</td>\n",
              "    </tr>\n",
              "    <tr>\n",
              "      <th id=\"T_fd633_level0_row4\" class=\"row_heading level0 row4\" >lar</th>\n",
              "      <td id=\"T_fd633_row4_col0\" class=\"data row4 col0\" >Least Angle Regression</td>\n",
              "      <td id=\"T_fd633_row4_col1\" class=\"data row4 col1\" >4303.5559</td>\n",
              "      <td id=\"T_fd633_row4_col2\" class=\"data row4 col2\" >38388058.4578</td>\n",
              "      <td id=\"T_fd633_row4_col3\" class=\"data row4 col3\" >6176.5920</td>\n",
              "      <td id=\"T_fd633_row4_col4\" class=\"data row4 col4\" >0.7306</td>\n",
              "      <td id=\"T_fd633_row4_col5\" class=\"data row4 col5\" >0.5949</td>\n",
              "      <td id=\"T_fd633_row4_col6\" class=\"data row4 col6\" >0.4433</td>\n",
              "      <td id=\"T_fd633_row4_col7\" class=\"data row4 col7\" >0.0080</td>\n",
              "    </tr>\n",
              "    <tr>\n",
              "      <th id=\"T_fd633_level0_row5\" class=\"row_heading level0 row5\" >br</th>\n",
              "      <td id=\"T_fd633_row5_col0\" class=\"data row5 col0\" >Bayesian Ridge</td>\n",
              "      <td id=\"T_fd633_row5_col1\" class=\"data row5 col1\" >4311.2349</td>\n",
              "      <td id=\"T_fd633_row5_col2\" class=\"data row5 col2\" >38391950.0874</td>\n",
              "      <td id=\"T_fd633_row5_col3\" class=\"data row5 col3\" >6176.8896</td>\n",
              "      <td id=\"T_fd633_row5_col4\" class=\"data row5 col4\" >0.7306</td>\n",
              "      <td id=\"T_fd633_row5_col5\" class=\"data row5 col5\" >0.5910</td>\n",
              "      <td id=\"T_fd633_row5_col6\" class=\"data row5 col6\" >0.4447</td>\n",
              "      <td id=\"T_fd633_row5_col7\" class=\"data row5 col7\" >0.0090</td>\n",
              "    </tr>\n",
              "    <tr>\n",
              "      <th id=\"T_fd633_level0_row6\" class=\"row_heading level0 row6\" >llar</th>\n",
              "      <td id=\"T_fd633_row6_col0\" class=\"data row6 col0\" >Lasso Least Angle Regression</td>\n",
              "      <td id=\"T_fd633_row6_col1\" class=\"data row6 col1\" >4303.7694</td>\n",
              "      <td id=\"T_fd633_row6_col2\" class=\"data row6 col2\" >38386824.2786</td>\n",
              "      <td id=\"T_fd633_row6_col3\" class=\"data row6 col3\" >6176.4846</td>\n",
              "      <td id=\"T_fd633_row6_col4\" class=\"data row6 col4\" >0.7306</td>\n",
              "      <td id=\"T_fd633_row6_col5\" class=\"data row6 col5\" >0.5952</td>\n",
              "      <td id=\"T_fd633_row6_col6\" class=\"data row6 col6\" >0.4434</td>\n",
              "      <td id=\"T_fd633_row6_col7\" class=\"data row6 col7\" >0.0120</td>\n",
              "    </tr>\n",
              "    <tr>\n",
              "      <th id=\"T_fd633_level0_row7\" class=\"row_heading level0 row7\" >ridge</th>\n",
              "      <td id=\"T_fd633_row7_col0\" class=\"data row7 col0\" >Ridge Regression</td>\n",
              "      <td id=\"T_fd633_row7_col1\" class=\"data row7 col1\" >4317.6984</td>\n",
              "      <td id=\"T_fd633_row7_col2\" class=\"data row7 col2\" >38396435.9578</td>\n",
              "      <td id=\"T_fd633_row7_col3\" class=\"data row7 col3\" >6177.2329</td>\n",
              "      <td id=\"T_fd633_row7_col4\" class=\"data row7 col4\" >0.7306</td>\n",
              "      <td id=\"T_fd633_row7_col5\" class=\"data row7 col5\" >0.5891</td>\n",
              "      <td id=\"T_fd633_row7_col6\" class=\"data row7 col6\" >0.4459</td>\n",
              "      <td id=\"T_fd633_row7_col7\" class=\"data row7 col7\" >0.0090</td>\n",
              "    </tr>\n",
              "    <tr>\n",
              "      <th id=\"T_fd633_level0_row8\" class=\"row_heading level0 row8\" >lasso</th>\n",
              "      <td id=\"T_fd633_row8_col0\" class=\"data row8 col0\" >Lasso Regression</td>\n",
              "      <td id=\"T_fd633_row8_col1\" class=\"data row8 col1\" >4303.7697</td>\n",
              "      <td id=\"T_fd633_row8_col2\" class=\"data row8 col2\" >38386797.6709</td>\n",
              "      <td id=\"T_fd633_row8_col3\" class=\"data row8 col3\" >6176.4824</td>\n",
              "      <td id=\"T_fd633_row8_col4\" class=\"data row8 col4\" >0.7306</td>\n",
              "      <td id=\"T_fd633_row8_col5\" class=\"data row8 col5\" >0.5952</td>\n",
              "      <td id=\"T_fd633_row8_col6\" class=\"data row8 col6\" >0.4434</td>\n",
              "      <td id=\"T_fd633_row8_col7\" class=\"data row8 col7\" >0.0120</td>\n",
              "    </tr>\n",
              "    <tr>\n",
              "      <th id=\"T_fd633_level0_row9\" class=\"row_heading level0 row9\" >lr</th>\n",
              "      <td id=\"T_fd633_row9_col0\" class=\"data row9 col0\" >Linear Regression</td>\n",
              "      <td id=\"T_fd633_row9_col1\" class=\"data row9 col1\" >4303.5559</td>\n",
              "      <td id=\"T_fd633_row9_col2\" class=\"data row9 col2\" >38388058.4578</td>\n",
              "      <td id=\"T_fd633_row9_col3\" class=\"data row9 col3\" >6176.5920</td>\n",
              "      <td id=\"T_fd633_row9_col4\" class=\"data row9 col4\" >0.7306</td>\n",
              "      <td id=\"T_fd633_row9_col5\" class=\"data row9 col5\" >0.5949</td>\n",
              "      <td id=\"T_fd633_row9_col6\" class=\"data row9 col6\" >0.4433</td>\n",
              "      <td id=\"T_fd633_row9_col7\" class=\"data row9 col7\" >0.7420</td>\n",
              "    </tr>\n",
              "    <tr>\n",
              "      <th id=\"T_fd633_level0_row10\" class=\"row_heading level0 row10\" >huber</th>\n",
              "      <td id=\"T_fd633_row10_col0\" class=\"data row10 col0\" >Huber Regressor</td>\n",
              "      <td id=\"T_fd633_row10_col1\" class=\"data row10 col1\" >3464.2446</td>\n",
              "      <td id=\"T_fd633_row10_col2\" class=\"data row10 col2\" >48878853.8348</td>\n",
              "      <td id=\"T_fd633_row10_col3\" class=\"data row10 col3\" >6969.1873</td>\n",
              "      <td id=\"T_fd633_row10_col4\" class=\"data row10 col4\" >0.6539</td>\n",
              "      <td id=\"T_fd633_row10_col5\" class=\"data row10 col5\" >0.4908</td>\n",
              "      <td id=\"T_fd633_row10_col6\" class=\"data row10 col6\" >0.2210</td>\n",
              "      <td id=\"T_fd633_row10_col7\" class=\"data row10 col7\" >0.0110</td>\n",
              "    </tr>\n",
              "    <tr>\n",
              "      <th id=\"T_fd633_level0_row11\" class=\"row_heading level0 row11\" >dt</th>\n",
              "      <td id=\"T_fd633_row11_col0\" class=\"data row11 col0\" >Decision Tree Regressor</td>\n",
              "      <td id=\"T_fd633_row11_col1\" class=\"data row11 col1\" >3383.4916</td>\n",
              "      <td id=\"T_fd633_row11_col2\" class=\"data row11 col2\" >47823199.0729</td>\n",
              "      <td id=\"T_fd633_row11_col3\" class=\"data row11 col3\" >6895.7016</td>\n",
              "      <td id=\"T_fd633_row11_col4\" class=\"data row11 col4\" >0.6497</td>\n",
              "      <td id=\"T_fd633_row11_col5\" class=\"data row11 col5\" >0.5602</td>\n",
              "      <td id=\"T_fd633_row11_col6\" class=\"data row11 col6\" >0.4013</td>\n",
              "      <td id=\"T_fd633_row11_col7\" class=\"data row11 col7\" >0.0110</td>\n",
              "    </tr>\n",
              "    <tr>\n",
              "      <th id=\"T_fd633_level0_row12\" class=\"row_heading level0 row12\" >par</th>\n",
              "      <td id=\"T_fd633_row12_col0\" class=\"data row12 col0\" >Passive Aggressive Regressor</td>\n",
              "      <td id=\"T_fd633_row12_col1\" class=\"data row12 col1\" >4537.0122</td>\n",
              "      <td id=\"T_fd633_row12_col2\" class=\"data row12 col2\" >67346309.9218</td>\n",
              "      <td id=\"T_fd633_row12_col3\" class=\"data row12 col3\" >8142.7826</td>\n",
              "      <td id=\"T_fd633_row12_col4\" class=\"data row12 col4\" >0.5422</td>\n",
              "      <td id=\"T_fd633_row12_col5\" class=\"data row12 col5\" >0.5276</td>\n",
              "      <td id=\"T_fd633_row12_col6\" class=\"data row12 col6\" >0.3207</td>\n",
              "      <td id=\"T_fd633_row12_col7\" class=\"data row12 col7\" >0.0080</td>\n",
              "    </tr>\n",
              "    <tr>\n",
              "      <th id=\"T_fd633_level0_row13\" class=\"row_heading level0 row13\" >en</th>\n",
              "      <td id=\"T_fd633_row13_col0\" class=\"data row13 col0\" >Elastic Net</td>\n",
              "      <td id=\"T_fd633_row13_col1\" class=\"data row13 col1\" >7372.5238</td>\n",
              "      <td id=\"T_fd633_row13_col2\" class=\"data row13 col2\" >90450782.5713</td>\n",
              "      <td id=\"T_fd633_row13_col3\" class=\"data row13 col3\" >9468.3193</td>\n",
              "      <td id=\"T_fd633_row13_col4\" class=\"data row13 col4\" >0.3792</td>\n",
              "      <td id=\"T_fd633_row13_col5\" class=\"data row13 col5\" >0.7342</td>\n",
              "      <td id=\"T_fd633_row13_col6\" class=\"data row13 col6\" >0.9184</td>\n",
              "      <td id=\"T_fd633_row13_col7\" class=\"data row13 col7\" >0.0080</td>\n",
              "    </tr>\n",
              "    <tr>\n",
              "      <th id=\"T_fd633_level0_row14\" class=\"row_heading level0 row14\" >omp</th>\n",
              "      <td id=\"T_fd633_row14_col0\" class=\"data row14 col0\" >Orthogonal Matching Pursuit</td>\n",
              "      <td id=\"T_fd633_row14_col1\" class=\"data row14 col1\" >9089.9268</td>\n",
              "      <td id=\"T_fd633_row14_col2\" class=\"data row14 col2\" >133439413.5272</td>\n",
              "      <td id=\"T_fd633_row14_col3\" class=\"data row14 col3\" >11488.4238</td>\n",
              "      <td id=\"T_fd633_row14_col4\" class=\"data row14 col4\" >0.0884</td>\n",
              "      <td id=\"T_fd633_row14_col5\" class=\"data row14 col5\" >0.8790</td>\n",
              "      <td id=\"T_fd633_row14_col6\" class=\"data row14 col6\" >1.1514</td>\n",
              "      <td id=\"T_fd633_row14_col7\" class=\"data row14 col7\" >0.0080</td>\n",
              "    </tr>\n",
              "    <tr>\n",
              "      <th id=\"T_fd633_level0_row15\" class=\"row_heading level0 row15\" >knn</th>\n",
              "      <td id=\"T_fd633_row15_col0\" class=\"data row15 col0\" >K Neighbors Regressor</td>\n",
              "      <td id=\"T_fd633_row15_col1\" class=\"data row15 col1\" >8001.2492</td>\n",
              "      <td id=\"T_fd633_row15_col2\" class=\"data row15 col2\" >131340102.4000</td>\n",
              "      <td id=\"T_fd633_row15_col3\" class=\"data row15 col3\" >11423.2734</td>\n",
              "      <td id=\"T_fd633_row15_col4\" class=\"data row15 col4\" >0.0862</td>\n",
              "      <td id=\"T_fd633_row15_col5\" class=\"data row15 col5\" >0.8533</td>\n",
              "      <td id=\"T_fd633_row15_col6\" class=\"data row15 col6\" >0.9225</td>\n",
              "      <td id=\"T_fd633_row15_col7\" class=\"data row15 col7\" >0.0150</td>\n",
              "    </tr>\n",
              "    <tr>\n",
              "      <th id=\"T_fd633_level0_row16\" class=\"row_heading level0 row16\" >dummy</th>\n",
              "      <td id=\"T_fd633_row16_col0\" class=\"data row16 col0\" >Dummy Regressor</td>\n",
              "      <td id=\"T_fd633_row16_col1\" class=\"data row16 col1\" >9192.5418</td>\n",
              "      <td id=\"T_fd633_row16_col2\" class=\"data row16 col2\" >148516792.8000</td>\n",
              "      <td id=\"T_fd633_row16_col3\" class=\"data row16 col3\" >12132.4733</td>\n",
              "      <td id=\"T_fd633_row16_col4\" class=\"data row16 col4\" >-0.0175</td>\n",
              "      <td id=\"T_fd633_row16_col5\" class=\"data row16 col5\" >1.0154</td>\n",
              "      <td id=\"T_fd633_row16_col6\" class=\"data row16 col6\" >1.5637</td>\n",
              "      <td id=\"T_fd633_row16_col7\" class=\"data row16 col7\" >0.0070</td>\n",
              "    </tr>\n",
              "  </tbody>\n",
              "</table>\n"
            ],
            "text/plain": [
              "<pandas.io.formats.style.Styler at 0x31fdec390>"
            ]
          },
          "metadata": {},
          "output_type": "display_data"
        },
        {
          "data": {
            "text/html": [],
            "text/plain": [
              "<IPython.core.display.HTML object>"
            ]
          },
          "metadata": {},
          "output_type": "display_data"
        }
      ],
      "source": [
        "# compare baseline models, we exclude lightgbm because it enables GPU on some machines\n",
        "best = compare_models(exclude=[\"lightgbm\"])"
      ]
    },
    {
      "cell_type": "markdown",
      "metadata": {
        "id": "w9hG4ZuKyEl6"
      },
      "source": [
        "#### Analyze Model"
      ]
    },
    {
      "cell_type": "markdown",
      "metadata": {
        "id": "u5maPRKByEl7"
      },
      "source": [
        "The `plot_model` function is used to analyze the performance of a trained model on the test set. It may require re-training the model in certain cases."
      ]
    },
    {
      "cell_type": "code",
      "execution_count": 6,
      "metadata": {
        "colab": {
          "base_uri": "https://localhost:8080/",
          "height": 524
        },
        "id": "uVaFmK8RyEl7",
        "outputId": "5094c325-95aa-4a59-9368-27fdb27534d6"
      },
      "outputs": [
        {
          "data": {
            "text/html": [],
            "text/plain": [
              "<IPython.core.display.HTML object>"
            ]
          },
          "metadata": {},
          "output_type": "display_data"
        },
        {
          "data": {
            "image/png": "[encoded data removed]",
            "text/plain": [
              "<Figure size 800x550 with 2 Axes>"
            ]
          },
          "metadata": {},
          "output_type": "display_data"
        }
      ],
      "source": [
        "# plot residuals\n",
        "plot_model(best, plot = 'residuals')"
      ]
    },
    {
      "cell_type": "code",
      "execution_count": 7,
      "metadata": {
        "colab": {
          "base_uri": "https://localhost:8080/",
          "height": 526
        },
        "id": "bMNKfT1OyEl7",
        "outputId": "84f4ae5f-99b6-44c7-ecad-0063941b2f46"
      },
      "outputs": [
        {
          "data": {
            "text/html": [],
            "text/plain": [
              "<IPython.core.display.HTML object>"
            ]
          },
          "metadata": {},
          "output_type": "display_data"
        },
        {
          "data": {
            "image/png": "[encoded data removed]",
            "text/plain": [
              "<Figure size 800x550 with 1 Axes>"
            ]
          },
          "metadata": {},
          "output_type": "display_data"
        }
      ],
      "source": [
        "# plot error\n",
        "plot_model(best, plot = 'error')"
      ]
    },
    {
      "cell_type": "code",
      "execution_count": 8,
      "metadata": {
        "colab": {
          "base_uri": "https://localhost:8080/",
          "height": 485
        },
        "id": "ZIcTdCZ1yEl7",
        "outputId": "c8e077c2-c131-4667-ce47-762524854d40"
      },
      "outputs": [
        {
          "data": {
            "text/html": [],
            "text/plain": [
              "<IPython.core.display.HTML object>"
            ]
          },
          "metadata": {},
          "output_type": "display_data"
        },
        {
          "data": {
            "image/png": "[encoded data removed]",
            "text/plain": [
              "<Figure size 800x500 with 1 Axes>"
            ]
          },
          "metadata": {},
          "output_type": "display_data"
        }
      ],
      "source": [
        "# plot feature importance\n",
        "plot_model(best, plot = 'feature')"
      ]
    },
    {
      "cell_type": "code",
      "execution_count": 9,
      "metadata": {
        "id": "UQwzydJ5yEl7"
      },
      "outputs": [],
      "source": [
        "# Hover over or check docstring to see available plots\n",
        "# help(plot_model)"
      ]
    },
    {
      "cell_type": "markdown",
      "metadata": {
        "id": "wY3F7kyByEl7"
      },
      "source": [
        "An alternate to `plot_model` function is `evaluate_model`. It is interactive, click on one tab and wait to see the results."
      ]
    },
    {
      "cell_type": "code",
      "execution_count": 10,
      "metadata": {
        "colab": {
          "base_uri": "https://localhost:8080/",
          "height": 638,
          "referenced_widgets": [
            "e5141db1876d4325afed2f0a962c64fb",
            "46c835529d6345dbad16bb67a795ad05",
            "5537d3cf126b4dc0adfbcb158c20a535",
            "ac67d23cc6254bdf9d86985970eca7e1",
            "1a9301b935a240969a3863612d99db3b",
            "f17b332b4a3d4d889c79aa7c15348ef0",
            "08ed4acc21b9411f9994d9a394da038d"
          ]
        },
        "id": "ECXaFXHfyEl7",
        "outputId": "356252cc-0622-49cd-da3a-9e5a02517a56"
      },
      "outputs": [
        {
          "data": {
            "application/vnd.jupyter.widget-view+json": {
              "model_id": "395ce3113ca14a2fb6d1150e0df3d109",
              "version_major": 2,
              "version_minor": 0
            },
            "text/plain": [
              "interactive(children=(ToggleButtons(description='Plot Type:', icons=('',), options=(('Pipeline Plot', 'pipelin…"
            ]
          },
          "metadata": {},
          "output_type": "display_data"
        }
      ],
      "source": [
        "evaluate_model(best)"
      ]
    },
    {
      "cell_type": "markdown",
      "metadata": {
        "id": "kFSyVKxSyEl7"
      },
      "source": [
        "#### Prediction\n"
      ]
    },
    {
      "cell_type": "markdown",
      "metadata": {
        "id": "-YPw3OYjyEl8"
      },
      "source": [
        "The `predict_model` function returns `prediction_label` as new column to the input dataframe. When data is `None` (default), it uses the test set (created during the setup function) for scoring."
      ]
    },
    {
      "cell_type": "code",
      "execution_count": 11,
      "metadata": {
        "colab": {
          "base_uri": "https://localhost:8080/",
          "height": 81
        },
        "id": "NrEo7V_nyEl8",
        "outputId": "b9fa6d43-beff-43af-a7f6-1dc0bb9ec6bc"
      },
      "outputs": [
        {
          "data": {
            "text/html": [
              "<style type=\"text/css\">\n",
              "</style>\n",
              "<table id=\"T_176f4\">\n",
              "  <thead>\n",
              "    <tr>\n",
              "      <th class=\"blank level0\" >&nbsp;</th>\n",
              "      <th id=\"T_176f4_level0_col0\" class=\"col_heading level0 col0\" >Model</th>\n",
              "      <th id=\"T_176f4_level0_col1\" class=\"col_heading level0 col1\" >MAE</th>\n",
              "      <th id=\"T_176f4_level0_col2\" class=\"col_heading level0 col2\" >MSE</th>\n",
              "      <th id=\"T_176f4_level0_col3\" class=\"col_heading level0 col3\" >RMSE</th>\n",
              "      <th id=\"T_176f4_level0_col4\" class=\"col_heading level0 col4\" >R2</th>\n",
              "      <th id=\"T_176f4_level0_col5\" class=\"col_heading level0 col5\" >RMSLE</th>\n",
              "      <th id=\"T_176f4_level0_col6\" class=\"col_heading level0 col6\" >MAPE</th>\n",
              "    </tr>\n",
              "  </thead>\n",
              "  <tbody>\n",
              "    <tr>\n",
              "      <th id=\"T_176f4_level0_row0\" class=\"row_heading level0 row0\" >0</th>\n",
              "      <td id=\"T_176f4_row0_col0\" class=\"data row0 col0\" >Gradient Boosting Regressor</td>\n",
              "      <td id=\"T_176f4_row0_col1\" class=\"data row0 col1\" >2392.5661</td>\n",
              "      <td id=\"T_176f4_row0_col2\" class=\"data row0 col2\" >17148355.3169</td>\n",
              "      <td id=\"T_176f4_row0_col3\" class=\"data row0 col3\" >4141.0573</td>\n",
              "      <td id=\"T_176f4_row0_col4\" class=\"data row0 col4\" >0.8800</td>\n",
              "      <td id=\"T_176f4_row0_col5\" class=\"data row0 col5\" >0.3928</td>\n",
              "      <td id=\"T_176f4_row0_col6\" class=\"data row0 col6\" >0.2875</td>\n",
              "    </tr>\n",
              "  </tbody>\n",
              "</table>\n"
            ],
            "text/plain": [
              "<pandas.io.formats.style.Styler at 0x31ff76990>"
            ]
          },
          "metadata": {},
          "output_type": "display_data"
        }
      ],
      "source": [
        "# predict on test set\n",
        "holdout_pred = predict_model(best)"
      ]
    },
    {
      "cell_type": "code",
      "execution_count": 12,
      "metadata": {
        "colab": {
          "base_uri": "https://localhost:8080/",
          "height": 206
        },
        "id": "d0tzSASeyEmA",
        "outputId": "f2fb2588-0f49-4d61-ac3f-ff448b136106"
      },
      "outputs": [
        {
          "data": {
            "application/vnd.microsoft.datawrangler.viewer.v0+json": {
              "columns": [
                {
                  "name": "index",
                  "rawType": "int64",
                  "type": "integer"
                },
                {
                  "name": "age",
                  "rawType": "int8",
                  "type": "integer"
                },
                {
                  "name": "sex",
                  "rawType": "category",
                  "type": "unknown"
                },
                {
                  "name": "bmi",
                  "rawType": "float32",
                  "type": "float"
                },
                {
                  "name": "children",
                  "rawType": "int8",
                  "type": "integer"
                },
                {
                  "name": "smoker",
                  "rawType": "category",
                  "type": "unknown"
                },
                {
                  "name": "region",
                  "rawType": "category",
                  "type": "unknown"
                },
                {
                  "name": "charges",
                  "rawType": "float32",
                  "type": "float"
                },
                {
                  "name": "prediction_label",
                  "rawType": "float64",
                  "type": "float"
                }
              ],
              "ref": "9269ff5d-491e-4b2b-9974-8f9ea59c93b9",
              "rows": [
                [
                  "650",
                  "49",
                  "female",
                  "42.68",
                  "2",
                  "no",
                  "southeast",
                  "9800.889",
                  "10681.513104417148"
                ],
                [
                  "319",
                  "32",
                  "male",
                  "37.335",
                  "1",
                  "no",
                  "northeast",
                  "4667.6074",
                  "8043.453462741539"
                ],
                [
                  "314",
                  "27",
                  "female",
                  "31.4",
                  "0",
                  "yes",
                  "southwest",
                  "34838.87",
                  "36153.09768578932"
                ],
                [
                  "150",
                  "35",
                  "male",
                  "24.13",
                  "1",
                  "no",
                  "northwest",
                  "5125.216",
                  "7435.51685256111"
                ],
                [
                  "336",
                  "60",
                  "male",
                  "25.74",
                  "0",
                  "no",
                  "southeast",
                  "12142.578",
                  "14676.544333814967"
                ]
              ],
              "shape": {
                "columns": 8,
                "rows": 5
              }
            },
            "text/html": [
              "<div>\n",
              "<style scoped>\n",
              "    .dataframe tbody tr th:only-of-type {\n",
              "        vertical-align: middle;\n",
              "    }\n",
              "\n",
              "    .dataframe tbody tr th {\n",
              "        vertical-align: top;\n",
              "    }\n",
              "\n",
              "    .dataframe thead th {\n",
              "        text-align: right;\n",
              "    }\n",
              "</style>\n",
              "<table border=\"1\" class=\"dataframe\">\n",
              "  <thead>\n",
              "    <tr style=\"text-align: right;\">\n",
              "      <th></th>\n",
              "      <th>age</th>\n",
              "      <th>sex</th>\n",
              "      <th>bmi</th>\n",
              "      <th>children</th>\n",
              "      <th>smoker</th>\n",
              "      <th>region</th>\n",
              "      <th>charges</th>\n",
              "      <th>prediction_label</th>\n",
              "    </tr>\n",
              "  </thead>\n",
              "  <tbody>\n",
              "    <tr>\n",
              "      <th>650</th>\n",
              "      <td>49</td>\n",
              "      <td>female</td>\n",
              "      <td>42.680000</td>\n",
              "      <td>2</td>\n",
              "      <td>no</td>\n",
              "      <td>southeast</td>\n",
              "      <td>9800.888672</td>\n",
              "      <td>10681.513104</td>\n",
              "    </tr>\n",
              "    <tr>\n",
              "      <th>319</th>\n",
              "      <td>32</td>\n",
              "      <td>male</td>\n",
              "      <td>37.334999</td>\n",
              "      <td>1</td>\n",
              "      <td>no</td>\n",
              "      <td>northeast</td>\n",
              "      <td>4667.607422</td>\n",
              "      <td>8043.453463</td>\n",
              "    </tr>\n",
              "    <tr>\n",
              "      <th>314</th>\n",
              "      <td>27</td>\n",
              "      <td>female</td>\n",
              "      <td>31.400000</td>\n",
              "      <td>0</td>\n",
              "      <td>yes</td>\n",
              "      <td>southwest</td>\n",
              "      <td>34838.871094</td>\n",
              "      <td>36153.097686</td>\n",
              "    </tr>\n",
              "    <tr>\n",
              "      <th>150</th>\n",
              "      <td>35</td>\n",
              "      <td>male</td>\n",
              "      <td>24.129999</td>\n",
              "      <td>1</td>\n",
              "      <td>no</td>\n",
              "      <td>northwest</td>\n",
              "      <td>5125.215820</td>\n",
              "      <td>7435.516853</td>\n",
              "    </tr>\n",
              "    <tr>\n",
              "      <th>336</th>\n",
              "      <td>60</td>\n",
              "      <td>male</td>\n",
              "      <td>25.740000</td>\n",
              "      <td>0</td>\n",
              "      <td>no</td>\n",
              "      <td>southeast</td>\n",
              "      <td>12142.578125</td>\n",
              "      <td>14676.544334</td>\n",
              "    </tr>\n",
              "  </tbody>\n",
              "</table>\n",
              "</div>"
            ],
            "text/plain": [
              "     age     sex        bmi  children smoker     region       charges  \\\n",
              "650   49  female  42.680000         2     no  southeast   9800.888672   \n",
              "319   32    male  37.334999         1     no  northeast   4667.607422   \n",
              "314   27  female  31.400000         0    yes  southwest  34838.871094   \n",
              "150   35    male  24.129999         1     no  northwest   5125.215820   \n",
              "336   60    male  25.740000         0     no  southeast  12142.578125   \n",
              "\n",
              "     prediction_label  \n",
              "650      10681.513104  \n",
              "319       8043.453463  \n",
              "314      36153.097686  \n",
              "150       7435.516853  \n",
              "336      14676.544334  "
            ]
          },
          "execution_count": 12,
          "metadata": {},
          "output_type": "execute_result"
        }
      ],
      "source": [
        "# show predictions df\n",
        "holdout_pred.head()"
      ]
    },
    {
      "cell_type": "markdown",
      "metadata": {
        "id": "jZRqfflEyEmA"
      },
      "source": [
        "The same function works for predicting the labels on unseen dataset. Let's create a copy of original data and drop the `charges`. We can then use the new data frame without labels for scoring."
      ]
    },
    {
      "cell_type": "code",
      "execution_count": 13,
      "metadata": {
        "colab": {
          "base_uri": "https://localhost:8080/",
          "height": 206
        },
        "id": "mP3zbO9_yEmA",
        "outputId": "565510d2-a92a-4a9d-da1c-081cd940dfbb"
      },
      "outputs": [
        {
          "data": {
            "application/vnd.microsoft.datawrangler.viewer.v0+json": {
              "columns": [
                {
                  "name": "index",
                  "rawType": "int64",
                  "type": "integer"
                },
                {
                  "name": "age",
                  "rawType": "int64",
                  "type": "integer"
                },
                {
                  "name": "sex",
                  "rawType": "object",
                  "type": "string"
                },
                {
                  "name": "bmi",
                  "rawType": "float64",
                  "type": "float"
                },
                {
                  "name": "children",
                  "rawType": "int64",
                  "type": "integer"
                },
                {
                  "name": "smoker",
                  "rawType": "object",
                  "type": "string"
                },
                {
                  "name": "region",
                  "rawType": "object",
                  "type": "string"
                }
              ],
              "ref": "5ec7bf74-69d9-41b9-a90f-8e01f516176d",
              "rows": [
                [
                  "0",
                  "19",
                  "female",
                  "27.9",
                  "0",
                  "yes",
                  "southwest"
                ],
                [
                  "1",
                  "18",
                  "male",
                  "33.77",
                  "1",
                  "no",
                  "southeast"
                ],
                [
                  "2",
                  "28",
                  "male",
                  "33.0",
                  "3",
                  "no",
                  "southeast"
                ],
                [
                  "3",
                  "33",
                  "male",
                  "22.705",
                  "0",
                  "no",
                  "northwest"
                ],
                [
                  "4",
                  "32",
                  "male",
                  "28.88",
                  "0",
                  "no",
                  "northwest"
                ]
              ],
              "shape": {
                "columns": 6,
                "rows": 5
              }
            },
            "text/html": [
              "<div>\n",
              "<style scoped>\n",
              "    .dataframe tbody tr th:only-of-type {\n",
              "        vertical-align: middle;\n",
              "    }\n",
              "\n",
              "    .dataframe tbody tr th {\n",
              "        vertical-align: top;\n",
              "    }\n",
              "\n",
              "    .dataframe thead th {\n",
              "        text-align: right;\n",
              "    }\n",
              "</style>\n",
              "<table border=\"1\" class=\"dataframe\">\n",
              "  <thead>\n",
              "    <tr style=\"text-align: right;\">\n",
              "      <th></th>\n",
              "      <th>age</th>\n",
              "      <th>sex</th>\n",
              "      <th>bmi</th>\n",
              "      <th>children</th>\n",
              "      <th>smoker</th>\n",
              "      <th>region</th>\n",
              "    </tr>\n",
              "  </thead>\n",
              "  <tbody>\n",
              "    <tr>\n",
              "      <th>0</th>\n",
              "      <td>19</td>\n",
              "      <td>female</td>\n",
              "      <td>27.900</td>\n",
              "      <td>0</td>\n",
              "      <td>yes</td>\n",
              "      <td>southwest</td>\n",
              "    </tr>\n",
              "    <tr>\n",
              "      <th>1</th>\n",
              "      <td>18</td>\n",
              "      <td>male</td>\n",
              "      <td>33.770</td>\n",
              "      <td>1</td>\n",
              "      <td>no</td>\n",
              "      <td>southeast</td>\n",
              "    </tr>\n",
              "    <tr>\n",
              "      <th>2</th>\n",
              "      <td>28</td>\n",
              "      <td>male</td>\n",
              "      <td>33.000</td>\n",
              "      <td>3</td>\n",
              "      <td>no</td>\n",
              "      <td>southeast</td>\n",
              "    </tr>\n",
              "    <tr>\n",
              "      <th>3</th>\n",
              "      <td>33</td>\n",
              "      <td>male</td>\n",
              "      <td>22.705</td>\n",
              "      <td>0</td>\n",
              "      <td>no</td>\n",
              "      <td>northwest</td>\n",
              "    </tr>\n",
              "    <tr>\n",
              "      <th>4</th>\n",
              "      <td>32</td>\n",
              "      <td>male</td>\n",
              "      <td>28.880</td>\n",
              "      <td>0</td>\n",
              "      <td>no</td>\n",
              "      <td>northwest</td>\n",
              "    </tr>\n",
              "  </tbody>\n",
              "</table>\n",
              "</div>"
            ],
            "text/plain": [
              "   age     sex     bmi  children smoker     region\n",
              "0   19  female  27.900         0    yes  southwest\n",
              "1   18    male  33.770         1     no  southeast\n",
              "2   28    male  33.000         3     no  southeast\n",
              "3   33    male  22.705         0     no  northwest\n",
              "4   32    male  28.880         0     no  northwest"
            ]
          },
          "execution_count": 13,
          "metadata": {},
          "output_type": "execute_result"
        }
      ],
      "source": [
        "# copy data and drop charges\n",
        "\n",
        "new_data = data.copy()\n",
        "new_data.drop('charges', axis=1, inplace=True)\n",
        "new_data.head()"
      ]
    },
    {
      "cell_type": "code",
      "execution_count": 14,
      "metadata": {
        "colab": {
          "base_uri": "https://localhost:8080/",
          "height": 206
        },
        "id": "laCvPiJgyEmA",
        "outputId": "85e0174d-4d58-412c-9a0e-d18e1fdc1964"
      },
      "outputs": [
        {
          "data": {
            "text/html": [],
            "text/plain": [
              "<IPython.core.display.HTML object>"
            ]
          },
          "metadata": {},
          "output_type": "display_data"
        },
        {
          "data": {
            "application/vnd.microsoft.datawrangler.viewer.v0+json": {
              "columns": [
                {
                  "name": "index",
                  "rawType": "int64",
                  "type": "integer"
                },
                {
                  "name": "age",
                  "rawType": "int8",
                  "type": "integer"
                },
                {
                  "name": "sex",
                  "rawType": "category",
                  "type": "unknown"
                },
                {
                  "name": "bmi",
                  "rawType": "float32",
                  "type": "float"
                },
                {
                  "name": "children",
                  "rawType": "int8",
                  "type": "integer"
                },
                {
                  "name": "smoker",
                  "rawType": "category",
                  "type": "unknown"
                },
                {
                  "name": "region",
                  "rawType": "category",
                  "type": "unknown"
                },
                {
                  "name": "prediction_label",
                  "rawType": "float64",
                  "type": "float"
                }
              ],
              "ref": "41130433-b7cd-4ee1-9041-15cbe76b8b02",
              "rows": [
                [
                  "0",
                  "19",
                  "female",
                  "27.9",
                  "0",
                  "yes",
                  "southwest",
                  "18464.33444779357"
                ],
                [
                  "1",
                  "18",
                  "male",
                  "33.77",
                  "1",
                  "no",
                  "southeast",
                  "4020.3453835473197"
                ],
                [
                  "2",
                  "28",
                  "male",
                  "33.0",
                  "3",
                  "no",
                  "southeast",
                  "6555.388388439391"
                ],
                [
                  "3",
                  "33",
                  "male",
                  "22.705",
                  "0",
                  "no",
                  "northwest",
                  "9627.04572466571"
                ],
                [
                  "4",
                  "32",
                  "male",
                  "28.88",
                  "0",
                  "no",
                  "northwest",
                  "3325.531291586459"
                ]
              ],
              "shape": {
                "columns": 7,
                "rows": 5
              }
            },
            "text/html": [
              "<div>\n",
              "<style scoped>\n",
              "    .dataframe tbody tr th:only-of-type {\n",
              "        vertical-align: middle;\n",
              "    }\n",
              "\n",
              "    .dataframe tbody tr th {\n",
              "        vertical-align: top;\n",
              "    }\n",
              "\n",
              "    .dataframe thead th {\n",
              "        text-align: right;\n",
              "    }\n",
              "</style>\n",
              "<table border=\"1\" class=\"dataframe\">\n",
              "  <thead>\n",
              "    <tr style=\"text-align: right;\">\n",
              "      <th></th>\n",
              "      <th>age</th>\n",
              "      <th>sex</th>\n",
              "      <th>bmi</th>\n",
              "      <th>children</th>\n",
              "      <th>smoker</th>\n",
              "      <th>region</th>\n",
              "      <th>prediction_label</th>\n",
              "    </tr>\n",
              "  </thead>\n",
              "  <tbody>\n",
              "    <tr>\n",
              "      <th>0</th>\n",
              "      <td>19</td>\n",
              "      <td>female</td>\n",
              "      <td>27.900000</td>\n",
              "      <td>0</td>\n",
              "      <td>yes</td>\n",
              "      <td>southwest</td>\n",
              "      <td>18464.334448</td>\n",
              "    </tr>\n",
              "    <tr>\n",
              "      <th>1</th>\n",
              "      <td>18</td>\n",
              "      <td>male</td>\n",
              "      <td>33.770000</td>\n",
              "      <td>1</td>\n",
              "      <td>no</td>\n",
              "      <td>southeast</td>\n",
              "      <td>4020.345384</td>\n",
              "    </tr>\n",
              "    <tr>\n",
              "      <th>2</th>\n",
              "      <td>28</td>\n",
              "      <td>male</td>\n",
              "      <td>33.000000</td>\n",
              "      <td>3</td>\n",
              "      <td>no</td>\n",
              "      <td>southeast</td>\n",
              "      <td>6555.388388</td>\n",
              "    </tr>\n",
              "    <tr>\n",
              "      <th>3</th>\n",
              "      <td>33</td>\n",
              "      <td>male</td>\n",
              "      <td>22.705000</td>\n",
              "      <td>0</td>\n",
              "      <td>no</td>\n",
              "      <td>northwest</td>\n",
              "      <td>9627.045725</td>\n",
              "    </tr>\n",
              "    <tr>\n",
              "      <th>4</th>\n",
              "      <td>32</td>\n",
              "      <td>male</td>\n",
              "      <td>28.879999</td>\n",
              "      <td>0</td>\n",
              "      <td>no</td>\n",
              "      <td>northwest</td>\n",
              "      <td>3325.531292</td>\n",
              "    </tr>\n",
              "  </tbody>\n",
              "</table>\n",
              "</div>"
            ],
            "text/plain": [
              "   age     sex        bmi  children smoker     region  prediction_label\n",
              "0   19  female  27.900000         0    yes  southwest      18464.334448\n",
              "1   18    male  33.770000         1     no  southeast       4020.345384\n",
              "2   28    male  33.000000         3     no  southeast       6555.388388\n",
              "3   33    male  22.705000         0     no  northwest       9627.045725\n",
              "4   32    male  28.879999         0     no  northwest       3325.531292"
            ]
          },
          "execution_count": 14,
          "metadata": {},
          "output_type": "execute_result"
        }
      ],
      "source": [
        "# predict model on new_data\n",
        "predictions = predict_model(best, data = new_data)\n",
        "predictions.head()"
      ]
    },
    {
      "cell_type": "markdown",
      "metadata": {
        "id": "aSi3_kL1yEmA"
      },
      "source": [
        "#### Save Model"
      ]
    },
    {
      "cell_type": "markdown",
      "metadata": {
        "id": "Nz8_eQHjyEmA"
      },
      "source": [
        "Finally, you can save the entire pipeline on disk for later use, using pycaret's `save_model` function."
      ]
    },
    {
      "cell_type": "code",
      "execution_count": 15,
      "metadata": {
        "colab": {
          "base_uri": "https://localhost:8080/"
        },
        "id": "3gI6qqVYyEmA",
        "outputId": "b659a477-40a2-4a87-872c-36c23c22edec"
      },
      "outputs": [
        {
          "name": "stdout",
          "output_type": "stream",
          "text": [
            "Transformation Pipeline and Model Successfully Saved\n"
          ]
        },
        {
          "data": {
            "text/plain": [
              "(Pipeline(memory=Memory(location=None),\n",
              "          steps=[('numerical_imputer',\n",
              "                  TransformerWrapper(include=['age', 'bmi', 'children'],\n",
              "                                     transformer=SimpleImputer())),\n",
              "                 ('categorical_imputer',\n",
              "                  TransformerWrapper(include=['sex', 'smoker', 'region'],\n",
              "                                     transformer=SimpleImputer(strategy='most_frequent'))),\n",
              "                 ('ordinal_encoding',\n",
              "                  TransformerWrapper(include=['sex', 'smoker'],\n",
              "                                     transfor...\n",
              "                                                                          'data_type': dtype('O'),\n",
              "                                                                          'mapping': female    0\n",
              " male      1\n",
              " NaN      -1\n",
              " dtype: int64},\n",
              "                                                                         {'col': 'smoker',\n",
              "                                                                          'data_type': dtype('O'),\n",
              "                                                                          'mapping': no     0\n",
              " yes    1\n",
              " NaN   -1\n",
              " dtype: int64}]))),\n",
              "                 ('onehot_encoding',\n",
              "                  TransformerWrapper(include=['region'],\n",
              "                                     transformer=OneHotEncoder(cols=['region'],\n",
              "                                                               handle_missing='return_nan',\n",
              "                                                               use_cat_names=True))),\n",
              "                 ('trained_model', GradientBoostingRegressor(random_state=123))]),\n",
              " 'my_first_pipeline.pkl')"
            ]
          },
          "execution_count": 15,
          "metadata": {},
          "output_type": "execute_result"
        }
      ],
      "source": [
        "# save pipeline (in pkl)\n",
        "save_model(best, 'my_first_pipeline')"
      ]
    },
    {
      "cell_type": "markdown",
      "metadata": {
        "id": "iUvfEUKTyEmA"
      },
      "source": [
        "### 4.2.2 Assignment 2.1 Redo with PyCaret\n",
        "\n",
        "Take a look at the Linnerud dataset in Scikit-learn. This dataset has multiple targets: 'It consists of three exercise (data) and three physiological (target) variables collected from twenty middle-aged men in a fitness club'.\n",
        "\n",
        "Go through PyCaret workflow to find the best model.\n",
        "**Setup** ➡️ **Compare Models** ➡️ **Analyze Model** ➡️ **Prediction** ➡️ **Save Model**\n",
        "\n",
        "Compare to your original assignment model. Does it improve?\n",
        "\n",
        "Below is the metrics from your assignments. Nobody thought that we can calculate the corfficients from the samples directly from the representation: y = B0 + B1*X with\n",
        "\n",
        "B1 = sum((Xi - mean(X))*(Yi - mean(Y)))/sum((Xi-mean(X))^2)\n",
        "\n",
        "B0 = mean(Y) - B1*mean(X)\n",
        "\n",
        "🫢\n",
        "\n",
        "<table id=\"orgbbc0b13\" border=\"2\" cellspacing=\"0\" cellpadding=\"6\" rules=\"groups\" frame=\"hsides\">\n",
        "<caption class=\"t-above\"><span class=\"table-number\">Table 1:</span> A2.1, where EDA is Experimental Data Analysis, PL is the usage of pipeline (O better because we don't need it).</caption>\n",
        "\n",
        "<colgroup>\n",
        "<col  class=\"org-left\" />\n",
        "\n",
        "<col  class=\"org-left\" />\n",
        "\n",
        "<col  class=\"org-left\" />\n",
        "\n",
        "<col  class=\"org-right\" />\n",
        "\n",
        "<col  class=\"org-left\" />\n",
        "\n",
        "<col  class=\"org-left\" />\n",
        "\n",
        "<col  class=\"org-left\" />\n",
        "</colgroup>\n",
        "<thead>\n",
        "<tr>\n",
        "<th scope=\"col\" class=\"org-left\">Name</th>\n",
        "<th scope=\"col\" class=\"org-left\">Description</th>\n",
        "<th scope=\"col\" class=\"org-left\">Load Data &amp; SPLIT</th>\n",
        "<th scope=\"col\" class=\"org-right\">PL</th>\n",
        "<th scope=\"col\" class=\"org-left\">_coeff</th>\n",
        "<th scope=\"col\" class=\"org-left\">Lin MSE</th>\n",
        "<th scope=\"col\" class=\"org-left\">Q2 MSE</th>\n",
        "</tr>\n",
        "</thead>\n",
        "\n",
        "<tbody>\n",
        "<tr>\n",
        "<td class=\"org-left\">ERZS</td>\n",
        "<td class=\"org-left\">C: Doc in ipynb</td>\n",
        "<td class=\"org-left\">(return_X_y)</td>\n",
        "<td class=\"org-right\">0</td>\n",
        "<td class=\"org-left\">&#xa0;</td>\n",
        "<td class=\"org-left\">&#xa0;</td>\n",
        "<td class=\"org-left\">&#xa0;</td>\n",
        "</tr>\n",
        "\n",
        "\n",
        "<tr>\n",
        "<td class=\"org-left\">JACQ</td>\n",
        "<td class=\"org-left\">A: MSE formatted, LP solved, obs:MSE varies</td>\n",
        "<td class=\"org-left\">.</td>\n",
        "<td class=\"org-right\">1</td>\n",
        "<td class=\"org-left\">-0.0336</td>\n",
        "<td class=\"org-left\">&#xa0;</td>\n",
        "<td class=\"org-left\">&#xa0;</td>\n",
        "</tr>\n",
        "\n",
        "\n",
        "<tr>\n",
        "<td class=\"org-left\">JORG</td>\n",
        "<td class=\"org-left\">A: REFL !Run variance.</td>\n",
        "<td class=\"org-left\">+EDA, outlier! corr: -0.645</td>\n",
        "<td class=\"org-right\">1</td>\n",
        "<td class=\"org-left\">-0.1701</td>\n",
        "<td class=\"org-left\"><b>1.97 (5.60%)</b></td>\n",
        "<td class=\"org-left\"><i>3.62 (10.5%)</i></td>\n",
        "</tr>\n",
        "\n",
        "\n",
        "<tr>\n",
        "<td class=\"org-left\">JULW</td>\n",
        "<td class=\"org-left\">B: Besides MSE, focus on low \"Model det\" 0.514 in Q2</td>\n",
        "<td class=\"org-left\">EDA, 80/20</td>\n",
        "<td class=\"org-right\">1</td>\n",
        "<td class=\"org-left\">-0.0325</td>\n",
        "<td class=\"org-left\">2.46 (6.97%)</td>\n",
        "<td class=\"org-left\">2.10 (6.01%)</td>\n",
        "</tr>\n",
        "\n",
        "\n",
        "<tr>\n",
        "<td class=\"org-left\">KREB</td>\n",
        "<td class=\"org-left\">B: Same as JULW?</td>\n",
        "<td class=\"org-left\">EDA, but not outlier.</td>\n",
        "<td class=\"org-right\">1</td>\n",
        "<td class=\"org-left\">-0.0325</td>\n",
        "<td class=\"org-left\">2.46 (6.97%)</td>\n",
        "<td class=\"org-left\">2.10 (6.01%)</td>\n",
        "</tr>\n",
        "\n",
        "\n",
        "<tr>\n",
        "<td class=\"org-left\">LEOR</td>\n",
        "<td class=\"org-left\">test_size=0.33. Q2: lack of data</td>\n",
        "<td class=\"org-left\">EDA: weak</td>\n",
        "<td class=\"org-right\">1</td>\n",
        "<td class=\"org-left\">?</td>\n",
        "<td class=\"org-left\">2.31 (6.49%)</td>\n",
        "<td class=\"org-left\">2.06 (5.85%)</td>\n",
        "</tr>\n",
        "\n",
        "\n",
        "<tr>\n",
        "<td class=\"org-left\">LuGR</td>\n",
        "<td class=\"org-left\">B: Better than KREB, JULW: corcoef</td>\n",
        "<td class=\"org-left\">EDA: weak</td>\n",
        "<td class=\"org-right\">1</td>\n",
        "<td class=\"org-left\">-0.0325</td>\n",
        "<td class=\"org-left\">2.46 (6.97%)</td>\n",
        "<td class=\"org-left\">2.10 (6.01%)</td>\n",
        "</tr>\n",
        "\n",
        "\n",
        "<tr>\n",
        "<td class=\"org-left\">LuLN</td>\n",
        "<td class=\"org-left\">. Same batch</td>\n",
        "<td class=\"org-left\">EDA: weak</td>\n",
        "<td class=\"org-right\">.</td>\n",
        "<td class=\"org-left\">&#xa0;</td>\n",
        "<td class=\"org-left\">2.46 (6.97%)</td>\n",
        "<td class=\"org-left\">2.10 (6.01%)</td>\n",
        "</tr>\n",
        "\n",
        "\n",
        "<tr>\n",
        "<td class=\"org-left\">MaAN</td>\n",
        "<td class=\"org-left\">MSE form: 423.98, Q2: 140.05</td>\n",
        "<td class=\"org-left\">EDA: weak</td>\n",
        "<td class=\"org-right\">.</td>\n",
        "<td class=\"org-left\">.</td>\n",
        "<td class=\"org-left\">2.46 (6.97%)</td>\n",
        "<td class=\"org-left\">2.10 (6.01%)</td>\n",
        "</tr>\n",
        "\n",
        "\n",
        "<tr>\n",
        "<td class=\"org-left\">MaJM</td>\n",
        "<td class=\"org-left\">Although SPLIT is 0.33, performance par batch</td>\n",
        "<td class=\"org-left\">EDA: weak</td>\n",
        "<td class=\"org-right\">.</td>\n",
        "<td class=\"org-left\">&#xa0;</td>\n",
        "<td class=\"org-left\">2.46 (6.97%)</td>\n",
        "<td class=\"org-left\">2.10 (6.01%)</td>\n",
        "</tr>\n",
        "\n",
        "\n",
        "<tr>\n",
        "<td class=\"org-left\">MikL</td>\n",
        "<td class=\"org-left\">A: Excellent. %33 split, great results</td>\n",
        "<td class=\"org-left\">EDA: only if outlier!</td>\n",
        "<td class=\"org-right\">.</td>\n",
        "<td class=\"org-left\">&#xa0;</td>\n",
        "<td class=\"org-left\"><b>1.71 (4.72%)</b></td>\n",
        "<td class=\"org-left\"><b>1.70 (4.75%)</b></td>\n",
        "</tr>\n",
        "\n",
        "\n",
        "<tr>\n",
        "<td class=\"org-left\">MorJ</td>\n",
        "<td class=\"org-left\">Great doc. test with <code>IsolationForrest</code> (why commented)?</td>\n",
        "<td class=\"org-left\">EDA: corr: -0.645, same batch</td>\n",
        "<td class=\"org-right\">.</td>\n",
        "<td class=\"org-left\">-</td>\n",
        "<td class=\"org-left\">2.46 (6.97%)</td>\n",
        "<td class=\"org-left\">2.10 (6.01%)</td>\n",
        "</tr>\n",
        "\n",
        "\n",
        "<tr>\n",
        "<td class=\"org-left\">NicL</td>\n",
        "<td class=\"org-left\">B: Batch.</td>\n",
        "<td class=\"org-left\">.</td>\n",
        "<td class=\"org-right\">.</td>\n",
        "<td class=\"org-left\">.</td>\n",
        "<td class=\"org-left\">2.46 (6.97%)</td>\n",
        "<td class=\"org-left\">2.10 (6.01%)</td>\n",
        "</tr>\n",
        "\n",
        "\n",
        "<tr>\n",
        "<td class=\"org-left\">NicJ</td>\n",
        "<td class=\"org-left\">B: Batch.</td>\n",
        "<td class=\"org-left\">.</td>\n",
        "<td class=\"org-right\">.</td>\n",
        "<td class=\"org-left\">.</td>\n",
        "<td class=\"org-left\">2.46 (6.97%)</td>\n",
        "<td class=\"org-left\">2.10 (6.01%)</td>\n",
        "</tr>\n",
        "\n",
        "\n",
        "<tr>\n",
        "<td class=\"org-left\">PabA</td>\n",
        "<td class=\"org-left\">A: 0.33 split, corr coeff. Good with combined features</td>\n",
        "<td class=\"org-left\">.</td>\n",
        "<td class=\"org-right\">&#xa0;</td>\n",
        "<td class=\"org-left\">&#xa0;</td>\n",
        "<td class=\"org-left\">3.64 (10.2%)</td>\n",
        "<td class=\"org-left\">3.07 (8.71%)</td>\n",
        "</tr>\n",
        "\n",
        "\n",
        "<tr>\n",
        "<td class=\"org-left\">RoxP</td>\n",
        "<td class=\"org-left\">C: OK start, EDA-, metrics: none</td>\n",
        "<td class=\"org-left\">&#xa0;</td>\n",
        "<td class=\"org-right\">&#xa0;</td>\n",
        "<td class=\"org-left\">&#xa0;</td>\n",
        "<td class=\"org-left\">&#xa0;</td>\n",
        "<td class=\"org-left\">&#xa0;</td>\n",
        "</tr>\n",
        "\n",
        "\n",
        "<tr>\n",
        "<td class=\"org-left\">TobL</td>\n",
        "<td class=\"org-left\">A: Great scores,experiments of higher-order polynomials.</td>\n",
        "<td class=\"org-left\">EDA: could be better! corr?</td>\n",
        "<td class=\"org-right\">0</td>\n",
        "<td class=\"org-left\">-</td>\n",
        "<td class=\"org-left\">12.292</td>\n",
        "<td class=\"org-left\">9.64 (MSE)</td>\n",
        "</tr>\n",
        "\n",
        "\n",
        "<tr>\n",
        "<td class=\"org-left\">TonD</td>\n",
        "<td class=\"org-left\">A: All good, but did you solve the right problem? ?</td>\n",
        "<td class=\"org-left\">EDA: Minimal but good!</td>\n",
        "<td class=\"org-right\">0</td>\n",
        "<td class=\"org-left\">&#xa0;</td>\n",
        "<td class=\"org-left\">22.2 (12.4%)</td>\n",
        "<td class=\"org-left\">22.1 (12.4%)</td>\n",
        "</tr>\n",
        "\n",
        "\n",
        "<tr>\n",
        "<td class=\"org-left\">ZuzT</td>\n",
        "<td class=\"org-left\">Allmost right! You calculate W(Situps), but plot in reverse :-)</td>\n",
        "<td class=\"org-left\">EDA: OK, MSE should square</td>\n",
        "<td class=\"org-right\">1</td>\n",
        "<td class=\"org-left\">-</td>\n",
        "<td class=\"org-left\">1.39 (3.84%)</td>\n",
        "<td class=\"org-left\">1.47 (4.22%)</td>\n",
        "</tr>\n",
        "</tbody>\n",
        "</table>\n",
        "\n"
      ]
    },
    {
      "cell_type": "code",
      "execution_count": 16,
      "metadata": {
        "colab": {
          "base_uri": "https://localhost:8080/"
        },
        "id": "rMJmiAw3yEmB",
        "outputId": "4d9a377a-dfc8-4808-9ceb-fd15c2f8dae2"
      },
      "outputs": [
        {
          "name": "stdout",
          "output_type": "stream",
          "text": [
            "   Chins  Situps  Jumps  Weight  Waist  Pulse\n",
            "0    5.0   162.0   60.0   191.0   36.0   50.0\n",
            "1    2.0   110.0   60.0   189.0   37.0   52.0\n",
            "2   12.0   101.0  101.0   193.0   38.0   58.0\n",
            "3   12.0   105.0   37.0   162.0   35.0   62.0\n",
            "4   13.0   155.0   58.0   189.0   35.0   46.0\n"
          ]
        }
      ],
      "source": [
        "import pandas as pd\n",
        "# Put your code here.\n",
        "from pycaret.regression import *\n",
        "from sklearn import datasets\n",
        "linnerud = datasets.load_linnerud()\n",
        "\n",
        "# Convert the data and target arrays to a DataFrame\n",
        "df = pd.DataFrame(linnerud.data, columns=linnerud.feature_names)\n",
        "df_targets = pd.DataFrame(linnerud.target, columns=linnerud.target_names)\n",
        "\n",
        "# Concatenate the data and target DataFrames\n",
        "df = pd.concat([df, df_targets], axis=1)\n",
        "\n",
        "# Print the resulting DataFrame\n",
        "print(df.head())\n"
      ]
    },
    {
      "cell_type": "code",
      "execution_count": 17,
      "metadata": {
        "colab": {
          "base_uri": "https://localhost:8080/",
          "height": 645
        },
        "id": "cU7eXriOyEmB",
        "outputId": "93a86a4d-bcb4-4904-dee8-0f755100e84b"
      },
      "outputs": [
        {
          "data": {
            "text/html": [
              "<style type=\"text/css\">\n",
              "#T_6fd7b_row8_col1 {\n",
              "  background-color: lightgreen;\n",
              "}\n",
              "</style>\n",
              "<table id=\"T_6fd7b\">\n",
              "  <thead>\n",
              "    <tr>\n",
              "      <th class=\"blank level0\" >&nbsp;</th>\n",
              "      <th id=\"T_6fd7b_level0_col0\" class=\"col_heading level0 col0\" >Description</th>\n",
              "      <th id=\"T_6fd7b_level0_col1\" class=\"col_heading level0 col1\" >Value</th>\n",
              "    </tr>\n",
              "  </thead>\n",
              "  <tbody>\n",
              "    <tr>\n",
              "      <th id=\"T_6fd7b_level0_row0\" class=\"row_heading level0 row0\" >0</th>\n",
              "      <td id=\"T_6fd7b_row0_col0\" class=\"data row0 col0\" >Session id</td>\n",
              "      <td id=\"T_6fd7b_row0_col1\" class=\"data row0 col1\" >789</td>\n",
              "    </tr>\n",
              "    <tr>\n",
              "      <th id=\"T_6fd7b_level0_row1\" class=\"row_heading level0 row1\" >1</th>\n",
              "      <td id=\"T_6fd7b_row1_col0\" class=\"data row1 col0\" >Target</td>\n",
              "      <td id=\"T_6fd7b_row1_col1\" class=\"data row1 col1\" >Waist</td>\n",
              "    </tr>\n",
              "    <tr>\n",
              "      <th id=\"T_6fd7b_level0_row2\" class=\"row_heading level0 row2\" >2</th>\n",
              "      <td id=\"T_6fd7b_row2_col0\" class=\"data row2 col0\" >Target type</td>\n",
              "      <td id=\"T_6fd7b_row2_col1\" class=\"data row2 col1\" >Regression</td>\n",
              "    </tr>\n",
              "    <tr>\n",
              "      <th id=\"T_6fd7b_level0_row3\" class=\"row_heading level0 row3\" >3</th>\n",
              "      <td id=\"T_6fd7b_row3_col0\" class=\"data row3 col0\" >Original data shape</td>\n",
              "      <td id=\"T_6fd7b_row3_col1\" class=\"data row3 col1\" >(20, 6)</td>\n",
              "    </tr>\n",
              "    <tr>\n",
              "      <th id=\"T_6fd7b_level0_row4\" class=\"row_heading level0 row4\" >4</th>\n",
              "      <td id=\"T_6fd7b_row4_col0\" class=\"data row4 col0\" >Transformed data shape</td>\n",
              "      <td id=\"T_6fd7b_row4_col1\" class=\"data row4 col1\" >(20, 6)</td>\n",
              "    </tr>\n",
              "    <tr>\n",
              "      <th id=\"T_6fd7b_level0_row5\" class=\"row_heading level0 row5\" >5</th>\n",
              "      <td id=\"T_6fd7b_row5_col0\" class=\"data row5 col0\" >Transformed train set shape</td>\n",
              "      <td id=\"T_6fd7b_row5_col1\" class=\"data row5 col1\" >(14, 6)</td>\n",
              "    </tr>\n",
              "    <tr>\n",
              "      <th id=\"T_6fd7b_level0_row6\" class=\"row_heading level0 row6\" >6</th>\n",
              "      <td id=\"T_6fd7b_row6_col0\" class=\"data row6 col0\" >Transformed test set shape</td>\n",
              "      <td id=\"T_6fd7b_row6_col1\" class=\"data row6 col1\" >(6, 6)</td>\n",
              "    </tr>\n",
              "    <tr>\n",
              "      <th id=\"T_6fd7b_level0_row7\" class=\"row_heading level0 row7\" >7</th>\n",
              "      <td id=\"T_6fd7b_row7_col0\" class=\"data row7 col0\" >Numeric features</td>\n",
              "      <td id=\"T_6fd7b_row7_col1\" class=\"data row7 col1\" >1</td>\n",
              "    </tr>\n",
              "    <tr>\n",
              "      <th id=\"T_6fd7b_level0_row8\" class=\"row_heading level0 row8\" >8</th>\n",
              "      <td id=\"T_6fd7b_row8_col0\" class=\"data row8 col0\" >Preprocess</td>\n",
              "      <td id=\"T_6fd7b_row8_col1\" class=\"data row8 col1\" >True</td>\n",
              "    </tr>\n",
              "    <tr>\n",
              "      <th id=\"T_6fd7b_level0_row9\" class=\"row_heading level0 row9\" >9</th>\n",
              "      <td id=\"T_6fd7b_row9_col0\" class=\"data row9 col0\" >Imputation type</td>\n",
              "      <td id=\"T_6fd7b_row9_col1\" class=\"data row9 col1\" >simple</td>\n",
              "    </tr>\n",
              "    <tr>\n",
              "      <th id=\"T_6fd7b_level0_row10\" class=\"row_heading level0 row10\" >10</th>\n",
              "      <td id=\"T_6fd7b_row10_col0\" class=\"data row10 col0\" >Numeric imputation</td>\n",
              "      <td id=\"T_6fd7b_row10_col1\" class=\"data row10 col1\" >mean</td>\n",
              "    </tr>\n",
              "    <tr>\n",
              "      <th id=\"T_6fd7b_level0_row11\" class=\"row_heading level0 row11\" >11</th>\n",
              "      <td id=\"T_6fd7b_row11_col0\" class=\"data row11 col0\" >Categorical imputation</td>\n",
              "      <td id=\"T_6fd7b_row11_col1\" class=\"data row11 col1\" >mode</td>\n",
              "    </tr>\n",
              "    <tr>\n",
              "      <th id=\"T_6fd7b_level0_row12\" class=\"row_heading level0 row12\" >12</th>\n",
              "      <td id=\"T_6fd7b_row12_col0\" class=\"data row12 col0\" >Fold Generator</td>\n",
              "      <td id=\"T_6fd7b_row12_col1\" class=\"data row12 col1\" >KFold</td>\n",
              "    </tr>\n",
              "    <tr>\n",
              "      <th id=\"T_6fd7b_level0_row13\" class=\"row_heading level0 row13\" >13</th>\n",
              "      <td id=\"T_6fd7b_row13_col0\" class=\"data row13 col0\" >Fold Number</td>\n",
              "      <td id=\"T_6fd7b_row13_col1\" class=\"data row13 col1\" >10</td>\n",
              "    </tr>\n",
              "    <tr>\n",
              "      <th id=\"T_6fd7b_level0_row14\" class=\"row_heading level0 row14\" >14</th>\n",
              "      <td id=\"T_6fd7b_row14_col0\" class=\"data row14 col0\" >CPU Jobs</td>\n",
              "      <td id=\"T_6fd7b_row14_col1\" class=\"data row14 col1\" >-1</td>\n",
              "    </tr>\n",
              "    <tr>\n",
              "      <th id=\"T_6fd7b_level0_row15\" class=\"row_heading level0 row15\" >15</th>\n",
              "      <td id=\"T_6fd7b_row15_col0\" class=\"data row15 col0\" >Use GPU</td>\n",
              "      <td id=\"T_6fd7b_row15_col1\" class=\"data row15 col1\" >False</td>\n",
              "    </tr>\n",
              "    <tr>\n",
              "      <th id=\"T_6fd7b_level0_row16\" class=\"row_heading level0 row16\" >16</th>\n",
              "      <td id=\"T_6fd7b_row16_col0\" class=\"data row16 col0\" >Log Experiment</td>\n",
              "      <td id=\"T_6fd7b_row16_col1\" class=\"data row16 col1\" >False</td>\n",
              "    </tr>\n",
              "    <tr>\n",
              "      <th id=\"T_6fd7b_level0_row17\" class=\"row_heading level0 row17\" >17</th>\n",
              "      <td id=\"T_6fd7b_row17_col0\" class=\"data row17 col0\" >Experiment Name</td>\n",
              "      <td id=\"T_6fd7b_row17_col1\" class=\"data row17 col1\" >reg-default-name</td>\n",
              "    </tr>\n",
              "    <tr>\n",
              "      <th id=\"T_6fd7b_level0_row18\" class=\"row_heading level0 row18\" >18</th>\n",
              "      <td id=\"T_6fd7b_row18_col0\" class=\"data row18 col0\" >USI</td>\n",
              "      <td id=\"T_6fd7b_row18_col1\" class=\"data row18 col1\" >3ed3</td>\n",
              "    </tr>\n",
              "  </tbody>\n",
              "</table>\n"
            ],
            "text/plain": [
              "<pandas.io.formats.style.Styler at 0x31a8c0f50>"
            ]
          },
          "metadata": {},
          "output_type": "display_data"
        }
      ],
      "source": [
        "\n",
        "s = setup(df, target = 'Waist', session_id = 789, numeric_features=['Situps'])"
      ]
    },
    {
      "cell_type": "code",
      "execution_count": 18,
      "metadata": {
        "id": "zue0YUqqyEmB"
      },
      "outputs": [],
      "source": [
        "### Insert futher code here"
      ]
    },
    {
      "cell_type": "markdown",
      "metadata": {
        "id": "cH2063WayEmB"
      },
      "source": [
        "## 4.3 Classification with PyCaret"
      ]
    },
    {
      "cell_type": "code",
      "execution_count": 19,
      "metadata": {
        "colab": {
          "base_uri": "https://localhost:8080/",
          "height": 35
        },
        "id": "S2r6cPV4yEmB",
        "outputId": "d1e41b7c-5098-4eb3-e118-132b94048b9b"
      },
      "outputs": [
        {
          "data": {
            "text/plain": [
              "'3.3.2'"
            ]
          },
          "execution_count": 19,
          "metadata": {},
          "output_type": "execute_result"
        }
      ],
      "source": [
        "# check installed version\n",
        "import pycaret\n",
        "pycaret.__version__"
      ]
    },
    {
      "cell_type": "markdown",
      "metadata": {
        "id": "CBi7cgmIyEmB"
      },
      "source": [
        "PyCaret’s Classification Module is a supervised machine learning module that is used for classifying elements into groups. The goal is to predict the categorical class labels which are discrete and unordered.\n",
        "\n",
        "Some common use cases include predicting customer default (Yes or No), predicting customer churn (customer will leave or stay), the disease found (positive or negative).\n",
        "\n",
        "This module can be used for binary or multiclass problems. It provides several pre-processing features that prepare the data for modeling through the setup function. It has over 18 ready-to-use algorithms and several plots to analyze the performance of trained models.\n",
        "\n",
        "A typical workflow in PyCaret consist of following 5 steps in this order:\n",
        "\n",
        "**Setup** ➡️ **Compare Models** ➡️ **Analyze Model** ➡️ **Prediction** ➡️ **Save Model**"
      ]
    },
    {
      "cell_type": "code",
      "execution_count": 20,
      "metadata": {
        "colab": {
          "base_uri": "https://localhost:8080/",
          "height": 348
        },
        "id": "oR_WTFIHyEmC",
        "outputId": "53c61ce0-da68-4c78-d65f-d877b126fb9f"
      },
      "outputs": [
        {
          "data": {
            "application/vnd.microsoft.datawrangler.viewer.v0+json": {
              "columns": [
                {
                  "name": "index",
                  "rawType": "int64",
                  "type": "integer"
                },
                {
                  "name": "Number of times pregnant",
                  "rawType": "int64",
                  "type": "integer"
                },
                {
                  "name": "Plasma glucose concentration a 2 hours in an oral glucose tolerance test",
                  "rawType": "int64",
                  "type": "integer"
                },
                {
                  "name": "Diastolic blood pressure (mm Hg)",
                  "rawType": "int64",
                  "type": "integer"
                },
                {
                  "name": "Triceps skin fold thickness (mm)",
                  "rawType": "int64",
                  "type": "integer"
                },
                {
                  "name": "2-Hour serum insulin (mu U/ml)",
                  "rawType": "int64",
                  "type": "integer"
                },
                {
                  "name": "Body mass index (weight in kg/(height in m)^2)",
                  "rawType": "float64",
                  "type": "float"
                },
                {
                  "name": "Diabetes pedigree function",
                  "rawType": "float64",
                  "type": "float"
                },
                {
                  "name": "Age (years)",
                  "rawType": "int64",
                  "type": "integer"
                },
                {
                  "name": "Class variable",
                  "rawType": "int64",
                  "type": "integer"
                }
              ],
              "ref": "9edc8314-e381-41d8-94e4-18105855b925",
              "rows": [
                [
                  "0",
                  "6",
                  "148",
                  "72",
                  "35",
                  "0",
                  "33.6",
                  "0.627",
                  "50",
                  "1"
                ],
                [
                  "1",
                  "1",
                  "85",
                  "66",
                  "29",
                  "0",
                  "26.6",
                  "0.351",
                  "31",
                  "0"
                ],
                [
                  "2",
                  "8",
                  "183",
                  "64",
                  "0",
                  "0",
                  "23.3",
                  "0.672",
                  "32",
                  "1"
                ],
                [
                  "3",
                  "1",
                  "89",
                  "66",
                  "23",
                  "94",
                  "28.1",
                  "0.167",
                  "21",
                  "0"
                ],
                [
                  "4",
                  "0",
                  "137",
                  "40",
                  "35",
                  "168",
                  "43.1",
                  "2.288",
                  "33",
                  "1"
                ]
              ],
              "shape": {
                "columns": 9,
                "rows": 5
              }
            },
            "text/html": [
              "<div>\n",
              "<style scoped>\n",
              "    .dataframe tbody tr th:only-of-type {\n",
              "        vertical-align: middle;\n",
              "    }\n",
              "\n",
              "    .dataframe tbody tr th {\n",
              "        vertical-align: top;\n",
              "    }\n",
              "\n",
              "    .dataframe thead th {\n",
              "        text-align: right;\n",
              "    }\n",
              "</style>\n",
              "<table border=\"1\" class=\"dataframe\">\n",
              "  <thead>\n",
              "    <tr style=\"text-align: right;\">\n",
              "      <th></th>\n",
              "      <th>Number of times pregnant</th>\n",
              "      <th>Plasma glucose concentration a 2 hours in an oral glucose tolerance test</th>\n",
              "      <th>Diastolic blood pressure (mm Hg)</th>\n",
              "      <th>Triceps skin fold thickness (mm)</th>\n",
              "      <th>2-Hour serum insulin (mu U/ml)</th>\n",
              "      <th>Body mass index (weight in kg/(height in m)^2)</th>\n",
              "      <th>Diabetes pedigree function</th>\n",
              "      <th>Age (years)</th>\n",
              "      <th>Class variable</th>\n",
              "    </tr>\n",
              "  </thead>\n",
              "  <tbody>\n",
              "    <tr>\n",
              "      <th>0</th>\n",
              "      <td>6</td>\n",
              "      <td>148</td>\n",
              "      <td>72</td>\n",
              "      <td>35</td>\n",
              "      <td>0</td>\n",
              "      <td>33.6</td>\n",
              "      <td>0.627</td>\n",
              "      <td>50</td>\n",
              "      <td>1</td>\n",
              "    </tr>\n",
              "    <tr>\n",
              "      <th>1</th>\n",
              "      <td>1</td>\n",
              "      <td>85</td>\n",
              "      <td>66</td>\n",
              "      <td>29</td>\n",
              "      <td>0</td>\n",
              "      <td>26.6</td>\n",
              "      <td>0.351</td>\n",
              "      <td>31</td>\n",
              "      <td>0</td>\n",
              "    </tr>\n",
              "    <tr>\n",
              "      <th>2</th>\n",
              "      <td>8</td>\n",
              "      <td>183</td>\n",
              "      <td>64</td>\n",
              "      <td>0</td>\n",
              "      <td>0</td>\n",
              "      <td>23.3</td>\n",
              "      <td>0.672</td>\n",
              "      <td>32</td>\n",
              "      <td>1</td>\n",
              "    </tr>\n",
              "    <tr>\n",
              "      <th>3</th>\n",
              "      <td>1</td>\n",
              "      <td>89</td>\n",
              "      <td>66</td>\n",
              "      <td>23</td>\n",
              "      <td>94</td>\n",
              "      <td>28.1</td>\n",
              "      <td>0.167</td>\n",
              "      <td>21</td>\n",
              "      <td>0</td>\n",
              "    </tr>\n",
              "    <tr>\n",
              "      <th>4</th>\n",
              "      <td>0</td>\n",
              "      <td>137</td>\n",
              "      <td>40</td>\n",
              "      <td>35</td>\n",
              "      <td>168</td>\n",
              "      <td>43.1</td>\n",
              "      <td>2.288</td>\n",
              "      <td>33</td>\n",
              "      <td>1</td>\n",
              "    </tr>\n",
              "  </tbody>\n",
              "</table>\n",
              "</div>"
            ],
            "text/plain": [
              "   Number of times pregnant  \\\n",
              "0                         6   \n",
              "1                         1   \n",
              "2                         8   \n",
              "3                         1   \n",
              "4                         0   \n",
              "\n",
              "   Plasma glucose concentration a 2 hours in an oral glucose tolerance test  \\\n",
              "0                                                148                          \n",
              "1                                                 85                          \n",
              "2                                                183                          \n",
              "3                                                 89                          \n",
              "4                                                137                          \n",
              "\n",
              "   Diastolic blood pressure (mm Hg)  Triceps skin fold thickness (mm)  \\\n",
              "0                                72                                35   \n",
              "1                                66                                29   \n",
              "2                                64                                 0   \n",
              "3                                66                                23   \n",
              "4                                40                                35   \n",
              "\n",
              "   2-Hour serum insulin (mu U/ml)  \\\n",
              "0                               0   \n",
              "1                               0   \n",
              "2                               0   \n",
              "3                              94   \n",
              "4                             168   \n",
              "\n",
              "   Body mass index (weight in kg/(height in m)^2)  Diabetes pedigree function  \\\n",
              "0                                            33.6                       0.627   \n",
              "1                                            26.6                       0.351   \n",
              "2                                            23.3                       0.672   \n",
              "3                                            28.1                       0.167   \n",
              "4                                            43.1                       2.288   \n",
              "\n",
              "   Age (years)  Class variable  \n",
              "0           50               1  \n",
              "1           31               0  \n",
              "2           32               1  \n",
              "3           21               0  \n",
              "4           33               1  "
            ]
          },
          "metadata": {},
          "output_type": "display_data"
        }
      ],
      "source": [
        "# loading sample dataset from pycaret dataset module\n",
        "# Note that it is a simple df. You can use your own df.\n",
        "from pycaret.datasets import get_data\n",
        "data = get_data('diabetes')"
      ]
    },
    {
      "cell_type": "code",
      "execution_count": 21,
      "metadata": {
        "colab": {
          "base_uri": "https://localhost:8080/",
          "height": 645
        },
        "id": "3HyXKphsyEmC",
        "outputId": "727c0ae5-8527-4636-adbc-4019ba2a1777"
      },
      "outputs": [
        {
          "data": {
            "text/html": [
              "<style type=\"text/css\">\n",
              "#T_82f25_row8_col1 {\n",
              "  background-color: lightgreen;\n",
              "}\n",
              "</style>\n",
              "<table id=\"T_82f25\">\n",
              "  <thead>\n",
              "    <tr>\n",
              "      <th class=\"blank level0\" >&nbsp;</th>\n",
              "      <th id=\"T_82f25_level0_col0\" class=\"col_heading level0 col0\" >Description</th>\n",
              "      <th id=\"T_82f25_level0_col1\" class=\"col_heading level0 col1\" >Value</th>\n",
              "    </tr>\n",
              "  </thead>\n",
              "  <tbody>\n",
              "    <tr>\n",
              "      <th id=\"T_82f25_level0_row0\" class=\"row_heading level0 row0\" >0</th>\n",
              "      <td id=\"T_82f25_row0_col0\" class=\"data row0 col0\" >Session id</td>\n",
              "      <td id=\"T_82f25_row0_col1\" class=\"data row0 col1\" >456</td>\n",
              "    </tr>\n",
              "    <tr>\n",
              "      <th id=\"T_82f25_level0_row1\" class=\"row_heading level0 row1\" >1</th>\n",
              "      <td id=\"T_82f25_row1_col0\" class=\"data row1 col0\" >Target</td>\n",
              "      <td id=\"T_82f25_row1_col1\" class=\"data row1 col1\" >Class variable</td>\n",
              "    </tr>\n",
              "    <tr>\n",
              "      <th id=\"T_82f25_level0_row2\" class=\"row_heading level0 row2\" >2</th>\n",
              "      <td id=\"T_82f25_row2_col0\" class=\"data row2 col0\" >Target type</td>\n",
              "      <td id=\"T_82f25_row2_col1\" class=\"data row2 col1\" >Binary</td>\n",
              "    </tr>\n",
              "    <tr>\n",
              "      <th id=\"T_82f25_level0_row3\" class=\"row_heading level0 row3\" >3</th>\n",
              "      <td id=\"T_82f25_row3_col0\" class=\"data row3 col0\" >Original data shape</td>\n",
              "      <td id=\"T_82f25_row3_col1\" class=\"data row3 col1\" >(768, 9)</td>\n",
              "    </tr>\n",
              "    <tr>\n",
              "      <th id=\"T_82f25_level0_row4\" class=\"row_heading level0 row4\" >4</th>\n",
              "      <td id=\"T_82f25_row4_col0\" class=\"data row4 col0\" >Transformed data shape</td>\n",
              "      <td id=\"T_82f25_row4_col1\" class=\"data row4 col1\" >(768, 9)</td>\n",
              "    </tr>\n",
              "    <tr>\n",
              "      <th id=\"T_82f25_level0_row5\" class=\"row_heading level0 row5\" >5</th>\n",
              "      <td id=\"T_82f25_row5_col0\" class=\"data row5 col0\" >Transformed train set shape</td>\n",
              "      <td id=\"T_82f25_row5_col1\" class=\"data row5 col1\" >(537, 9)</td>\n",
              "    </tr>\n",
              "    <tr>\n",
              "      <th id=\"T_82f25_level0_row6\" class=\"row_heading level0 row6\" >6</th>\n",
              "      <td id=\"T_82f25_row6_col0\" class=\"data row6 col0\" >Transformed test set shape</td>\n",
              "      <td id=\"T_82f25_row6_col1\" class=\"data row6 col1\" >(231, 9)</td>\n",
              "    </tr>\n",
              "    <tr>\n",
              "      <th id=\"T_82f25_level0_row7\" class=\"row_heading level0 row7\" >7</th>\n",
              "      <td id=\"T_82f25_row7_col0\" class=\"data row7 col0\" >Numeric features</td>\n",
              "      <td id=\"T_82f25_row7_col1\" class=\"data row7 col1\" >8</td>\n",
              "    </tr>\n",
              "    <tr>\n",
              "      <th id=\"T_82f25_level0_row8\" class=\"row_heading level0 row8\" >8</th>\n",
              "      <td id=\"T_82f25_row8_col0\" class=\"data row8 col0\" >Preprocess</td>\n",
              "      <td id=\"T_82f25_row8_col1\" class=\"data row8 col1\" >True</td>\n",
              "    </tr>\n",
              "    <tr>\n",
              "      <th id=\"T_82f25_level0_row9\" class=\"row_heading level0 row9\" >9</th>\n",
              "      <td id=\"T_82f25_row9_col0\" class=\"data row9 col0\" >Imputation type</td>\n",
              "      <td id=\"T_82f25_row9_col1\" class=\"data row9 col1\" >simple</td>\n",
              "    </tr>\n",
              "    <tr>\n",
              "      <th id=\"T_82f25_level0_row10\" class=\"row_heading level0 row10\" >10</th>\n",
              "      <td id=\"T_82f25_row10_col0\" class=\"data row10 col0\" >Numeric imputation</td>\n",
              "      <td id=\"T_82f25_row10_col1\" class=\"data row10 col1\" >mean</td>\n",
              "    </tr>\n",
              "    <tr>\n",
              "      <th id=\"T_82f25_level0_row11\" class=\"row_heading level0 row11\" >11</th>\n",
              "      <td id=\"T_82f25_row11_col0\" class=\"data row11 col0\" >Categorical imputation</td>\n",
              "      <td id=\"T_82f25_row11_col1\" class=\"data row11 col1\" >mode</td>\n",
              "    </tr>\n",
              "    <tr>\n",
              "      <th id=\"T_82f25_level0_row12\" class=\"row_heading level0 row12\" >12</th>\n",
              "      <td id=\"T_82f25_row12_col0\" class=\"data row12 col0\" >Fold Generator</td>\n",
              "      <td id=\"T_82f25_row12_col1\" class=\"data row12 col1\" >StratifiedKFold</td>\n",
              "    </tr>\n",
              "    <tr>\n",
              "      <th id=\"T_82f25_level0_row13\" class=\"row_heading level0 row13\" >13</th>\n",
              "      <td id=\"T_82f25_row13_col0\" class=\"data row13 col0\" >Fold Number</td>\n",
              "      <td id=\"T_82f25_row13_col1\" class=\"data row13 col1\" >10</td>\n",
              "    </tr>\n",
              "    <tr>\n",
              "      <th id=\"T_82f25_level0_row14\" class=\"row_heading level0 row14\" >14</th>\n",
              "      <td id=\"T_82f25_row14_col0\" class=\"data row14 col0\" >CPU Jobs</td>\n",
              "      <td id=\"T_82f25_row14_col1\" class=\"data row14 col1\" >-1</td>\n",
              "    </tr>\n",
              "    <tr>\n",
              "      <th id=\"T_82f25_level0_row15\" class=\"row_heading level0 row15\" >15</th>\n",
              "      <td id=\"T_82f25_row15_col0\" class=\"data row15 col0\" >Use GPU</td>\n",
              "      <td id=\"T_82f25_row15_col1\" class=\"data row15 col1\" >False</td>\n",
              "    </tr>\n",
              "    <tr>\n",
              "      <th id=\"T_82f25_level0_row16\" class=\"row_heading level0 row16\" >16</th>\n",
              "      <td id=\"T_82f25_row16_col0\" class=\"data row16 col0\" >Log Experiment</td>\n",
              "      <td id=\"T_82f25_row16_col1\" class=\"data row16 col1\" >False</td>\n",
              "    </tr>\n",
              "    <tr>\n",
              "      <th id=\"T_82f25_level0_row17\" class=\"row_heading level0 row17\" >17</th>\n",
              "      <td id=\"T_82f25_row17_col0\" class=\"data row17 col0\" >Experiment Name</td>\n",
              "      <td id=\"T_82f25_row17_col1\" class=\"data row17 col1\" >clf-default-name</td>\n",
              "    </tr>\n",
              "    <tr>\n",
              "      <th id=\"T_82f25_level0_row18\" class=\"row_heading level0 row18\" >18</th>\n",
              "      <td id=\"T_82f25_row18_col0\" class=\"data row18 col0\" >USI</td>\n",
              "      <td id=\"T_82f25_row18_col1\" class=\"data row18 col1\" >ef3e</td>\n",
              "    </tr>\n",
              "  </tbody>\n",
              "</table>\n"
            ],
            "text/plain": [
              "<pandas.io.formats.style.Styler at 0x31a66f750>"
            ]
          },
          "metadata": {},
          "output_type": "display_data"
        }
      ],
      "source": [
        "### SETUP\n",
        "# import pycaret classification and init setup\n",
        "from pycaret.classification import *\n",
        "s = setup(data, target = 'Class variable', session_id = 456)"
      ]
    },
    {
      "cell_type": "code",
      "execution_count": 22,
      "metadata": {
        "colab": {
          "base_uri": "https://localhost:8080/",
          "height": 488,
          "referenced_widgets": [
            "3d5866eaebdc495fa824ab7856291d0a",
            "c48ba7eb9e104391bba7d7f136c7858d",
            "36d11574737944178fbb6b1ecd03527e",
            "a8995f079aa24ff1be77f584d5ac8be1",
            "0687138631c34af79483f38a7a8efb82",
            "9c4e28f9f9764a1ba462621fe22fccb9",
            "f4f23c0a92dd46b3b074b468b7178af1",
            "ecc9f830d284474a8f0da027299f8d81",
            "8da68e2fd6ea4d8687baae0478633226",
            "e8c8a7c40a1848db826d7db6080bb005",
            "6d16c578b4414b98a48a78e5d46bacb0"
          ]
        },
        "id": "PNQNIFTEyEmC",
        "outputId": "2abbbccf-b85d-40a6-a2d4-212687947876"
      },
      "outputs": [
        {
          "data": {
            "text/html": [],
            "text/plain": [
              "<IPython.core.display.HTML object>"
            ]
          },
          "metadata": {},
          "output_type": "display_data"
        },
        {
          "data": {
            "text/html": [
              "<style type=\"text/css\">\n",
              "#T_50ba9 th {\n",
              "  text-align: left;\n",
              "}\n",
              "#T_50ba9_row0_col0, #T_50ba9_row0_col3, #T_50ba9_row0_col5, #T_50ba9_row1_col0, #T_50ba9_row1_col1, #T_50ba9_row1_col2, #T_50ba9_row1_col3, #T_50ba9_row1_col4, #T_50ba9_row1_col5, #T_50ba9_row1_col6, #T_50ba9_row1_col7, #T_50ba9_row2_col0, #T_50ba9_row2_col1, #T_50ba9_row2_col2, #T_50ba9_row2_col3, #T_50ba9_row2_col4, #T_50ba9_row2_col5, #T_50ba9_row2_col6, #T_50ba9_row2_col7, #T_50ba9_row3_col0, #T_50ba9_row3_col1, #T_50ba9_row3_col2, #T_50ba9_row3_col3, #T_50ba9_row3_col4, #T_50ba9_row3_col5, #T_50ba9_row3_col6, #T_50ba9_row3_col7, #T_50ba9_row4_col0, #T_50ba9_row4_col1, #T_50ba9_row4_col2, #T_50ba9_row4_col3, #T_50ba9_row4_col4, #T_50ba9_row4_col5, #T_50ba9_row4_col6, #T_50ba9_row4_col7, #T_50ba9_row5_col0, #T_50ba9_row5_col1, #T_50ba9_row5_col2, #T_50ba9_row5_col3, #T_50ba9_row5_col4, #T_50ba9_row5_col5, #T_50ba9_row5_col6, #T_50ba9_row5_col7, #T_50ba9_row6_col0, #T_50ba9_row6_col1, #T_50ba9_row6_col2, #T_50ba9_row6_col4, #T_50ba9_row6_col6, #T_50ba9_row6_col7, #T_50ba9_row7_col0, #T_50ba9_row7_col1, #T_50ba9_row7_col2, #T_50ba9_row7_col3, #T_50ba9_row7_col4, #T_50ba9_row7_col5, #T_50ba9_row7_col6, #T_50ba9_row7_col7, #T_50ba9_row8_col0, #T_50ba9_row8_col1, #T_50ba9_row8_col2, #T_50ba9_row8_col3, #T_50ba9_row8_col4, #T_50ba9_row8_col5, #T_50ba9_row8_col6, #T_50ba9_row8_col7, #T_50ba9_row9_col0, #T_50ba9_row9_col1, #T_50ba9_row9_col2, #T_50ba9_row9_col3, #T_50ba9_row9_col4, #T_50ba9_row9_col5, #T_50ba9_row9_col6, #T_50ba9_row9_col7, #T_50ba9_row10_col0, #T_50ba9_row10_col1, #T_50ba9_row10_col2, #T_50ba9_row10_col3, #T_50ba9_row10_col4, #T_50ba9_row10_col5, #T_50ba9_row10_col6, #T_50ba9_row10_col7, #T_50ba9_row11_col0, #T_50ba9_row11_col1, #T_50ba9_row11_col2, #T_50ba9_row11_col3, #T_50ba9_row11_col4, #T_50ba9_row11_col5, #T_50ba9_row11_col6, #T_50ba9_row11_col7, #T_50ba9_row12_col0, #T_50ba9_row12_col1, #T_50ba9_row12_col2, #T_50ba9_row12_col3, #T_50ba9_row12_col4, #T_50ba9_row12_col5, #T_50ba9_row12_col6, #T_50ba9_row12_col7 {\n",
              "  text-align: left;\n",
              "}\n",
              "#T_50ba9_row0_col1, #T_50ba9_row0_col2, #T_50ba9_row0_col4, #T_50ba9_row0_col6, #T_50ba9_row0_col7, #T_50ba9_row6_col3, #T_50ba9_row6_col5 {\n",
              "  text-align: left;\n",
              "  background-color: yellow;\n",
              "}\n",
              "#T_50ba9_row0_col8, #T_50ba9_row1_col8, #T_50ba9_row2_col8, #T_50ba9_row3_col8, #T_50ba9_row4_col8, #T_50ba9_row5_col8, #T_50ba9_row6_col8, #T_50ba9_row7_col8, #T_50ba9_row8_col8, #T_50ba9_row9_col8, #T_50ba9_row10_col8, #T_50ba9_row12_col8 {\n",
              "  text-align: left;\n",
              "  background-color: lightgrey;\n",
              "}\n",
              "#T_50ba9_row11_col8 {\n",
              "  text-align: left;\n",
              "  background-color: yellow;\n",
              "  background-color: lightgrey;\n",
              "}\n",
              "</style>\n",
              "<table id=\"T_50ba9\">\n",
              "  <thead>\n",
              "    <tr>\n",
              "      <th class=\"blank level0\" >&nbsp;</th>\n",
              "      <th id=\"T_50ba9_level0_col0\" class=\"col_heading level0 col0\" >Model</th>\n",
              "      <th id=\"T_50ba9_level0_col1\" class=\"col_heading level0 col1\" >Accuracy</th>\n",
              "      <th id=\"T_50ba9_level0_col2\" class=\"col_heading level0 col2\" >AUC</th>\n",
              "      <th id=\"T_50ba9_level0_col3\" class=\"col_heading level0 col3\" >Recall</th>\n",
              "      <th id=\"T_50ba9_level0_col4\" class=\"col_heading level0 col4\" >Prec.</th>\n",
              "      <th id=\"T_50ba9_level0_col5\" class=\"col_heading level0 col5\" >F1</th>\n",
              "      <th id=\"T_50ba9_level0_col6\" class=\"col_heading level0 col6\" >Kappa</th>\n",
              "      <th id=\"T_50ba9_level0_col7\" class=\"col_heading level0 col7\" >MCC</th>\n",
              "      <th id=\"T_50ba9_level0_col8\" class=\"col_heading level0 col8\" >TT (Sec)</th>\n",
              "    </tr>\n",
              "  </thead>\n",
              "  <tbody>\n",
              "    <tr>\n",
              "      <th id=\"T_50ba9_level0_row0\" class=\"row_heading level0 row0\" >lda</th>\n",
              "      <td id=\"T_50ba9_row0_col0\" class=\"data row0 col0\" >Linear Discriminant Analysis</td>\n",
              "      <td id=\"T_50ba9_row0_col1\" class=\"data row0 col1\" >0.7598</td>\n",
              "      <td id=\"T_50ba9_row0_col2\" class=\"data row0 col2\" >0.8208</td>\n",
              "      <td id=\"T_50ba9_row0_col3\" class=\"data row0 col3\" >0.5725</td>\n",
              "      <td id=\"T_50ba9_row0_col4\" class=\"data row0 col4\" >0.6830</td>\n",
              "      <td id=\"T_50ba9_row0_col5\" class=\"data row0 col5\" >0.6221</td>\n",
              "      <td id=\"T_50ba9_row0_col6\" class=\"data row0 col6\" >0.4487</td>\n",
              "      <td id=\"T_50ba9_row0_col7\" class=\"data row0 col7\" >0.4527</td>\n",
              "      <td id=\"T_50ba9_row0_col8\" class=\"data row0 col8\" >0.0050</td>\n",
              "    </tr>\n",
              "    <tr>\n",
              "      <th id=\"T_50ba9_level0_row1\" class=\"row_heading level0 row1\" >rf</th>\n",
              "      <td id=\"T_50ba9_row1_col0\" class=\"data row1 col0\" >Random Forest Classifier</td>\n",
              "      <td id=\"T_50ba9_row1_col1\" class=\"data row1 col1\" >0.7560</td>\n",
              "      <td id=\"T_50ba9_row1_col2\" class=\"data row1 col2\" >0.8177</td>\n",
              "      <td id=\"T_50ba9_row1_col3\" class=\"data row1 col3\" >0.5772</td>\n",
              "      <td id=\"T_50ba9_row1_col4\" class=\"data row1 col4\" >0.6764</td>\n",
              "      <td id=\"T_50ba9_row1_col5\" class=\"data row1 col5\" >0.6189</td>\n",
              "      <td id=\"T_50ba9_row1_col6\" class=\"data row1 col6\" >0.4425</td>\n",
              "      <td id=\"T_50ba9_row1_col7\" class=\"data row1 col7\" >0.4475</td>\n",
              "      <td id=\"T_50ba9_row1_col8\" class=\"data row1 col8\" >0.0200</td>\n",
              "    </tr>\n",
              "    <tr>\n",
              "      <th id=\"T_50ba9_level0_row2\" class=\"row_heading level0 row2\" >ridge</th>\n",
              "      <td id=\"T_50ba9_row2_col0\" class=\"data row2 col0\" >Ridge Classifier</td>\n",
              "      <td id=\"T_50ba9_row2_col1\" class=\"data row2 col1\" >0.7543</td>\n",
              "      <td id=\"T_50ba9_row2_col2\" class=\"data row2 col2\" >0.8207</td>\n",
              "      <td id=\"T_50ba9_row2_col3\" class=\"data row2 col3\" >0.5567</td>\n",
              "      <td id=\"T_50ba9_row2_col4\" class=\"data row2 col4\" >0.6742</td>\n",
              "      <td id=\"T_50ba9_row2_col5\" class=\"data row2 col5\" >0.6086</td>\n",
              "      <td id=\"T_50ba9_row2_col6\" class=\"data row2 col6\" >0.4330</td>\n",
              "      <td id=\"T_50ba9_row2_col7\" class=\"data row2 col7\" >0.4375</td>\n",
              "      <td id=\"T_50ba9_row2_col8\" class=\"data row2 col8\" >0.0040</td>\n",
              "    </tr>\n",
              "    <tr>\n",
              "      <th id=\"T_50ba9_level0_row3\" class=\"row_heading level0 row3\" >ada</th>\n",
              "      <td id=\"T_50ba9_row3_col0\" class=\"data row3 col0\" >Ada Boost Classifier</td>\n",
              "      <td id=\"T_50ba9_row3_col1\" class=\"data row3 col1\" >0.7542</td>\n",
              "      <td id=\"T_50ba9_row3_col2\" class=\"data row3 col2\" >0.7900</td>\n",
              "      <td id=\"T_50ba9_row3_col3\" class=\"data row3 col3\" >0.5661</td>\n",
              "      <td id=\"T_50ba9_row3_col4\" class=\"data row3 col4\" >0.6736</td>\n",
              "      <td id=\"T_50ba9_row3_col5\" class=\"data row3 col5\" >0.6096</td>\n",
              "      <td id=\"T_50ba9_row3_col6\" class=\"data row3 col6\" >0.4342</td>\n",
              "      <td id=\"T_50ba9_row3_col7\" class=\"data row3 col7\" >0.4407</td>\n",
              "      <td id=\"T_50ba9_row3_col8\" class=\"data row3 col8\" >0.0090</td>\n",
              "    </tr>\n",
              "    <tr>\n",
              "      <th id=\"T_50ba9_level0_row4\" class=\"row_heading level0 row4\" >lr</th>\n",
              "      <td id=\"T_50ba9_row4_col0\" class=\"data row4 col0\" >Logistic Regression</td>\n",
              "      <td id=\"T_50ba9_row4_col1\" class=\"data row4 col1\" >0.7506</td>\n",
              "      <td id=\"T_50ba9_row4_col2\" class=\"data row4 col2\" >0.8194</td>\n",
              "      <td id=\"T_50ba9_row4_col3\" class=\"data row4 col3\" >0.5515</td>\n",
              "      <td id=\"T_50ba9_row4_col4\" class=\"data row4 col4\" >0.6679</td>\n",
              "      <td id=\"T_50ba9_row4_col5\" class=\"data row4 col5\" >0.6026</td>\n",
              "      <td id=\"T_50ba9_row4_col6\" class=\"data row4 col6\" >0.4245</td>\n",
              "      <td id=\"T_50ba9_row4_col7\" class=\"data row4 col7\" >0.4290</td>\n",
              "      <td id=\"T_50ba9_row4_col8\" class=\"data row4 col8\" >0.0080</td>\n",
              "    </tr>\n",
              "    <tr>\n",
              "      <th id=\"T_50ba9_level0_row5\" class=\"row_heading level0 row5\" >qda</th>\n",
              "      <td id=\"T_50ba9_row5_col0\" class=\"data row5 col0\" >Quadratic Discriminant Analysis</td>\n",
              "      <td id=\"T_50ba9_row5_col1\" class=\"data row5 col1\" >0.7485</td>\n",
              "      <td id=\"T_50ba9_row5_col2\" class=\"data row5 col2\" >0.8087</td>\n",
              "      <td id=\"T_50ba9_row5_col3\" class=\"data row5 col3\" >0.5942</td>\n",
              "      <td id=\"T_50ba9_row5_col4\" class=\"data row5 col4\" >0.6580</td>\n",
              "      <td id=\"T_50ba9_row5_col5\" class=\"data row5 col5\" >0.6210</td>\n",
              "      <td id=\"T_50ba9_row5_col6\" class=\"data row5 col6\" >0.4346</td>\n",
              "      <td id=\"T_50ba9_row5_col7\" class=\"data row5 col7\" >0.4382</td>\n",
              "      <td id=\"T_50ba9_row5_col8\" class=\"data row5 col8\" >0.0040</td>\n",
              "    </tr>\n",
              "    <tr>\n",
              "      <th id=\"T_50ba9_level0_row6\" class=\"row_heading level0 row6\" >gbc</th>\n",
              "      <td id=\"T_50ba9_row6_col0\" class=\"data row6 col0\" >Gradient Boosting Classifier</td>\n",
              "      <td id=\"T_50ba9_row6_col1\" class=\"data row6 col1\" >0.7468</td>\n",
              "      <td id=\"T_50ba9_row6_col2\" class=\"data row6 col2\" >0.8156</td>\n",
              "      <td id=\"T_50ba9_row6_col3\" class=\"data row6 col3\" >0.6091</td>\n",
              "      <td id=\"T_50ba9_row6_col4\" class=\"data row6 col4\" >0.6464</td>\n",
              "      <td id=\"T_50ba9_row6_col5\" class=\"data row6 col5\" >0.6250</td>\n",
              "      <td id=\"T_50ba9_row6_col6\" class=\"data row6 col6\" >0.4344</td>\n",
              "      <td id=\"T_50ba9_row6_col7\" class=\"data row6 col7\" >0.4366</td>\n",
              "      <td id=\"T_50ba9_row6_col8\" class=\"data row6 col8\" >0.0180</td>\n",
              "    </tr>\n",
              "    <tr>\n",
              "      <th id=\"T_50ba9_level0_row7\" class=\"row_heading level0 row7\" >nb</th>\n",
              "      <td id=\"T_50ba9_row7_col0\" class=\"data row7 col0\" >Naive Bayes</td>\n",
              "      <td id=\"T_50ba9_row7_col1\" class=\"data row7 col1\" >0.7448</td>\n",
              "      <td id=\"T_50ba9_row7_col2\" class=\"data row7 col2\" >0.8050</td>\n",
              "      <td id=\"T_50ba9_row7_col3\" class=\"data row7 col3\" >0.5936</td>\n",
              "      <td id=\"T_50ba9_row7_col4\" class=\"data row7 col4\" >0.6500</td>\n",
              "      <td id=\"T_50ba9_row7_col5\" class=\"data row7 col5\" >0.6186</td>\n",
              "      <td id=\"T_50ba9_row7_col6\" class=\"data row7 col6\" >0.4279</td>\n",
              "      <td id=\"T_50ba9_row7_col7\" class=\"data row7 col7\" >0.4302</td>\n",
              "      <td id=\"T_50ba9_row7_col8\" class=\"data row7 col8\" >0.0040</td>\n",
              "    </tr>\n",
              "    <tr>\n",
              "      <th id=\"T_50ba9_level0_row8\" class=\"row_heading level0 row8\" >knn</th>\n",
              "      <td id=\"T_50ba9_row8_col0\" class=\"data row8 col0\" >K Neighbors Classifier</td>\n",
              "      <td id=\"T_50ba9_row8_col1\" class=\"data row8 col1\" >0.7374</td>\n",
              "      <td id=\"T_50ba9_row8_col2\" class=\"data row8 col2\" >0.7680</td>\n",
              "      <td id=\"T_50ba9_row8_col3\" class=\"data row8 col3\" >0.5611</td>\n",
              "      <td id=\"T_50ba9_row8_col4\" class=\"data row8 col4\" >0.6440</td>\n",
              "      <td id=\"T_50ba9_row8_col5\" class=\"data row8 col5\" >0.5959</td>\n",
              "      <td id=\"T_50ba9_row8_col6\" class=\"data row8 col6\" >0.4035</td>\n",
              "      <td id=\"T_50ba9_row8_col7\" class=\"data row8 col7\" >0.4083</td>\n",
              "      <td id=\"T_50ba9_row8_col8\" class=\"data row8 col8\" >0.0080</td>\n",
              "    </tr>\n",
              "    <tr>\n",
              "      <th id=\"T_50ba9_level0_row9\" class=\"row_heading level0 row9\" >et</th>\n",
              "      <td id=\"T_50ba9_row9_col0\" class=\"data row9 col0\" >Extra Trees Classifier</td>\n",
              "      <td id=\"T_50ba9_row9_col1\" class=\"data row9 col1\" >0.7317</td>\n",
              "      <td id=\"T_50ba9_row9_col2\" class=\"data row9 col2\" >0.8106</td>\n",
              "      <td id=\"T_50ba9_row9_col3\" class=\"data row9 col3\" >0.5123</td>\n",
              "      <td id=\"T_50ba9_row9_col4\" class=\"data row9 col4\" >0.6457</td>\n",
              "      <td id=\"T_50ba9_row9_col5\" class=\"data row9 col5\" >0.5675</td>\n",
              "      <td id=\"T_50ba9_row9_col6\" class=\"data row9 col6\" >0.3780</td>\n",
              "      <td id=\"T_50ba9_row9_col7\" class=\"data row9 col7\" >0.3852</td>\n",
              "      <td id=\"T_50ba9_row9_col8\" class=\"data row9 col8\" >0.0170</td>\n",
              "    </tr>\n",
              "    <tr>\n",
              "      <th id=\"T_50ba9_level0_row10\" class=\"row_heading level0 row10\" >dt</th>\n",
              "      <td id=\"T_50ba9_row10_col0\" class=\"data row10 col0\" >Decision Tree Classifier</td>\n",
              "      <td id=\"T_50ba9_row10_col1\" class=\"data row10 col1\" >0.6984</td>\n",
              "      <td id=\"T_50ba9_row10_col2\" class=\"data row10 col2\" >0.6628</td>\n",
              "      <td id=\"T_50ba9_row10_col3\" class=\"data row10 col3\" >0.5456</td>\n",
              "      <td id=\"T_50ba9_row10_col4\" class=\"data row10 col4\" >0.5685</td>\n",
              "      <td id=\"T_50ba9_row10_col5\" class=\"data row10 col5\" >0.5557</td>\n",
              "      <td id=\"T_50ba9_row10_col6\" class=\"data row10 col6\" >0.3280</td>\n",
              "      <td id=\"T_50ba9_row10_col7\" class=\"data row10 col7\" >0.3288</td>\n",
              "      <td id=\"T_50ba9_row10_col8\" class=\"data row10 col8\" >0.0040</td>\n",
              "    </tr>\n",
              "    <tr>\n",
              "      <th id=\"T_50ba9_level0_row11\" class=\"row_heading level0 row11\" >dummy</th>\n",
              "      <td id=\"T_50ba9_row11_col0\" class=\"data row11 col0\" >Dummy Classifier</td>\n",
              "      <td id=\"T_50ba9_row11_col1\" class=\"data row11 col1\" >0.6518</td>\n",
              "      <td id=\"T_50ba9_row11_col2\" class=\"data row11 col2\" >0.5000</td>\n",
              "      <td id=\"T_50ba9_row11_col3\" class=\"data row11 col3\" >0.0000</td>\n",
              "      <td id=\"T_50ba9_row11_col4\" class=\"data row11 col4\" >0.0000</td>\n",
              "      <td id=\"T_50ba9_row11_col5\" class=\"data row11 col5\" >0.0000</td>\n",
              "      <td id=\"T_50ba9_row11_col6\" class=\"data row11 col6\" >0.0000</td>\n",
              "      <td id=\"T_50ba9_row11_col7\" class=\"data row11 col7\" >0.0000</td>\n",
              "      <td id=\"T_50ba9_row11_col8\" class=\"data row11 col8\" >0.0030</td>\n",
              "    </tr>\n",
              "    <tr>\n",
              "      <th id=\"T_50ba9_level0_row12\" class=\"row_heading level0 row12\" >svm</th>\n",
              "      <td id=\"T_50ba9_row12_col0\" class=\"data row12 col0\" >SVM - Linear Kernel</td>\n",
              "      <td id=\"T_50ba9_row12_col1\" class=\"data row12 col1\" >0.6066</td>\n",
              "      <td id=\"T_50ba9_row12_col2\" class=\"data row12 col2\" >0.6191</td>\n",
              "      <td id=\"T_50ba9_row12_col3\" class=\"data row12 col3\" >0.4620</td>\n",
              "      <td id=\"T_50ba9_row12_col4\" class=\"data row12 col4\" >0.4701</td>\n",
              "      <td id=\"T_50ba9_row12_col5\" class=\"data row12 col5\" >0.3875</td>\n",
              "      <td id=\"T_50ba9_row12_col6\" class=\"data row12 col6\" >0.1473</td>\n",
              "      <td id=\"T_50ba9_row12_col7\" class=\"data row12 col7\" >0.1839</td>\n",
              "      <td id=\"T_50ba9_row12_col8\" class=\"data row12 col8\" >0.0040</td>\n",
              "    </tr>\n",
              "  </tbody>\n",
              "</table>\n"
            ],
            "text/plain": [
              "<pandas.io.formats.style.Styler at 0x31a6e74d0>"
            ]
          },
          "metadata": {},
          "output_type": "display_data"
        },
        {
          "data": {
            "text/html": [],
            "text/plain": [
              "<IPython.core.display.HTML object>"
            ]
          },
          "metadata": {},
          "output_type": "display_data"
        }
      ],
      "source": [
        "# COMPARE baseline models\n",
        "best = compare_models(exclude=[\"lightgbm\"])"
      ]
    },
    {
      "cell_type": "code",
      "execution_count": 23,
      "metadata": {
        "colab": {
          "base_uri": "https://localhost:8080/",
          "height": 551
        },
        "id": "CwJg7xydyEmC",
        "outputId": "8ae2c0f2-3434-4fbf-943a-7924a7427e91"
      },
      "outputs": [
        {
          "data": {
            "text/html": [],
            "text/plain": [
              "<IPython.core.display.HTML object>"
            ]
          },
          "metadata": {},
          "output_type": "display_data"
        },
        {
          "data": {
            "image/png": "[encoded data removed]",
            "text/plain": [
              "<Figure size 800x550 with 1 Axes>"
            ]
          },
          "metadata": {},
          "output_type": "display_data"
        }
      ],
      "source": [
        "### ANALYZE MODEL\n",
        "# plot confusion matrix\n",
        "plot_model(best, plot = 'confusion_matrix')"
      ]
    },
    {
      "cell_type": "code",
      "execution_count": 24,
      "metadata": {
        "colab": {
          "base_uri": "https://localhost:8080/",
          "height": 524
        },
        "id": "PrZ-Ed2byEmC",
        "outputId": "d767ab10-fca4-43e8-95c3-239203068c4c"
      },
      "outputs": [
        {
          "data": {
            "text/html": [],
            "text/plain": [
              "<IPython.core.display.HTML object>"
            ]
          },
          "metadata": {},
          "output_type": "display_data"
        },
        {
          "data": {
            "image/png": "[encoded data removed]",
            "text/plain": [
              "<Figure size 800x550 with 1 Axes>"
            ]
          },
          "metadata": {},
          "output_type": "display_data"
        }
      ],
      "source": [
        "# plot AUC\n",
        "plot_model(best, plot = 'auc')"
      ]
    },
    {
      "cell_type": "code",
      "execution_count": 25,
      "metadata": {
        "colab": {
          "base_uri": "https://localhost:8080/",
          "height": 357
        },
        "id": "kgiZNwkUyEmC",
        "outputId": "9b4f7916-0e56-469e-a179-bb2527eeef52"
      },
      "outputs": [
        {
          "data": {
            "text/html": [],
            "text/plain": [
              "<IPython.core.display.HTML object>"
            ]
          },
          "metadata": {},
          "output_type": "display_data"
        },
        {
          "data": {
            "image/png": "[encoded data removed]",
            "text/plain": [
              "<Figure size 800x500 with 1 Axes>"
            ]
          },
          "metadata": {},
          "output_type": "display_data"
        }
      ],
      "source": [
        "# plot feature importance\n",
        "plot_model(best, plot = 'feature')"
      ]
    },
    {
      "cell_type": "code",
      "execution_count": 26,
      "metadata": {
        "id": "nmpPtR8byEmC"
      },
      "outputs": [],
      "source": [
        "# Hover over plot or check docstring to see available plots\n",
        "# help(plot_model)"
      ]
    },
    {
      "cell_type": "code",
      "execution_count": 27,
      "metadata": {
        "colab": {
          "base_uri": "https://localhost:8080/",
          "height": 242,
          "referenced_widgets": [
            "d0a3a3c842fd449085aa45df3a59f427",
            "e78a736a421f4b6b9a0321284a654645",
            "480a6f8d9c86401ea03945fddc0459e4",
            "650e02daca064654a6cf838aa8e6c806",
            "327ab32ae539421a979d187e5c5779ab",
            "cffdefe3bf7a4964ab83775472ec5e6b",
            "dfed5c42883443348b7f79bc9860ce92"
          ]
        },
        "id": "3x3PH_p_yEmC",
        "outputId": "3ae1b3c2-1c3e-47d3-fef1-676c30f335c6"
      },
      "outputs": [
        {
          "data": {
            "application/vnd.jupyter.widget-view+json": {
              "model_id": "aba4cd3d75c94143a25a95580bc617d7",
              "version_major": 2,
              "version_minor": 0
            },
            "text/plain": [
              "interactive(children=(ToggleButtons(description='Plot Type:', icons=('',), options=(('Pipeline Plot', 'pipelin…"
            ]
          },
          "metadata": {},
          "output_type": "display_data"
        }
      ],
      "source": [
        "evaluate_model(best)"
      ]
    },
    {
      "cell_type": "code",
      "execution_count": 28,
      "metadata": {
        "colab": {
          "base_uri": "https://localhost:8080/",
          "height": 81
        },
        "id": "-xClRj3xyEmC",
        "outputId": "a4b12b01-e666-4074-d0de-9f0f398b03d6"
      },
      "outputs": [
        {
          "data": {
            "text/html": [
              "<style type=\"text/css\">\n",
              "</style>\n",
              "<table id=\"T_9ab8c\">\n",
              "  <thead>\n",
              "    <tr>\n",
              "      <th class=\"blank level0\" >&nbsp;</th>\n",
              "      <th id=\"T_9ab8c_level0_col0\" class=\"col_heading level0 col0\" >Model</th>\n",
              "      <th id=\"T_9ab8c_level0_col1\" class=\"col_heading level0 col1\" >Accuracy</th>\n",
              "      <th id=\"T_9ab8c_level0_col2\" class=\"col_heading level0 col2\" >AUC</th>\n",
              "      <th id=\"T_9ab8c_level0_col3\" class=\"col_heading level0 col3\" >Recall</th>\n",
              "      <th id=\"T_9ab8c_level0_col4\" class=\"col_heading level0 col4\" >Prec.</th>\n",
              "      <th id=\"T_9ab8c_level0_col5\" class=\"col_heading level0 col5\" >F1</th>\n",
              "      <th id=\"T_9ab8c_level0_col6\" class=\"col_heading level0 col6\" >Kappa</th>\n",
              "      <th id=\"T_9ab8c_level0_col7\" class=\"col_heading level0 col7\" >MCC</th>\n",
              "    </tr>\n",
              "  </thead>\n",
              "  <tbody>\n",
              "    <tr>\n",
              "      <th id=\"T_9ab8c_level0_row0\" class=\"row_heading level0 row0\" >0</th>\n",
              "      <td id=\"T_9ab8c_row0_col0\" class=\"data row0 col0\" >Linear Discriminant Analysis</td>\n",
              "      <td id=\"T_9ab8c_row0_col1\" class=\"data row0 col1\" >0.7965</td>\n",
              "      <td id=\"T_9ab8c_row0_col2\" class=\"data row0 col2\" >0.8360</td>\n",
              "      <td id=\"T_9ab8c_row0_col3\" class=\"data row0 col3\" >0.5556</td>\n",
              "      <td id=\"T_9ab8c_row0_col4\" class=\"data row0 col4\" >0.8036</td>\n",
              "      <td id=\"T_9ab8c_row0_col5\" class=\"data row0 col5\" >0.6569</td>\n",
              "      <td id=\"T_9ab8c_row0_col6\" class=\"data row0 col6\" >0.5191</td>\n",
              "      <td id=\"T_9ab8c_row0_col7\" class=\"data row0 col7\" >0.5369</td>\n",
              "    </tr>\n",
              "  </tbody>\n",
              "</table>\n"
            ],
            "text/plain": [
              "<pandas.io.formats.style.Styler at 0x31f8e1650>"
            ]
          },
          "metadata": {},
          "output_type": "display_data"
        }
      ],
      "source": [
        "### PREDICTION\n",
        "# predict on test set\n",
        "holdout_pred = predict_model(best)"
      ]
    },
    {
      "cell_type": "code",
      "execution_count": 29,
      "metadata": {
        "colab": {
          "base_uri": "https://localhost:8080/",
          "height": 348
        },
        "id": "uuqsZUXEyEmC",
        "outputId": "dfb4fb5a-97f2-446f-881d-d9b1b96c36a2"
      },
      "outputs": [
        {
          "data": {
            "application/vnd.microsoft.datawrangler.viewer.v0+json": {
              "columns": [
                {
                  "name": "index",
                  "rawType": "int64",
                  "type": "integer"
                },
                {
                  "name": "Number of times pregnant",
                  "rawType": "int8",
                  "type": "integer"
                },
                {
                  "name": "Plasma glucose concentration a 2 hours in an oral glucose tolerance test",
                  "rawType": "int32",
                  "type": "integer"
                },
                {
                  "name": "Diastolic blood pressure (mm Hg)",
                  "rawType": "int8",
                  "type": "integer"
                },
                {
                  "name": "Triceps skin fold thickness (mm)",
                  "rawType": "int8",
                  "type": "integer"
                },
                {
                  "name": "2-Hour serum insulin (mu U/ml)",
                  "rawType": "int32",
                  "type": "integer"
                },
                {
                  "name": "Body mass index (weight in kg/(height in m)^2)",
                  "rawType": "float32",
                  "type": "float"
                },
                {
                  "name": "Diabetes pedigree function",
                  "rawType": "float32",
                  "type": "float"
                },
                {
                  "name": "Age (years)",
                  "rawType": "int8",
                  "type": "integer"
                },
                {
                  "name": "Class variable",
                  "rawType": "int8",
                  "type": "integer"
                },
                {
                  "name": "prediction_label",
                  "rawType": "int64",
                  "type": "integer"
                },
                {
                  "name": "prediction_score",
                  "rawType": "float64",
                  "type": "float"
                }
              ],
              "ref": "7e54c7c9-8bd5-4d6d-8dc1-4f1f964bf6eb",
              "rows": [
                [
                  "182",
                  "1",
                  "0",
                  "74",
                  "20",
                  "23",
                  "27.7",
                  "0.299",
                  "21",
                  "0",
                  "0",
                  "0.9988"
                ],
                [
                  "338",
                  "9",
                  "152",
                  "78",
                  "34",
                  "171",
                  "34.2",
                  "0.893",
                  "33",
                  "1",
                  "1",
                  "0.7779"
                ],
                [
                  "322",
                  "0",
                  "124",
                  "70",
                  "20",
                  "0",
                  "27.4",
                  "0.254",
                  "36",
                  "1",
                  "0",
                  "0.8426"
                ],
                [
                  "219",
                  "5",
                  "112",
                  "66",
                  "0",
                  "0",
                  "37.8",
                  "0.261",
                  "41",
                  "1",
                  "0",
                  "0.6449"
                ],
                [
                  "564",
                  "0",
                  "91",
                  "80",
                  "0",
                  "0",
                  "32.4",
                  "0.601",
                  "27",
                  "0",
                  "0",
                  "0.9366"
                ]
              ],
              "shape": {
                "columns": 11,
                "rows": 5
              }
            },
            "text/html": [
              "<div>\n",
              "<style scoped>\n",
              "    .dataframe tbody tr th:only-of-type {\n",
              "        vertical-align: middle;\n",
              "    }\n",
              "\n",
              "    .dataframe tbody tr th {\n",
              "        vertical-align: top;\n",
              "    }\n",
              "\n",
              "    .dataframe thead th {\n",
              "        text-align: right;\n",
              "    }\n",
              "</style>\n",
              "<table border=\"1\" class=\"dataframe\">\n",
              "  <thead>\n",
              "    <tr style=\"text-align: right;\">\n",
              "      <th></th>\n",
              "      <th>Number of times pregnant</th>\n",
              "      <th>Plasma glucose concentration a 2 hours in an oral glucose tolerance test</th>\n",
              "      <th>Diastolic blood pressure (mm Hg)</th>\n",
              "      <th>Triceps skin fold thickness (mm)</th>\n",
              "      <th>2-Hour serum insulin (mu U/ml)</th>\n",
              "      <th>Body mass index (weight in kg/(height in m)^2)</th>\n",
              "      <th>Diabetes pedigree function</th>\n",
              "      <th>Age (years)</th>\n",
              "      <th>Class variable</th>\n",
              "      <th>prediction_label</th>\n",
              "      <th>prediction_score</th>\n",
              "    </tr>\n",
              "  </thead>\n",
              "  <tbody>\n",
              "    <tr>\n",
              "      <th>182</th>\n",
              "      <td>1</td>\n",
              "      <td>0</td>\n",
              "      <td>74</td>\n",
              "      <td>20</td>\n",
              "      <td>23</td>\n",
              "      <td>27.700001</td>\n",
              "      <td>0.299</td>\n",
              "      <td>21</td>\n",
              "      <td>0</td>\n",
              "      <td>0</td>\n",
              "      <td>0.9988</td>\n",
              "    </tr>\n",
              "    <tr>\n",
              "      <th>338</th>\n",
              "      <td>9</td>\n",
              "      <td>152</td>\n",
              "      <td>78</td>\n",
              "      <td>34</td>\n",
              "      <td>171</td>\n",
              "      <td>34.200001</td>\n",
              "      <td>0.893</td>\n",
              "      <td>33</td>\n",
              "      <td>1</td>\n",
              "      <td>1</td>\n",
              "      <td>0.7779</td>\n",
              "    </tr>\n",
              "    <tr>\n",
              "      <th>322</th>\n",
              "      <td>0</td>\n",
              "      <td>124</td>\n",
              "      <td>70</td>\n",
              "      <td>20</td>\n",
              "      <td>0</td>\n",
              "      <td>27.400000</td>\n",
              "      <td>0.254</td>\n",
              "      <td>36</td>\n",
              "      <td>1</td>\n",
              "      <td>0</td>\n",
              "      <td>0.8426</td>\n",
              "    </tr>\n",
              "    <tr>\n",
              "      <th>219</th>\n",
              "      <td>5</td>\n",
              "      <td>112</td>\n",
              "      <td>66</td>\n",
              "      <td>0</td>\n",
              "      <td>0</td>\n",
              "      <td>37.799999</td>\n",
              "      <td>0.261</td>\n",
              "      <td>41</td>\n",
              "      <td>1</td>\n",
              "      <td>0</td>\n",
              "      <td>0.6449</td>\n",
              "    </tr>\n",
              "    <tr>\n",
              "      <th>564</th>\n",
              "      <td>0</td>\n",
              "      <td>91</td>\n",
              "      <td>80</td>\n",
              "      <td>0</td>\n",
              "      <td>0</td>\n",
              "      <td>32.400002</td>\n",
              "      <td>0.601</td>\n",
              "      <td>27</td>\n",
              "      <td>0</td>\n",
              "      <td>0</td>\n",
              "      <td>0.9366</td>\n",
              "    </tr>\n",
              "  </tbody>\n",
              "</table>\n",
              "</div>"
            ],
            "text/plain": [
              "     Number of times pregnant  \\\n",
              "182                         1   \n",
              "338                         9   \n",
              "322                         0   \n",
              "219                         5   \n",
              "564                         0   \n",
              "\n",
              "     Plasma glucose concentration a 2 hours in an oral glucose tolerance test  \\\n",
              "182                                                  0                          \n",
              "338                                                152                          \n",
              "322                                                124                          \n",
              "219                                                112                          \n",
              "564                                                 91                          \n",
              "\n",
              "     Diastolic blood pressure (mm Hg)  Triceps skin fold thickness (mm)  \\\n",
              "182                                74                                20   \n",
              "338                                78                                34   \n",
              "322                                70                                20   \n",
              "219                                66                                 0   \n",
              "564                                80                                 0   \n",
              "\n",
              "     2-Hour serum insulin (mu U/ml)  \\\n",
              "182                              23   \n",
              "338                             171   \n",
              "322                               0   \n",
              "219                               0   \n",
              "564                               0   \n",
              "\n",
              "     Body mass index (weight in kg/(height in m)^2)  \\\n",
              "182                                       27.700001   \n",
              "338                                       34.200001   \n",
              "322                                       27.400000   \n",
              "219                                       37.799999   \n",
              "564                                       32.400002   \n",
              "\n",
              "     Diabetes pedigree function  Age (years)  Class variable  \\\n",
              "182                       0.299           21               0   \n",
              "338                       0.893           33               1   \n",
              "322                       0.254           36               1   \n",
              "219                       0.261           41               1   \n",
              "564                       0.601           27               0   \n",
              "\n",
              "     prediction_label  prediction_score  \n",
              "182                 0            0.9988  \n",
              "338                 1            0.7779  \n",
              "322                 0            0.8426  \n",
              "219                 0            0.6449  \n",
              "564                 0            0.9366  "
            ]
          },
          "execution_count": 29,
          "metadata": {},
          "output_type": "execute_result"
        }
      ],
      "source": [
        "# show predictions df\n",
        "holdout_pred.head()"
      ]
    },
    {
      "cell_type": "markdown",
      "metadata": {
        "id": "O-QhTu4-yEmD"
      },
      "source": [
        "The same function works for predicting the labels on unseen dataset. Let's create a copy of original data and drop the `Class variable`. We can then use the new data frame without labels for scoring."
      ]
    },
    {
      "cell_type": "code",
      "execution_count": 30,
      "metadata": {
        "colab": {
          "base_uri": "https://localhost:8080/",
          "height": 293
        },
        "id": "NxZduCjWyEmD",
        "outputId": "206ce4c3-2b52-4dc8-e3ba-a312a065fd5d"
      },
      "outputs": [
        {
          "data": {
            "application/vnd.microsoft.datawrangler.viewer.v0+json": {
              "columns": [
                {
                  "name": "index",
                  "rawType": "int64",
                  "type": "integer"
                },
                {
                  "name": "Number of times pregnant",
                  "rawType": "int64",
                  "type": "integer"
                },
                {
                  "name": "Plasma glucose concentration a 2 hours in an oral glucose tolerance test",
                  "rawType": "int64",
                  "type": "integer"
                },
                {
                  "name": "Diastolic blood pressure (mm Hg)",
                  "rawType": "int64",
                  "type": "integer"
                },
                {
                  "name": "Triceps skin fold thickness (mm)",
                  "rawType": "int64",
                  "type": "integer"
                },
                {
                  "name": "2-Hour serum insulin (mu U/ml)",
                  "rawType": "int64",
                  "type": "integer"
                },
                {
                  "name": "Body mass index (weight in kg/(height in m)^2)",
                  "rawType": "float64",
                  "type": "float"
                },
                {
                  "name": "Diabetes pedigree function",
                  "rawType": "float64",
                  "type": "float"
                },
                {
                  "name": "Age (years)",
                  "rawType": "int64",
                  "type": "integer"
                }
              ],
              "ref": "d61488ab-2bff-4988-a444-b9b75f532044",
              "rows": [
                [
                  "0",
                  "6",
                  "148",
                  "72",
                  "35",
                  "0",
                  "33.6",
                  "0.627",
                  "50"
                ],
                [
                  "1",
                  "1",
                  "85",
                  "66",
                  "29",
                  "0",
                  "26.6",
                  "0.351",
                  "31"
                ],
                [
                  "2",
                  "8",
                  "183",
                  "64",
                  "0",
                  "0",
                  "23.3",
                  "0.672",
                  "32"
                ],
                [
                  "3",
                  "1",
                  "89",
                  "66",
                  "23",
                  "94",
                  "28.1",
                  "0.167",
                  "21"
                ],
                [
                  "4",
                  "0",
                  "137",
                  "40",
                  "35",
                  "168",
                  "43.1",
                  "2.288",
                  "33"
                ]
              ],
              "shape": {
                "columns": 8,
                "rows": 5
              }
            },
            "text/html": [
              "<div>\n",
              "<style scoped>\n",
              "    .dataframe tbody tr th:only-of-type {\n",
              "        vertical-align: middle;\n",
              "    }\n",
              "\n",
              "    .dataframe tbody tr th {\n",
              "        vertical-align: top;\n",
              "    }\n",
              "\n",
              "    .dataframe thead th {\n",
              "        text-align: right;\n",
              "    }\n",
              "</style>\n",
              "<table border=\"1\" class=\"dataframe\">\n",
              "  <thead>\n",
              "    <tr style=\"text-align: right;\">\n",
              "      <th></th>\n",
              "      <th>Number of times pregnant</th>\n",
              "      <th>Plasma glucose concentration a 2 hours in an oral glucose tolerance test</th>\n",
              "      <th>Diastolic blood pressure (mm Hg)</th>\n",
              "      <th>Triceps skin fold thickness (mm)</th>\n",
              "      <th>2-Hour serum insulin (mu U/ml)</th>\n",
              "      <th>Body mass index (weight in kg/(height in m)^2)</th>\n",
              "      <th>Diabetes pedigree function</th>\n",
              "      <th>Age (years)</th>\n",
              "    </tr>\n",
              "  </thead>\n",
              "  <tbody>\n",
              "    <tr>\n",
              "      <th>0</th>\n",
              "      <td>6</td>\n",
              "      <td>148</td>\n",
              "      <td>72</td>\n",
              "      <td>35</td>\n",
              "      <td>0</td>\n",
              "      <td>33.6</td>\n",
              "      <td>0.627</td>\n",
              "      <td>50</td>\n",
              "    </tr>\n",
              "    <tr>\n",
              "      <th>1</th>\n",
              "      <td>1</td>\n",
              "      <td>85</td>\n",
              "      <td>66</td>\n",
              "      <td>29</td>\n",
              "      <td>0</td>\n",
              "      <td>26.6</td>\n",
              "      <td>0.351</td>\n",
              "      <td>31</td>\n",
              "    </tr>\n",
              "    <tr>\n",
              "      <th>2</th>\n",
              "      <td>8</td>\n",
              "      <td>183</td>\n",
              "      <td>64</td>\n",
              "      <td>0</td>\n",
              "      <td>0</td>\n",
              "      <td>23.3</td>\n",
              "      <td>0.672</td>\n",
              "      <td>32</td>\n",
              "    </tr>\n",
              "    <tr>\n",
              "      <th>3</th>\n",
              "      <td>1</td>\n",
              "      <td>89</td>\n",
              "      <td>66</td>\n",
              "      <td>23</td>\n",
              "      <td>94</td>\n",
              "      <td>28.1</td>\n",
              "      <td>0.167</td>\n",
              "      <td>21</td>\n",
              "    </tr>\n",
              "    <tr>\n",
              "      <th>4</th>\n",
              "      <td>0</td>\n",
              "      <td>137</td>\n",
              "      <td>40</td>\n",
              "      <td>35</td>\n",
              "      <td>168</td>\n",
              "      <td>43.1</td>\n",
              "      <td>2.288</td>\n",
              "      <td>33</td>\n",
              "    </tr>\n",
              "  </tbody>\n",
              "</table>\n",
              "</div>"
            ],
            "text/plain": [
              "   Number of times pregnant  \\\n",
              "0                         6   \n",
              "1                         1   \n",
              "2                         8   \n",
              "3                         1   \n",
              "4                         0   \n",
              "\n",
              "   Plasma glucose concentration a 2 hours in an oral glucose tolerance test  \\\n",
              "0                                                148                          \n",
              "1                                                 85                          \n",
              "2                                                183                          \n",
              "3                                                 89                          \n",
              "4                                                137                          \n",
              "\n",
              "   Diastolic blood pressure (mm Hg)  Triceps skin fold thickness (mm)  \\\n",
              "0                                72                                35   \n",
              "1                                66                                29   \n",
              "2                                64                                 0   \n",
              "3                                66                                23   \n",
              "4                                40                                35   \n",
              "\n",
              "   2-Hour serum insulin (mu U/ml)  \\\n",
              "0                               0   \n",
              "1                               0   \n",
              "2                               0   \n",
              "3                              94   \n",
              "4                             168   \n",
              "\n",
              "   Body mass index (weight in kg/(height in m)^2)  Diabetes pedigree function  \\\n",
              "0                                            33.6                       0.627   \n",
              "1                                            26.6                       0.351   \n",
              "2                                            23.3                       0.672   \n",
              "3                                            28.1                       0.167   \n",
              "4                                            43.1                       2.288   \n",
              "\n",
              "   Age (years)  \n",
              "0           50  \n",
              "1           31  \n",
              "2           32  \n",
              "3           21  \n",
              "4           33  "
            ]
          },
          "execution_count": 30,
          "metadata": {},
          "output_type": "execute_result"
        }
      ],
      "source": [
        "# copy data and drop Class variable\n",
        "\n",
        "new_data = data.copy()\n",
        "new_data.drop('Class variable', axis=1, inplace=True)\n",
        "new_data.head()"
      ]
    },
    {
      "cell_type": "code",
      "execution_count": 31,
      "metadata": {
        "colab": {
          "base_uri": "https://localhost:8080/",
          "height": 348
        },
        "id": "Uuwb9nQhyEmD",
        "outputId": "061522d8-4353-4496-94a4-b11edaa6764b"
      },
      "outputs": [
        {
          "data": {
            "text/html": [],
            "text/plain": [
              "<IPython.core.display.HTML object>"
            ]
          },
          "metadata": {},
          "output_type": "display_data"
        },
        {
          "data": {
            "application/vnd.microsoft.datawrangler.viewer.v0+json": {
              "columns": [
                {
                  "name": "index",
                  "rawType": "int64",
                  "type": "integer"
                },
                {
                  "name": "Number of times pregnant",
                  "rawType": "int8",
                  "type": "integer"
                },
                {
                  "name": "Plasma glucose concentration a 2 hours in an oral glucose tolerance test",
                  "rawType": "int32",
                  "type": "integer"
                },
                {
                  "name": "Diastolic blood pressure (mm Hg)",
                  "rawType": "int8",
                  "type": "integer"
                },
                {
                  "name": "Triceps skin fold thickness (mm)",
                  "rawType": "int8",
                  "type": "integer"
                },
                {
                  "name": "2-Hour serum insulin (mu U/ml)",
                  "rawType": "int32",
                  "type": "integer"
                },
                {
                  "name": "Body mass index (weight in kg/(height in m)^2)",
                  "rawType": "float32",
                  "type": "float"
                },
                {
                  "name": "Diabetes pedigree function",
                  "rawType": "float32",
                  "type": "float"
                },
                {
                  "name": "Age (years)",
                  "rawType": "int8",
                  "type": "integer"
                },
                {
                  "name": "prediction_label",
                  "rawType": "int64",
                  "type": "integer"
                },
                {
                  "name": "prediction_score",
                  "rawType": "float64",
                  "type": "float"
                }
              ],
              "ref": "8fe09cef-fca8-4c2e-a80a-ae537643a460",
              "rows": [
                [
                  "0",
                  "6",
                  "148",
                  "72",
                  "35",
                  "0",
                  "33.6",
                  "0.627",
                  "50",
                  "1",
                  "0.7543"
                ],
                [
                  "1",
                  "1",
                  "85",
                  "66",
                  "29",
                  "0",
                  "26.6",
                  "0.351",
                  "31",
                  "0",
                  "0.9552"
                ],
                [
                  "2",
                  "8",
                  "183",
                  "64",
                  "0",
                  "0",
                  "23.3",
                  "0.672",
                  "32",
                  "1",
                  "0.8563"
                ],
                [
                  "3",
                  "1",
                  "89",
                  "66",
                  "23",
                  "94",
                  "28.1",
                  "0.167",
                  "21",
                  "0",
                  "0.9649"
                ],
                [
                  "4",
                  "0",
                  "137",
                  "40",
                  "35",
                  "168",
                  "43.1",
                  "2.288",
                  "33",
                  "1",
                  "0.8794"
                ]
              ],
              "shape": {
                "columns": 10,
                "rows": 5
              }
            },
            "text/html": [
              "<div>\n",
              "<style scoped>\n",
              "    .dataframe tbody tr th:only-of-type {\n",
              "        vertical-align: middle;\n",
              "    }\n",
              "\n",
              "    .dataframe tbody tr th {\n",
              "        vertical-align: top;\n",
              "    }\n",
              "\n",
              "    .dataframe thead th {\n",
              "        text-align: right;\n",
              "    }\n",
              "</style>\n",
              "<table border=\"1\" class=\"dataframe\">\n",
              "  <thead>\n",
              "    <tr style=\"text-align: right;\">\n",
              "      <th></th>\n",
              "      <th>Number of times pregnant</th>\n",
              "      <th>Plasma glucose concentration a 2 hours in an oral glucose tolerance test</th>\n",
              "      <th>Diastolic blood pressure (mm Hg)</th>\n",
              "      <th>Triceps skin fold thickness (mm)</th>\n",
              "      <th>2-Hour serum insulin (mu U/ml)</th>\n",
              "      <th>Body mass index (weight in kg/(height in m)^2)</th>\n",
              "      <th>Diabetes pedigree function</th>\n",
              "      <th>Age (years)</th>\n",
              "      <th>prediction_label</th>\n",
              "      <th>prediction_score</th>\n",
              "    </tr>\n",
              "  </thead>\n",
              "  <tbody>\n",
              "    <tr>\n",
              "      <th>0</th>\n",
              "      <td>6</td>\n",
              "      <td>148</td>\n",
              "      <td>72</td>\n",
              "      <td>35</td>\n",
              "      <td>0</td>\n",
              "      <td>33.599998</td>\n",
              "      <td>0.627</td>\n",
              "      <td>50</td>\n",
              "      <td>1</td>\n",
              "      <td>0.7543</td>\n",
              "    </tr>\n",
              "    <tr>\n",
              "      <th>1</th>\n",
              "      <td>1</td>\n",
              "      <td>85</td>\n",
              "      <td>66</td>\n",
              "      <td>29</td>\n",
              "      <td>0</td>\n",
              "      <td>26.600000</td>\n",
              "      <td>0.351</td>\n",
              "      <td>31</td>\n",
              "      <td>0</td>\n",
              "      <td>0.9552</td>\n",
              "    </tr>\n",
              "    <tr>\n",
              "      <th>2</th>\n",
              "      <td>8</td>\n",
              "      <td>183</td>\n",
              "      <td>64</td>\n",
              "      <td>0</td>\n",
              "      <td>0</td>\n",
              "      <td>23.299999</td>\n",
              "      <td>0.672</td>\n",
              "      <td>32</td>\n",
              "      <td>1</td>\n",
              "      <td>0.8563</td>\n",
              "    </tr>\n",
              "    <tr>\n",
              "      <th>3</th>\n",
              "      <td>1</td>\n",
              "      <td>89</td>\n",
              "      <td>66</td>\n",
              "      <td>23</td>\n",
              "      <td>94</td>\n",
              "      <td>28.100000</td>\n",
              "      <td>0.167</td>\n",
              "      <td>21</td>\n",
              "      <td>0</td>\n",
              "      <td>0.9649</td>\n",
              "    </tr>\n",
              "    <tr>\n",
              "      <th>4</th>\n",
              "      <td>0</td>\n",
              "      <td>137</td>\n",
              "      <td>40</td>\n",
              "      <td>35</td>\n",
              "      <td>168</td>\n",
              "      <td>43.099998</td>\n",
              "      <td>2.288</td>\n",
              "      <td>33</td>\n",
              "      <td>1</td>\n",
              "      <td>0.8794</td>\n",
              "    </tr>\n",
              "  </tbody>\n",
              "</table>\n",
              "</div>"
            ],
            "text/plain": [
              "   Number of times pregnant  \\\n",
              "0                         6   \n",
              "1                         1   \n",
              "2                         8   \n",
              "3                         1   \n",
              "4                         0   \n",
              "\n",
              "   Plasma glucose concentration a 2 hours in an oral glucose tolerance test  \\\n",
              "0                                                148                          \n",
              "1                                                 85                          \n",
              "2                                                183                          \n",
              "3                                                 89                          \n",
              "4                                                137                          \n",
              "\n",
              "   Diastolic blood pressure (mm Hg)  Triceps skin fold thickness (mm)  \\\n",
              "0                                72                                35   \n",
              "1                                66                                29   \n",
              "2                                64                                 0   \n",
              "3                                66                                23   \n",
              "4                                40                                35   \n",
              "\n",
              "   2-Hour serum insulin (mu U/ml)  \\\n",
              "0                               0   \n",
              "1                               0   \n",
              "2                               0   \n",
              "3                              94   \n",
              "4                             168   \n",
              "\n",
              "   Body mass index (weight in kg/(height in m)^2)  Diabetes pedigree function  \\\n",
              "0                                       33.599998                       0.627   \n",
              "1                                       26.600000                       0.351   \n",
              "2                                       23.299999                       0.672   \n",
              "3                                       28.100000                       0.167   \n",
              "4                                       43.099998                       2.288   \n",
              "\n",
              "   Age (years)  prediction_label  prediction_score  \n",
              "0           50                 1            0.7543  \n",
              "1           31                 0            0.9552  \n",
              "2           32                 1            0.8563  \n",
              "3           21                 0            0.9649  \n",
              "4           33                 1            0.8794  "
            ]
          },
          "execution_count": 31,
          "metadata": {},
          "output_type": "execute_result"
        }
      ],
      "source": [
        "# predict model on new_data\n",
        "predictions = predict_model(best, data = new_data)\n",
        "predictions.head()"
      ]
    },
    {
      "cell_type": "code",
      "execution_count": 32,
      "metadata": {
        "colab": {
          "base_uri": "https://localhost:8080/"
        },
        "id": "3nNqHFhJyEmD",
        "outputId": "fd20c2d3-4217-4f92-e17a-7b8b7fb3e5cb"
      },
      "outputs": [
        {
          "name": "stdout",
          "output_type": "stream",
          "text": [
            "Transformation Pipeline and Model Successfully Saved\n"
          ]
        },
        {
          "data": {
            "text/plain": [
              "(Pipeline(memory=Memory(location=None),\n",
              "          steps=[('numerical_imputer',\n",
              "                  TransformerWrapper(exclude=None,\n",
              "                                     include=['Number of times pregnant',\n",
              "                                              'Plasma glucose concentration a 2 '\n",
              "                                              'hours in an oral glucose '\n",
              "                                              'tolerance test',\n",
              "                                              'Diastolic blood pressure (mm Hg)',\n",
              "                                              'Triceps skin fold thickness (mm)',\n",
              "                                              '2-Hour serum insulin (mu U/ml)',\n",
              "                                              'Body mass index (weight in '\n",
              "                                              'kg/(height in m)^2)',\n",
              "                                              'Diabetes pedigre...\n",
              "                                                               missing_values=nan,\n",
              "                                                               strategy='most_frequent'))),\n",
              "                 ('clean_column_names',\n",
              "                  TransformerWrapper(exclude=None, include=None,\n",
              "                                     transformer=CleanColumnNames(match='[\\\\]\\\\[\\\\,\\\\{\\\\}\\\\\"\\\\:]+'))),\n",
              "                 ('trained_model',\n",
              "                  LinearDiscriminantAnalysis(covariance_estimator=None,\n",
              "                                             n_components=None, priors=None,\n",
              "                                             shrinkage=None, solver='svd',\n",
              "                                             store_covariance=False,\n",
              "                                             tol=0.0001))],\n",
              "          verbose=False),\n",
              " 'my_classification_pipeline.pkl')"
            ]
          },
          "execution_count": 32,
          "metadata": {},
          "output_type": "execute_result"
        }
      ],
      "source": [
        "# save pipeline\n",
        "save_model(best, 'my_classification_pipeline')"
      ]
    },
    {
      "cell_type": "code",
      "execution_count": 33,
      "metadata": {
        "colab": {
          "base_uri": "https://localhost:8080/",
          "height": 410
        },
        "id": "aK_p6-JSyEmD",
        "outputId": "36910d3e-3ff9-4561-94c0-f86f0a645c78"
      },
      "outputs": [
        {
          "name": "stdout",
          "output_type": "stream",
          "text": [
            "Transformation Pipeline and Model Successfully Loaded\n"
          ]
        },
        {
          "data": {
            "text/html": [
              "<style>#sk-container-id-1 {\n",
              "  /* Definition of color scheme common for light and dark mode */\n",
              "  --sklearn-color-text: black;\n",
              "  --sklearn-color-line: gray;\n",
              "  /* Definition of color scheme for unfitted estimators */\n",
              "  --sklearn-color-unfitted-level-0: #fff5e6;\n",
              "  --sklearn-color-unfitted-level-1: #f6e4d2;\n",
              "  --sklearn-color-unfitted-level-2: #ffe0b3;\n",
              "  --sklearn-color-unfitted-level-3: chocolate;\n",
              "  /* Definition of color scheme for fitted estimators */\n",
              "  --sklearn-color-fitted-level-0: #f0f8ff;\n",
              "  --sklearn-color-fitted-level-1: #d4ebff;\n",
              "  --sklearn-color-fitted-level-2: #b3dbfd;\n",
              "  --sklearn-color-fitted-level-3: cornflowerblue;\n",
              "\n",
              "  /* Specific color for light theme */\n",
              "  --sklearn-color-text-on-default-background: var(--sg-text-color, var(--theme-code-foreground, var(--jp-content-font-color1, black)));\n",
              "  --sklearn-color-background: var(--sg-background-color, var(--theme-background, var(--jp-layout-color0, white)));\n",
              "  --sklearn-color-border-box: var(--sg-text-color, var(--theme-code-foreground, var(--jp-content-font-color1, black)));\n",
              "  --sklearn-color-icon: #696969;\n",
              "\n",
              "  @media (prefers-color-scheme: dark) {\n",
              "    /* Redefinition of color scheme for dark theme */\n",
              "    --sklearn-color-text-on-default-background: var(--sg-text-color, var(--theme-code-foreground, var(--jp-content-font-color1, white)));\n",
              "    --sklearn-color-background: var(--sg-background-color, var(--theme-background, var(--jp-layout-color0, #111)));\n",
              "    --sklearn-color-border-box: var(--sg-text-color, var(--theme-code-foreground, var(--jp-content-font-color1, white)));\n",
              "    --sklearn-color-icon: #878787;\n",
              "  }\n",
              "}\n",
              "\n",
              "#sk-container-id-1 {\n",
              "  color: var(--sklearn-color-text);\n",
              "}\n",
              "\n",
              "#sk-container-id-1 pre {\n",
              "  padding: 0;\n",
              "}\n",
              "\n",
              "#sk-container-id-1 input.sk-hidden--visually {\n",
              "  border: 0;\n",
              "  clip: rect(1px 1px 1px 1px);\n",
              "  clip: rect(1px, 1px, 1px, 1px);\n",
              "  height: 1px;\n",
              "  margin: -1px;\n",
              "  overflow: hidden;\n",
              "  padding: 0;\n",
              "  position: absolute;\n",
              "  width: 1px;\n",
              "}\n",
              "\n",
              "#sk-container-id-1 div.sk-dashed-wrapped {\n",
              "  border: 1px dashed var(--sklearn-color-line);\n",
              "  margin: 0 0.4em 0.5em 0.4em;\n",
              "  box-sizing: border-box;\n",
              "  padding-bottom: 0.4em;\n",
              "  background-color: var(--sklearn-color-background);\n",
              "}\n",
              "\n",
              "#sk-container-id-1 div.sk-container {\n",
              "  /* jupyter's `normalize.less` sets `[hidden] { display: none; }`\n",
              "     but bootstrap.min.css set `[hidden] { display: none !important; }`\n",
              "     so we also need the `!important` here to be able to override the\n",
              "     default hidden behavior on the sphinx rendered scikit-learn.org.\n",
              "     See: https://github.com/scikit-learn/scikit-learn/issues/21755 */\n",
              "  display: inline-block !important;\n",
              "  position: relative;\n",
              "}\n",
              "\n",
              "#sk-container-id-1 div.sk-text-repr-fallback {\n",
              "  display: none;\n",
              "}\n",
              "\n",
              "div.sk-parallel-item,\n",
              "div.sk-serial,\n",
              "div.sk-item {\n",
              "  /* draw centered vertical line to link estimators */\n",
              "  background-image: linear-gradient(var(--sklearn-color-text-on-default-background), var(--sklearn-color-text-on-default-background));\n",
              "  background-size: 2px 100%;\n",
              "  background-repeat: no-repeat;\n",
              "  background-position: center center;\n",
              "}\n",
              "\n",
              "/* Parallel-specific style estimator block */\n",
              "\n",
              "#sk-container-id-1 div.sk-parallel-item::after {\n",
              "  content: \"\";\n",
              "  width: 100%;\n",
              "  border-bottom: 2px solid var(--sklearn-color-text-on-default-background);\n",
              "  flex-grow: 1;\n",
              "}\n",
              "\n",
              "#sk-container-id-1 div.sk-parallel {\n",
              "  display: flex;\n",
              "  align-items: stretch;\n",
              "  justify-content: center;\n",
              "  background-color: var(--sklearn-color-background);\n",
              "  position: relative;\n",
              "}\n",
              "\n",
              "#sk-container-id-1 div.sk-parallel-item {\n",
              "  display: flex;\n",
              "  flex-direction: column;\n",
              "}\n",
              "\n",
              "#sk-container-id-1 div.sk-parallel-item:first-child::after {\n",
              "  align-self: flex-end;\n",
              "  width: 50%;\n",
              "}\n",
              "\n",
              "#sk-container-id-1 div.sk-parallel-item:last-child::after {\n",
              "  align-self: flex-start;\n",
              "  width: 50%;\n",
              "}\n",
              "\n",
              "#sk-container-id-1 div.sk-parallel-item:only-child::after {\n",
              "  width: 0;\n",
              "}\n",
              "\n",
              "/* Serial-specific style estimator block */\n",
              "\n",
              "#sk-container-id-1 div.sk-serial {\n",
              "  display: flex;\n",
              "  flex-direction: column;\n",
              "  align-items: center;\n",
              "  background-color: var(--sklearn-color-background);\n",
              "  padding-right: 1em;\n",
              "  padding-left: 1em;\n",
              "}\n",
              "\n",
              "\n",
              "/* Toggleable style: style used for estimator/Pipeline/ColumnTransformer box that is\n",
              "clickable and can be expanded/collapsed.\n",
              "- Pipeline and ColumnTransformer use this feature and define the default style\n",
              "- Estimators will overwrite some part of the style using the `sk-estimator` class\n",
              "*/\n",
              "\n",
              "/* Pipeline and ColumnTransformer style (default) */\n",
              "\n",
              "#sk-container-id-1 div.sk-toggleable {\n",
              "  /* Default theme specific background. It is overwritten whether we have a\n",
              "  specific estimator or a Pipeline/ColumnTransformer */\n",
              "  background-color: var(--sklearn-color-background);\n",
              "}\n",
              "\n",
              "/* Toggleable label */\n",
              "#sk-container-id-1 label.sk-toggleable__label {\n",
              "  cursor: pointer;\n",
              "  display: block;\n",
              "  width: 100%;\n",
              "  margin-bottom: 0;\n",
              "  padding: 0.5em;\n",
              "  box-sizing: border-box;\n",
              "  text-align: center;\n",
              "}\n",
              "\n",
              "#sk-container-id-1 label.sk-toggleable__label-arrow:before {\n",
              "  /* Arrow on the left of the label */\n",
              "  content: \"▸\";\n",
              "  float: left;\n",
              "  margin-right: 0.25em;\n",
              "  color: var(--sklearn-color-icon);\n",
              "}\n",
              "\n",
              "#sk-container-id-1 label.sk-toggleable__label-arrow:hover:before {\n",
              "  color: var(--sklearn-color-text);\n",
              "}\n",
              "\n",
              "/* Toggleable content - dropdown */\n",
              "\n",
              "#sk-container-id-1 div.sk-toggleable__content {\n",
              "  max-height: 0;\n",
              "  max-width: 0;\n",
              "  overflow: hidden;\n",
              "  text-align: left;\n",
              "  /* unfitted */\n",
              "  background-color: var(--sklearn-color-unfitted-level-0);\n",
              "}\n",
              "\n",
              "#sk-container-id-1 div.sk-toggleable__content.fitted {\n",
              "  /* fitted */\n",
              "  background-color: var(--sklearn-color-fitted-level-0);\n",
              "}\n",
              "\n",
              "#sk-container-id-1 div.sk-toggleable__content pre {\n",
              "  margin: 0.2em;\n",
              "  border-radius: 0.25em;\n",
              "  color: var(--sklearn-color-text);\n",
              "  /* unfitted */\n",
              "  background-color: var(--sklearn-color-unfitted-level-0);\n",
              "}\n",
              "\n",
              "#sk-container-id-1 div.sk-toggleable__content.fitted pre {\n",
              "  /* unfitted */\n",
              "  background-color: var(--sklearn-color-fitted-level-0);\n",
              "}\n",
              "\n",
              "#sk-container-id-1 input.sk-toggleable__control:checked~div.sk-toggleable__content {\n",
              "  /* Expand drop-down */\n",
              "  max-height: 200px;\n",
              "  max-width: 100%;\n",
              "  overflow: auto;\n",
              "}\n",
              "\n",
              "#sk-container-id-1 input.sk-toggleable__control:checked~label.sk-toggleable__label-arrow:before {\n",
              "  content: \"▾\";\n",
              "}\n",
              "\n",
              "/* Pipeline/ColumnTransformer-specific style */\n",
              "\n",
              "#sk-container-id-1 div.sk-label input.sk-toggleable__control:checked~label.sk-toggleable__label {\n",
              "  color: var(--sklearn-color-text);\n",
              "  background-color: var(--sklearn-color-unfitted-level-2);\n",
              "}\n",
              "\n",
              "#sk-container-id-1 div.sk-label.fitted input.sk-toggleable__control:checked~label.sk-toggleable__label {\n",
              "  background-color: var(--sklearn-color-fitted-level-2);\n",
              "}\n",
              "\n",
              "/* Estimator-specific style */\n",
              "\n",
              "/* Colorize estimator box */\n",
              "#sk-container-id-1 div.sk-estimator input.sk-toggleable__control:checked~label.sk-toggleable__label {\n",
              "  /* unfitted */\n",
              "  background-color: var(--sklearn-color-unfitted-level-2);\n",
              "}\n",
              "\n",
              "#sk-container-id-1 div.sk-estimator.fitted input.sk-toggleable__control:checked~label.sk-toggleable__label {\n",
              "  /* fitted */\n",
              "  background-color: var(--sklearn-color-fitted-level-2);\n",
              "}\n",
              "\n",
              "#sk-container-id-1 div.sk-label label.sk-toggleable__label,\n",
              "#sk-container-id-1 div.sk-label label {\n",
              "  /* The background is the default theme color */\n",
              "  color: var(--sklearn-color-text-on-default-background);\n",
              "}\n",
              "\n",
              "/* On hover, darken the color of the background */\n",
              "#sk-container-id-1 div.sk-label:hover label.sk-toggleable__label {\n",
              "  color: var(--sklearn-color-text);\n",
              "  background-color: var(--sklearn-color-unfitted-level-2);\n",
              "}\n",
              "\n",
              "/* Label box, darken color on hover, fitted */\n",
              "#sk-container-id-1 div.sk-label.fitted:hover label.sk-toggleable__label.fitted {\n",
              "  color: var(--sklearn-color-text);\n",
              "  background-color: var(--sklearn-color-fitted-level-2);\n",
              "}\n",
              "\n",
              "/* Estimator label */\n",
              "\n",
              "#sk-container-id-1 div.sk-label label {\n",
              "  font-family: monospace;\n",
              "  font-weight: bold;\n",
              "  display: inline-block;\n",
              "  line-height: 1.2em;\n",
              "}\n",
              "\n",
              "#sk-container-id-1 div.sk-label-container {\n",
              "  text-align: center;\n",
              "}\n",
              "\n",
              "/* Estimator-specific */\n",
              "#sk-container-id-1 div.sk-estimator {\n",
              "  font-family: monospace;\n",
              "  border: 1px dotted var(--sklearn-color-border-box);\n",
              "  border-radius: 0.25em;\n",
              "  box-sizing: border-box;\n",
              "  margin-bottom: 0.5em;\n",
              "  /* unfitted */\n",
              "  background-color: var(--sklearn-color-unfitted-level-0);\n",
              "}\n",
              "\n",
              "#sk-container-id-1 div.sk-estimator.fitted {\n",
              "  /* fitted */\n",
              "  background-color: var(--sklearn-color-fitted-level-0);\n",
              "}\n",
              "\n",
              "/* on hover */\n",
              "#sk-container-id-1 div.sk-estimator:hover {\n",
              "  /* unfitted */\n",
              "  background-color: var(--sklearn-color-unfitted-level-2);\n",
              "}\n",
              "\n",
              "#sk-container-id-1 div.sk-estimator.fitted:hover {\n",
              "  /* fitted */\n",
              "  background-color: var(--sklearn-color-fitted-level-2);\n",
              "}\n",
              "\n",
              "/* Specification for estimator info (e.g. \"i\" and \"?\") */\n",
              "\n",
              "/* Common style for \"i\" and \"?\" */\n",
              "\n",
              ".sk-estimator-doc-link,\n",
              "a:link.sk-estimator-doc-link,\n",
              "a:visited.sk-estimator-doc-link {\n",
              "  float: right;\n",
              "  font-size: smaller;\n",
              "  line-height: 1em;\n",
              "  font-family: monospace;\n",
              "  background-color: var(--sklearn-color-background);\n",
              "  border-radius: 1em;\n",
              "  height: 1em;\n",
              "  width: 1em;\n",
              "  text-decoration: none !important;\n",
              "  margin-left: 1ex;\n",
              "  /* unfitted */\n",
              "  border: var(--sklearn-color-unfitted-level-1) 1pt solid;\n",
              "  color: var(--sklearn-color-unfitted-level-1);\n",
              "}\n",
              "\n",
              ".sk-estimator-doc-link.fitted,\n",
              "a:link.sk-estimator-doc-link.fitted,\n",
              "a:visited.sk-estimator-doc-link.fitted {\n",
              "  /* fitted */\n",
              "  border: var(--sklearn-color-fitted-level-1) 1pt solid;\n",
              "  color: var(--sklearn-color-fitted-level-1);\n",
              "}\n",
              "\n",
              "/* On hover */\n",
              "div.sk-estimator:hover .sk-estimator-doc-link:hover,\n",
              ".sk-estimator-doc-link:hover,\n",
              "div.sk-label-container:hover .sk-estimator-doc-link:hover,\n",
              ".sk-estimator-doc-link:hover {\n",
              "  /* unfitted */\n",
              "  background-color: var(--sklearn-color-unfitted-level-3);\n",
              "  color: var(--sklearn-color-background);\n",
              "  text-decoration: none;\n",
              "}\n",
              "\n",
              "div.sk-estimator.fitted:hover .sk-estimator-doc-link.fitted:hover,\n",
              ".sk-estimator-doc-link.fitted:hover,\n",
              "div.sk-label-container:hover .sk-estimator-doc-link.fitted:hover,\n",
              ".sk-estimator-doc-link.fitted:hover {\n",
              "  /* fitted */\n",
              "  background-color: var(--sklearn-color-fitted-level-3);\n",
              "  color: var(--sklearn-color-background);\n",
              "  text-decoration: none;\n",
              "}\n",
              "\n",
              "/* Span, style for the box shown on hovering the info icon */\n",
              ".sk-estimator-doc-link span {\n",
              "  display: none;\n",
              "  z-index: 9999;\n",
              "  position: relative;\n",
              "  font-weight: normal;\n",
              "  right: .2ex;\n",
              "  padding: .5ex;\n",
              "  margin: .5ex;\n",
              "  width: min-content;\n",
              "  min-width: 20ex;\n",
              "  max-width: 50ex;\n",
              "  color: var(--sklearn-color-text);\n",
              "  box-shadow: 2pt 2pt 4pt #999;\n",
              "  /* unfitted */\n",
              "  background: var(--sklearn-color-unfitted-level-0);\n",
              "  border: .5pt solid var(--sklearn-color-unfitted-level-3);\n",
              "}\n",
              "\n",
              ".sk-estimator-doc-link.fitted span {\n",
              "  /* fitted */\n",
              "  background: var(--sklearn-color-fitted-level-0);\n",
              "  border: var(--sklearn-color-fitted-level-3);\n",
              "}\n",
              "\n",
              ".sk-estimator-doc-link:hover span {\n",
              "  display: block;\n",
              "}\n",
              "\n",
              "/* \"?\"-specific style due to the `<a>` HTML tag */\n",
              "\n",
              "#sk-container-id-1 a.estimator_doc_link {\n",
              "  float: right;\n",
              "  font-size: 1rem;\n",
              "  line-height: 1em;\n",
              "  font-family: monospace;\n",
              "  background-color: var(--sklearn-color-background);\n",
              "  border-radius: 1rem;\n",
              "  height: 1rem;\n",
              "  width: 1rem;\n",
              "  text-decoration: none;\n",
              "  /* unfitted */\n",
              "  color: var(--sklearn-color-unfitted-level-1);\n",
              "  border: var(--sklearn-color-unfitted-level-1) 1pt solid;\n",
              "}\n",
              "\n",
              "#sk-container-id-1 a.estimator_doc_link.fitted {\n",
              "  /* fitted */\n",
              "  border: var(--sklearn-color-fitted-level-1) 1pt solid;\n",
              "  color: var(--sklearn-color-fitted-level-1);\n",
              "}\n",
              "\n",
              "/* On hover */\n",
              "#sk-container-id-1 a.estimator_doc_link:hover {\n",
              "  /* unfitted */\n",
              "  background-color: var(--sklearn-color-unfitted-level-3);\n",
              "  color: var(--sklearn-color-background);\n",
              "  text-decoration: none;\n",
              "}\n",
              "\n",
              "#sk-container-id-1 a.estimator_doc_link.fitted:hover {\n",
              "  /* fitted */\n",
              "  background-color: var(--sklearn-color-fitted-level-3);\n",
              "}\n",
              "</style><div id=\"sk-container-id-1\" class=\"sk-top-container\"><div class=\"sk-text-repr-fallback\"><pre>Pipeline(memory=FastMemory(location=/var/folders/j4/0lv7gs9s385byhj07wh6tch40000gp/T/joblib),\n",
              "         steps=[(&#x27;numerical_imputer&#x27;,\n",
              "                 TransformerWrapper(exclude=None,\n",
              "                                    include=[&#x27;Number of times pregnant&#x27;,\n",
              "                                             &#x27;Plasma glucose concentration a 2 &#x27;\n",
              "                                             &#x27;hours in an oral glucose &#x27;\n",
              "                                             &#x27;tolerance test&#x27;,\n",
              "                                             &#x27;Diastolic blood pressure (mm Hg)&#x27;,\n",
              "                                             &#x27;Triceps skin fold thickness (mm)&#x27;,\n",
              "                                             &#x27;2-Hour serum insulin (mu U/ml)&#x27;,\n",
              "                                             &#x27;Body...\n",
              "                                                              missing_values=nan,\n",
              "                                                              strategy=&#x27;most_frequent&#x27;))),\n",
              "                (&#x27;clean_column_names&#x27;,\n",
              "                 TransformerWrapper(exclude=None, include=None,\n",
              "                                    transformer=CleanColumnNames(match=&#x27;[\\\\]\\\\[\\\\,\\\\{\\\\}\\\\&quot;\\\\:]+&#x27;))),\n",
              "                (&#x27;trained_model&#x27;,\n",
              "                 LinearDiscriminantAnalysis(covariance_estimator=None,\n",
              "                                            n_components=None, priors=None,\n",
              "                                            shrinkage=None, solver=&#x27;svd&#x27;,\n",
              "                                            store_covariance=False,\n",
              "                                            tol=0.0001))],\n",
              "         verbose=False)</pre><b>In a Jupyter environment, please rerun this cell to show the HTML representation or trust the notebook. <br />On GitHub, the HTML representation is unable to render, please try loading this page with nbviewer.org.</b></div><div class=\"sk-container\" hidden><div class=\"sk-item sk-dashed-wrapped\"><div class=\"sk-label-container\"><div class=\"sk-label fitted sk-toggleable\"><input class=\"sk-toggleable__control sk-hidden--visually\" id=\"sk-estimator-id-1\" type=\"checkbox\" ><label for=\"sk-estimator-id-1\" class=\"sk-toggleable__label fitted sk-toggleable__label-arrow fitted\">&nbsp;Pipeline<span class=\"sk-estimator-doc-link fitted\">i<span>Fitted</span></span></label><div class=\"sk-toggleable__content fitted\"><pre>Pipeline(memory=FastMemory(location=/var/folders/j4/0lv7gs9s385byhj07wh6tch40000gp/T/joblib),\n",
              "         steps=[(&#x27;numerical_imputer&#x27;,\n",
              "                 TransformerWrapper(exclude=None,\n",
              "                                    include=[&#x27;Number of times pregnant&#x27;,\n",
              "                                             &#x27;Plasma glucose concentration a 2 &#x27;\n",
              "                                             &#x27;hours in an oral glucose &#x27;\n",
              "                                             &#x27;tolerance test&#x27;,\n",
              "                                             &#x27;Diastolic blood pressure (mm Hg)&#x27;,\n",
              "                                             &#x27;Triceps skin fold thickness (mm)&#x27;,\n",
              "                                             &#x27;2-Hour serum insulin (mu U/ml)&#x27;,\n",
              "                                             &#x27;Body...\n",
              "                                                              missing_values=nan,\n",
              "                                                              strategy=&#x27;most_frequent&#x27;))),\n",
              "                (&#x27;clean_column_names&#x27;,\n",
              "                 TransformerWrapper(exclude=None, include=None,\n",
              "                                    transformer=CleanColumnNames(match=&#x27;[\\\\]\\\\[\\\\,\\\\{\\\\}\\\\&quot;\\\\:]+&#x27;))),\n",
              "                (&#x27;trained_model&#x27;,\n",
              "                 LinearDiscriminantAnalysis(covariance_estimator=None,\n",
              "                                            n_components=None, priors=None,\n",
              "                                            shrinkage=None, solver=&#x27;svd&#x27;,\n",
              "                                            store_covariance=False,\n",
              "                                            tol=0.0001))],\n",
              "         verbose=False)</pre></div> </div></div><div class=\"sk-serial\"><div class=\"sk-item sk-dashed-wrapped\"><div class=\"sk-label-container\"><div class=\"sk-label fitted sk-toggleable\"><input class=\"sk-toggleable__control sk-hidden--visually\" id=\"sk-estimator-id-2\" type=\"checkbox\" ><label for=\"sk-estimator-id-2\" class=\"sk-toggleable__label fitted sk-toggleable__label-arrow fitted\">numerical_imputer: TransformerWrapper</label><div class=\"sk-toggleable__content fitted\"><pre>TransformerWrapper(exclude=None,\n",
              "                   include=[&#x27;Number of times pregnant&#x27;,\n",
              "                            &#x27;Plasma glucose concentration a 2 hours in an oral &#x27;\n",
              "                            &#x27;glucose tolerance test&#x27;,\n",
              "                            &#x27;Diastolic blood pressure (mm Hg)&#x27;,\n",
              "                            &#x27;Triceps skin fold thickness (mm)&#x27;,\n",
              "                            &#x27;2-Hour serum insulin (mu U/ml)&#x27;,\n",
              "                            &#x27;Body mass index (weight in kg/(height in m)^2)&#x27;,\n",
              "                            &#x27;Diabetes pedigree function&#x27;, &#x27;Age (years)&#x27;],\n",
              "                   transformer=SimpleImputer(add_indicator=False, copy=True,\n",
              "                                             fill_value=None,\n",
              "                                             keep_empty_features=False,\n",
              "                                             missing_values=nan,\n",
              "                                             strategy=&#x27;mean&#x27;))</pre></div> </div></div><div class=\"sk-parallel\"><div class=\"sk-parallel-item\"><div class=\"sk-item\"><div class=\"sk-label-container\"><div class=\"sk-label fitted sk-toggleable\"><input class=\"sk-toggleable__control sk-hidden--visually\" id=\"sk-estimator-id-3\" type=\"checkbox\" ><label for=\"sk-estimator-id-3\" class=\"sk-toggleable__label fitted sk-toggleable__label-arrow fitted\">transformer: SimpleImputer</label><div class=\"sk-toggleable__content fitted\"><pre>SimpleImputer()</pre></div> </div></div><div class=\"sk-serial\"><div class=\"sk-item\"><div class=\"sk-estimator fitted sk-toggleable\"><input class=\"sk-toggleable__control sk-hidden--visually\" id=\"sk-estimator-id-4\" type=\"checkbox\" ><label for=\"sk-estimator-id-4\" class=\"sk-toggleable__label fitted sk-toggleable__label-arrow fitted\">&nbsp;SimpleImputer<a class=\"sk-estimator-doc-link fitted\" rel=\"noreferrer\" target=\"_blank\" href=\"https://scikit-learn.org/1.4/modules/generated/sklearn.impute.SimpleImputer.html\">?<span>Documentation for SimpleImputer</span></a></label><div class=\"sk-toggleable__content fitted\"><pre>SimpleImputer()</pre></div> </div></div></div></div></div></div></div><div class=\"sk-item sk-dashed-wrapped\"><div class=\"sk-label-container\"><div class=\"sk-label fitted sk-toggleable\"><input class=\"sk-toggleable__control sk-hidden--visually\" id=\"sk-estimator-id-5\" type=\"checkbox\" ><label for=\"sk-estimator-id-5\" class=\"sk-toggleable__label fitted sk-toggleable__label-arrow fitted\">categorical_imputer: TransformerWrapper</label><div class=\"sk-toggleable__content fitted\"><pre>TransformerWrapper(exclude=None, include=[],\n",
              "                   transformer=SimpleImputer(add_indicator=False, copy=True,\n",
              "                                             fill_value=None,\n",
              "                                             keep_empty_features=False,\n",
              "                                             missing_values=nan,\n",
              "                                             strategy=&#x27;most_frequent&#x27;))</pre></div> </div></div><div class=\"sk-parallel\"><div class=\"sk-parallel-item\"><div class=\"sk-item\"><div class=\"sk-label-container\"><div class=\"sk-label fitted sk-toggleable\"><input class=\"sk-toggleable__control sk-hidden--visually\" id=\"sk-estimator-id-6\" type=\"checkbox\" ><label for=\"sk-estimator-id-6\" class=\"sk-toggleable__label fitted sk-toggleable__label-arrow fitted\">transformer: SimpleImputer</label><div class=\"sk-toggleable__content fitted\"><pre>SimpleImputer(strategy=&#x27;most_frequent&#x27;)</pre></div> </div></div><div class=\"sk-serial\"><div class=\"sk-item\"><div class=\"sk-estimator fitted sk-toggleable\"><input class=\"sk-toggleable__control sk-hidden--visually\" id=\"sk-estimator-id-7\" type=\"checkbox\" ><label for=\"sk-estimator-id-7\" class=\"sk-toggleable__label fitted sk-toggleable__label-arrow fitted\">&nbsp;SimpleImputer<a class=\"sk-estimator-doc-link fitted\" rel=\"noreferrer\" target=\"_blank\" href=\"https://scikit-learn.org/1.4/modules/generated/sklearn.impute.SimpleImputer.html\">?<span>Documentation for SimpleImputer</span></a></label><div class=\"sk-toggleable__content fitted\"><pre>SimpleImputer(strategy=&#x27;most_frequent&#x27;)</pre></div> </div></div></div></div></div></div></div><div class=\"sk-item sk-dashed-wrapped\"><div class=\"sk-label-container\"><div class=\"sk-label fitted sk-toggleable\"><input class=\"sk-toggleable__control sk-hidden--visually\" id=\"sk-estimator-id-8\" type=\"checkbox\" ><label for=\"sk-estimator-id-8\" class=\"sk-toggleable__label fitted sk-toggleable__label-arrow fitted\">clean_column_names: TransformerWrapper</label><div class=\"sk-toggleable__content fitted\"><pre>TransformerWrapper(exclude=None, include=None,\n",
              "                   transformer=CleanColumnNames(match=&#x27;[\\\\]\\\\[\\\\,\\\\{\\\\}\\\\&quot;\\\\:]+&#x27;))</pre></div> </div></div><div class=\"sk-parallel\"><div class=\"sk-parallel-item\"><div class=\"sk-item\"><div class=\"sk-label-container\"><div class=\"sk-label fitted sk-toggleable\"><input class=\"sk-toggleable__control sk-hidden--visually\" id=\"sk-estimator-id-9\" type=\"checkbox\" ><label for=\"sk-estimator-id-9\" class=\"sk-toggleable__label fitted sk-toggleable__label-arrow fitted\">transformer: CleanColumnNames</label><div class=\"sk-toggleable__content fitted\"><pre>CleanColumnNames()</pre></div> </div></div><div class=\"sk-serial\"><div class=\"sk-item\"><div class=\"sk-estimator fitted sk-toggleable\"><input class=\"sk-toggleable__control sk-hidden--visually\" id=\"sk-estimator-id-10\" type=\"checkbox\" ><label for=\"sk-estimator-id-10\" class=\"sk-toggleable__label fitted sk-toggleable__label-arrow fitted\">CleanColumnNames</label><div class=\"sk-toggleable__content fitted\"><pre>CleanColumnNames()</pre></div> </div></div></div></div></div></div></div><div class=\"sk-item\"><div class=\"sk-estimator fitted sk-toggleable\"><input class=\"sk-toggleable__control sk-hidden--visually\" id=\"sk-estimator-id-11\" type=\"checkbox\" ><label for=\"sk-estimator-id-11\" class=\"sk-toggleable__label fitted sk-toggleable__label-arrow fitted\">&nbsp;LinearDiscriminantAnalysis<a class=\"sk-estimator-doc-link fitted\" rel=\"noreferrer\" target=\"_blank\" href=\"https://scikit-learn.org/1.4/modules/generated/sklearn.discriminant_analysis.LinearDiscriminantAnalysis.html\">?<span>Documentation for LinearDiscriminantAnalysis</span></a></label><div class=\"sk-toggleable__content fitted\"><pre>LinearDiscriminantAnalysis()</pre></div> </div></div></div></div></div></div>"
            ],
            "text/plain": [
              "Pipeline(memory=FastMemory(location=/var/folders/j4/0lv7gs9s385byhj07wh6tch40000gp/T/joblib),\n",
              "         steps=[('numerical_imputer',\n",
              "                 TransformerWrapper(exclude=None,\n",
              "                                    include=['Number of times pregnant',\n",
              "                                             'Plasma glucose concentration a 2 '\n",
              "                                             'hours in an oral glucose '\n",
              "                                             'tolerance test',\n",
              "                                             'Diastolic blood pressure (mm Hg)',\n",
              "                                             'Triceps skin fold thickness (mm)',\n",
              "                                             '2-Hour serum insulin (mu U/ml)',\n",
              "                                             'Body...\n",
              "                                                              missing_values=nan,\n",
              "                                                              strategy='most_frequent'))),\n",
              "                ('clean_column_names',\n",
              "                 TransformerWrapper(exclude=None, include=None,\n",
              "                                    transformer=CleanColumnNames(match='[\\\\]\\\\[\\\\,\\\\{\\\\}\\\\\"\\\\:]+'))),\n",
              "                ('trained_model',\n",
              "                 LinearDiscriminantAnalysis(covariance_estimator=None,\n",
              "                                            n_components=None, priors=None,\n",
              "                                            shrinkage=None, solver='svd',\n",
              "                                            store_covariance=False,\n",
              "                                            tol=0.0001))],\n",
              "         verbose=False)"
            ]
          },
          "execution_count": 33,
          "metadata": {},
          "output_type": "execute_result"
        }
      ],
      "source": [
        "# load pipeline\n",
        "loaded_best_pipeline = load_model('my_classification_pipeline')\n",
        "loaded_best_pipeline"
      ]
    },
    {
      "cell_type": "markdown",
      "metadata": {
        "id": "Gxj_nh23yEmD"
      },
      "source": [
        "### 4.3.1 Rethinking Assignment 2.2: Logistic Regression"
      ]
    },
    {
      "cell_type": "markdown",
      "metadata": {
        "id": "IbR5B5QKyEmD"
      },
      "source": [
        "In the original assignment, you used pumpkin data, cleaned and standardized, to build a Logistic Regression model in a Jupyter notebook. You have evaluated your model manually by a confusion matrix and the ROC curve. The results were as follows."
      ]
    },
    {
      "cell_type": "markdown",
      "metadata": {
        "id": "UvkDAOvkyEmD"
      },
      "source": [
        "\n",
        "#### 2.2 Logistic Regression results (16)\n",
        "<table id=\"org22c40f0\" border=\"2\" cellspacing=\"0\" cellpadding=\"6\" rules=\"groups\" frame=\"hsides\">\n",
        "<caption class=\"t-above\"><span class=\"table-number\">Table 1:</span> where EDA:= Exploratory Data Analysis, CFM: Confusion Matric</caption>\n",
        "\n",
        "<colgroup>\n",
        "<col  class=\"org-left\" />\n",
        "\n",
        "<col  class=\"org-left\" />\n",
        "\n",
        "<col  class=\"org-left\" />\n",
        "\n",
        "<col  class=\"org-left\" />\n",
        "\n",
        "<col  class=\"org-left\" />\n",
        "</colgroup>\n",
        "<thead>\n",
        "<tr>\n",
        "<th scope=\"col\" class=\"org-left\">Name</th>\n",
        "<th scope=\"col\" class=\"org-left\">Description</th>\n",
        "<th scope=\"col\" class=\"org-left\">EDA</th>\n",
        "<th scope=\"col\" class=\"org-left\">CFM</th>\n",
        "<th scope=\"col\" class=\"org-left\">ROC</th>\n",
        "</tr>\n",
        "</thead>\n",
        "\n",
        "<tbody>\n",
        "<tr>\n",
        "<td class=\"org-left\">ERZS</td>\n",
        "<td class=\"org-left\">.</td>\n",
        "<td class=\"org-left\">&#xa0;</td>\n",
        "<td class=\"org-left\">&#xa0;</td>\n",
        "<td class=\"org-left\">&#xa0;</td>\n",
        "</tr>\n",
        "\n",
        "\n",
        "<tr>\n",
        "<td class=\"org-left\">JACQ</td>\n",
        "<td class=\"org-left\">Great data exploration (VAR,DAT,PRI:CLR)</td>\n",
        "<td class=\"org-left\">A+</td>\n",
        "<td class=\"org-left\">A+</td>\n",
        "<td class=\"org-left\">A+</td>\n",
        "</tr>\n",
        "\n",
        "\n",
        "<tr>\n",
        "<td class=\"org-left\">JORG</td>\n",
        "<td class=\"org-left\">Interesting: West/East USA, data <a href=\"https://paperswithcode.com/task/imputation\">imputation</a>, balance check, F1 score 0.6946, its meaning %70 accuracy</td>\n",
        "<td class=\"org-left\"><del><del>+</del></del></td>\n",
        "<td class=\"org-left\">?</td>\n",
        "<td class=\"org-left\">?</td>\n",
        "</tr>\n",
        "\n",
        "\n",
        "<tr>\n",
        "<td class=\"org-left\">JULW</td>\n",
        "<td class=\"org-left\">Color only? Test score: 0.9736. Data Imbalance in the CFM? ROC shape - region?</td>\n",
        "<td class=\"org-left\">C</td>\n",
        "<td class=\"org-left\">B</td>\n",
        "<td class=\"org-left\">B</td>\n",
        "</tr>\n",
        "\n",
        "\n",
        "<tr>\n",
        "<td class=\"org-left\">KREB</td>\n",
        "<td class=\"org-left\">Similar to JULW.</td>\n",
        "<td class=\"org-left\">C</td>\n",
        "<td class=\"org-left\">B</td>\n",
        "<td class=\"org-left\">B</td>\n",
        "</tr>\n",
        "\n",
        "\n",
        "<tr>\n",
        "<td class=\"org-left\">LEOR</td>\n",
        "<td class=\"org-left\">Variety(Color): ordinal encoding. F1-score:  0.676. Data Imbalance CFM. ROC always goes from 0 to 1</td>\n",
        "<td class=\"org-left\">B</td>\n",
        "<td class=\"org-left\">A</td>\n",
        "<td class=\"org-left\">B</td>\n",
        "</tr>\n",
        "\n",
        "\n",
        "<tr>\n",
        "<td class=\"org-left\">LUGR</td>\n",
        "<td class=\"org-left\">Better explanation metrics, Acc: 0.857, Data imbalance CFM (only 3 TN, but viz). ROC shape, value?</td>\n",
        "<td class=\"org-left\">B+</td>\n",
        "<td class=\"org-left\">A</td>\n",
        "<td class=\"org-left\">B</td>\n",
        "</tr>\n",
        "\n",
        "\n",
        "<tr>\n",
        "<td class=\"org-left\">LuLN</td>\n",
        "<td class=\"org-left\">Same (could have at least change seed )</td>\n",
        "<td class=\"org-left\">B+</td>\n",
        "<td class=\"org-left\">A</td>\n",
        "<td class=\"org-left\">B</td>\n",
        "</tr>\n",
        "\n",
        "\n",
        "<tr>\n",
        "<td class=\"org-left\">MaAN</td>\n",
        "<td class=\"org-left\">Can't read data</td>\n",
        "<td class=\"org-left\">-</td>\n",
        "<td class=\"org-left\">-</td>\n",
        "<td class=\"org-left\">-</td>\n",
        "</tr>\n",
        "\n",
        "\n",
        "<tr>\n",
        "<td class=\"org-left\">MaJM</td>\n",
        "<td class=\"org-left\">OK Experimentation, CF very skewed, ROC seems wrong (<b>intersect</b>), %90 split may be too much</td>\n",
        "<td class=\"org-left\">B</td>\n",
        "<td class=\"org-left\">B</td>\n",
        "<td class=\"org-left\">B</td>\n",
        "</tr>\n",
        "\n",
        "\n",
        "<tr>\n",
        "<td class=\"org-left\">MikL</td>\n",
        "<td class=\"org-left\">Excellent! lambda, Size-Price Correlation: 0.394, MultiD Correlation tensor, only ROC with Size-Price</td>\n",
        "<td class=\"org-left\">A</td>\n",
        "<td class=\"org-left\">A</td>\n",
        "<td class=\"org-left\">-</td>\n",
        "</tr>\n",
        "\n",
        "\n",
        "<tr>\n",
        "<td class=\"org-left\">MorJ</td>\n",
        "<td class=\"org-left\">Good. Color estimation with <i>all</i> features is a bit boring, CFM still skweded, ROC strange.</td>\n",
        "<td class=\"org-left\">A-</td>\n",
        "<td class=\"org-left\">A-</td>\n",
        "<td class=\"org-left\">A-</td>\n",
        "</tr>\n",
        "\n",
        "\n",
        "<tr>\n",
        "<td class=\"org-left\">NicL</td>\n",
        "<td class=\"org-left\">Same</td>\n",
        "<td class=\"org-left\">B+</td>\n",
        "<td class=\"org-left\">A</td>\n",
        "<td class=\"org-left\">B</td>\n",
        "</tr>\n",
        "\n",
        "\n",
        "<tr>\n",
        "<td class=\"org-left\">PabA</td>\n",
        "<td class=\"org-left\">Great data exploration (Cheap, Expensive): Potential data leakage. Perfect F1: 100 %</td>\n",
        "<td class=\"org-left\">A+</td>\n",
        "<td class=\"org-left\">A+</td>\n",
        "<td class=\"org-left\">A+</td>\n",
        "</tr>\n",
        "\n",
        "\n",
        "<tr>\n",
        "<td class=\"org-left\">RoxP</td>\n",
        "<td class=\"org-left\">Item Size / Color good. CFM has 0 TN. Plots interrupted. ROC curve did not work. Would TA work improve?</td>\n",
        "<td class=\"org-left\">-</td>\n",
        "<td class=\"org-left\">-</td>\n",
        "<td class=\"org-left\">-</td>\n",
        "</tr>\n",
        "\n",
        "\n",
        "<tr>\n",
        "<td class=\"org-left\">&#xa0;</td>\n",
        "<td class=\"org-left\">Interesting Regression experiments with pumpkin data: Nice.</td>\n",
        "<td class=\"org-left\">&#xa0;</td>\n",
        "<td class=\"org-left\">&#xa0;</td>\n",
        "<td class=\"org-left\">&#xa0;</td>\n",
        "</tr>\n",
        "\n",
        "\n",
        "<tr>\n",
        "<td class=\"org-left\">TobL</td>\n",
        "<td class=\"org-left\">VAR(['Color', 'High Price', 'Item Size']) is challenging, good. Great multi-ROC. Professional work!</td>\n",
        "<td class=\"org-left\">A+</td>\n",
        "<td class=\"org-left\">A+</td>\n",
        "<td class=\"org-left\">A+</td>\n",
        "</tr>\n",
        "\n",
        "\n",
        "<tr>\n",
        "<td class=\"org-left\">TonD</td>\n",
        "<td class=\"org-left\">VAR(Interpolated Package &amp; Prices). Too bad with the ValueError 5 log_reg.fit(X_train, y_train) error.</td>\n",
        "<td class=\"org-left\">A</td>\n",
        "<td class=\"org-left\">-</td>\n",
        "<td class=\"org-left\">-</td>\n",
        "</tr>\n",
        "\n",
        "\n",
        "<tr>\n",
        "<td class=\"org-left\">&#xa0;</td>\n",
        "<td class=\"org-left\">You could probably subtract the min (negative) value, and ceil to have discrete VAR target.</td>\n",
        "<td class=\"org-left\">&#xa0;</td>\n",
        "<td class=\"org-left\">&#xa0;</td>\n",
        "<td class=\"org-left\">&#xa0;</td>\n",
        "</tr>\n",
        "\n",
        "\n",
        "<tr>\n",
        "<td class=\"org-left\">ZuzT</td>\n",
        "<td class=\"org-left\">Nice start and good idea to experiment with <code>ColumnTransformer</code>, did you fix the error with TA?</td>\n",
        "<td class=\"org-left\">&#xa0;</td>\n",
        "<td class=\"org-left\">&#xa0;</td>\n",
        "<td class=\"org-left\">&#xa0;</td>\n",
        "</tr>\n",
        "</tbody>\n",
        "</table>\n",
        "\n"
      ]
    },
    {
      "cell_type": "markdown",
      "metadata": {
        "id": "MVxYt0OqyEmD"
      },
      "source": [
        "#### Assignment 2.2 In PyCaret\n",
        "\n",
        "Can you use PyCaret for re-solving the Assignment 2.2? Fill out the starter cell below, after Tobias Larsen's assignment 2.2"
      ]
    },
    {
      "cell_type": "code",
      "execution_count": 34,
      "metadata": {
        "colab": {
          "base_uri": "https://localhost:8080/",
          "height": 377
        },
        "id": "Zoa50_cWyEmD",
        "outputId": "390f9cb7-ccec-4df7-eaca-bf4ab7190fa4"
      },
      "outputs": [
        {
          "data": {
            "application/vnd.microsoft.datawrangler.viewer.v0+json": {
              "columns": [
                {
                  "name": "index",
                  "rawType": "int64",
                  "type": "integer"
                },
                {
                  "name": "City Name",
                  "rawType": "object",
                  "type": "string"
                },
                {
                  "name": "Type",
                  "rawType": "object",
                  "type": "unknown"
                },
                {
                  "name": "Package",
                  "rawType": "object",
                  "type": "string"
                },
                {
                  "name": "Variety",
                  "rawType": "object",
                  "type": "unknown"
                },
                {
                  "name": "Sub Variety",
                  "rawType": "object",
                  "type": "unknown"
                },
                {
                  "name": "Grade",
                  "rawType": "float64",
                  "type": "float"
                },
                {
                  "name": "Date",
                  "rawType": "object",
                  "type": "string"
                },
                {
                  "name": "Low Price",
                  "rawType": "float64",
                  "type": "float"
                },
                {
                  "name": "High Price",
                  "rawType": "float64",
                  "type": "float"
                },
                {
                  "name": "Mostly Low",
                  "rawType": "float64",
                  "type": "float"
                },
                {
                  "name": "Mostly High",
                  "rawType": "float64",
                  "type": "float"
                },
                {
                  "name": "Origin",
                  "rawType": "object",
                  "type": "string"
                },
                {
                  "name": "Origin District",
                  "rawType": "object",
                  "type": "unknown"
                },
                {
                  "name": "Item Size",
                  "rawType": "object",
                  "type": "string"
                },
                {
                  "name": "Color",
                  "rawType": "object",
                  "type": "unknown"
                },
                {
                  "name": "Environment",
                  "rawType": "float64",
                  "type": "float"
                },
                {
                  "name": "Unit of Sale",
                  "rawType": "object",
                  "type": "unknown"
                },
                {
                  "name": "Quality",
                  "rawType": "float64",
                  "type": "float"
                },
                {
                  "name": "Condition",
                  "rawType": "float64",
                  "type": "float"
                },
                {
                  "name": "Appearance",
                  "rawType": "float64",
                  "type": "float"
                },
                {
                  "name": "Storage",
                  "rawType": "float64",
                  "type": "float"
                },
                {
                  "name": "Crop",
                  "rawType": "float64",
                  "type": "float"
                },
                {
                  "name": "Repack",
                  "rawType": "object",
                  "type": "string"
                },
                {
                  "name": "Trans Mode",
                  "rawType": "float64",
                  "type": "float"
                },
                {
                  "name": "Unnamed: 24",
                  "rawType": "float64",
                  "type": "float"
                },
                {
                  "name": "Unnamed: 25",
                  "rawType": "object",
                  "type": "unknown"
                }
              ],
              "ref": "faf5c698-db88-4ce6-9760-e8a5823b9793",
              "rows": [
                [
                  "0",
                  "BALTIMORE",
                  null,
                  "24 inch bins",
                  null,
                  null,
                  null,
                  "4/29/17",
                  "270.0",
                  "280.0",
                  "270.0",
                  "280.0",
                  "MARYLAND",
                  null,
                  "lge",
                  null,
                  null,
                  null,
                  null,
                  null,
                  null,
                  null,
                  null,
                  "E",
                  null,
                  null,
                  null
                ],
                [
                  "1",
                  "BALTIMORE",
                  null,
                  "24 inch bins",
                  null,
                  null,
                  null,
                  "5/6/17",
                  "270.0",
                  "280.0",
                  "270.0",
                  "280.0",
                  "MARYLAND",
                  null,
                  "lge",
                  null,
                  null,
                  null,
                  null,
                  null,
                  null,
                  null,
                  null,
                  "E",
                  null,
                  null,
                  null
                ],
                [
                  "2",
                  "BALTIMORE",
                  null,
                  "24 inch bins",
                  "HOWDEN TYPE",
                  null,
                  null,
                  "9/24/16",
                  "160.0",
                  "160.0",
                  "160.0",
                  "160.0",
                  "DELAWARE",
                  null,
                  "med",
                  "ORANGE",
                  null,
                  null,
                  null,
                  null,
                  null,
                  null,
                  null,
                  "N",
                  null,
                  null,
                  null
                ],
                [
                  "3",
                  "BALTIMORE",
                  null,
                  "24 inch bins",
                  "HOWDEN TYPE",
                  null,
                  null,
                  "9/24/16",
                  "160.0",
                  "160.0",
                  "160.0",
                  "160.0",
                  "VIRGINIA",
                  null,
                  "med",
                  "ORANGE",
                  null,
                  null,
                  null,
                  null,
                  null,
                  null,
                  null,
                  "N",
                  null,
                  null,
                  null
                ],
                [
                  "4",
                  "BALTIMORE",
                  null,
                  "24 inch bins",
                  "HOWDEN TYPE",
                  null,
                  null,
                  "11/5/16",
                  "90.0",
                  "100.0",
                  "90.0",
                  "100.0",
                  "MARYLAND",
                  null,
                  "lge",
                  "ORANGE",
                  null,
                  null,
                  null,
                  null,
                  null,
                  null,
                  null,
                  "N",
                  null,
                  null,
                  null
                ]
              ],
              "shape": {
                "columns": 26,
                "rows": 5
              }
            },
            "text/html": [
              "<div>\n",
              "<style scoped>\n",
              "    .dataframe tbody tr th:only-of-type {\n",
              "        vertical-align: middle;\n",
              "    }\n",
              "\n",
              "    .dataframe tbody tr th {\n",
              "        vertical-align: top;\n",
              "    }\n",
              "\n",
              "    .dataframe thead th {\n",
              "        text-align: right;\n",
              "    }\n",
              "</style>\n",
              "<table border=\"1\" class=\"dataframe\">\n",
              "  <thead>\n",
              "    <tr style=\"text-align: right;\">\n",
              "      <th></th>\n",
              "      <th>City Name</th>\n",
              "      <th>Type</th>\n",
              "      <th>Package</th>\n",
              "      <th>Variety</th>\n",
              "      <th>Sub Variety</th>\n",
              "      <th>Grade</th>\n",
              "      <th>Date</th>\n",
              "      <th>Low Price</th>\n",
              "      <th>High Price</th>\n",
              "      <th>Mostly Low</th>\n",
              "      <th>...</th>\n",
              "      <th>Unit of Sale</th>\n",
              "      <th>Quality</th>\n",
              "      <th>Condition</th>\n",
              "      <th>Appearance</th>\n",
              "      <th>Storage</th>\n",
              "      <th>Crop</th>\n",
              "      <th>Repack</th>\n",
              "      <th>Trans Mode</th>\n",
              "      <th>Unnamed: 24</th>\n",
              "      <th>Unnamed: 25</th>\n",
              "    </tr>\n",
              "  </thead>\n",
              "  <tbody>\n",
              "    <tr>\n",
              "      <th>0</th>\n",
              "      <td>BALTIMORE</td>\n",
              "      <td>NaN</td>\n",
              "      <td>24 inch bins</td>\n",
              "      <td>NaN</td>\n",
              "      <td>NaN</td>\n",
              "      <td>NaN</td>\n",
              "      <td>4/29/17</td>\n",
              "      <td>270.0</td>\n",
              "      <td>280.0</td>\n",
              "      <td>270.0</td>\n",
              "      <td>...</td>\n",
              "      <td>NaN</td>\n",
              "      <td>NaN</td>\n",
              "      <td>NaN</td>\n",
              "      <td>NaN</td>\n",
              "      <td>NaN</td>\n",
              "      <td>NaN</td>\n",
              "      <td>E</td>\n",
              "      <td>NaN</td>\n",
              "      <td>NaN</td>\n",
              "      <td>NaN</td>\n",
              "    </tr>\n",
              "    <tr>\n",
              "      <th>1</th>\n",
              "      <td>BALTIMORE</td>\n",
              "      <td>NaN</td>\n",
              "      <td>24 inch bins</td>\n",
              "      <td>NaN</td>\n",
              "      <td>NaN</td>\n",
              "      <td>NaN</td>\n",
              "      <td>5/6/17</td>\n",
              "      <td>270.0</td>\n",
              "      <td>280.0</td>\n",
              "      <td>270.0</td>\n",
              "      <td>...</td>\n",
              "      <td>NaN</td>\n",
              "      <td>NaN</td>\n",
              "      <td>NaN</td>\n",
              "      <td>NaN</td>\n",
              "      <td>NaN</td>\n",
              "      <td>NaN</td>\n",
              "      <td>E</td>\n",
              "      <td>NaN</td>\n",
              "      <td>NaN</td>\n",
              "      <td>NaN</td>\n",
              "    </tr>\n",
              "    <tr>\n",
              "      <th>2</th>\n",
              "      <td>BALTIMORE</td>\n",
              "      <td>NaN</td>\n",
              "      <td>24 inch bins</td>\n",
              "      <td>HOWDEN TYPE</td>\n",
              "      <td>NaN</td>\n",
              "      <td>NaN</td>\n",
              "      <td>9/24/16</td>\n",
              "      <td>160.0</td>\n",
              "      <td>160.0</td>\n",
              "      <td>160.0</td>\n",
              "      <td>...</td>\n",
              "      <td>NaN</td>\n",
              "      <td>NaN</td>\n",
              "      <td>NaN</td>\n",
              "      <td>NaN</td>\n",
              "      <td>NaN</td>\n",
              "      <td>NaN</td>\n",
              "      <td>N</td>\n",
              "      <td>NaN</td>\n",
              "      <td>NaN</td>\n",
              "      <td>NaN</td>\n",
              "    </tr>\n",
              "    <tr>\n",
              "      <th>3</th>\n",
              "      <td>BALTIMORE</td>\n",
              "      <td>NaN</td>\n",
              "      <td>24 inch bins</td>\n",
              "      <td>HOWDEN TYPE</td>\n",
              "      <td>NaN</td>\n",
              "      <td>NaN</td>\n",
              "      <td>9/24/16</td>\n",
              "      <td>160.0</td>\n",
              "      <td>160.0</td>\n",
              "      <td>160.0</td>\n",
              "      <td>...</td>\n",
              "      <td>NaN</td>\n",
              "      <td>NaN</td>\n",
              "      <td>NaN</td>\n",
              "      <td>NaN</td>\n",
              "      <td>NaN</td>\n",
              "      <td>NaN</td>\n",
              "      <td>N</td>\n",
              "      <td>NaN</td>\n",
              "      <td>NaN</td>\n",
              "      <td>NaN</td>\n",
              "    </tr>\n",
              "    <tr>\n",
              "      <th>4</th>\n",
              "      <td>BALTIMORE</td>\n",
              "      <td>NaN</td>\n",
              "      <td>24 inch bins</td>\n",
              "      <td>HOWDEN TYPE</td>\n",
              "      <td>NaN</td>\n",
              "      <td>NaN</td>\n",
              "      <td>11/5/16</td>\n",
              "      <td>90.0</td>\n",
              "      <td>100.0</td>\n",
              "      <td>90.0</td>\n",
              "      <td>...</td>\n",
              "      <td>NaN</td>\n",
              "      <td>NaN</td>\n",
              "      <td>NaN</td>\n",
              "      <td>NaN</td>\n",
              "      <td>NaN</td>\n",
              "      <td>NaN</td>\n",
              "      <td>N</td>\n",
              "      <td>NaN</td>\n",
              "      <td>NaN</td>\n",
              "      <td>NaN</td>\n",
              "    </tr>\n",
              "  </tbody>\n",
              "</table>\n",
              "<p>5 rows × 26 columns</p>\n",
              "</div>"
            ],
            "text/plain": [
              "   City Name Type       Package      Variety Sub Variety  Grade     Date  \\\n",
              "0  BALTIMORE  NaN  24 inch bins          NaN         NaN    NaN  4/29/17   \n",
              "1  BALTIMORE  NaN  24 inch bins          NaN         NaN    NaN   5/6/17   \n",
              "2  BALTIMORE  NaN  24 inch bins  HOWDEN TYPE         NaN    NaN  9/24/16   \n",
              "3  BALTIMORE  NaN  24 inch bins  HOWDEN TYPE         NaN    NaN  9/24/16   \n",
              "4  BALTIMORE  NaN  24 inch bins  HOWDEN TYPE         NaN    NaN  11/5/16   \n",
              "\n",
              "   Low Price  High Price  Mostly Low  ...  Unit of Sale Quality Condition  \\\n",
              "0      270.0       280.0       270.0  ...           NaN     NaN       NaN   \n",
              "1      270.0       280.0       270.0  ...           NaN     NaN       NaN   \n",
              "2      160.0       160.0       160.0  ...           NaN     NaN       NaN   \n",
              "3      160.0       160.0       160.0  ...           NaN     NaN       NaN   \n",
              "4       90.0       100.0        90.0  ...           NaN     NaN       NaN   \n",
              "\n",
              "  Appearance Storage  Crop Repack  Trans Mode  Unnamed: 24  Unnamed: 25  \n",
              "0        NaN     NaN   NaN      E         NaN          NaN          NaN  \n",
              "1        NaN     NaN   NaN      E         NaN          NaN          NaN  \n",
              "2        NaN     NaN   NaN      N         NaN          NaN          NaN  \n",
              "3        NaN     NaN   NaN      N         NaN          NaN          NaN  \n",
              "4        NaN     NaN   NaN      N         NaN          NaN          NaN  \n",
              "\n",
              "[5 rows x 26 columns]"
            ]
          },
          "execution_count": 34,
          "metadata": {},
          "output_type": "execute_result"
        }
      ],
      "source": [
        "import pandas as pd\n",
        "pumpkins = pd.read_csv(\"https://raw.githubusercontent.com/SMC-AAU-CPH/ML-For-Beginners/main/2-Regression/data/US-pumpkins.csv\")\n",
        "pumpkins.head()"
      ]
    },
    {
      "cell_type": "code",
      "execution_count": 35,
      "metadata": {
        "colab": {
          "base_uri": "https://localhost:8080/",
          "height": 206
        },
        "id": "Sw1U2DYTyEmD",
        "outputId": "1fb8b3e9-ab99-45b8-9172-73b780e12e92"
      },
      "outputs": [
        {
          "data": {
            "application/vnd.microsoft.datawrangler.viewer.v0+json": {
              "columns": [
                {
                  "name": "index",
                  "rawType": "int64",
                  "type": "integer"
                },
                {
                  "name": "Variety",
                  "rawType": "object",
                  "type": "unknown"
                },
                {
                  "name": "High Price",
                  "rawType": "float64",
                  "type": "float"
                },
                {
                  "name": "Item Size",
                  "rawType": "object",
                  "type": "string"
                },
                {
                  "name": "Color",
                  "rawType": "object",
                  "type": "unknown"
                }
              ],
              "ref": "d7762444-4db8-49cf-81e1-6ee1b473346d",
              "rows": [
                [
                  "0",
                  null,
                  "280.0",
                  "lge",
                  null
                ],
                [
                  "1",
                  null,
                  "280.0",
                  "lge",
                  null
                ],
                [
                  "2",
                  "HOWDEN TYPE",
                  "160.0",
                  "med",
                  "ORANGE"
                ],
                [
                  "3",
                  "HOWDEN TYPE",
                  "160.0",
                  "med",
                  "ORANGE"
                ],
                [
                  "4",
                  "HOWDEN TYPE",
                  "100.0",
                  "lge",
                  "ORANGE"
                ]
              ],
              "shape": {
                "columns": 4,
                "rows": 5
              }
            },
            "text/html": [
              "<div>\n",
              "<style scoped>\n",
              "    .dataframe tbody tr th:only-of-type {\n",
              "        vertical-align: middle;\n",
              "    }\n",
              "\n",
              "    .dataframe tbody tr th {\n",
              "        vertical-align: top;\n",
              "    }\n",
              "\n",
              "    .dataframe thead th {\n",
              "        text-align: right;\n",
              "    }\n",
              "</style>\n",
              "<table border=\"1\" class=\"dataframe\">\n",
              "  <thead>\n",
              "    <tr style=\"text-align: right;\">\n",
              "      <th></th>\n",
              "      <th>Variety</th>\n",
              "      <th>High Price</th>\n",
              "      <th>Item Size</th>\n",
              "      <th>Color</th>\n",
              "    </tr>\n",
              "  </thead>\n",
              "  <tbody>\n",
              "    <tr>\n",
              "      <th>0</th>\n",
              "      <td>NaN</td>\n",
              "      <td>280.0</td>\n",
              "      <td>lge</td>\n",
              "      <td>NaN</td>\n",
              "    </tr>\n",
              "    <tr>\n",
              "      <th>1</th>\n",
              "      <td>NaN</td>\n",
              "      <td>280.0</td>\n",
              "      <td>lge</td>\n",
              "      <td>NaN</td>\n",
              "    </tr>\n",
              "    <tr>\n",
              "      <th>2</th>\n",
              "      <td>HOWDEN TYPE</td>\n",
              "      <td>160.0</td>\n",
              "      <td>med</td>\n",
              "      <td>ORANGE</td>\n",
              "    </tr>\n",
              "    <tr>\n",
              "      <th>3</th>\n",
              "      <td>HOWDEN TYPE</td>\n",
              "      <td>160.0</td>\n",
              "      <td>med</td>\n",
              "      <td>ORANGE</td>\n",
              "    </tr>\n",
              "    <tr>\n",
              "      <th>4</th>\n",
              "      <td>HOWDEN TYPE</td>\n",
              "      <td>100.0</td>\n",
              "      <td>lge</td>\n",
              "      <td>ORANGE</td>\n",
              "    </tr>\n",
              "  </tbody>\n",
              "</table>\n",
              "</div>"
            ],
            "text/plain": [
              "       Variety  High Price Item Size   Color\n",
              "0          NaN       280.0       lge     NaN\n",
              "1          NaN       280.0       lge     NaN\n",
              "2  HOWDEN TYPE       160.0       med  ORANGE\n",
              "3  HOWDEN TYPE       160.0       med  ORANGE\n",
              "4  HOWDEN TYPE       100.0       lge  ORANGE"
            ]
          },
          "execution_count": 35,
          "metadata": {},
          "output_type": "execute_result"
        }
      ],
      "source": [
        "columns_with_nan = pumpkins.columns[pumpkins.isna().any()].tolist()\n",
        "columns_to_keep = ['Item Size', 'Color', 'Variety']\n",
        "\n",
        "pumpkins_cleaned = pumpkins.drop(columns=set(columns_with_nan) - set(columns_to_keep))\n",
        "pumpkins_cleaned = pumpkins_cleaned.drop('City Name', axis=1)\n",
        "pumpkins_cleaned = pumpkins_cleaned.drop('Package', axis=1)\n",
        "pumpkins_cleaned = pumpkins_cleaned.drop('Repack', axis=1)\n",
        "pumpkins_cleaned = pumpkins_cleaned.drop('Low Price', axis=1)\n",
        "pumpkins_cleaned = pumpkins_cleaned.drop('Date', axis=1)\n",
        "pumpkins_cleaned.head()\n"
      ]
    },
    {
      "cell_type": "code",
      "execution_count": 36,
      "metadata": {
        "id": "27QitW3iyEmE"
      },
      "outputs": [],
      "source": [
        "#Determine missing 'colors' based on similar 'varieties'\n",
        "def impute_color(row):\n",
        "    if pd.isna(row['Color']):\n",
        "        similar_rows = pumpkins_cleaned[(pumpkins_cleaned['Variety'] == row['Variety']) & (~pumpkins_cleaned['Color'].isna())]\n",
        "        if not similar_rows.empty:\n",
        "            most_common_color = similar_rows['Color'].mode().iloc[0]\n",
        "            return most_common_color\n",
        "        else:\n",
        "            return 'MIXED COLORS'\n",
        "    return row['Color']\n",
        "\n"
      ]
    },
    {
      "cell_type": "code",
      "execution_count": 37,
      "metadata": {
        "colab": {
          "base_uri": "https://localhost:8080/",
          "height": 206
        },
        "id": "3MFLlzXPyEmE",
        "outputId": "2308f02e-2c07-4875-f5c0-b5cd421f7e08"
      },
      "outputs": [
        {
          "data": {
            "application/vnd.microsoft.datawrangler.viewer.v0+json": {
              "columns": [
                {
                  "name": "index",
                  "rawType": "int64",
                  "type": "integer"
                },
                {
                  "name": "Variety",
                  "rawType": "object",
                  "type": "unknown"
                },
                {
                  "name": "High Price",
                  "rawType": "float64",
                  "type": "float"
                },
                {
                  "name": "Item Size",
                  "rawType": "object",
                  "type": "string"
                },
                {
                  "name": "Color",
                  "rawType": "object",
                  "type": "string"
                }
              ],
              "ref": "6160a475-5c13-425d-9347-f55ad937e9f7",
              "rows": [
                [
                  "0",
                  null,
                  "280.0",
                  "lge",
                  "MIXED COLORS"
                ],
                [
                  "1",
                  null,
                  "280.0",
                  "lge",
                  "MIXED COLORS"
                ],
                [
                  "2",
                  "HOWDEN TYPE",
                  "160.0",
                  "med",
                  "ORANGE"
                ],
                [
                  "3",
                  "HOWDEN TYPE",
                  "160.0",
                  "med",
                  "ORANGE"
                ],
                [
                  "4",
                  "HOWDEN TYPE",
                  "100.0",
                  "lge",
                  "ORANGE"
                ]
              ],
              "shape": {
                "columns": 4,
                "rows": 5
              }
            },
            "text/html": [
              "<div>\n",
              "<style scoped>\n",
              "    .dataframe tbody tr th:only-of-type {\n",
              "        vertical-align: middle;\n",
              "    }\n",
              "\n",
              "    .dataframe tbody tr th {\n",
              "        vertical-align: top;\n",
              "    }\n",
              "\n",
              "    .dataframe thead th {\n",
              "        text-align: right;\n",
              "    }\n",
              "</style>\n",
              "<table border=\"1\" class=\"dataframe\">\n",
              "  <thead>\n",
              "    <tr style=\"text-align: right;\">\n",
              "      <th></th>\n",
              "      <th>Variety</th>\n",
              "      <th>High Price</th>\n",
              "      <th>Item Size</th>\n",
              "      <th>Color</th>\n",
              "    </tr>\n",
              "  </thead>\n",
              "  <tbody>\n",
              "    <tr>\n",
              "      <th>0</th>\n",
              "      <td>NaN</td>\n",
              "      <td>280.0</td>\n",
              "      <td>lge</td>\n",
              "      <td>MIXED COLORS</td>\n",
              "    </tr>\n",
              "    <tr>\n",
              "      <th>1</th>\n",
              "      <td>NaN</td>\n",
              "      <td>280.0</td>\n",
              "      <td>lge</td>\n",
              "      <td>MIXED COLORS</td>\n",
              "    </tr>\n",
              "    <tr>\n",
              "      <th>2</th>\n",
              "      <td>HOWDEN TYPE</td>\n",
              "      <td>160.0</td>\n",
              "      <td>med</td>\n",
              "      <td>ORANGE</td>\n",
              "    </tr>\n",
              "    <tr>\n",
              "      <th>3</th>\n",
              "      <td>HOWDEN TYPE</td>\n",
              "      <td>160.0</td>\n",
              "      <td>med</td>\n",
              "      <td>ORANGE</td>\n",
              "    </tr>\n",
              "    <tr>\n",
              "      <th>4</th>\n",
              "      <td>HOWDEN TYPE</td>\n",
              "      <td>100.0</td>\n",
              "      <td>lge</td>\n",
              "      <td>ORANGE</td>\n",
              "    </tr>\n",
              "  </tbody>\n",
              "</table>\n",
              "</div>"
            ],
            "text/plain": [
              "       Variety  High Price Item Size         Color\n",
              "0          NaN       280.0       lge  MIXED COLORS\n",
              "1          NaN       280.0       lge  MIXED COLORS\n",
              "2  HOWDEN TYPE       160.0       med        ORANGE\n",
              "3  HOWDEN TYPE       160.0       med        ORANGE\n",
              "4  HOWDEN TYPE       100.0       lge        ORANGE"
            ]
          },
          "execution_count": 37,
          "metadata": {},
          "output_type": "execute_result"
        }
      ],
      "source": [
        "pumpkins_cleaned['Color'] = pumpkins_cleaned.apply(impute_color, axis=1)\n",
        "pumpkins_cleaned.head()"
      ]
    },
    {
      "cell_type": "code",
      "execution_count": 38,
      "metadata": {
        "colab": {
          "base_uri": "https://localhost:8080/",
          "height": 802
        },
        "id": "D6kRlcEqyEmE",
        "outputId": "d129a2c3-f9ad-4aa4-f20d-687dc81a2fc6"
      },
      "outputs": [
        {
          "data": {
            "text/html": [
              "<style type=\"text/css\">\n",
              "#T_73820_row11_col1 {\n",
              "  background-color: lightgreen;\n",
              "}\n",
              "</style>\n",
              "<table id=\"T_73820\">\n",
              "  <thead>\n",
              "    <tr>\n",
              "      <th class=\"blank level0\" >&nbsp;</th>\n",
              "      <th id=\"T_73820_level0_col0\" class=\"col_heading level0 col0\" >Description</th>\n",
              "      <th id=\"T_73820_level0_col1\" class=\"col_heading level0 col1\" >Value</th>\n",
              "    </tr>\n",
              "  </thead>\n",
              "  <tbody>\n",
              "    <tr>\n",
              "      <th id=\"T_73820_level0_row0\" class=\"row_heading level0 row0\" >0</th>\n",
              "      <td id=\"T_73820_row0_col0\" class=\"data row0 col0\" >Session id</td>\n",
              "      <td id=\"T_73820_row0_col1\" class=\"data row0 col1\" >202</td>\n",
              "    </tr>\n",
              "    <tr>\n",
              "      <th id=\"T_73820_level0_row1\" class=\"row_heading level0 row1\" >1</th>\n",
              "      <td id=\"T_73820_row1_col0\" class=\"data row1 col0\" >Target</td>\n",
              "      <td id=\"T_73820_row1_col1\" class=\"data row1 col1\" >Color</td>\n",
              "    </tr>\n",
              "    <tr>\n",
              "      <th id=\"T_73820_level0_row2\" class=\"row_heading level0 row2\" >2</th>\n",
              "      <td id=\"T_73820_row2_col0\" class=\"data row2 col0\" >Target type</td>\n",
              "      <td id=\"T_73820_row2_col1\" class=\"data row2 col1\" >Multiclass</td>\n",
              "    </tr>\n",
              "    <tr>\n",
              "      <th id=\"T_73820_level0_row3\" class=\"row_heading level0 row3\" >3</th>\n",
              "      <td id=\"T_73820_row3_col0\" class=\"data row3 col0\" >Target mapping</td>\n",
              "      <td id=\"T_73820_row3_col1\" class=\"data row3 col1\" >MIXED COLORS: 0, ORANGE: 1, STRIPED: 2, WHITE: 3</td>\n",
              "    </tr>\n",
              "    <tr>\n",
              "      <th id=\"T_73820_level0_row4\" class=\"row_heading level0 row4\" >4</th>\n",
              "      <td id=\"T_73820_row4_col0\" class=\"data row4 col0\" >Original data shape</td>\n",
              "      <td id=\"T_73820_row4_col1\" class=\"data row4 col1\" >(1757, 4)</td>\n",
              "    </tr>\n",
              "    <tr>\n",
              "      <th id=\"T_73820_level0_row5\" class=\"row_heading level0 row5\" >5</th>\n",
              "      <td id=\"T_73820_row5_col0\" class=\"data row5 col0\" >Transformed data shape</td>\n",
              "      <td id=\"T_73820_row5_col1\" class=\"data row5 col1\" >(1757, 19)</td>\n",
              "    </tr>\n",
              "    <tr>\n",
              "      <th id=\"T_73820_level0_row6\" class=\"row_heading level0 row6\" >6</th>\n",
              "      <td id=\"T_73820_row6_col0\" class=\"data row6 col0\" >Transformed train set shape</td>\n",
              "      <td id=\"T_73820_row6_col1\" class=\"data row6 col1\" >(1229, 19)</td>\n",
              "    </tr>\n",
              "    <tr>\n",
              "      <th id=\"T_73820_level0_row7\" class=\"row_heading level0 row7\" >7</th>\n",
              "      <td id=\"T_73820_row7_col0\" class=\"data row7 col0\" >Transformed test set shape</td>\n",
              "      <td id=\"T_73820_row7_col1\" class=\"data row7 col1\" >(528, 19)</td>\n",
              "    </tr>\n",
              "    <tr>\n",
              "      <th id=\"T_73820_level0_row8\" class=\"row_heading level0 row8\" >8</th>\n",
              "      <td id=\"T_73820_row8_col0\" class=\"data row8 col0\" >Numeric features</td>\n",
              "      <td id=\"T_73820_row8_col1\" class=\"data row8 col1\" >1</td>\n",
              "    </tr>\n",
              "    <tr>\n",
              "      <th id=\"T_73820_level0_row9\" class=\"row_heading level0 row9\" >9</th>\n",
              "      <td id=\"T_73820_row9_col0\" class=\"data row9 col0\" >Categorical features</td>\n",
              "      <td id=\"T_73820_row9_col1\" class=\"data row9 col1\" >2</td>\n",
              "    </tr>\n",
              "    <tr>\n",
              "      <th id=\"T_73820_level0_row10\" class=\"row_heading level0 row10\" >10</th>\n",
              "      <td id=\"T_73820_row10_col0\" class=\"data row10 col0\" >Rows with missing values</td>\n",
              "      <td id=\"T_73820_row10_col1\" class=\"data row10 col1\" >16.2%</td>\n",
              "    </tr>\n",
              "    <tr>\n",
              "      <th id=\"T_73820_level0_row11\" class=\"row_heading level0 row11\" >11</th>\n",
              "      <td id=\"T_73820_row11_col0\" class=\"data row11 col0\" >Preprocess</td>\n",
              "      <td id=\"T_73820_row11_col1\" class=\"data row11 col1\" >True</td>\n",
              "    </tr>\n",
              "    <tr>\n",
              "      <th id=\"T_73820_level0_row12\" class=\"row_heading level0 row12\" >12</th>\n",
              "      <td id=\"T_73820_row12_col0\" class=\"data row12 col0\" >Imputation type</td>\n",
              "      <td id=\"T_73820_row12_col1\" class=\"data row12 col1\" >simple</td>\n",
              "    </tr>\n",
              "    <tr>\n",
              "      <th id=\"T_73820_level0_row13\" class=\"row_heading level0 row13\" >13</th>\n",
              "      <td id=\"T_73820_row13_col0\" class=\"data row13 col0\" >Numeric imputation</td>\n",
              "      <td id=\"T_73820_row13_col1\" class=\"data row13 col1\" >mean</td>\n",
              "    </tr>\n",
              "    <tr>\n",
              "      <th id=\"T_73820_level0_row14\" class=\"row_heading level0 row14\" >14</th>\n",
              "      <td id=\"T_73820_row14_col0\" class=\"data row14 col0\" >Categorical imputation</td>\n",
              "      <td id=\"T_73820_row14_col1\" class=\"data row14 col1\" >mode</td>\n",
              "    </tr>\n",
              "    <tr>\n",
              "      <th id=\"T_73820_level0_row15\" class=\"row_heading level0 row15\" >15</th>\n",
              "      <td id=\"T_73820_row15_col0\" class=\"data row15 col0\" >Maximum one-hot encoding</td>\n",
              "      <td id=\"T_73820_row15_col1\" class=\"data row15 col1\" >25</td>\n",
              "    </tr>\n",
              "    <tr>\n",
              "      <th id=\"T_73820_level0_row16\" class=\"row_heading level0 row16\" >16</th>\n",
              "      <td id=\"T_73820_row16_col0\" class=\"data row16 col0\" >Encoding method</td>\n",
              "      <td id=\"T_73820_row16_col1\" class=\"data row16 col1\" >None</td>\n",
              "    </tr>\n",
              "    <tr>\n",
              "      <th id=\"T_73820_level0_row17\" class=\"row_heading level0 row17\" >17</th>\n",
              "      <td id=\"T_73820_row17_col0\" class=\"data row17 col0\" >Fold Generator</td>\n",
              "      <td id=\"T_73820_row17_col1\" class=\"data row17 col1\" >StratifiedKFold</td>\n",
              "    </tr>\n",
              "    <tr>\n",
              "      <th id=\"T_73820_level0_row18\" class=\"row_heading level0 row18\" >18</th>\n",
              "      <td id=\"T_73820_row18_col0\" class=\"data row18 col0\" >Fold Number</td>\n",
              "      <td id=\"T_73820_row18_col1\" class=\"data row18 col1\" >10</td>\n",
              "    </tr>\n",
              "    <tr>\n",
              "      <th id=\"T_73820_level0_row19\" class=\"row_heading level0 row19\" >19</th>\n",
              "      <td id=\"T_73820_row19_col0\" class=\"data row19 col0\" >CPU Jobs</td>\n",
              "      <td id=\"T_73820_row19_col1\" class=\"data row19 col1\" >-1</td>\n",
              "    </tr>\n",
              "    <tr>\n",
              "      <th id=\"T_73820_level0_row20\" class=\"row_heading level0 row20\" >20</th>\n",
              "      <td id=\"T_73820_row20_col0\" class=\"data row20 col0\" >Use GPU</td>\n",
              "      <td id=\"T_73820_row20_col1\" class=\"data row20 col1\" >False</td>\n",
              "    </tr>\n",
              "    <tr>\n",
              "      <th id=\"T_73820_level0_row21\" class=\"row_heading level0 row21\" >21</th>\n",
              "      <td id=\"T_73820_row21_col0\" class=\"data row21 col0\" >Log Experiment</td>\n",
              "      <td id=\"T_73820_row21_col1\" class=\"data row21 col1\" >False</td>\n",
              "    </tr>\n",
              "    <tr>\n",
              "      <th id=\"T_73820_level0_row22\" class=\"row_heading level0 row22\" >22</th>\n",
              "      <td id=\"T_73820_row22_col0\" class=\"data row22 col0\" >Experiment Name</td>\n",
              "      <td id=\"T_73820_row22_col1\" class=\"data row22 col1\" >clf-default-name</td>\n",
              "    </tr>\n",
              "    <tr>\n",
              "      <th id=\"T_73820_level0_row23\" class=\"row_heading level0 row23\" >23</th>\n",
              "      <td id=\"T_73820_row23_col0\" class=\"data row23 col0\" >USI</td>\n",
              "      <td id=\"T_73820_row23_col1\" class=\"data row23 col1\" >9948</td>\n",
              "    </tr>\n",
              "  </tbody>\n",
              "</table>\n"
            ],
            "text/plain": [
              "<pandas.io.formats.style.Styler at 0x12712fbd0>"
            ]
          },
          "metadata": {},
          "output_type": "display_data"
        }
      ],
      "source": [
        "from pycaret.classification import *\n",
        "sCP = setup(pumpkins_cleaned, target = 'Color', session_id = 202)"
      ]
    },
    {
      "cell_type": "code",
      "execution_count": 39,
      "metadata": {
        "id": "OfDGB91JyEmE"
      },
      "outputs": [],
      "source": [
        "# Start from here, and compare_models(). How does the best model perform compared to your results? Can you improve automatize imputation?\n",
        "### YOUR CODE HERE."
      ]
    },
    {
      "cell_type": "markdown",
      "metadata": {
        "id": "lOGgxHityEmE"
      },
      "source": [
        "### 4.3.2 Rethinking Assignment 3.1: Cuisines with various classifiers\n",
        "\n",
        "Automatize the data processing and parameter experimentation with pycaret"
      ]
    },
    {
      "cell_type": "code",
      "execution_count": 40,
      "metadata": {
        "colab": {
          "base_uri": "https://localhost:8080/",
          "height": 273
        },
        "id": "1-CBF3noyEmE",
        "outputId": "180ab5d2-2adb-4055-96f6-98a49d458b69"
      },
      "outputs": [
        {
          "data": {
            "application/vnd.microsoft.datawrangler.viewer.v0+json": {
              "columns": [
                {
                  "name": "index",
                  "rawType": "int64",
                  "type": "integer"
                },
                {
                  "name": "Unnamed: 0",
                  "rawType": "int64",
                  "type": "integer"
                },
                {
                  "name": "cuisine",
                  "rawType": "object",
                  "type": "string"
                },
                {
                  "name": "almond",
                  "rawType": "int64",
                  "type": "integer"
                },
                {
                  "name": "angelica",
                  "rawType": "int64",
                  "type": "integer"
                },
                {
                  "name": "anise",
                  "rawType": "int64",
                  "type": "integer"
                },
                {
                  "name": "anise_seed",
                  "rawType": "int64",
                  "type": "integer"
                },
                {
                  "name": "apple",
                  "rawType": "int64",
                  "type": "integer"
                },
                {
                  "name": "apple_brandy",
                  "rawType": "int64",
                  "type": "integer"
                },
                {
                  "name": "apricot",
                  "rawType": "int64",
                  "type": "integer"
                },
                {
                  "name": "armagnac",
                  "rawType": "int64",
                  "type": "integer"
                },
                {
                  "name": "artemisia",
                  "rawType": "int64",
                  "type": "integer"
                },
                {
                  "name": "artichoke",
                  "rawType": "int64",
                  "type": "integer"
                },
                {
                  "name": "asparagus",
                  "rawType": "int64",
                  "type": "integer"
                },
                {
                  "name": "avocado",
                  "rawType": "int64",
                  "type": "integer"
                },
                {
                  "name": "bacon",
                  "rawType": "int64",
                  "type": "integer"
                },
                {
                  "name": "baked_potato",
                  "rawType": "int64",
                  "type": "integer"
                },
                {
                  "name": "balm",
                  "rawType": "int64",
                  "type": "integer"
                },
                {
                  "name": "banana",
                  "rawType": "int64",
                  "type": "integer"
                },
                {
                  "name": "barley",
                  "rawType": "int64",
                  "type": "integer"
                },
                {
                  "name": "bartlett_pear",
                  "rawType": "int64",
                  "type": "integer"
                },
                {
                  "name": "basil",
                  "rawType": "int64",
                  "type": "integer"
                },
                {
                  "name": "bay",
                  "rawType": "int64",
                  "type": "integer"
                },
                {
                  "name": "bean",
                  "rawType": "int64",
                  "type": "integer"
                },
                {
                  "name": "beech",
                  "rawType": "int64",
                  "type": "integer"
                },
                {
                  "name": "beef",
                  "rawType": "int64",
                  "type": "integer"
                },
                {
                  "name": "beef_broth",
                  "rawType": "int64",
                  "type": "integer"
                },
                {
                  "name": "beef_liver",
                  "rawType": "int64",
                  "type": "integer"
                },
                {
                  "name": "beer",
                  "rawType": "int64",
                  "type": "integer"
                },
                {
                  "name": "beet",
                  "rawType": "int64",
                  "type": "integer"
                },
                {
                  "name": "bell_pepper",
                  "rawType": "int64",
                  "type": "integer"
                },
                {
                  "name": "bergamot",
                  "rawType": "int64",
                  "type": "integer"
                },
                {
                  "name": "berry",
                  "rawType": "int64",
                  "type": "integer"
                },
                {
                  "name": "bitter_orange",
                  "rawType": "int64",
                  "type": "integer"
                },
                {
                  "name": "black_bean",
                  "rawType": "int64",
                  "type": "integer"
                },
                {
                  "name": "black_currant",
                  "rawType": "int64",
                  "type": "integer"
                },
                {
                  "name": "black_mustard_seed_oil",
                  "rawType": "int64",
                  "type": "integer"
                },
                {
                  "name": "black_pepper",
                  "rawType": "int64",
                  "type": "integer"
                },
                {
                  "name": "black_raspberry",
                  "rawType": "int64",
                  "type": "integer"
                },
                {
                  "name": "black_sesame_seed",
                  "rawType": "int64",
                  "type": "integer"
                },
                {
                  "name": "black_tea",
                  "rawType": "int64",
                  "type": "integer"
                },
                {
                  "name": "blackberry",
                  "rawType": "int64",
                  "type": "integer"
                },
                {
                  "name": "blackberry_brandy",
                  "rawType": "int64",
                  "type": "integer"
                },
                {
                  "name": "blue_cheese",
                  "rawType": "int64",
                  "type": "integer"
                },
                {
                  "name": "blueberry",
                  "rawType": "int64",
                  "type": "integer"
                },
                {
                  "name": "bone_oil",
                  "rawType": "int64",
                  "type": "integer"
                },
                {
                  "name": "bourbon_whiskey",
                  "rawType": "int64",
                  "type": "integer"
                },
                {
                  "name": "brandy",
                  "rawType": "int64",
                  "type": "integer"
                },
                {
                  "name": "brassica",
                  "rawType": "int64",
                  "type": "integer"
                },
                {
                  "name": "bread",
                  "rawType": "int64",
                  "type": "integer"
                },
                {
                  "name": "broccoli",
                  "rawType": "int64",
                  "type": "integer"
                },
                {
                  "name": "brown_rice",
                  "rawType": "int64",
                  "type": "integer"
                },
                {
                  "name": "brussels_sprout",
                  "rawType": "int64",
                  "type": "integer"
                },
                {
                  "name": "buckwheat",
                  "rawType": "int64",
                  "type": "integer"
                },
                {
                  "name": "butter",
                  "rawType": "int64",
                  "type": "integer"
                },
                {
                  "name": "buttermilk",
                  "rawType": "int64",
                  "type": "integer"
                },
                {
                  "name": "cabbage",
                  "rawType": "int64",
                  "type": "integer"
                },
                {
                  "name": "cabernet_sauvignon_wine",
                  "rawType": "int64",
                  "type": "integer"
                },
                {
                  "name": "cacao",
                  "rawType": "int64",
                  "type": "integer"
                },
                {
                  "name": "camembert_cheese",
                  "rawType": "int64",
                  "type": "integer"
                },
                {
                  "name": "cane_molasses",
                  "rawType": "int64",
                  "type": "integer"
                },
                {
                  "name": "caraway",
                  "rawType": "int64",
                  "type": "integer"
                },
                {
                  "name": "cardamom",
                  "rawType": "int64",
                  "type": "integer"
                },
                {
                  "name": "carnation",
                  "rawType": "int64",
                  "type": "integer"
                },
                {
                  "name": "carob",
                  "rawType": "int64",
                  "type": "integer"
                },
                {
                  "name": "carrot",
                  "rawType": "int64",
                  "type": "integer"
                },
                {
                  "name": "cashew",
                  "rawType": "int64",
                  "type": "integer"
                },
                {
                  "name": "cassava",
                  "rawType": "int64",
                  "type": "integer"
                },
                {
                  "name": "catfish",
                  "rawType": "int64",
                  "type": "integer"
                },
                {
                  "name": "cauliflower",
                  "rawType": "int64",
                  "type": "integer"
                },
                {
                  "name": "caviar",
                  "rawType": "int64",
                  "type": "integer"
                },
                {
                  "name": "cayenne",
                  "rawType": "int64",
                  "type": "integer"
                },
                {
                  "name": "celery",
                  "rawType": "int64",
                  "type": "integer"
                },
                {
                  "name": "celery_oil",
                  "rawType": "int64",
                  "type": "integer"
                },
                {
                  "name": "cereal",
                  "rawType": "int64",
                  "type": "integer"
                },
                {
                  "name": "chamomile",
                  "rawType": "int64",
                  "type": "integer"
                },
                {
                  "name": "champagne_wine",
                  "rawType": "int64",
                  "type": "integer"
                },
                {
                  "name": "chayote",
                  "rawType": "int64",
                  "type": "integer"
                },
                {
                  "name": "cheddar_cheese",
                  "rawType": "int64",
                  "type": "integer"
                },
                {
                  "name": "cheese",
                  "rawType": "int64",
                  "type": "integer"
                },
                {
                  "name": "cherry",
                  "rawType": "int64",
                  "type": "integer"
                },
                {
                  "name": "cherry_brandy",
                  "rawType": "int64",
                  "type": "integer"
                },
                {
                  "name": "chervil",
                  "rawType": "int64",
                  "type": "integer"
                },
                {
                  "name": "chicken",
                  "rawType": "int64",
                  "type": "integer"
                },
                {
                  "name": "chicken_broth",
                  "rawType": "int64",
                  "type": "integer"
                },
                {
                  "name": "chicken_liver",
                  "rawType": "int64",
                  "type": "integer"
                },
                {
                  "name": "chickpea",
                  "rawType": "int64",
                  "type": "integer"
                },
                {
                  "name": "chicory",
                  "rawType": "int64",
                  "type": "integer"
                },
                {
                  "name": "chinese_cabbage",
                  "rawType": "int64",
                  "type": "integer"
                },
                {
                  "name": "chive",
                  "rawType": "int64",
                  "type": "integer"
                },
                {
                  "name": "cider",
                  "rawType": "int64",
                  "type": "integer"
                },
                {
                  "name": "cilantro",
                  "rawType": "int64",
                  "type": "integer"
                },
                {
                  "name": "cinnamon",
                  "rawType": "int64",
                  "type": "integer"
                },
                {
                  "name": "citrus",
                  "rawType": "int64",
                  "type": "integer"
                },
                {
                  "name": "citrus_peel",
                  "rawType": "int64",
                  "type": "integer"
                },
                {
                  "name": "clam",
                  "rawType": "int64",
                  "type": "integer"
                },
                {
                  "name": "clove",
                  "rawType": "int64",
                  "type": "integer"
                },
                {
                  "name": "cocoa",
                  "rawType": "int64",
                  "type": "integer"
                },
                {
                  "name": "coconut",
                  "rawType": "int64",
                  "type": "integer"
                },
                {
                  "name": "coconut_oil",
                  "rawType": "int64",
                  "type": "integer"
                },
                {
                  "name": "cod",
                  "rawType": "int64",
                  "type": "integer"
                },
                {
                  "name": "coffee",
                  "rawType": "int64",
                  "type": "integer"
                },
                {
                  "name": "cognac",
                  "rawType": "int64",
                  "type": "integer"
                },
                {
                  "name": "concord_grape",
                  "rawType": "int64",
                  "type": "integer"
                },
                {
                  "name": "condiment",
                  "rawType": "int64",
                  "type": "integer"
                },
                {
                  "name": "coriander",
                  "rawType": "int64",
                  "type": "integer"
                },
                {
                  "name": "corn",
                  "rawType": "int64",
                  "type": "integer"
                },
                {
                  "name": "corn_flake",
                  "rawType": "int64",
                  "type": "integer"
                },
                {
                  "name": "corn_grit",
                  "rawType": "int64",
                  "type": "integer"
                },
                {
                  "name": "cottage_cheese",
                  "rawType": "int64",
                  "type": "integer"
                },
                {
                  "name": "crab",
                  "rawType": "int64",
                  "type": "integer"
                },
                {
                  "name": "cranberry",
                  "rawType": "int64",
                  "type": "integer"
                },
                {
                  "name": "cream",
                  "rawType": "int64",
                  "type": "integer"
                },
                {
                  "name": "cream_cheese",
                  "rawType": "int64",
                  "type": "integer"
                },
                {
                  "name": "cucumber",
                  "rawType": "int64",
                  "type": "integer"
                },
                {
                  "name": "cumin",
                  "rawType": "int64",
                  "type": "integer"
                },
                {
                  "name": "cured_pork",
                  "rawType": "int64",
                  "type": "integer"
                },
                {
                  "name": "currant",
                  "rawType": "int64",
                  "type": "integer"
                },
                {
                  "name": "date",
                  "rawType": "int64",
                  "type": "integer"
                },
                {
                  "name": "dill",
                  "rawType": "int64",
                  "type": "integer"
                },
                {
                  "name": "durian",
                  "rawType": "int64",
                  "type": "integer"
                },
                {
                  "name": "eel",
                  "rawType": "int64",
                  "type": "integer"
                },
                {
                  "name": "egg",
                  "rawType": "int64",
                  "type": "integer"
                },
                {
                  "name": "egg_noodle",
                  "rawType": "int64",
                  "type": "integer"
                },
                {
                  "name": "elderberry",
                  "rawType": "int64",
                  "type": "integer"
                },
                {
                  "name": "emmental_cheese",
                  "rawType": "int64",
                  "type": "integer"
                },
                {
                  "name": "endive",
                  "rawType": "int64",
                  "type": "integer"
                },
                {
                  "name": "enokidake",
                  "rawType": "int64",
                  "type": "integer"
                },
                {
                  "name": "fennel",
                  "rawType": "int64",
                  "type": "integer"
                },
                {
                  "name": "fenugreek",
                  "rawType": "int64",
                  "type": "integer"
                },
                {
                  "name": "feta_cheese",
                  "rawType": "int64",
                  "type": "integer"
                },
                {
                  "name": "fig",
                  "rawType": "int64",
                  "type": "integer"
                },
                {
                  "name": "fish",
                  "rawType": "int64",
                  "type": "integer"
                },
                {
                  "name": "flower",
                  "rawType": "int64",
                  "type": "integer"
                },
                {
                  "name": "frankfurter",
                  "rawType": "int64",
                  "type": "integer"
                },
                {
                  "name": "fruit",
                  "rawType": "int64",
                  "type": "integer"
                },
                {
                  "name": "galanga",
                  "rawType": "int64",
                  "type": "integer"
                },
                {
                  "name": "gardenia",
                  "rawType": "int64",
                  "type": "integer"
                },
                {
                  "name": "gelatin",
                  "rawType": "int64",
                  "type": "integer"
                },
                {
                  "name": "geranium",
                  "rawType": "int64",
                  "type": "integer"
                },
                {
                  "name": "gin",
                  "rawType": "int64",
                  "type": "integer"
                },
                {
                  "name": "goat_cheese",
                  "rawType": "int64",
                  "type": "integer"
                },
                {
                  "name": "grape",
                  "rawType": "int64",
                  "type": "integer"
                },
                {
                  "name": "grape_brandy",
                  "rawType": "int64",
                  "type": "integer"
                },
                {
                  "name": "grape_juice",
                  "rawType": "int64",
                  "type": "integer"
                },
                {
                  "name": "grapefruit",
                  "rawType": "int64",
                  "type": "integer"
                },
                {
                  "name": "green_bell_pepper",
                  "rawType": "int64",
                  "type": "integer"
                },
                {
                  "name": "green_tea",
                  "rawType": "int64",
                  "type": "integer"
                },
                {
                  "name": "gruyere_cheese",
                  "rawType": "int64",
                  "type": "integer"
                },
                {
                  "name": "guava",
                  "rawType": "int64",
                  "type": "integer"
                },
                {
                  "name": "haddock",
                  "rawType": "int64",
                  "type": "integer"
                },
                {
                  "name": "ham",
                  "rawType": "int64",
                  "type": "integer"
                },
                {
                  "name": "hazelnut",
                  "rawType": "int64",
                  "type": "integer"
                },
                {
                  "name": "herring",
                  "rawType": "int64",
                  "type": "integer"
                },
                {
                  "name": "holy_basil",
                  "rawType": "int64",
                  "type": "integer"
                },
                {
                  "name": "honey",
                  "rawType": "int64",
                  "type": "integer"
                },
                {
                  "name": "hop",
                  "rawType": "int64",
                  "type": "integer"
                },
                {
                  "name": "horseradish",
                  "rawType": "int64",
                  "type": "integer"
                },
                {
                  "name": "huckleberry",
                  "rawType": "int64",
                  "type": "integer"
                },
                {
                  "name": "jamaican_rum",
                  "rawType": "int64",
                  "type": "integer"
                },
                {
                  "name": "japanese_plum",
                  "rawType": "int64",
                  "type": "integer"
                },
                {
                  "name": "jasmine",
                  "rawType": "int64",
                  "type": "integer"
                },
                {
                  "name": "jasmine_tea",
                  "rawType": "int64",
                  "type": "integer"
                },
                {
                  "name": "juniper_berry",
                  "rawType": "int64",
                  "type": "integer"
                },
                {
                  "name": "kaffir_lime",
                  "rawType": "int64",
                  "type": "integer"
                },
                {
                  "name": "kale",
                  "rawType": "int64",
                  "type": "integer"
                },
                {
                  "name": "katsuobushi",
                  "rawType": "int64",
                  "type": "integer"
                },
                {
                  "name": "kelp",
                  "rawType": "int64",
                  "type": "integer"
                },
                {
                  "name": "kidney_bean",
                  "rawType": "int64",
                  "type": "integer"
                },
                {
                  "name": "kiwi",
                  "rawType": "int64",
                  "type": "integer"
                },
                {
                  "name": "kohlrabi",
                  "rawType": "int64",
                  "type": "integer"
                },
                {
                  "name": "kumquat",
                  "rawType": "int64",
                  "type": "integer"
                },
                {
                  "name": "lamb",
                  "rawType": "int64",
                  "type": "integer"
                },
                {
                  "name": "lard",
                  "rawType": "int64",
                  "type": "integer"
                },
                {
                  "name": "laurel",
                  "rawType": "int64",
                  "type": "integer"
                },
                {
                  "name": "lavender",
                  "rawType": "int64",
                  "type": "integer"
                },
                {
                  "name": "leaf",
                  "rawType": "int64",
                  "type": "integer"
                },
                {
                  "name": "leek",
                  "rawType": "int64",
                  "type": "integer"
                },
                {
                  "name": "lemon",
                  "rawType": "int64",
                  "type": "integer"
                },
                {
                  "name": "lemon_juice",
                  "rawType": "int64",
                  "type": "integer"
                },
                {
                  "name": "lemon_peel",
                  "rawType": "int64",
                  "type": "integer"
                },
                {
                  "name": "lemongrass",
                  "rawType": "int64",
                  "type": "integer"
                },
                {
                  "name": "lentil",
                  "rawType": "int64",
                  "type": "integer"
                },
                {
                  "name": "lettuce",
                  "rawType": "int64",
                  "type": "integer"
                },
                {
                  "name": "licorice",
                  "rawType": "int64",
                  "type": "integer"
                },
                {
                  "name": "lilac_flower_oil",
                  "rawType": "int64",
                  "type": "integer"
                },
                {
                  "name": "lima_bean",
                  "rawType": "int64",
                  "type": "integer"
                },
                {
                  "name": "lime",
                  "rawType": "int64",
                  "type": "integer"
                },
                {
                  "name": "lime_juice",
                  "rawType": "int64",
                  "type": "integer"
                },
                {
                  "name": "lime_peel_oil",
                  "rawType": "int64",
                  "type": "integer"
                },
                {
                  "name": "lingonberry",
                  "rawType": "int64",
                  "type": "integer"
                },
                {
                  "name": "litchi",
                  "rawType": "int64",
                  "type": "integer"
                },
                {
                  "name": "liver",
                  "rawType": "int64",
                  "type": "integer"
                },
                {
                  "name": "lobster",
                  "rawType": "int64",
                  "type": "integer"
                },
                {
                  "name": "long_pepper",
                  "rawType": "int64",
                  "type": "integer"
                },
                {
                  "name": "lovage",
                  "rawType": "int64",
                  "type": "integer"
                },
                {
                  "name": "macadamia_nut",
                  "rawType": "int64",
                  "type": "integer"
                },
                {
                  "name": "macaroni",
                  "rawType": "int64",
                  "type": "integer"
                },
                {
                  "name": "mace",
                  "rawType": "int64",
                  "type": "integer"
                },
                {
                  "name": "mackerel",
                  "rawType": "int64",
                  "type": "integer"
                },
                {
                  "name": "malt",
                  "rawType": "int64",
                  "type": "integer"
                },
                {
                  "name": "mandarin",
                  "rawType": "int64",
                  "type": "integer"
                },
                {
                  "name": "mandarin_peel",
                  "rawType": "int64",
                  "type": "integer"
                },
                {
                  "name": "mango",
                  "rawType": "int64",
                  "type": "integer"
                },
                {
                  "name": "maple_syrup",
                  "rawType": "int64",
                  "type": "integer"
                },
                {
                  "name": "marjoram",
                  "rawType": "int64",
                  "type": "integer"
                },
                {
                  "name": "mate",
                  "rawType": "int64",
                  "type": "integer"
                },
                {
                  "name": "matsutake",
                  "rawType": "int64",
                  "type": "integer"
                },
                {
                  "name": "meat",
                  "rawType": "int64",
                  "type": "integer"
                },
                {
                  "name": "melon",
                  "rawType": "int64",
                  "type": "integer"
                },
                {
                  "name": "milk",
                  "rawType": "int64",
                  "type": "integer"
                },
                {
                  "name": "milk_fat",
                  "rawType": "int64",
                  "type": "integer"
                },
                {
                  "name": "mint",
                  "rawType": "int64",
                  "type": "integer"
                },
                {
                  "name": "mozzarella_cheese",
                  "rawType": "int64",
                  "type": "integer"
                },
                {
                  "name": "mung_bean",
                  "rawType": "int64",
                  "type": "integer"
                },
                {
                  "name": "munster_cheese",
                  "rawType": "int64",
                  "type": "integer"
                },
                {
                  "name": "muscat_grape",
                  "rawType": "int64",
                  "type": "integer"
                },
                {
                  "name": "mushroom",
                  "rawType": "int64",
                  "type": "integer"
                },
                {
                  "name": "mussel",
                  "rawType": "int64",
                  "type": "integer"
                },
                {
                  "name": "mustard",
                  "rawType": "int64",
                  "type": "integer"
                },
                {
                  "name": "mutton",
                  "rawType": "int64",
                  "type": "integer"
                },
                {
                  "name": "nectarine",
                  "rawType": "int64",
                  "type": "integer"
                },
                {
                  "name": "nira",
                  "rawType": "int64",
                  "type": "integer"
                },
                {
                  "name": "nut",
                  "rawType": "int64",
                  "type": "integer"
                },
                {
                  "name": "nutmeg",
                  "rawType": "int64",
                  "type": "integer"
                },
                {
                  "name": "oat",
                  "rawType": "int64",
                  "type": "integer"
                },
                {
                  "name": "oatmeal",
                  "rawType": "int64",
                  "type": "integer"
                },
                {
                  "name": "octopus",
                  "rawType": "int64",
                  "type": "integer"
                },
                {
                  "name": "okra",
                  "rawType": "int64",
                  "type": "integer"
                },
                {
                  "name": "olive",
                  "rawType": "int64",
                  "type": "integer"
                },
                {
                  "name": "olive_oil",
                  "rawType": "int64",
                  "type": "integer"
                },
                {
                  "name": "onion",
                  "rawType": "int64",
                  "type": "integer"
                },
                {
                  "name": "orange",
                  "rawType": "int64",
                  "type": "integer"
                },
                {
                  "name": "orange_flower",
                  "rawType": "int64",
                  "type": "integer"
                },
                {
                  "name": "orange_juice",
                  "rawType": "int64",
                  "type": "integer"
                },
                {
                  "name": "orange_peel",
                  "rawType": "int64",
                  "type": "integer"
                },
                {
                  "name": "oregano",
                  "rawType": "int64",
                  "type": "integer"
                },
                {
                  "name": "ouzo",
                  "rawType": "int64",
                  "type": "integer"
                },
                {
                  "name": "oyster",
                  "rawType": "int64",
                  "type": "integer"
                },
                {
                  "name": "palm",
                  "rawType": "int64",
                  "type": "integer"
                },
                {
                  "name": "papaya",
                  "rawType": "int64",
                  "type": "integer"
                },
                {
                  "name": "parmesan_cheese",
                  "rawType": "int64",
                  "type": "integer"
                },
                {
                  "name": "parsley",
                  "rawType": "int64",
                  "type": "integer"
                },
                {
                  "name": "parsnip",
                  "rawType": "int64",
                  "type": "integer"
                },
                {
                  "name": "passion_fruit",
                  "rawType": "int64",
                  "type": "integer"
                },
                {
                  "name": "pea",
                  "rawType": "int64",
                  "type": "integer"
                },
                {
                  "name": "peach",
                  "rawType": "int64",
                  "type": "integer"
                },
                {
                  "name": "peanut",
                  "rawType": "int64",
                  "type": "integer"
                },
                {
                  "name": "peanut_butter",
                  "rawType": "int64",
                  "type": "integer"
                },
                {
                  "name": "peanut_oil",
                  "rawType": "int64",
                  "type": "integer"
                },
                {
                  "name": "pear",
                  "rawType": "int64",
                  "type": "integer"
                },
                {
                  "name": "pear_brandy",
                  "rawType": "int64",
                  "type": "integer"
                },
                {
                  "name": "pecan",
                  "rawType": "int64",
                  "type": "integer"
                },
                {
                  "name": "pelargonium",
                  "rawType": "int64",
                  "type": "integer"
                },
                {
                  "name": "pepper",
                  "rawType": "int64",
                  "type": "integer"
                },
                {
                  "name": "peppermint",
                  "rawType": "int64",
                  "type": "integer"
                },
                {
                  "name": "peppermint_oil",
                  "rawType": "int64",
                  "type": "integer"
                },
                {
                  "name": "pimenta",
                  "rawType": "int64",
                  "type": "integer"
                },
                {
                  "name": "pimento",
                  "rawType": "int64",
                  "type": "integer"
                },
                {
                  "name": "pineapple",
                  "rawType": "int64",
                  "type": "integer"
                },
                {
                  "name": "pistachio",
                  "rawType": "int64",
                  "type": "integer"
                },
                {
                  "name": "plum",
                  "rawType": "int64",
                  "type": "integer"
                },
                {
                  "name": "popcorn",
                  "rawType": "int64",
                  "type": "integer"
                },
                {
                  "name": "porcini",
                  "rawType": "int64",
                  "type": "integer"
                },
                {
                  "name": "pork",
                  "rawType": "int64",
                  "type": "integer"
                },
                {
                  "name": "pork_liver",
                  "rawType": "int64",
                  "type": "integer"
                },
                {
                  "name": "pork_sausage",
                  "rawType": "int64",
                  "type": "integer"
                },
                {
                  "name": "port_wine",
                  "rawType": "int64",
                  "type": "integer"
                },
                {
                  "name": "potato",
                  "rawType": "int64",
                  "type": "integer"
                },
                {
                  "name": "potato_chip",
                  "rawType": "int64",
                  "type": "integer"
                },
                {
                  "name": "prawn",
                  "rawType": "int64",
                  "type": "integer"
                },
                {
                  "name": "prickly_pear",
                  "rawType": "int64",
                  "type": "integer"
                },
                {
                  "name": "provolone_cheese",
                  "rawType": "int64",
                  "type": "integer"
                },
                {
                  "name": "pumpkin",
                  "rawType": "int64",
                  "type": "integer"
                },
                {
                  "name": "quince",
                  "rawType": "int64",
                  "type": "integer"
                },
                {
                  "name": "radish",
                  "rawType": "int64",
                  "type": "integer"
                },
                {
                  "name": "raisin",
                  "rawType": "int64",
                  "type": "integer"
                },
                {
                  "name": "rapeseed",
                  "rawType": "int64",
                  "type": "integer"
                },
                {
                  "name": "raspberry",
                  "rawType": "int64",
                  "type": "integer"
                },
                {
                  "name": "raw_beef",
                  "rawType": "int64",
                  "type": "integer"
                },
                {
                  "name": "red_algae",
                  "rawType": "int64",
                  "type": "integer"
                },
                {
                  "name": "red_bean",
                  "rawType": "int64",
                  "type": "integer"
                },
                {
                  "name": "red_kidney_bean",
                  "rawType": "int64",
                  "type": "integer"
                },
                {
                  "name": "red_wine",
                  "rawType": "int64",
                  "type": "integer"
                },
                {
                  "name": "rhubarb",
                  "rawType": "int64",
                  "type": "integer"
                },
                {
                  "name": "roasted_almond",
                  "rawType": "int64",
                  "type": "integer"
                },
                {
                  "name": "roasted_beef",
                  "rawType": "int64",
                  "type": "integer"
                },
                {
                  "name": "roasted_hazelnut",
                  "rawType": "int64",
                  "type": "integer"
                },
                {
                  "name": "roasted_meat",
                  "rawType": "int64",
                  "type": "integer"
                },
                {
                  "name": "roasted_nut",
                  "rawType": "int64",
                  "type": "integer"
                },
                {
                  "name": "roasted_peanut",
                  "rawType": "int64",
                  "type": "integer"
                },
                {
                  "name": "roasted_pecan",
                  "rawType": "int64",
                  "type": "integer"
                },
                {
                  "name": "roasted_pork",
                  "rawType": "int64",
                  "type": "integer"
                },
                {
                  "name": "roasted_sesame_seed",
                  "rawType": "int64",
                  "type": "integer"
                },
                {
                  "name": "romano_cheese",
                  "rawType": "int64",
                  "type": "integer"
                },
                {
                  "name": "root",
                  "rawType": "int64",
                  "type": "integer"
                },
                {
                  "name": "roquefort_cheese",
                  "rawType": "int64",
                  "type": "integer"
                },
                {
                  "name": "rose",
                  "rawType": "int64",
                  "type": "integer"
                },
                {
                  "name": "rosemary",
                  "rawType": "int64",
                  "type": "integer"
                },
                {
                  "name": "rum",
                  "rawType": "int64",
                  "type": "integer"
                },
                {
                  "name": "rutabaga",
                  "rawType": "int64",
                  "type": "integer"
                },
                {
                  "name": "rye_bread",
                  "rawType": "int64",
                  "type": "integer"
                },
                {
                  "name": "rye_flour",
                  "rawType": "int64",
                  "type": "integer"
                },
                {
                  "name": "saffron",
                  "rawType": "int64",
                  "type": "integer"
                },
                {
                  "name": "sage",
                  "rawType": "int64",
                  "type": "integer"
                },
                {
                  "name": "sake",
                  "rawType": "int64",
                  "type": "integer"
                },
                {
                  "name": "salmon",
                  "rawType": "int64",
                  "type": "integer"
                },
                {
                  "name": "salmon_roe",
                  "rawType": "int64",
                  "type": "integer"
                },
                {
                  "name": "sassafras",
                  "rawType": "int64",
                  "type": "integer"
                },
                {
                  "name": "sauerkraut",
                  "rawType": "int64",
                  "type": "integer"
                },
                {
                  "name": "savory",
                  "rawType": "int64",
                  "type": "integer"
                },
                {
                  "name": "scallion",
                  "rawType": "int64",
                  "type": "integer"
                },
                {
                  "name": "scallop",
                  "rawType": "int64",
                  "type": "integer"
                },
                {
                  "name": "sea_algae",
                  "rawType": "int64",
                  "type": "integer"
                },
                {
                  "name": "seaweed",
                  "rawType": "int64",
                  "type": "integer"
                },
                {
                  "name": "seed",
                  "rawType": "int64",
                  "type": "integer"
                },
                {
                  "name": "sesame_oil",
                  "rawType": "int64",
                  "type": "integer"
                },
                {
                  "name": "sesame_seed",
                  "rawType": "int64",
                  "type": "integer"
                },
                {
                  "name": "shallot",
                  "rawType": "int64",
                  "type": "integer"
                },
                {
                  "name": "sheep_cheese",
                  "rawType": "int64",
                  "type": "integer"
                },
                {
                  "name": "shellfish",
                  "rawType": "int64",
                  "type": "integer"
                },
                {
                  "name": "sherry",
                  "rawType": "int64",
                  "type": "integer"
                },
                {
                  "name": "shiitake",
                  "rawType": "int64",
                  "type": "integer"
                },
                {
                  "name": "shrimp",
                  "rawType": "int64",
                  "type": "integer"
                },
                {
                  "name": "smoke",
                  "rawType": "int64",
                  "type": "integer"
                },
                {
                  "name": "smoked_fish",
                  "rawType": "int64",
                  "type": "integer"
                },
                {
                  "name": "smoked_salmon",
                  "rawType": "int64",
                  "type": "integer"
                },
                {
                  "name": "smoked_sausage",
                  "rawType": "int64",
                  "type": "integer"
                },
                {
                  "name": "sour_cherry",
                  "rawType": "int64",
                  "type": "integer"
                },
                {
                  "name": "sour_milk",
                  "rawType": "int64",
                  "type": "integer"
                },
                {
                  "name": "soy_sauce",
                  "rawType": "int64",
                  "type": "integer"
                },
                {
                  "name": "soybean",
                  "rawType": "int64",
                  "type": "integer"
                },
                {
                  "name": "soybean_oil",
                  "rawType": "int64",
                  "type": "integer"
                },
                {
                  "name": "spearmint",
                  "rawType": "int64",
                  "type": "integer"
                },
                {
                  "name": "squash",
                  "rawType": "int64",
                  "type": "integer"
                },
                {
                  "name": "squid",
                  "rawType": "int64",
                  "type": "integer"
                },
                {
                  "name": "star_anise",
                  "rawType": "int64",
                  "type": "integer"
                },
                {
                  "name": "starch",
                  "rawType": "int64",
                  "type": "integer"
                },
                {
                  "name": "strawberry",
                  "rawType": "int64",
                  "type": "integer"
                },
                {
                  "name": "strawberry_jam",
                  "rawType": "int64",
                  "type": "integer"
                },
                {
                  "name": "strawberry_juice",
                  "rawType": "int64",
                  "type": "integer"
                },
                {
                  "name": "sturgeon_caviar",
                  "rawType": "int64",
                  "type": "integer"
                },
                {
                  "name": "sumac",
                  "rawType": "int64",
                  "type": "integer"
                },
                {
                  "name": "sunflower_oil",
                  "rawType": "int64",
                  "type": "integer"
                },
                {
                  "name": "sweet_potato",
                  "rawType": "int64",
                  "type": "integer"
                },
                {
                  "name": "swiss_cheese",
                  "rawType": "int64",
                  "type": "integer"
                },
                {
                  "name": "tabasco_pepper",
                  "rawType": "int64",
                  "type": "integer"
                },
                {
                  "name": "tamarind",
                  "rawType": "int64",
                  "type": "integer"
                },
                {
                  "name": "tangerine",
                  "rawType": "int64",
                  "type": "integer"
                },
                {
                  "name": "tarragon",
                  "rawType": "int64",
                  "type": "integer"
                },
                {
                  "name": "tea",
                  "rawType": "int64",
                  "type": "integer"
                },
                {
                  "name": "tequila",
                  "rawType": "int64",
                  "type": "integer"
                },
                {
                  "name": "thai_pepper",
                  "rawType": "int64",
                  "type": "integer"
                },
                {
                  "name": "thyme",
                  "rawType": "int64",
                  "type": "integer"
                },
                {
                  "name": "tomato",
                  "rawType": "int64",
                  "type": "integer"
                },
                {
                  "name": "tomato_juice",
                  "rawType": "int64",
                  "type": "integer"
                },
                {
                  "name": "truffle",
                  "rawType": "int64",
                  "type": "integer"
                },
                {
                  "name": "tuna",
                  "rawType": "int64",
                  "type": "integer"
                },
                {
                  "name": "turkey",
                  "rawType": "int64",
                  "type": "integer"
                },
                {
                  "name": "turmeric",
                  "rawType": "int64",
                  "type": "integer"
                },
                {
                  "name": "turnip",
                  "rawType": "int64",
                  "type": "integer"
                },
                {
                  "name": "vanilla",
                  "rawType": "int64",
                  "type": "integer"
                },
                {
                  "name": "veal",
                  "rawType": "int64",
                  "type": "integer"
                },
                {
                  "name": "vegetable",
                  "rawType": "int64",
                  "type": "integer"
                },
                {
                  "name": "vegetable_oil",
                  "rawType": "int64",
                  "type": "integer"
                },
                {
                  "name": "vinegar",
                  "rawType": "int64",
                  "type": "integer"
                },
                {
                  "name": "violet",
                  "rawType": "int64",
                  "type": "integer"
                },
                {
                  "name": "walnut",
                  "rawType": "int64",
                  "type": "integer"
                },
                {
                  "name": "wasabi",
                  "rawType": "int64",
                  "type": "integer"
                },
                {
                  "name": "watercress",
                  "rawType": "int64",
                  "type": "integer"
                },
                {
                  "name": "watermelon",
                  "rawType": "int64",
                  "type": "integer"
                },
                {
                  "name": "wheat",
                  "rawType": "int64",
                  "type": "integer"
                },
                {
                  "name": "wheat_bread",
                  "rawType": "int64",
                  "type": "integer"
                },
                {
                  "name": "whiskey",
                  "rawType": "int64",
                  "type": "integer"
                },
                {
                  "name": "white_bread",
                  "rawType": "int64",
                  "type": "integer"
                },
                {
                  "name": "white_wine",
                  "rawType": "int64",
                  "type": "integer"
                },
                {
                  "name": "whole_grain_wheat_flour",
                  "rawType": "int64",
                  "type": "integer"
                },
                {
                  "name": "wine",
                  "rawType": "int64",
                  "type": "integer"
                },
                {
                  "name": "wood",
                  "rawType": "int64",
                  "type": "integer"
                },
                {
                  "name": "yam",
                  "rawType": "int64",
                  "type": "integer"
                },
                {
                  "name": "yeast",
                  "rawType": "int64",
                  "type": "integer"
                },
                {
                  "name": "yogurt",
                  "rawType": "int64",
                  "type": "integer"
                },
                {
                  "name": "zucchini",
                  "rawType": "int64",
                  "type": "integer"
                }
              ],
              "ref": "cb644966-6dc5-4259-9058-826d51bc2cd6",
              "rows": [
                [
                  "0",
                  "0",
                  "indian",
                  "0",
                  "0",
                  "0",
                  "0",
                  "0",
                  "0",
                  "0",
                  "0",
                  "0",
                  "0",
                  "0",
                  "0",
                  "0",
                  "0",
                  "0",
                  "0",
                  "0",
                  "0",
                  "0",
                  "0",
                  "0",
                  "0",
                  "0",
                  "0",
                  "0",
                  "0",
                  "0",
                  "0",
                  "0",
                  "0",
                  "0",
                  "0",
                  "0",
                  "1",
                  "0",
                  "0",
                  "0",
                  "0",
                  "0",
                  "0",
                  "0",
                  "0",
                  "0",
                  "0",
                  "0",
                  "0",
                  "0",
                  "0",
                  "0",
                  "0",
                  "0",
                  "0",
                  "0",
                  "0",
                  "0",
                  "0",
                  "0",
                  "0",
                  "0",
                  "0",
                  "0",
                  "0",
                  "0",
                  "0",
                  "0",
                  "0",
                  "0",
                  "0",
                  "1",
                  "0",
                  "0",
                  "0",
                  "0",
                  "0",
                  "0",
                  "0",
                  "0",
                  "0",
                  "0",
                  "0",
                  "0",
                  "0",
                  "0",
                  "0",
                  "0",
                  "0",
                  "0",
                  "0",
                  "0",
                  "0",
                  "0",
                  "0",
                  "0",
                  "0",
                  "0",
                  "1",
                  "1",
                  "0",
                  "0",
                  "0",
                  "0",
                  "0",
                  "1",
                  "0",
                  "0",
                  "0",
                  "0",
                  "0",
                  "0",
                  "0",
                  "0",
                  "0",
                  "1",
                  "0",
                  "0",
                  "0",
                  "0",
                  "0",
                  "0",
                  "0",
                  "0",
                  "0",
                  "0",
                  "0",
                  "0",
                  "0",
                  "1",
                  "0",
                  "0",
                  "1",
                  "0",
                  "0",
                  "0",
                  "0",
                  "0",
                  "0",
                  "0",
                  "0",
                  "0",
                  "0",
                  "0",
                  "0",
                  "0",
                  "0",
                  "0",
                  "0",
                  "0",
                  "0",
                  "0",
                  "0",
                  "0",
                  "0",
                  "0",
                  "0",
                  "0",
                  "0",
                  "0",
                  "0",
                  "0",
                  "0",
                  "0",
                  "0",
                  "0",
                  "0",
                  "0",
                  "0",
                  "0",
                  "0",
                  "0",
                  "0",
                  "0",
                  "0",
                  "0",
                  "0",
                  "0",
                  "0",
                  "0",
                  "0",
                  "0",
                  "0",
                  "0",
                  "0",
                  "0",
                  "0",
                  "0",
                  "0",
                  "0",
                  "0",
                  "0",
                  "0",
                  "0",
                  "0",
                  "0",
                  "0",
                  "0",
                  "0",
                  "0",
                  "0",
                  "0",
                  "0",
                  "1",
                  "0",
                  "0",
                  "0",
                  "0",
                  "0",
                  "0",
                  "0",
                  "0",
                  "0",
                  "0",
                  "0",
                  "0",
                  "0",
                  "0",
                  "0",
                  "0",
                  "0",
                  "0",
                  "0",
                  "0",
                  "0",
                  "0",
                  "0",
                  "0",
                  "0",
                  "0",
                  "0",
                  "0",
                  "0",
                  "0",
                  "0",
                  "0",
                  "0",
                  "0",
                  "0",
                  "0",
                  "0",
                  "0",
                  "0",
                  "0",
                  "0",
                  "0",
                  "0",
                  "0",
                  "0",
                  "0",
                  "0",
                  "0",
                  "0",
                  "0",
                  "1",
                  "0",
                  "0",
                  "0",
                  "0",
                  "0",
                  "0",
                  "0",
                  "0",
                  "0",
                  "0",
                  "0",
                  "0",
                  "0",
                  "0",
                  "0",
                  "0",
                  "0",
                  "0",
                  "0",
                  "0",
                  "0",
                  "0",
                  "0",
                  "0",
                  "0",
                  "0",
                  "0",
                  "0",
                  "0",
                  "0",
                  "0",
                  "0",
                  "0",
                  "0",
                  "0",
                  "0",
                  "0",
                  "0",
                  "0",
                  "0",
                  "0",
                  "0",
                  "0",
                  "0",
                  "0",
                  "0",
                  "0",
                  "0",
                  "0",
                  "0",
                  "0",
                  "0",
                  "0",
                  "0",
                  "0",
                  "0",
                  "0",
                  "0",
                  "0",
                  "0",
                  "1",
                  "0",
                  "0",
                  "0",
                  "0",
                  "0",
                  "0",
                  "0",
                  "0",
                  "0",
                  "0",
                  "0",
                  "0",
                  "0",
                  "0",
                  "0",
                  "0",
                  "0",
                  "0",
                  "0",
                  "0",
                  "0",
                  "0",
                  "0",
                  "0",
                  "0",
                  "0",
                  "0",
                  "0",
                  "0",
                  "0",
                  "0",
                  "0",
                  "0",
                  "0",
                  "0",
                  "0",
                  "0",
                  "0",
                  "1",
                  "0",
                  "0",
                  "0",
                  "0",
                  "1",
                  "0",
                  "0",
                  "0",
                  "0",
                  "0",
                  "0",
                  "0",
                  "0",
                  "0",
                  "0",
                  "0",
                  "0",
                  "0",
                  "0",
                  "0",
                  "0",
                  "0",
                  "0",
                  "0",
                  "0",
                  "0",
                  "0",
                  "0"
                ],
                [
                  "1",
                  "1",
                  "indian",
                  "1",
                  "0",
                  "0",
                  "0",
                  "0",
                  "0",
                  "0",
                  "0",
                  "0",
                  "0",
                  "0",
                  "0",
                  "0",
                  "0",
                  "0",
                  "0",
                  "0",
                  "0",
                  "0",
                  "0",
                  "0",
                  "0",
                  "0",
                  "0",
                  "0",
                  "0",
                  "0",
                  "0",
                  "0",
                  "0",
                  "0",
                  "0",
                  "0",
                  "0",
                  "0",
                  "0",
                  "0",
                  "0",
                  "0",
                  "0",
                  "0",
                  "0",
                  "0",
                  "0",
                  "0",
                  "0",
                  "0",
                  "0",
                  "0",
                  "0",
                  "0",
                  "1",
                  "0",
                  "0",
                  "0",
                  "0",
                  "0",
                  "0",
                  "0",
                  "1",
                  "0",
                  "0",
                  "0",
                  "1",
                  "0",
                  "0",
                  "0",
                  "0",
                  "0",
                  "0",
                  "0",
                  "0",
                  "0",
                  "0",
                  "0",
                  "0",
                  "0",
                  "0",
                  "0",
                  "0",
                  "0",
                  "0",
                  "0",
                  "0",
                  "0",
                  "0",
                  "0",
                  "0",
                  "0",
                  "0",
                  "0",
                  "0",
                  "0",
                  "0",
                  "0",
                  "0",
                  "0",
                  "0",
                  "0",
                  "0",
                  "0",
                  "0",
                  "0",
                  "0",
                  "0",
                  "0",
                  "0",
                  "0",
                  "0",
                  "0",
                  "0",
                  "0",
                  "0",
                  "0",
                  "0",
                  "0",
                  "0",
                  "0",
                  "0",
                  "0",
                  "0",
                  "0",
                  "0",
                  "0",
                  "0",
                  "0",
                  "0",
                  "0",
                  "0",
                  "0",
                  "0",
                  "0",
                  "0",
                  "0",
                  "0",
                  "0",
                  "0",
                  "0",
                  "0",
                  "0",
                  "0",
                  "0",
                  "0",
                  "0",
                  "0",
                  "0",
                  "0",
                  "0",
                  "0",
                  "0",
                  "0",
                  "0",
                  "0",
                  "0",
                  "0",
                  "0",
                  "0",
                  "0",
                  "0",
                  "0",
                  "0",
                  "0",
                  "0",
                  "0",
                  "0",
                  "0",
                  "0",
                  "0",
                  "0",
                  "0",
                  "0",
                  "0",
                  "0",
                  "0",
                  "0",
                  "0",
                  "0",
                  "0",
                  "0",
                  "0",
                  "0",
                  "0",
                  "0",
                  "0",
                  "0",
                  "0",
                  "0",
                  "0",
                  "0",
                  "0",
                  "0",
                  "0",
                  "0",
                  "0",
                  "0",
                  "0",
                  "0",
                  "0",
                  "0",
                  "0",
                  "0",
                  "0",
                  "0",
                  "0",
                  "0",
                  "0",
                  "0",
                  "1",
                  "0",
                  "0",
                  "0",
                  "0",
                  "0",
                  "0",
                  "0",
                  "0",
                  "0",
                  "0",
                  "0",
                  "0",
                  "0",
                  "0",
                  "0",
                  "0",
                  "0",
                  "0",
                  "0",
                  "0",
                  "0",
                  "0",
                  "0",
                  "0",
                  "0",
                  "0",
                  "0",
                  "0",
                  "0",
                  "0",
                  "0",
                  "0",
                  "0",
                  "0",
                  "0",
                  "0",
                  "0",
                  "0",
                  "0",
                  "0",
                  "0",
                  "0",
                  "0",
                  "0",
                  "0",
                  "0",
                  "0",
                  "0",
                  "0",
                  "0",
                  "0",
                  "0",
                  "0",
                  "0",
                  "0",
                  "0",
                  "0",
                  "0",
                  "0",
                  "0",
                  "0",
                  "0",
                  "0",
                  "0",
                  "0",
                  "1",
                  "0",
                  "0",
                  "0",
                  "0",
                  "0",
                  "0",
                  "0",
                  "0",
                  "0",
                  "0",
                  "0",
                  "0",
                  "0",
                  "0",
                  "0",
                  "0",
                  "0",
                  "0",
                  "0",
                  "0",
                  "0",
                  "0",
                  "0",
                  "0",
                  "0",
                  "0",
                  "1",
                  "0",
                  "0",
                  "0",
                  "0",
                  "0",
                  "0",
                  "0",
                  "0",
                  "0",
                  "0",
                  "0",
                  "0",
                  "0",
                  "0",
                  "0",
                  "0",
                  "0",
                  "0",
                  "0",
                  "0",
                  "0",
                  "0",
                  "0",
                  "0",
                  "0",
                  "0",
                  "0",
                  "0",
                  "0",
                  "0",
                  "0",
                  "0",
                  "0",
                  "0",
                  "0",
                  "0",
                  "0",
                  "0",
                  "0",
                  "0",
                  "0",
                  "0",
                  "0",
                  "0",
                  "0",
                  "0",
                  "0",
                  "0",
                  "0",
                  "0",
                  "0",
                  "0",
                  "0",
                  "0",
                  "0",
                  "0",
                  "0",
                  "0",
                  "0",
                  "0",
                  "0",
                  "0",
                  "0",
                  "0",
                  "0",
                  "0",
                  "0",
                  "0",
                  "0",
                  "0",
                  "0",
                  "0",
                  "0",
                  "0",
                  "0",
                  "0",
                  "0",
                  "0",
                  "0"
                ],
                [
                  "2",
                  "2",
                  "indian",
                  "0",
                  "0",
                  "0",
                  "0",
                  "0",
                  "0",
                  "0",
                  "0",
                  "0",
                  "0",
                  "0",
                  "0",
                  "0",
                  "0",
                  "0",
                  "0",
                  "0",
                  "0",
                  "0",
                  "0",
                  "0",
                  "0",
                  "0",
                  "0",
                  "0",
                  "0",
                  "0",
                  "0",
                  "0",
                  "0",
                  "0",
                  "0",
                  "0",
                  "0",
                  "0",
                  "0",
                  "0",
                  "0",
                  "0",
                  "0",
                  "0",
                  "0",
                  "0",
                  "0",
                  "0",
                  "0",
                  "0",
                  "0",
                  "0",
                  "0",
                  "0",
                  "0",
                  "0",
                  "0",
                  "0",
                  "0",
                  "0",
                  "0",
                  "0",
                  "1",
                  "0",
                  "0",
                  "0",
                  "0",
                  "0",
                  "0",
                  "0",
                  "0",
                  "0",
                  "0",
                  "0",
                  "0",
                  "0",
                  "0",
                  "0",
                  "0",
                  "0",
                  "0",
                  "0",
                  "0",
                  "0",
                  "0",
                  "0",
                  "0",
                  "0",
                  "0",
                  "0",
                  "0",
                  "0",
                  "1",
                  "0",
                  "0",
                  "0",
                  "0",
                  "0",
                  "0",
                  "0",
                  "0",
                  "0",
                  "0",
                  "0",
                  "0",
                  "0",
                  "0",
                  "0",
                  "0",
                  "0",
                  "0",
                  "0",
                  "0",
                  "0",
                  "0",
                  "0",
                  "0",
                  "0",
                  "0",
                  "0",
                  "0",
                  "0",
                  "0",
                  "0",
                  "0",
                  "0",
                  "0",
                  "0",
                  "0",
                  "0",
                  "0",
                  "0",
                  "0",
                  "0",
                  "0",
                  "0",
                  "0",
                  "0",
                  "0",
                  "0",
                  "0",
                  "0",
                  "0",
                  "0",
                  "0",
                  "0",
                  "0",
                  "0",
                  "0",
                  "0",
                  "0",
                  "0",
                  "0",
                  "0",
                  "0",
                  "0",
                  "0",
                  "0",
                  "0",
                  "0",
                  "0",
                  "0",
                  "0",
                  "0",
                  "0",
                  "0",
                  "0",
                  "0",
                  "0",
                  "0",
                  "0",
                  "0",
                  "0",
                  "0",
                  "0",
                  "0",
                  "0",
                  "0",
                  "1",
                  "0",
                  "0",
                  "0",
                  "0",
                  "0",
                  "0",
                  "0",
                  "0",
                  "0",
                  "0",
                  "0",
                  "0",
                  "0",
                  "0",
                  "0",
                  "0",
                  "0",
                  "0",
                  "0",
                  "0",
                  "0",
                  "0",
                  "0",
                  "0",
                  "0",
                  "0",
                  "0",
                  "0",
                  "0",
                  "0",
                  "0",
                  "0",
                  "0",
                  "0",
                  "0",
                  "0",
                  "0",
                  "0",
                  "0",
                  "0",
                  "0",
                  "0",
                  "0",
                  "0",
                  "0",
                  "0",
                  "0",
                  "0",
                  "0",
                  "0",
                  "0",
                  "0",
                  "0",
                  "0",
                  "0",
                  "0",
                  "0",
                  "0",
                  "0",
                  "0",
                  "0",
                  "0",
                  "0",
                  "0",
                  "0",
                  "0",
                  "0",
                  "0",
                  "0",
                  "0",
                  "0",
                  "0",
                  "0",
                  "0",
                  "0",
                  "0",
                  "0",
                  "0",
                  "0",
                  "0",
                  "0",
                  "0",
                  "0",
                  "0",
                  "0",
                  "0",
                  "0",
                  "0",
                  "0",
                  "0",
                  "0",
                  "0",
                  "0",
                  "0",
                  "0",
                  "0",
                  "0",
                  "0",
                  "0",
                  "0",
                  "0",
                  "0",
                  "0",
                  "0",
                  "0",
                  "0",
                  "0",
                  "0",
                  "0",
                  "0",
                  "0",
                  "0",
                  "0",
                  "0",
                  "0",
                  "0",
                  "0",
                  "0",
                  "0",
                  "0",
                  "0",
                  "0",
                  "0",
                  "0",
                  "0",
                  "0",
                  "0",
                  "0",
                  "0",
                  "0",
                  "0",
                  "0",
                  "0",
                  "0",
                  "0",
                  "0",
                  "0",
                  "0",
                  "0",
                  "0",
                  "0",
                  "0",
                  "0",
                  "0",
                  "0",
                  "0",
                  "0",
                  "0",
                  "0",
                  "0",
                  "0",
                  "0",
                  "0",
                  "0",
                  "0",
                  "0",
                  "0",
                  "0",
                  "0",
                  "0",
                  "0",
                  "0",
                  "0",
                  "0",
                  "0",
                  "0",
                  "0",
                  "0",
                  "0",
                  "0",
                  "0",
                  "0",
                  "0",
                  "0",
                  "0",
                  "0",
                  "0",
                  "0",
                  "0",
                  "0",
                  "0",
                  "0",
                  "0",
                  "0",
                  "0",
                  "0",
                  "0",
                  "0",
                  "0",
                  "0",
                  "0",
                  "0",
                  "0",
                  "0",
                  "0",
                  "0",
                  "0",
                  "0",
                  "0",
                  "0",
                  "0",
                  "0",
                  "0",
                  "0"
                ],
                [
                  "3",
                  "3",
                  "indian",
                  "0",
                  "0",
                  "0",
                  "0",
                  "0",
                  "0",
                  "0",
                  "0",
                  "0",
                  "0",
                  "0",
                  "0",
                  "0",
                  "0",
                  "0",
                  "0",
                  "0",
                  "0",
                  "0",
                  "0",
                  "0",
                  "0",
                  "0",
                  "0",
                  "0",
                  "0",
                  "0",
                  "0",
                  "0",
                  "0",
                  "0",
                  "0",
                  "0",
                  "1",
                  "0",
                  "0",
                  "0",
                  "0",
                  "0",
                  "0",
                  "0",
                  "0",
                  "0",
                  "0",
                  "0",
                  "0",
                  "0",
                  "0",
                  "0",
                  "0",
                  "0",
                  "1",
                  "0",
                  "0",
                  "0",
                  "0",
                  "0",
                  "0",
                  "0",
                  "0",
                  "0",
                  "0",
                  "1",
                  "0",
                  "0",
                  "0",
                  "0",
                  "0",
                  "1",
                  "0",
                  "0",
                  "0",
                  "0",
                  "0",
                  "0",
                  "0",
                  "0",
                  "0",
                  "0",
                  "0",
                  "0",
                  "0",
                  "0",
                  "0",
                  "0",
                  "0",
                  "0",
                  "0",
                  "0",
                  "0",
                  "0",
                  "0",
                  "0",
                  "0",
                  "0",
                  "1",
                  "0",
                  "0",
                  "0",
                  "0",
                  "0",
                  "0",
                  "0",
                  "0",
                  "0",
                  "0",
                  "0",
                  "0",
                  "0",
                  "0",
                  "0",
                  "0",
                  "0",
                  "0",
                  "0",
                  "0",
                  "0",
                  "0",
                  "0",
                  "0",
                  "0",
                  "0",
                  "0",
                  "0",
                  "0",
                  "0",
                  "1",
                  "0",
                  "0",
                  "0",
                  "0",
                  "0",
                  "0",
                  "0",
                  "0",
                  "0",
                  "0",
                  "0",
                  "0",
                  "0",
                  "0",
                  "0",
                  "0",
                  "0",
                  "0",
                  "0",
                  "0",
                  "0",
                  "0",
                  "0",
                  "0",
                  "0",
                  "0",
                  "0",
                  "0",
                  "0",
                  "0",
                  "0",
                  "0",
                  "0",
                  "0",
                  "0",
                  "0",
                  "0",
                  "0",
                  "0",
                  "0",
                  "0",
                  "0",
                  "0",
                  "0",
                  "0",
                  "0",
                  "0",
                  "0",
                  "0",
                  "0",
                  "0",
                  "0",
                  "0",
                  "0",
                  "0",
                  "0",
                  "0",
                  "0",
                  "1",
                  "0",
                  "0",
                  "0",
                  "0",
                  "0",
                  "0",
                  "0",
                  "0",
                  "0",
                  "0",
                  "0",
                  "0",
                  "0",
                  "0",
                  "0",
                  "0",
                  "0",
                  "0",
                  "0",
                  "0",
                  "0",
                  "0",
                  "0",
                  "0",
                  "0",
                  "0",
                  "0",
                  "0",
                  "0",
                  "0",
                  "0",
                  "0",
                  "0",
                  "0",
                  "0",
                  "0",
                  "0",
                  "0",
                  "0",
                  "1",
                  "0",
                  "0",
                  "1",
                  "0",
                  "0",
                  "0",
                  "0",
                  "0",
                  "0",
                  "0",
                  "0",
                  "0",
                  "0",
                  "0",
                  "0",
                  "0",
                  "0",
                  "0",
                  "0",
                  "0",
                  "0",
                  "0",
                  "0",
                  "0",
                  "0",
                  "0",
                  "0",
                  "0",
                  "0",
                  "0",
                  "0",
                  "0",
                  "0",
                  "0",
                  "0",
                  "0",
                  "0",
                  "0",
                  "0",
                  "0",
                  "0",
                  "0",
                  "0",
                  "0",
                  "0",
                  "0",
                  "0",
                  "0",
                  "0",
                  "0",
                  "0",
                  "0",
                  "0",
                  "0",
                  "0",
                  "0",
                  "0",
                  "0",
                  "0",
                  "0",
                  "0",
                  "0",
                  "0",
                  "0",
                  "0",
                  "0",
                  "0",
                  "0",
                  "0",
                  "0",
                  "0",
                  "0",
                  "0",
                  "0",
                  "0",
                  "0",
                  "0",
                  "0",
                  "0",
                  "0",
                  "0",
                  "1",
                  "0",
                  "0",
                  "0",
                  "0",
                  "1",
                  "0",
                  "0",
                  "0",
                  "0",
                  "0",
                  "0",
                  "0",
                  "0",
                  "0",
                  "0",
                  "0",
                  "0",
                  "0",
                  "0",
                  "0",
                  "0",
                  "0",
                  "0",
                  "0",
                  "0",
                  "0",
                  "0",
                  "0",
                  "0",
                  "0",
                  "0",
                  "0",
                  "0",
                  "0",
                  "0",
                  "0",
                  "0",
                  "0",
                  "0",
                  "0",
                  "0",
                  "0",
                  "0",
                  "1",
                  "0",
                  "0",
                  "0",
                  "0",
                  "1",
                  "0",
                  "0",
                  "0",
                  "0",
                  "0",
                  "0",
                  "0",
                  "0",
                  "0",
                  "0",
                  "0",
                  "1",
                  "0",
                  "0",
                  "0",
                  "0",
                  "0",
                  "0",
                  "0",
                  "0",
                  "0",
                  "0",
                  "0"
                ],
                [
                  "4",
                  "4",
                  "indian",
                  "0",
                  "0",
                  "0",
                  "0",
                  "0",
                  "0",
                  "0",
                  "0",
                  "0",
                  "0",
                  "0",
                  "0",
                  "0",
                  "0",
                  "0",
                  "0",
                  "0",
                  "0",
                  "0",
                  "0",
                  "0",
                  "0",
                  "0",
                  "0",
                  "0",
                  "0",
                  "0",
                  "0",
                  "0",
                  "0",
                  "0",
                  "0",
                  "0",
                  "0",
                  "1",
                  "0",
                  "0",
                  "0",
                  "0",
                  "0",
                  "0",
                  "0",
                  "0",
                  "0",
                  "0",
                  "0",
                  "0",
                  "0",
                  "0",
                  "0",
                  "0",
                  "1",
                  "0",
                  "0",
                  "0",
                  "0",
                  "0",
                  "0",
                  "0",
                  "1",
                  "0",
                  "0",
                  "0",
                  "1",
                  "0",
                  "0",
                  "0",
                  "0",
                  "1",
                  "0",
                  "0",
                  "0",
                  "0",
                  "0",
                  "0",
                  "0",
                  "0",
                  "0",
                  "0",
                  "0",
                  "1",
                  "0",
                  "0",
                  "0",
                  "0",
                  "0",
                  "0",
                  "0",
                  "0",
                  "1",
                  "0",
                  "0",
                  "0",
                  "0",
                  "0",
                  "0",
                  "0",
                  "0",
                  "0",
                  "0",
                  "0",
                  "0",
                  "0",
                  "0",
                  "0",
                  "0",
                  "0",
                  "0",
                  "0",
                  "0",
                  "0",
                  "0",
                  "1",
                  "0",
                  "0",
                  "0",
                  "0",
                  "0",
                  "0",
                  "0",
                  "0",
                  "0",
                  "0",
                  "0",
                  "0",
                  "0",
                  "0",
                  "0",
                  "0",
                  "0",
                  "0",
                  "0",
                  "0",
                  "0",
                  "0",
                  "0",
                  "0",
                  "0",
                  "0",
                  "0",
                  "0",
                  "0",
                  "0",
                  "0",
                  "0",
                  "0",
                  "0",
                  "0",
                  "0",
                  "0",
                  "0",
                  "0",
                  "0",
                  "0",
                  "0",
                  "0",
                  "0",
                  "0",
                  "0",
                  "0",
                  "0",
                  "0",
                  "0",
                  "0",
                  "0",
                  "0",
                  "0",
                  "0",
                  "0",
                  "0",
                  "0",
                  "0",
                  "0",
                  "0",
                  "0",
                  "0",
                  "1",
                  "0",
                  "0",
                  "0",
                  "0",
                  "0",
                  "0",
                  "0",
                  "0",
                  "0",
                  "0",
                  "0",
                  "0",
                  "0",
                  "0",
                  "0",
                  "0",
                  "0",
                  "0",
                  "0",
                  "0",
                  "0",
                  "0",
                  "0",
                  "0",
                  "0",
                  "0",
                  "0",
                  "0",
                  "0",
                  "0",
                  "0",
                  "0",
                  "0",
                  "0",
                  "0",
                  "0",
                  "0",
                  "0",
                  "0",
                  "0",
                  "0",
                  "0",
                  "0",
                  "0",
                  "0",
                  "0",
                  "0",
                  "0",
                  "0",
                  "0",
                  "0",
                  "0",
                  "0",
                  "0",
                  "0",
                  "0",
                  "0",
                  "0",
                  "0",
                  "0",
                  "0",
                  "0",
                  "0",
                  "0",
                  "0",
                  "0",
                  "0",
                  "0",
                  "0",
                  "0",
                  "0",
                  "0",
                  "0",
                  "0",
                  "0",
                  "0",
                  "0",
                  "0",
                  "0",
                  "0",
                  "0",
                  "0",
                  "0",
                  "0",
                  "0",
                  "0",
                  "0",
                  "0",
                  "0",
                  "0",
                  "0",
                  "0",
                  "0",
                  "0",
                  "0",
                  "0",
                  "1",
                  "0",
                  "0",
                  "0",
                  "0",
                  "0",
                  "0",
                  "0",
                  "0",
                  "0",
                  "0",
                  "0",
                  "0",
                  "0",
                  "0",
                  "0",
                  "0",
                  "0",
                  "0",
                  "0",
                  "0",
                  "0",
                  "0",
                  "0",
                  "0",
                  "0",
                  "0",
                  "0",
                  "0",
                  "0",
                  "0",
                  "0",
                  "0",
                  "0",
                  "0",
                  "0",
                  "0",
                  "0",
                  "0",
                  "0",
                  "0",
                  "0",
                  "0",
                  "0",
                  "0",
                  "0",
                  "0",
                  "0",
                  "0",
                  "0",
                  "0",
                  "0",
                  "0",
                  "0",
                  "0",
                  "0",
                  "0",
                  "0",
                  "0",
                  "0",
                  "0",
                  "0",
                  "0",
                  "0",
                  "0",
                  "0",
                  "0",
                  "0",
                  "0",
                  "0",
                  "0",
                  "0",
                  "0",
                  "0",
                  "0",
                  "0",
                  "0",
                  "0",
                  "0",
                  "0",
                  "0",
                  "0",
                  "0",
                  "0",
                  "0",
                  "0",
                  "0",
                  "0",
                  "0",
                  "0",
                  "0",
                  "0",
                  "0",
                  "0",
                  "0",
                  "0",
                  "0",
                  "0",
                  "0",
                  "0",
                  "0",
                  "0",
                  "0",
                  "0",
                  "0",
                  "1",
                  "0"
                ]
              ],
              "shape": {
                "columns": 382,
                "rows": 5
              }
            },
            "text/html": [
              "<div>\n",
              "<style scoped>\n",
              "    .dataframe tbody tr th:only-of-type {\n",
              "        vertical-align: middle;\n",
              "    }\n",
              "\n",
              "    .dataframe tbody tr th {\n",
              "        vertical-align: top;\n",
              "    }\n",
              "\n",
              "    .dataframe thead th {\n",
              "        text-align: right;\n",
              "    }\n",
              "</style>\n",
              "<table border=\"1\" class=\"dataframe\">\n",
              "  <thead>\n",
              "    <tr style=\"text-align: right;\">\n",
              "      <th></th>\n",
              "      <th>Unnamed: 0</th>\n",
              "      <th>cuisine</th>\n",
              "      <th>almond</th>\n",
              "      <th>angelica</th>\n",
              "      <th>anise</th>\n",
              "      <th>anise_seed</th>\n",
              "      <th>apple</th>\n",
              "      <th>apple_brandy</th>\n",
              "      <th>apricot</th>\n",
              "      <th>armagnac</th>\n",
              "      <th>...</th>\n",
              "      <th>whiskey</th>\n",
              "      <th>white_bread</th>\n",
              "      <th>white_wine</th>\n",
              "      <th>whole_grain_wheat_flour</th>\n",
              "      <th>wine</th>\n",
              "      <th>wood</th>\n",
              "      <th>yam</th>\n",
              "      <th>yeast</th>\n",
              "      <th>yogurt</th>\n",
              "      <th>zucchini</th>\n",
              "    </tr>\n",
              "  </thead>\n",
              "  <tbody>\n",
              "    <tr>\n",
              "      <th>0</th>\n",
              "      <td>0</td>\n",
              "      <td>indian</td>\n",
              "      <td>0</td>\n",
              "      <td>0</td>\n",
              "      <td>0</td>\n",
              "      <td>0</td>\n",
              "      <td>0</td>\n",
              "      <td>0</td>\n",
              "      <td>0</td>\n",
              "      <td>0</td>\n",
              "      <td>...</td>\n",
              "      <td>0</td>\n",
              "      <td>0</td>\n",
              "      <td>0</td>\n",
              "      <td>0</td>\n",
              "      <td>0</td>\n",
              "      <td>0</td>\n",
              "      <td>0</td>\n",
              "      <td>0</td>\n",
              "      <td>0</td>\n",
              "      <td>0</td>\n",
              "    </tr>\n",
              "    <tr>\n",
              "      <th>1</th>\n",
              "      <td>1</td>\n",
              "      <td>indian</td>\n",
              "      <td>1</td>\n",
              "      <td>0</td>\n",
              "      <td>0</td>\n",
              "      <td>0</td>\n",
              "      <td>0</td>\n",
              "      <td>0</td>\n",
              "      <td>0</td>\n",
              "      <td>0</td>\n",
              "      <td>...</td>\n",
              "      <td>0</td>\n",
              "      <td>0</td>\n",
              "      <td>0</td>\n",
              "      <td>0</td>\n",
              "      <td>0</td>\n",
              "      <td>0</td>\n",
              "      <td>0</td>\n",
              "      <td>0</td>\n",
              "      <td>0</td>\n",
              "      <td>0</td>\n",
              "    </tr>\n",
              "    <tr>\n",
              "      <th>2</th>\n",
              "      <td>2</td>\n",
              "      <td>indian</td>\n",
              "      <td>0</td>\n",
              "      <td>0</td>\n",
              "      <td>0</td>\n",
              "      <td>0</td>\n",
              "      <td>0</td>\n",
              "      <td>0</td>\n",
              "      <td>0</td>\n",
              "      <td>0</td>\n",
              "      <td>...</td>\n",
              "      <td>0</td>\n",
              "      <td>0</td>\n",
              "      <td>0</td>\n",
              "      <td>0</td>\n",
              "      <td>0</td>\n",
              "      <td>0</td>\n",
              "      <td>0</td>\n",
              "      <td>0</td>\n",
              "      <td>0</td>\n",
              "      <td>0</td>\n",
              "    </tr>\n",
              "    <tr>\n",
              "      <th>3</th>\n",
              "      <td>3</td>\n",
              "      <td>indian</td>\n",
              "      <td>0</td>\n",
              "      <td>0</td>\n",
              "      <td>0</td>\n",
              "      <td>0</td>\n",
              "      <td>0</td>\n",
              "      <td>0</td>\n",
              "      <td>0</td>\n",
              "      <td>0</td>\n",
              "      <td>...</td>\n",
              "      <td>0</td>\n",
              "      <td>0</td>\n",
              "      <td>0</td>\n",
              "      <td>0</td>\n",
              "      <td>0</td>\n",
              "      <td>0</td>\n",
              "      <td>0</td>\n",
              "      <td>0</td>\n",
              "      <td>0</td>\n",
              "      <td>0</td>\n",
              "    </tr>\n",
              "    <tr>\n",
              "      <th>4</th>\n",
              "      <td>4</td>\n",
              "      <td>indian</td>\n",
              "      <td>0</td>\n",
              "      <td>0</td>\n",
              "      <td>0</td>\n",
              "      <td>0</td>\n",
              "      <td>0</td>\n",
              "      <td>0</td>\n",
              "      <td>0</td>\n",
              "      <td>0</td>\n",
              "      <td>...</td>\n",
              "      <td>0</td>\n",
              "      <td>0</td>\n",
              "      <td>0</td>\n",
              "      <td>0</td>\n",
              "      <td>0</td>\n",
              "      <td>0</td>\n",
              "      <td>0</td>\n",
              "      <td>0</td>\n",
              "      <td>1</td>\n",
              "      <td>0</td>\n",
              "    </tr>\n",
              "  </tbody>\n",
              "</table>\n",
              "<p>5 rows × 382 columns</p>\n",
              "</div>"
            ],
            "text/plain": [
              "   Unnamed: 0 cuisine  almond  angelica  anise  anise_seed  apple  \\\n",
              "0           0  indian       0         0      0           0      0   \n",
              "1           1  indian       1         0      0           0      0   \n",
              "2           2  indian       0         0      0           0      0   \n",
              "3           3  indian       0         0      0           0      0   \n",
              "4           4  indian       0         0      0           0      0   \n",
              "\n",
              "   apple_brandy  apricot  armagnac  ...  whiskey  white_bread  white_wine  \\\n",
              "0             0        0         0  ...        0            0           0   \n",
              "1             0        0         0  ...        0            0           0   \n",
              "2             0        0         0  ...        0            0           0   \n",
              "3             0        0         0  ...        0            0           0   \n",
              "4             0        0         0  ...        0            0           0   \n",
              "\n",
              "   whole_grain_wheat_flour  wine  wood  yam  yeast  yogurt  zucchini  \n",
              "0                        0     0     0    0      0       0         0  \n",
              "1                        0     0     0    0      0       0         0  \n",
              "2                        0     0     0    0      0       0         0  \n",
              "3                        0     0     0    0      0       0         0  \n",
              "4                        0     0     0    0      0       1         0  \n",
              "\n",
              "[5 rows x 382 columns]"
            ]
          },
          "execution_count": 40,
          "metadata": {},
          "output_type": "execute_result"
        }
      ],
      "source": [
        "import pandas as pd\n",
        "cuisines_df = pd.read_csv(\"https://raw.githubusercontent.com/SMC-AAU-CPH/ML-For-Beginners/main/3-Classification/data/cleaned_cuisines.csv\")\n",
        "cuisines_df.head()"
      ]
    },
    {
      "cell_type": "code",
      "execution_count": 41,
      "metadata": {
        "colab": {
          "base_uri": "https://localhost:8080/",
          "height": 676
        },
        "id": "KRz0NMk8yEmE",
        "outputId": "239f2c99-98e8-4032-bd59-b7ba3c6e6888"
      },
      "outputs": [
        {
          "data": {
            "text/html": [
              "<style type=\"text/css\">\n",
              "#T_97bb3_row9_col1 {\n",
              "  background-color: lightgreen;\n",
              "}\n",
              "</style>\n",
              "<table id=\"T_97bb3\">\n",
              "  <thead>\n",
              "    <tr>\n",
              "      <th class=\"blank level0\" >&nbsp;</th>\n",
              "      <th id=\"T_97bb3_level0_col0\" class=\"col_heading level0 col0\" >Description</th>\n",
              "      <th id=\"T_97bb3_level0_col1\" class=\"col_heading level0 col1\" >Value</th>\n",
              "    </tr>\n",
              "  </thead>\n",
              "  <tbody>\n",
              "    <tr>\n",
              "      <th id=\"T_97bb3_level0_row0\" class=\"row_heading level0 row0\" >0</th>\n",
              "      <td id=\"T_97bb3_row0_col0\" class=\"data row0 col0\" >Session id</td>\n",
              "      <td id=\"T_97bb3_row0_col1\" class=\"data row0 col1\" >789</td>\n",
              "    </tr>\n",
              "    <tr>\n",
              "      <th id=\"T_97bb3_level0_row1\" class=\"row_heading level0 row1\" >1</th>\n",
              "      <td id=\"T_97bb3_row1_col0\" class=\"data row1 col0\" >Target</td>\n",
              "      <td id=\"T_97bb3_row1_col1\" class=\"data row1 col1\" >cuisine</td>\n",
              "    </tr>\n",
              "    <tr>\n",
              "      <th id=\"T_97bb3_level0_row2\" class=\"row_heading level0 row2\" >2</th>\n",
              "      <td id=\"T_97bb3_row2_col0\" class=\"data row2 col0\" >Target type</td>\n",
              "      <td id=\"T_97bb3_row2_col1\" class=\"data row2 col1\" >Multiclass</td>\n",
              "    </tr>\n",
              "    <tr>\n",
              "      <th id=\"T_97bb3_level0_row3\" class=\"row_heading level0 row3\" >3</th>\n",
              "      <td id=\"T_97bb3_row3_col0\" class=\"data row3 col0\" >Target mapping</td>\n",
              "      <td id=\"T_97bb3_row3_col1\" class=\"data row3 col1\" >chinese: 0, indian: 1, japanese: 2, korean: 3, thai: 4</td>\n",
              "    </tr>\n",
              "    <tr>\n",
              "      <th id=\"T_97bb3_level0_row4\" class=\"row_heading level0 row4\" >4</th>\n",
              "      <td id=\"T_97bb3_row4_col0\" class=\"data row4 col0\" >Original data shape</td>\n",
              "      <td id=\"T_97bb3_row4_col1\" class=\"data row4 col1\" >(3995, 382)</td>\n",
              "    </tr>\n",
              "    <tr>\n",
              "      <th id=\"T_97bb3_level0_row5\" class=\"row_heading level0 row5\" >5</th>\n",
              "      <td id=\"T_97bb3_row5_col0\" class=\"data row5 col0\" >Transformed data shape</td>\n",
              "      <td id=\"T_97bb3_row5_col1\" class=\"data row5 col1\" >(3995, 382)</td>\n",
              "    </tr>\n",
              "    <tr>\n",
              "      <th id=\"T_97bb3_level0_row6\" class=\"row_heading level0 row6\" >6</th>\n",
              "      <td id=\"T_97bb3_row6_col0\" class=\"data row6 col0\" >Transformed train set shape</td>\n",
              "      <td id=\"T_97bb3_row6_col1\" class=\"data row6 col1\" >(2796, 382)</td>\n",
              "    </tr>\n",
              "    <tr>\n",
              "      <th id=\"T_97bb3_level0_row7\" class=\"row_heading level0 row7\" >7</th>\n",
              "      <td id=\"T_97bb3_row7_col0\" class=\"data row7 col0\" >Transformed test set shape</td>\n",
              "      <td id=\"T_97bb3_row7_col1\" class=\"data row7 col1\" >(1199, 382)</td>\n",
              "    </tr>\n",
              "    <tr>\n",
              "      <th id=\"T_97bb3_level0_row8\" class=\"row_heading level0 row8\" >8</th>\n",
              "      <td id=\"T_97bb3_row8_col0\" class=\"data row8 col0\" >Numeric features</td>\n",
              "      <td id=\"T_97bb3_row8_col1\" class=\"data row8 col1\" >381</td>\n",
              "    </tr>\n",
              "    <tr>\n",
              "      <th id=\"T_97bb3_level0_row9\" class=\"row_heading level0 row9\" >9</th>\n",
              "      <td id=\"T_97bb3_row9_col0\" class=\"data row9 col0\" >Preprocess</td>\n",
              "      <td id=\"T_97bb3_row9_col1\" class=\"data row9 col1\" >True</td>\n",
              "    </tr>\n",
              "    <tr>\n",
              "      <th id=\"T_97bb3_level0_row10\" class=\"row_heading level0 row10\" >10</th>\n",
              "      <td id=\"T_97bb3_row10_col0\" class=\"data row10 col0\" >Imputation type</td>\n",
              "      <td id=\"T_97bb3_row10_col1\" class=\"data row10 col1\" >simple</td>\n",
              "    </tr>\n",
              "    <tr>\n",
              "      <th id=\"T_97bb3_level0_row11\" class=\"row_heading level0 row11\" >11</th>\n",
              "      <td id=\"T_97bb3_row11_col0\" class=\"data row11 col0\" >Numeric imputation</td>\n",
              "      <td id=\"T_97bb3_row11_col1\" class=\"data row11 col1\" >mean</td>\n",
              "    </tr>\n",
              "    <tr>\n",
              "      <th id=\"T_97bb3_level0_row12\" class=\"row_heading level0 row12\" >12</th>\n",
              "      <td id=\"T_97bb3_row12_col0\" class=\"data row12 col0\" >Categorical imputation</td>\n",
              "      <td id=\"T_97bb3_row12_col1\" class=\"data row12 col1\" >mode</td>\n",
              "    </tr>\n",
              "    <tr>\n",
              "      <th id=\"T_97bb3_level0_row13\" class=\"row_heading level0 row13\" >13</th>\n",
              "      <td id=\"T_97bb3_row13_col0\" class=\"data row13 col0\" >Fold Generator</td>\n",
              "      <td id=\"T_97bb3_row13_col1\" class=\"data row13 col1\" >StratifiedKFold</td>\n",
              "    </tr>\n",
              "    <tr>\n",
              "      <th id=\"T_97bb3_level0_row14\" class=\"row_heading level0 row14\" >14</th>\n",
              "      <td id=\"T_97bb3_row14_col0\" class=\"data row14 col0\" >Fold Number</td>\n",
              "      <td id=\"T_97bb3_row14_col1\" class=\"data row14 col1\" >10</td>\n",
              "    </tr>\n",
              "    <tr>\n",
              "      <th id=\"T_97bb3_level0_row15\" class=\"row_heading level0 row15\" >15</th>\n",
              "      <td id=\"T_97bb3_row15_col0\" class=\"data row15 col0\" >CPU Jobs</td>\n",
              "      <td id=\"T_97bb3_row15_col1\" class=\"data row15 col1\" >-1</td>\n",
              "    </tr>\n",
              "    <tr>\n",
              "      <th id=\"T_97bb3_level0_row16\" class=\"row_heading level0 row16\" >16</th>\n",
              "      <td id=\"T_97bb3_row16_col0\" class=\"data row16 col0\" >Use GPU</td>\n",
              "      <td id=\"T_97bb3_row16_col1\" class=\"data row16 col1\" >False</td>\n",
              "    </tr>\n",
              "    <tr>\n",
              "      <th id=\"T_97bb3_level0_row17\" class=\"row_heading level0 row17\" >17</th>\n",
              "      <td id=\"T_97bb3_row17_col0\" class=\"data row17 col0\" >Log Experiment</td>\n",
              "      <td id=\"T_97bb3_row17_col1\" class=\"data row17 col1\" >False</td>\n",
              "    </tr>\n",
              "    <tr>\n",
              "      <th id=\"T_97bb3_level0_row18\" class=\"row_heading level0 row18\" >18</th>\n",
              "      <td id=\"T_97bb3_row18_col0\" class=\"data row18 col0\" >Experiment Name</td>\n",
              "      <td id=\"T_97bb3_row18_col1\" class=\"data row18 col1\" >clf-default-name</td>\n",
              "    </tr>\n",
              "    <tr>\n",
              "      <th id=\"T_97bb3_level0_row19\" class=\"row_heading level0 row19\" >19</th>\n",
              "      <td id=\"T_97bb3_row19_col0\" class=\"data row19 col0\" >USI</td>\n",
              "      <td id=\"T_97bb3_row19_col1\" class=\"data row19 col1\" >49e1</td>\n",
              "    </tr>\n",
              "  </tbody>\n",
              "</table>\n"
            ],
            "text/plain": [
              "<pandas.io.formats.style.Styler at 0x31a48b390>"
            ]
          },
          "metadata": {},
          "output_type": "display_data"
        }
      ],
      "source": [
        "s42 = setup(cuisines_df, target = 'cuisine', session_id = 789)"
      ]
    },
    {
      "cell_type": "code",
      "execution_count": 42,
      "metadata": {
        "id": "9jRLDKz5yEmE"
      },
      "outputs": [],
      "source": [
        "### Insert futher code here\n"
      ]
    },
    {
      "cell_type": "markdown",
      "metadata": {
        "id": "ktZ79EuHyEmE"
      },
      "source": [
        "# 4 Workshop (Part 2): 🚀Deployment\n",
        "\n",
        "In our curriculum, we saw several ways of deploying our ML models for inference.\n",
        "\n",
        "For instance\n",
        "1. [3-CLASSIFICATION](../../3-Classification/README.md) / [4-Applied](../../3-Classification/4-Applied/README.md) converts a trained model to onnx, then uses tensorflow.js to serve it.\n",
        "2. [This session's project](../1-Web-App/README.md) is a [Flask](https://flask.palletsprojects.com)-based approach that refactors your notebook code and serves it locally. It is also posible to deploy the app to a Platform as a Service (PaaS), such as Heroku.\n",
        "3. [Microsoft Learning has a module]([https://learn.microsoft.com/en-us/training/modules/python-flask-build-ai-web-app/) that uses a deep learning translator inference at Azure: you can check the demo at the workshop.\n",
        "\n",
        "✅ Please complete one the above steps to deploy your first web application in this .venv.\n"
      ]
    },
    {
      "cell_type": "markdown",
      "metadata": {
        "id": "AQ5nDY68yEmE"
      },
      "source": [
        "## 4.4 Introducing Gradio and Hugging Face Spaces\n",
        "\n",
        "Welcome to my space: https://huggingface.co/spaces/cerkut/ I'll give you a guided tour."
      ]
    },
    {
      "cell_type": "markdown",
      "metadata": {
        "id": "OOmdzgi_yEmE"
      },
      "source": [
        "✅ As you would suspect, there are simpler ways of creating a hosted web app. Please check PyCaret's `create_app` function."
      ]
    },
    {
      "cell_type": "code",
      "execution_count": 43,
      "metadata": {
        "colab": {
          "base_uri": "https://localhost:8080/"
        },
        "id": "s-RkvG7kyEmE",
        "outputId": "19a16ebb-2731-4860-82cf-602985662d63"
      },
      "outputs": [
        {
          "name": "stdout",
          "output_type": "stream",
          "text": [
            "Help on function create_app in module pycaret.classification.functional:\n",
            "\n",
            "create_app(estimator, app_kwargs: Optional[dict] = None) -> None\n",
            "    This function creates a basic gradio app for inference.\n",
            "    It will later be expanded for other app types such as\n",
            "    Streamlit.\n",
            "    \n",
            "    \n",
            "    Example\n",
            "    -------\n",
            "    >>> from pycaret.datasets import get_data\n",
            "    >>> juice = get_data('juice')\n",
            "    >>> from pycaret.classification import *\n",
            "    >>> exp_name = setup(data = juice,  target = 'Purchase')\n",
            "    >>> lr = create_model('lr')\n",
            "    >>> create_app(lr)\n",
            "    \n",
            "    \n",
            "    estimator: scikit-learn compatible object\n",
            "        Trained model object\n",
            "    \n",
            "    \n",
            "    app_kwargs: dict, default = {} (empty dict)\n",
            "        arguments to be passed to app class.\n",
            "    \n",
            "    \n",
            "    Returns:\n",
            "        None\n",
            "\n"
          ]
        }
      ],
      "source": [
        "\n",
        "help(create_app)\n"
      ]
    },
    {
      "cell_type": "code",
      "execution_count": 44,
      "metadata": {
        "colab": {
          "base_uri": "https://localhost:8080/",
          "height": 635
        },
        "id": "1PHmRnnYyEmL",
        "outputId": "01af63d8-c749-4ac7-cd43-54299b88a76d"
      },
      "outputs": [
        {
          "name": "stdout",
          "output_type": "stream",
          "text": [
            "Transformation Pipeline and Model Successfully Loaded\n",
            "* Running on local URL:  http://127.0.0.1:7860\n",
            "* To create a public link, set `share=True` in `launch()`.\n"
          ]
        },
        {
          "data": {
            "text/html": [
              "<div><iframe src=\"http://127.0.0.1:7860/\" width=\"100%\" height=\"500\" allow=\"autoplay; camera; microphone; clipboard-read; clipboard-write;\" frameborder=\"0\" allowfullscreen></iframe></div>"
            ],
            "text/plain": [
              "<IPython.core.display.HTML object>"
            ]
          },
          "metadata": {},
          "output_type": "display_data"
        },
        {
          "data": {
            "text/plain": []
          },
          "execution_count": 44,
          "metadata": {},
          "output_type": "execute_result"
        }
      ],
      "source": [
        "# Now try to create a web app with Gradio using your last best model.\n",
        "# You may need to edit the name, or directly give one of the performant models as an argument.\n",
        "# EXAMPLE: create_app('lr') for Logistic Regression\n",
        "# load pipeline\n",
        "loaded_best_pipeline = load_model('my_classification_pipeline')\n",
        "loaded_best_pipeline\n",
        "create_app(best)"
      ]
    },
    {
      "cell_type": "code",
      "execution_count": 46,
      "metadata": {
        "colab": {
          "base_uri": "https://localhost:8080/"
        },
        "id": "O3A8_OEI-sOg",
        "outputId": "221ade15-cfa1-4f4e-9a4e-c20cbee55fbc"
      },
      "outputs": [
        {
          "ename": "NameError",
          "evalue": "name 'iface' is not defined",
          "output_type": "error",
          "traceback": [
            "\u001b[31m---------------------------------------------------------------------------\u001b[39m",
            "\u001b[31mNameError\u001b[39m                                 Traceback (most recent call last)",
            "\u001b[36mCell\u001b[39m\u001b[36m \u001b[39m\u001b[32mIn[46]\u001b[39m\u001b[32m, line 2\u001b[39m\n\u001b[32m      1\u001b[39m \u001b[38;5;66;03m# this is only necessary in a notebook\u001b[39;00m\n\u001b[32m----> \u001b[39m\u001b[32m2\u001b[39m \u001b[43miface\u001b[49m.close()\n",
            "\u001b[31mNameError\u001b[39m: name 'iface' is not defined"
          ]
        }
      ],
      "source": [
        "# this is only necessary in a notebook\n",
        "iface.close()"
      ]
    },
    {
      "cell_type": "markdown",
      "metadata": {
        "id": "UKtU3i4qyEmL"
      },
      "source": [
        "👆 Student: Interesting. Now I would love to deploy my best model to a Hugging Face Space. How do I do that?\n",
        "👨‍🏫 Teacher: PyCaret documentation and tutorial show a way to do it (see below), but I could not get it to work."
      ]
    },
    {
      "cell_type": "code",
      "execution_count": 47,
      "metadata": {
        "colab": {
          "base_uri": "https://localhost:8080/"
        },
        "id": "n6Jx-TcZyEmL",
        "outputId": "9ce9f8a5-d760-49be-9054-8dea93dd5ec5"
      },
      "outputs": [],
      "source": [
        "# create api, comment out to get an app, and it would run, but we'd get \"Not Found\" error!\n",
        "# create_api(best, api_name = 'my_first_api')\n",
        "# Deploy model to a Hugging Face Space\n"
      ]
    },
    {
      "cell_type": "code",
      "execution_count": 48,
      "metadata": {
        "id": "ZlwzD12E9NZE"
      },
      "outputs": [],
      "source": [
        "# !python my_first_api.py"
      ]
    },
    {
      "cell_type": "markdown",
      "metadata": {
        "id": "TLQnsxgyyEmL"
      },
      "source": [
        "👨‍🏫 Teacher: Instead let me show next you how to convert **any** jupyter notebook to a Hugging Face space using `nbdev`, and possibly embed it to **any** webpage, like I do on my [github portfolio](https://cerkut.github.io/posts/2022/11/HuggingFace-Spaces-Embed)."
      ]
    },
    {
      "cell_type": "markdown",
      "metadata": {
        "id": "7ClfA_U4yEmL"
      },
      "source": [
        "## 4.5 From jupyter notebooks to Hugging Face Spaces"
      ]
    },
    {
      "cell_type": "markdown",
      "metadata": {
        "id": "iM4uZbBMyEmL"
      },
      "source": [
        "[Hugging Face Spaces](https://huggingface.co/spaces/launch) provides an easy ways to deploy a web app with python.  [Gradio](https://gradio.app/) is one of my favorite tools for building these web apps.  Gradio allows you to prototype your web apps in notebooks which allow you to iterate fast.  However, Hugging Face Spaces requires you to package your web application code as a python script named `app.py`.  \n",
        "\n",
        "However, **thanks to [nbdev](https://nbdev.fast.ai) you can deploy a Gradio app to Spaces from a notebook without having to refactor your code into a script!**,   When you finish this tutorial, you will have an app that looks like this:\n",
        "\n",
        "➡️ A Gradio app that shows the size of a HF Dataset: https://huggingface.co/spaces/cerkut/hfds-size\n"
      ]
    },
    {
      "cell_type": "markdown",
      "metadata": {
        "id": "v5ck1xclyEmL"
      },
      "source": [
        "### 4.5.1. Create a Gradio-enabled Space on Hugging Face\n",
        "\n",
        "The first step is to create a space and select the appropriate sdk (which is Gradio in this example), according to [these instructions](https://huggingface.co/docs/hub/spaces-overview#creating-a-new-space) (⚠️ Requires Sign-up) :\n",
        "\n",
        "![image.png](https://huggingface.co/datasets/huggingface/documentation-images/resolve/main/hub/spaces-blank-space.png)\n",
        "\n",
        "We ignore the git-related instructions for the moment."
      ]
    },
    {
      "cell_type": "markdown",
      "metadata": {
        "id": "jL7X_Wg4yEmL"
      },
      "source": [
        "### 4.5.2. Decorete the notebook\n",
        "Next, write the functions your gradio app will use.  Because of [nbdev](https://nbdev.fast.ai/blog/posts/2022-07-28-nbdev2/), you can prototype and package your code all in one place.  **The special comment `#|export` marks which cells will be sent to a python script** (more on this later). Note that there are only three cells in this notebook with the `#|export` directive.\n"
      ]
    },
    {
      "cell_type": "code",
      "execution_count": null,
      "metadata": {
        "id": "0Op1cMsvyEmL"
      },
      "outputs": [],
      "source": [
        "#|export\n",
        "import gradio as gr\n",
        "from fastcore.net import urljson, HTTPError"
      ]
    },
    {
      "cell_type": "code",
      "execution_count": null,
      "metadata": {
        "id": "uCP9aIj3yEmL"
      },
      "outputs": [],
      "source": [
        "#|export\n",
        "def size(repo:str):\n",
        "    \"Returns the size in GB of a HuggingFace Dataset.\"\n",
        "    url = f'https://huggingface.co/api/datasets/{repo}'\n",
        "    try: resp = urljson(f'{url}/treesize/main')\n",
        "    except HTTPError: return f'Did not find repo: {url}'\n",
        "    gb = resp['size'] / 1e9\n",
        "    return f'{gb:.2f} GB'"
      ]
    },
    {
      "cell_type": "markdown",
      "metadata": {
        "id": "P-FBL1QQyEmL"
      },
      "source": [
        "`size` takes as an input a [Hugging Face Dataset](https://huggingface.co/docs/datasets/index) repo and returns the total size in GB of the data.\n",
        "\n",
        "For example, I can check the size of [tglcourse/CelebA-faces-cropped-128](https://huggingface.co/datasets/tglcourse/CelebA-faces-cropped-128) like so:"
      ]
    },
    {
      "cell_type": "code",
      "execution_count": null,
      "metadata": {
        "colab": {
          "base_uri": "https://localhost:8080/",
          "height": 35
        },
        "id": "Ago2CBYEyEmM",
        "outputId": "9b7a462d-c152-40e8-f575-ba6c9f2def87"
      },
      "outputs": [
        {
          "data": {
            "application/vnd.google.colaboratory.intrinsic+json": {
              "type": "string"
            },
            "text/plain": [
              "'5.49 GB'"
            ]
          },
          "execution_count": 50,
          "metadata": {},
          "output_type": "execute_result"
        }
      ],
      "source": [
        "size(\"tglcourse/CelebA-faces-cropped-128\")"
      ]
    },
    {
      "cell_type": "markdown",
      "metadata": {
        "id": "IafI_iXnyEmM"
      },
      "source": [
        "### 4.5.3 Make an interface and test the app"
      ]
    },
    {
      "cell_type": "markdown",
      "metadata": {
        "id": "Vs74NZO1yEmM"
      },
      "source": [
        "You can construct a simple UI with the `gradio.interface` and then call the `launch` method of that interface to display a preview in a notebook.  This is a great way to test your app to see if it works"
      ]
    },
    {
      "cell_type": "code",
      "execution_count": null,
      "metadata": {
        "colab": {
          "base_uri": "https://localhost:8080/",
          "height": 567
        },
        "id": "QRq3I8iQyEmM",
        "outputId": "97e4ed0e-5b16-41be-ccb3-b057445389ef"
      },
      "outputs": [
        {
          "name": "stdout",
          "output_type": "stream",
          "text": [
            "Colab notebook detected. To show errors in colab notebook, set debug=True in launch()\n",
            "Note: opening Chrome Inspector may crash demo inside Colab notebooks.\n",
            "\n",
            "To create a public link, set `share=True` in `launch()`.\n"
          ]
        },
        {
          "data": {
            "application/javascript": "(async (port, path, width, height, cache, element) => {\n                        if (!google.colab.kernel.accessAllowed && !cache) {\n                            return;\n                        }\n                        element.appendChild(document.createTextNode(''));\n                        const url = await google.colab.kernel.proxyPort(port, {cache});\n\n                        const external_link = document.createElement('div');\n                        external_link.innerHTML = `\n                            <div style=\"font-family: monospace; margin-bottom: 0.5rem\">\n                                Running on <a href=${new URL(path, url).toString()} target=\"_blank\">\n                                    https://localhost:${port}${path}\n                                </a>\n                            </div>\n                        `;\n                        element.appendChild(external_link);\n\n                        const iframe = document.createElement('iframe');\n                        iframe.src = new URL(path, url).toString();\n                        iframe.height = height;\n                        iframe.allow = \"autoplay; camera; microphone; clipboard-read; clipboard-write;\"\n                        iframe.width = width;\n                        iframe.style.border = 0;\n                        element.appendChild(iframe);\n                    })(7861, \"/\", 500, 450, false, window.element)",
            "text/plain": [
              "<IPython.core.display.Javascript object>"
            ]
          },
          "metadata": {},
          "output_type": "display_data"
        },
        {
          "data": {
            "text/plain": []
          },
          "execution_count": 51,
          "metadata": {},
          "output_type": "execute_result"
        }
      ],
      "source": [
        "#|export\n",
        "iface = gr.Interface(fn=size, inputs=gr.Text(value=\"tglcourse/CelebA-faces-cropped-128\"), outputs=\"text\")\n",
        "iface.launch(height=450, width=500)"
      ]
    },
    {
      "cell_type": "markdown",
      "metadata": {
        "id": "2fgTeocfyEmM"
      },
      "source": [
        "Note how running the `launch()` method in a notebook runs a webserver in the background.  Below, we call the `close()` method to close the webserver."
      ]
    },
    {
      "cell_type": "code",
      "execution_count": null,
      "metadata": {
        "colab": {
          "base_uri": "https://localhost:8080/"
        },
        "id": "gJYfoTu2yEmM",
        "outputId": "e96ba007-82ff-494b-978d-f369b969f92f"
      },
      "outputs": [
        {
          "name": "stdout",
          "output_type": "stream",
          "text": [
            "Closing server running on port: 7861\n"
          ]
        }
      ],
      "source": [
        "# this is only necessary in a notebook\n",
        "iface.close()"
      ]
    },
    {
      "cell_type": "markdown",
      "metadata": {
        "id": "AGcZNr_6yEmM"
      },
      "source": [
        "### 4.5.4 Convert notebook into a gradio app\n",
        "In order to host this code on Hugging Face Spaces, you will export parts of this notebook to a script named `app.py`.  As a reminder, this is what the special `#|export` comment that you have seen in cells above do!  You can export code from this notebook like so:"
      ]
    },
    {
      "cell_type": "code",
      "execution_count": null,
      "metadata": {
        "colab": {
          "base_uri": "https://localhost:8080/"
        },
        "id": "65BifDCC9_bV",
        "outputId": "04da15af-dec4-4182-9e9e-1fd343445f0e"
      },
      "outputs": [
        {
          "name": "stdout",
          "output_type": "stream",
          "text": [
            "Requirement already satisfied: nbdev in /usr/local/lib/python3.10/dist-packages (2.3.12)\n",
            "Requirement already satisfied: fastcore>=1.5.27 in /usr/local/lib/python3.10/dist-packages (from nbdev) (1.5.29)\n",
            "Requirement already satisfied: execnb>=0.1.4 in /usr/local/lib/python3.10/dist-packages (from nbdev) (0.1.5)\n",
            "Requirement already satisfied: astunparse in /usr/local/lib/python3.10/dist-packages (from nbdev) (1.6.3)\n",
            "Requirement already satisfied: ghapi>=1.0.3 in /usr/local/lib/python3.10/dist-packages (from nbdev) (1.0.4)\n",
            "Requirement already satisfied: watchdog in /usr/local/lib/python3.10/dist-packages (from nbdev) (3.0.0)\n",
            "Requirement already satisfied: asttokens in /usr/local/lib/python3.10/dist-packages (from nbdev) (2.4.0)\n",
            "Requirement already satisfied: PyYAML in /usr/local/lib/python3.10/dist-packages (from nbdev) (6.0.1)\n",
            "Requirement already satisfied: ipython in /usr/local/lib/python3.10/dist-packages (from execnb>=0.1.4->nbdev) (7.34.0)\n",
            "Requirement already satisfied: pip in /usr/local/lib/python3.10/dist-packages (from fastcore>=1.5.27->nbdev) (23.1.2)\n",
            "Requirement already satisfied: packaging in /usr/local/lib/python3.10/dist-packages (from fastcore>=1.5.27->nbdev) (23.2)\n",
            "Requirement already satisfied: six>=1.12.0 in /usr/local/lib/python3.10/dist-packages (from asttokens->nbdev) (1.16.0)\n",
            "Requirement already satisfied: wheel<1.0,>=0.23.0 in /usr/local/lib/python3.10/dist-packages (from astunparse->nbdev) (0.41.2)\n",
            "Requirement already satisfied: setuptools>=18.5 in /usr/local/lib/python3.10/dist-packages (from ipython->execnb>=0.1.4->nbdev) (67.7.2)\n",
            "Requirement already satisfied: jedi>=0.16 in /usr/local/lib/python3.10/dist-packages (from ipython->execnb>=0.1.4->nbdev) (0.19.1)\n",
            "Requirement already satisfied: decorator in /usr/local/lib/python3.10/dist-packages (from ipython->execnb>=0.1.4->nbdev) (4.4.2)\n",
            "Requirement already satisfied: pickleshare in /usr/local/lib/python3.10/dist-packages (from ipython->execnb>=0.1.4->nbdev) (0.7.5)\n",
            "Requirement already satisfied: traitlets>=4.2 in /usr/local/lib/python3.10/dist-packages (from ipython->execnb>=0.1.4->nbdev) (5.7.1)\n",
            "Requirement already satisfied: prompt-toolkit!=3.0.0,!=3.0.1,<3.1.0,>=2.0.0 in /usr/local/lib/python3.10/dist-packages (from ipython->execnb>=0.1.4->nbdev) (3.0.39)\n",
            "Requirement already satisfied: pygments in /usr/local/lib/python3.10/dist-packages (from ipython->execnb>=0.1.4->nbdev) (2.16.1)\n",
            "Requirement already satisfied: backcall in /usr/local/lib/python3.10/dist-packages (from ipython->execnb>=0.1.4->nbdev) (0.2.0)\n",
            "Requirement already satisfied: matplotlib-inline in /usr/local/lib/python3.10/dist-packages (from ipython->execnb>=0.1.4->nbdev) (0.1.6)\n",
            "Requirement already satisfied: pexpect>4.3 in /usr/local/lib/python3.10/dist-packages (from ipython->execnb>=0.1.4->nbdev) (4.8.0)\n",
            "Requirement already satisfied: parso<0.9.0,>=0.8.3 in /usr/local/lib/python3.10/dist-packages (from jedi>=0.16->ipython->execnb>=0.1.4->nbdev) (0.8.3)\n",
            "Requirement already satisfied: ptyprocess>=0.5 in /usr/local/lib/python3.10/dist-packages (from pexpect>4.3->ipython->execnb>=0.1.4->nbdev) (0.7.0)\n",
            "Requirement already satisfied: wcwidth in /usr/local/lib/python3.10/dist-packages (from prompt-toolkit!=3.0.0,!=3.0.1,<3.1.0,>=2.0.0->ipython->execnb>=0.1.4->nbdev) (0.2.8)\n",
            "2.3.12\n"
          ]
        }
      ],
      "source": [
        "!pip install --upgrade nbdev\n",
        "from nbdev import *\n",
        "print(nbdev.__version__)\n",
        "# help(nb_export) # For some reason, converting *this* notebook does not work."
      ]
    },
    {
      "cell_type": "code",
      "execution_count": null,
      "metadata": {
        "id": "XiGYo2H8yEmM"
      },
      "outputs": [],
      "source": [
        "import shutil\n",
        "# We therefore convert a barebones notebook instead.\n",
        "# shutil.rmtree('tmp', ignore_errors=True)\n",
        "# nb_export('4-Workshop-VC.ipynb', 'tmp')\n",
        "\n",
        "# nb_export('4-Workshop-VC.ipynb', lib_path='.')"
      ]
    },
    {
      "cell_type": "markdown",
      "metadata": {
        "id": "OTq97zBByEmM"
      },
      "source": [
        "Notice how the contents of app.py only contains the exported cells from this notebook:"
      ]
    },
    {
      "cell_type": "code",
      "execution_count": null,
      "metadata": {
        "colab": {
          "base_uri": "https://localhost:8080/"
        },
        "id": "5tMpojXYyEmM",
        "outputId": "27a006bf-9c80-4085-b49c-c12b48d3eb09"
      },
      "outputs": [
        {
          "name": "stdout",
          "output_type": "stream",
          "text": [
            "Error: no such file, variable, URL, history range or macro\n"
          ]
        }
      ],
      "source": [
        "%pycat app.py"
      ]
    },
    {
      "cell_type": "markdown",
      "metadata": {
        "id": "ARls6onayEmM"
      },
      "source": [
        "### 4.5.6 Fill out requirements.txt and commit the three files\n",
        "You must supply a requirements.txt file so the Gradio app knows how to build your dependencies. In this example, the only dependency other than Gradio is fastcore. You don't need to specify Gradio itself as a dependency in requirements.txt, so our requirements.txt file has only one dependency:"
      ]
    },
    {
      "cell_type": "code",
      "execution_count": null,
      "metadata": {
        "colab": {
          "base_uri": "https://localhost:8080/"
        },
        "id": "TPqey1SiyEmM",
        "outputId": "34f3664a-1f49-456f-dd29-1bdd790c4fdf"
      },
      "outputs": [
        {
          "name": "stdout",
          "output_type": "stream",
          "text": [
            "Writing requirements.txt\n"
          ]
        }
      ],
      "source": [
        "%%writefile requirements.txt\n",
        "fastcore"
      ]
    },
    {
      "cell_type": "markdown",
      "metadata": {
        "id": "uCGK0Ug7yEmM"
      },
      "source": [
        "Now go to your Hugging Face Space's file section (mine is at https://huggingface.co/spaces/cerkut/hfds-size/tree/main), press the rightmost `+ Add file` tab and \"Upload files\", and post the tree files 1) app.ipynb 2) app.py and 3) requirements.txt. Commit directly to the main branch, wait about 1-2 minutes after the upload for your space to build, and then enjoy your first deployment."
      ]
    },
    {
      "cell_type": "markdown",
      "metadata": {
        "id": "k9uXbRGWyEmN"
      },
      "source": [
        "Expanding the 3-dots ㆔ between ☸ Settings and your logo, you can now clone, embed, or duplicate your space for other projects."
      ]
    },
    {
      "cell_type": "markdown",
      "metadata": {
        "id": "po6SXbsYDLf4"
      },
      "source": [
        "✅ Modify app.ipynb to deploy a Machine Learning model to another Hugging Face Space."
      ]
    }
  ],
  "metadata": {
    "colab": {
      "include_colab_link": true,
      "provenance": []
    },
    "kernelspec": {
      "display_name": "ml-for-beginners",
      "language": "python",
      "name": "python3"
    },
    "language_info": {
      "codemirror_mode": {
        "name": "ipython",
        "version": 3
      },
      "file_extension": ".py",
      "mimetype": "text/x-python",
      "name": "python",
      "nbconvert_exporter": "python",
      "pygments_lexer": "ipython3",
      "version": "3.11.13"
    },
    "widgets": {
      "application/vnd.jupyter.widget-state+json": {
        "0687138631c34af79483f38a7a8efb82": {
          "model_module": "@jupyter-widgets/base",
          "model_module_version": "1.2.0",
          "model_name": "LayoutModel",
          "state": {
            "_model_module": "@jupyter-widgets/base",
            "_model_module_version": "1.2.0",
            "_model_name": "LayoutModel",
            "_view_count": null,
            "_view_module": "@jupyter-widgets/base",
            "_view_module_version": "1.2.0",
            "_view_name": "LayoutView",
            "align_content": null,
            "align_items": null,
            "align_self": null,
            "border": null,
            "bottom": null,
            "display": null,
            "flex": null,
            "flex_flow": null,
            "grid_area": null,
            "grid_auto_columns": null,
            "grid_auto_flow": null,
            "grid_auto_rows": null,
            "grid_column": null,
            "grid_gap": null,
            "grid_row": null,
            "grid_template_areas": null,
            "grid_template_columns": null,
            "grid_template_rows": null,
            "height": null,
            "justify_content": null,
            "justify_items": null,
            "left": null,
            "margin": null,
            "max_height": null,
            "max_width": null,
            "min_height": null,
            "min_width": null,
            "object_fit": null,
            "object_position": null,
            "order": null,
            "overflow": null,
            "overflow_x": null,
            "overflow_y": null,
            "padding": null,
            "right": null,
            "top": null,
            "visibility": "hidden",
            "width": null
          }
        },
        "08ed4acc21b9411f9994d9a394da038d": {
          "model_module": "@jupyter-widgets/base",
          "model_module_version": "1.2.0",
          "model_name": "LayoutModel",
          "state": {
            "_model_module": "@jupyter-widgets/base",
            "_model_module_version": "1.2.0",
            "_model_name": "LayoutModel",
            "_view_count": null,
            "_view_module": "@jupyter-widgets/base",
            "_view_module_version": "1.2.0",
            "_view_name": "LayoutView",
            "align_content": null,
            "align_items": null,
            "align_self": null,
            "border": null,
            "bottom": null,
            "display": null,
            "flex": null,
            "flex_flow": null,
            "grid_area": null,
            "grid_auto_columns": null,
            "grid_auto_flow": null,
            "grid_auto_rows": null,
            "grid_column": null,
            "grid_gap": null,
            "grid_row": null,
            "grid_template_areas": null,
            "grid_template_columns": null,
            "grid_template_rows": null,
            "height": null,
            "justify_content": null,
            "justify_items": null,
            "left": null,
            "margin": null,
            "max_height": null,
            "max_width": null,
            "min_height": null,
            "min_width": null,
            "object_fit": null,
            "object_position": null,
            "order": null,
            "overflow": null,
            "overflow_x": null,
            "overflow_y": null,
            "padding": null,
            "right": null,
            "top": null,
            "visibility": null,
            "width": null
          }
        },
        "09d754ecaff0451faf48816e96a11ff5": {
          "model_module": "@jupyter-widgets/controls",
          "model_module_version": "1.5.0",
          "model_name": "HBoxModel",
          "state": {
            "_dom_classes": [],
            "_model_module": "@jupyter-widgets/controls",
            "_model_module_version": "1.5.0",
            "_model_name": "HBoxModel",
            "_view_count": null,
            "_view_module": "@jupyter-widgets/controls",
            "_view_module_version": "1.5.0",
            "_view_name": "HBoxView",
            "box_style": "",
            "children": [
              "IPY_MODEL_6488cdf3e82b4d9ab8577b63f97c7272",
              "IPY_MODEL_0d6c2b5df0d34b0495c42a40afad8541",
              "IPY_MODEL_ef31f8a94bc74552b11df3ccb88069c2"
            ],
            "layout": "IPY_MODEL_ee76d6e3e71545f2abecf23490132057"
          }
        },
        "0d6c2b5df0d34b0495c42a40afad8541": {
          "model_module": "@jupyter-widgets/controls",
          "model_module_version": "1.5.0",
          "model_name": "FloatProgressModel",
          "state": {
            "_dom_classes": [],
            "_model_module": "@jupyter-widgets/controls",
            "_model_module_version": "1.5.0",
            "_model_name": "FloatProgressModel",
            "_view_count": null,
            "_view_module": "@jupyter-widgets/controls",
            "_view_module_version": "1.5.0",
            "_view_name": "ProgressView",
            "bar_style": "",
            "description": "",
            "description_tooltip": null,
            "layout": "IPY_MODEL_753c4da1f7d7473f8803f1b869f6cfed",
            "max": 77,
            "min": 0,
            "orientation": "horizontal",
            "style": "IPY_MODEL_9589d00b27a7442e87c38e4a8294a221",
            "value": 77
          }
        },
        "1a9301b935a240969a3863612d99db3b": {
          "model_module": "@jupyter-widgets/base",
          "model_module_version": "1.2.0",
          "model_name": "LayoutModel",
          "state": {
            "_model_module": "@jupyter-widgets/base",
            "_model_module_version": "1.2.0",
            "_model_name": "LayoutModel",
            "_view_count": null,
            "_view_module": "@jupyter-widgets/base",
            "_view_module_version": "1.2.0",
            "_view_name": "LayoutView",
            "align_content": null,
            "align_items": null,
            "align_self": null,
            "border": null,
            "bottom": null,
            "display": null,
            "flex": null,
            "flex_flow": null,
            "grid_area": null,
            "grid_auto_columns": null,
            "grid_auto_flow": null,
            "grid_auto_rows": null,
            "grid_column": null,
            "grid_gap": null,
            "grid_row": null,
            "grid_template_areas": null,
            "grid_template_columns": null,
            "grid_template_rows": null,
            "height": null,
            "justify_content": null,
            "justify_items": null,
            "left": null,
            "margin": null,
            "max_height": null,
            "max_width": null,
            "min_height": null,
            "min_width": null,
            "object_fit": null,
            "object_position": null,
            "order": null,
            "overflow": null,
            "overflow_x": null,
            "overflow_y": null,
            "padding": null,
            "right": null,
            "top": null,
            "visibility": null,
            "width": null
          }
        },
        "327ab32ae539421a979d187e5c5779ab": {
          "model_module": "@jupyter-widgets/base",
          "model_module_version": "1.2.0",
          "model_name": "LayoutModel",
          "state": {
            "_model_module": "@jupyter-widgets/base",
            "_model_module_version": "1.2.0",
            "_model_name": "LayoutModel",
            "_view_count": null,
            "_view_module": "@jupyter-widgets/base",
            "_view_module_version": "1.2.0",
            "_view_name": "LayoutView",
            "align_content": null,
            "align_items": null,
            "align_self": null,
            "border": null,
            "bottom": null,
            "display": null,
            "flex": null,
            "flex_flow": null,
            "grid_area": null,
            "grid_auto_columns": null,
            "grid_auto_flow": null,
            "grid_auto_rows": null,
            "grid_column": null,
            "grid_gap": null,
            "grid_row": null,
            "grid_template_areas": null,
            "grid_template_columns": null,
            "grid_template_rows": null,
            "height": null,
            "justify_content": null,
            "justify_items": null,
            "left": null,
            "margin": null,
            "max_height": null,
            "max_width": null,
            "min_height": null,
            "min_width": null,
            "object_fit": null,
            "object_position": null,
            "order": null,
            "overflow": null,
            "overflow_x": null,
            "overflow_y": null,
            "padding": null,
            "right": null,
            "top": null,
            "visibility": null,
            "width": null
          }
        },
        "36d11574737944178fbb6b1ecd03527e": {
          "model_module": "@jupyter-widgets/controls",
          "model_module_version": "1.5.0",
          "model_name": "FloatProgressModel",
          "state": {
            "_dom_classes": [],
            "_model_module": "@jupyter-widgets/controls",
            "_model_module_version": "1.5.0",
            "_model_name": "FloatProgressModel",
            "_view_count": null,
            "_view_module": "@jupyter-widgets/controls",
            "_view_module_version": "1.5.0",
            "_view_name": "ProgressView",
            "bar_style": "",
            "description": "",
            "description_tooltip": null,
            "layout": "IPY_MODEL_ecc9f830d284474a8f0da027299f8d81",
            "max": 61,
            "min": 0,
            "orientation": "horizontal",
            "style": "IPY_MODEL_8da68e2fd6ea4d8687baae0478633226",
            "value": 61
          }
        },
        "3d5866eaebdc495fa824ab7856291d0a": {
          "model_module": "@jupyter-widgets/controls",
          "model_module_version": "1.5.0",
          "model_name": "HBoxModel",
          "state": {
            "_dom_classes": [],
            "_model_module": "@jupyter-widgets/controls",
            "_model_module_version": "1.5.0",
            "_model_name": "HBoxModel",
            "_view_count": null,
            "_view_module": "@jupyter-widgets/controls",
            "_view_module_version": "1.5.0",
            "_view_name": "HBoxView",
            "box_style": "",
            "children": [
              "IPY_MODEL_c48ba7eb9e104391bba7d7f136c7858d",
              "IPY_MODEL_36d11574737944178fbb6b1ecd03527e",
              "IPY_MODEL_a8995f079aa24ff1be77f584d5ac8be1"
            ],
            "layout": "IPY_MODEL_0687138631c34af79483f38a7a8efb82"
          }
        },
        "46c835529d6345dbad16bb67a795ad05": {
          "model_module": "@jupyter-widgets/controls",
          "model_module_version": "1.5.0",
          "model_name": "ToggleButtonsModel",
          "state": {
            "_dom_classes": [],
            "_model_module": "@jupyter-widgets/controls",
            "_model_module_version": "1.5.0",
            "_model_name": "ToggleButtonsModel",
            "_options_labels": [
              "Pipeline Plot",
              "Hyperparameters",
              "Residuals",
              "Prediction Error",
              "Cooks Distance",
              "Feature Selection",
              "Learning Curve",
              "Manifold Learning",
              "Validation Curve",
              "Feature Importance",
              "Feature Importance (All)",
              "Decision Tree",
              "Interactive Residuals"
            ],
            "_view_count": null,
            "_view_module": "@jupyter-widgets/controls",
            "_view_module_version": "1.5.0",
            "_view_name": "ToggleButtonsView",
            "button_style": "",
            "description": "Plot Type:",
            "description_tooltip": null,
            "disabled": false,
            "icons": [
              ""
            ],
            "index": 6,
            "layout": "IPY_MODEL_1a9301b935a240969a3863612d99db3b",
            "style": "IPY_MODEL_f17b332b4a3d4d889c79aa7c15348ef0",
            "tooltips": []
          }
        },
        "480a6f8d9c86401ea03945fddc0459e4": {
          "model_module": "@jupyter-widgets/output",
          "model_module_version": "1.0.0",
          "model_name": "OutputModel",
          "state": {
            "_dom_classes": [],
            "_model_module": "@jupyter-widgets/output",
            "_model_module_version": "1.0.0",
            "_model_name": "OutputModel",
            "_view_count": null,
            "_view_module": "@jupyter-widgets/output",
            "_view_module_version": "1.0.0",
            "_view_name": "OutputView",
            "layout": "IPY_MODEL_dfed5c42883443348b7f79bc9860ce92",
            "msg_id": "",
            "outputs": [
              {
                "data": {
                  "image/png": "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\n",
                  "text/plain": "<Figure size 1700x600 with 1 Axes>"
                },
                "metadata": {},
                "output_type": "display_data"
              }
            ]
          }
        },
        "5537d3cf126b4dc0adfbcb158c20a535": {
          "model_module": "@jupyter-widgets/output",
          "model_module_version": "1.0.0",
          "model_name": "OutputModel",
          "state": {
            "_dom_classes": [],
            "_model_module": "@jupyter-widgets/output",
            "_model_module_version": "1.0.0",
            "_model_name": "OutputModel",
            "_view_count": null,
            "_view_module": "@jupyter-widgets/output",
            "_view_module_version": "1.0.0",
            "_view_name": "OutputView",
            "layout": "IPY_MODEL_08ed4acc21b9411f9994d9a394da038d",
            "msg_id": "",
            "outputs": [
              {
                "data": {
                  "image/png": "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\n",
                  "text/plain": "<Figure size 800x550 with 1 Axes>"
                },
                "metadata": {},
                "output_type": "display_data"
              }
            ]
          }
        },
        "6488cdf3e82b4d9ab8577b63f97c7272": {
          "model_module": "@jupyter-widgets/controls",
          "model_module_version": "1.5.0",
          "model_name": "HTMLModel",
          "state": {
            "_dom_classes": [],
            "_model_module": "@jupyter-widgets/controls",
            "_model_module_version": "1.5.0",
            "_model_name": "HTMLModel",
            "_view_count": null,
            "_view_module": "@jupyter-widgets/controls",
            "_view_module_version": "1.5.0",
            "_view_name": "HTMLView",
            "description": "",
            "description_tooltip": null,
            "layout": "IPY_MODEL_9453aec4162c40cd959f1ccedfe1e1ca",
            "placeholder": "​",
            "style": "IPY_MODEL_97917a37691e4e938212b05b5847788f",
            "value": "Processing: 100%"
          }
        },
        "650e02daca064654a6cf838aa8e6c806": {
          "model_module": "@jupyter-widgets/base",
          "model_module_version": "1.2.0",
          "model_name": "LayoutModel",
          "state": {
            "_model_module": "@jupyter-widgets/base",
            "_model_module_version": "1.2.0",
            "_model_name": "LayoutModel",
            "_view_count": null,
            "_view_module": "@jupyter-widgets/base",
            "_view_module_version": "1.2.0",
            "_view_name": "LayoutView",
            "align_content": null,
            "align_items": null,
            "align_self": null,
            "border": null,
            "bottom": null,
            "display": null,
            "flex": null,
            "flex_flow": null,
            "grid_area": null,
            "grid_auto_columns": null,
            "grid_auto_flow": null,
            "grid_auto_rows": null,
            "grid_column": null,
            "grid_gap": null,
            "grid_row": null,
            "grid_template_areas": null,
            "grid_template_columns": null,
            "grid_template_rows": null,
            "height": null,
            "justify_content": null,
            "justify_items": null,
            "left": null,
            "margin": null,
            "max_height": null,
            "max_width": null,
            "min_height": null,
            "min_width": null,
            "object_fit": null,
            "object_position": null,
            "order": null,
            "overflow": null,
            "overflow_x": null,
            "overflow_y": null,
            "padding": null,
            "right": null,
            "top": null,
            "visibility": null,
            "width": null
          }
        },
        "6d16c578b4414b98a48a78e5d46bacb0": {
          "model_module": "@jupyter-widgets/controls",
          "model_module_version": "1.5.0",
          "model_name": "DescriptionStyleModel",
          "state": {
            "_model_module": "@jupyter-widgets/controls",
            "_model_module_version": "1.5.0",
            "_model_name": "DescriptionStyleModel",
            "_view_count": null,
            "_view_module": "@jupyter-widgets/base",
            "_view_module_version": "1.2.0",
            "_view_name": "StyleView",
            "description_width": ""
          }
        },
        "753c4da1f7d7473f8803f1b869f6cfed": {
          "model_module": "@jupyter-widgets/base",
          "model_module_version": "1.2.0",
          "model_name": "LayoutModel",
          "state": {
            "_model_module": "@jupyter-widgets/base",
            "_model_module_version": "1.2.0",
            "_model_name": "LayoutModel",
            "_view_count": null,
            "_view_module": "@jupyter-widgets/base",
            "_view_module_version": "1.2.0",
            "_view_name": "LayoutView",
            "align_content": null,
            "align_items": null,
            "align_self": null,
            "border": null,
            "bottom": null,
            "display": null,
            "flex": null,
            "flex_flow": null,
            "grid_area": null,
            "grid_auto_columns": null,
            "grid_auto_flow": null,
            "grid_auto_rows": null,
            "grid_column": null,
            "grid_gap": null,
            "grid_row": null,
            "grid_template_areas": null,
            "grid_template_columns": null,
            "grid_template_rows": null,
            "height": null,
            "justify_content": null,
            "justify_items": null,
            "left": null,
            "margin": null,
            "max_height": null,
            "max_width": null,
            "min_height": null,
            "min_width": null,
            "object_fit": null,
            "object_position": null,
            "order": null,
            "overflow": null,
            "overflow_x": null,
            "overflow_y": null,
            "padding": null,
            "right": null,
            "top": null,
            "visibility": null,
            "width": null
          }
        },
        "8da68e2fd6ea4d8687baae0478633226": {
          "model_module": "@jupyter-widgets/controls",
          "model_module_version": "1.5.0",
          "model_name": "ProgressStyleModel",
          "state": {
            "_model_module": "@jupyter-widgets/controls",
            "_model_module_version": "1.5.0",
            "_model_name": "ProgressStyleModel",
            "_view_count": null,
            "_view_module": "@jupyter-widgets/base",
            "_view_module_version": "1.2.0",
            "_view_name": "StyleView",
            "bar_color": null,
            "description_width": ""
          }
        },
        "9453aec4162c40cd959f1ccedfe1e1ca": {
          "model_module": "@jupyter-widgets/base",
          "model_module_version": "1.2.0",
          "model_name": "LayoutModel",
          "state": {
            "_model_module": "@jupyter-widgets/base",
            "_model_module_version": "1.2.0",
            "_model_name": "LayoutModel",
            "_view_count": null,
            "_view_module": "@jupyter-widgets/base",
            "_view_module_version": "1.2.0",
            "_view_name": "LayoutView",
            "align_content": null,
            "align_items": null,
            "align_self": null,
            "border": null,
            "bottom": null,
            "display": null,
            "flex": null,
            "flex_flow": null,
            "grid_area": null,
            "grid_auto_columns": null,
            "grid_auto_flow": null,
            "grid_auto_rows": null,
            "grid_column": null,
            "grid_gap": null,
            "grid_row": null,
            "grid_template_areas": null,
            "grid_template_columns": null,
            "grid_template_rows": null,
            "height": null,
            "justify_content": null,
            "justify_items": null,
            "left": null,
            "margin": null,
            "max_height": null,
            "max_width": null,
            "min_height": null,
            "min_width": null,
            "object_fit": null,
            "object_position": null,
            "order": null,
            "overflow": null,
            "overflow_x": null,
            "overflow_y": null,
            "padding": null,
            "right": null,
            "top": null,
            "visibility": null,
            "width": null
          }
        },
        "9589d00b27a7442e87c38e4a8294a221": {
          "model_module": "@jupyter-widgets/controls",
          "model_module_version": "1.5.0",
          "model_name": "ProgressStyleModel",
          "state": {
            "_model_module": "@jupyter-widgets/controls",
            "_model_module_version": "1.5.0",
            "_model_name": "ProgressStyleModel",
            "_view_count": null,
            "_view_module": "@jupyter-widgets/base",
            "_view_module_version": "1.2.0",
            "_view_name": "StyleView",
            "bar_color": null,
            "description_width": ""
          }
        },
        "97917a37691e4e938212b05b5847788f": {
          "model_module": "@jupyter-widgets/controls",
          "model_module_version": "1.5.0",
          "model_name": "DescriptionStyleModel",
          "state": {
            "_model_module": "@jupyter-widgets/controls",
            "_model_module_version": "1.5.0",
            "_model_name": "DescriptionStyleModel",
            "_view_count": null,
            "_view_module": "@jupyter-widgets/base",
            "_view_module_version": "1.2.0",
            "_view_name": "StyleView",
            "description_width": ""
          }
        },
        "9c4e28f9f9764a1ba462621fe22fccb9": {
          "model_module": "@jupyter-widgets/base",
          "model_module_version": "1.2.0",
          "model_name": "LayoutModel",
          "state": {
            "_model_module": "@jupyter-widgets/base",
            "_model_module_version": "1.2.0",
            "_model_name": "LayoutModel",
            "_view_count": null,
            "_view_module": "@jupyter-widgets/base",
            "_view_module_version": "1.2.0",
            "_view_name": "LayoutView",
            "align_content": null,
            "align_items": null,
            "align_self": null,
            "border": null,
            "bottom": null,
            "display": null,
            "flex": null,
            "flex_flow": null,
            "grid_area": null,
            "grid_auto_columns": null,
            "grid_auto_flow": null,
            "grid_auto_rows": null,
            "grid_column": null,
            "grid_gap": null,
            "grid_row": null,
            "grid_template_areas": null,
            "grid_template_columns": null,
            "grid_template_rows": null,
            "height": null,
            "justify_content": null,
            "justify_items": null,
            "left": null,
            "margin": null,
            "max_height": null,
            "max_width": null,
            "min_height": null,
            "min_width": null,
            "object_fit": null,
            "object_position": null,
            "order": null,
            "overflow": null,
            "overflow_x": null,
            "overflow_y": null,
            "padding": null,
            "right": null,
            "top": null,
            "visibility": null,
            "width": null
          }
        },
        "a8995f079aa24ff1be77f584d5ac8be1": {
          "model_module": "@jupyter-widgets/controls",
          "model_module_version": "1.5.0",
          "model_name": "HTMLModel",
          "state": {
            "_dom_classes": [],
            "_model_module": "@jupyter-widgets/controls",
            "_model_module_version": "1.5.0",
            "_model_name": "HTMLModel",
            "_view_count": null,
            "_view_module": "@jupyter-widgets/controls",
            "_view_module_version": "1.5.0",
            "_view_name": "HTMLView",
            "description": "",
            "description_tooltip": null,
            "layout": "IPY_MODEL_e8c8a7c40a1848db826d7db6080bb005",
            "placeholder": "​",
            "style": "IPY_MODEL_6d16c578b4414b98a48a78e5d46bacb0",
            "value": " 61/61 [00:25&lt;00:00,  4.86it/s]"
          }
        },
        "ac67d23cc6254bdf9d86985970eca7e1": {
          "model_module": "@jupyter-widgets/base",
          "model_module_version": "1.2.0",
          "model_name": "LayoutModel",
          "state": {
            "_model_module": "@jupyter-widgets/base",
            "_model_module_version": "1.2.0",
            "_model_name": "LayoutModel",
            "_view_count": null,
            "_view_module": "@jupyter-widgets/base",
            "_view_module_version": "1.2.0",
            "_view_name": "LayoutView",
            "align_content": null,
            "align_items": null,
            "align_self": null,
            "border": null,
            "bottom": null,
            "display": null,
            "flex": null,
            "flex_flow": null,
            "grid_area": null,
            "grid_auto_columns": null,
            "grid_auto_flow": null,
            "grid_auto_rows": null,
            "grid_column": null,
            "grid_gap": null,
            "grid_row": null,
            "grid_template_areas": null,
            "grid_template_columns": null,
            "grid_template_rows": null,
            "height": null,
            "justify_content": null,
            "justify_items": null,
            "left": null,
            "margin": null,
            "max_height": null,
            "max_width": null,
            "min_height": null,
            "min_width": null,
            "object_fit": null,
            "object_position": null,
            "order": null,
            "overflow": null,
            "overflow_x": null,
            "overflow_y": null,
            "padding": null,
            "right": null,
            "top": null,
            "visibility": null,
            "width": null
          }
        },
        "c48ba7eb9e104391bba7d7f136c7858d": {
          "model_module": "@jupyter-widgets/controls",
          "model_module_version": "1.5.0",
          "model_name": "HTMLModel",
          "state": {
            "_dom_classes": [],
            "_model_module": "@jupyter-widgets/controls",
            "_model_module_version": "1.5.0",
            "_model_name": "HTMLModel",
            "_view_count": null,
            "_view_module": "@jupyter-widgets/controls",
            "_view_module_version": "1.5.0",
            "_view_name": "HTMLView",
            "description": "",
            "description_tooltip": null,
            "layout": "IPY_MODEL_9c4e28f9f9764a1ba462621fe22fccb9",
            "placeholder": "​",
            "style": "IPY_MODEL_f4f23c0a92dd46b3b074b468b7178af1",
            "value": "Processing: 100%"
          }
        },
        "cffdefe3bf7a4964ab83775472ec5e6b": {
          "model_module": "@jupyter-widgets/controls",
          "model_module_version": "1.5.0",
          "model_name": "ToggleButtonsStyleModel",
          "state": {
            "_model_module": "@jupyter-widgets/controls",
            "_model_module_version": "1.5.0",
            "_model_name": "ToggleButtonsStyleModel",
            "_view_count": null,
            "_view_module": "@jupyter-widgets/base",
            "_view_module_version": "1.2.0",
            "_view_name": "StyleView",
            "button_width": "",
            "description_width": "",
            "font_weight": ""
          }
        },
        "d0a3a3c842fd449085aa45df3a59f427": {
          "model_module": "@jupyter-widgets/controls",
          "model_module_version": "1.5.0",
          "model_name": "VBoxModel",
          "state": {
            "_dom_classes": [
              "widget-interact"
            ],
            "_model_module": "@jupyter-widgets/controls",
            "_model_module_version": "1.5.0",
            "_model_name": "VBoxModel",
            "_view_count": null,
            "_view_module": "@jupyter-widgets/controls",
            "_view_module_version": "1.5.0",
            "_view_name": "VBoxView",
            "box_style": "",
            "children": [
              "IPY_MODEL_e78a736a421f4b6b9a0321284a654645",
              "IPY_MODEL_480a6f8d9c86401ea03945fddc0459e4"
            ],
            "layout": "IPY_MODEL_650e02daca064654a6cf838aa8e6c806"
          }
        },
        "d81b009e5a854df9bff4afd80a261a73": {
          "model_module": "@jupyter-widgets/base",
          "model_module_version": "1.2.0",
          "model_name": "LayoutModel",
          "state": {
            "_model_module": "@jupyter-widgets/base",
            "_model_module_version": "1.2.0",
            "_model_name": "LayoutModel",
            "_view_count": null,
            "_view_module": "@jupyter-widgets/base",
            "_view_module_version": "1.2.0",
            "_view_name": "LayoutView",
            "align_content": null,
            "align_items": null,
            "align_self": null,
            "border": null,
            "bottom": null,
            "display": null,
            "flex": null,
            "flex_flow": null,
            "grid_area": null,
            "grid_auto_columns": null,
            "grid_auto_flow": null,
            "grid_auto_rows": null,
            "grid_column": null,
            "grid_gap": null,
            "grid_row": null,
            "grid_template_areas": null,
            "grid_template_columns": null,
            "grid_template_rows": null,
            "height": null,
            "justify_content": null,
            "justify_items": null,
            "left": null,
            "margin": null,
            "max_height": null,
            "max_width": null,
            "min_height": null,
            "min_width": null,
            "object_fit": null,
            "object_position": null,
            "order": null,
            "overflow": null,
            "overflow_x": null,
            "overflow_y": null,
            "padding": null,
            "right": null,
            "top": null,
            "visibility": null,
            "width": null
          }
        },
        "dfed5c42883443348b7f79bc9860ce92": {
          "model_module": "@jupyter-widgets/base",
          "model_module_version": "1.2.0",
          "model_name": "LayoutModel",
          "state": {
            "_model_module": "@jupyter-widgets/base",
            "_model_module_version": "1.2.0",
            "_model_name": "LayoutModel",
            "_view_count": null,
            "_view_module": "@jupyter-widgets/base",
            "_view_module_version": "1.2.0",
            "_view_name": "LayoutView",
            "align_content": null,
            "align_items": null,
            "align_self": null,
            "border": null,
            "bottom": null,
            "display": null,
            "flex": null,
            "flex_flow": null,
            "grid_area": null,
            "grid_auto_columns": null,
            "grid_auto_flow": null,
            "grid_auto_rows": null,
            "grid_column": null,
            "grid_gap": null,
            "grid_row": null,
            "grid_template_areas": null,
            "grid_template_columns": null,
            "grid_template_rows": null,
            "height": null,
            "justify_content": null,
            "justify_items": null,
            "left": null,
            "margin": null,
            "max_height": null,
            "max_width": null,
            "min_height": null,
            "min_width": null,
            "object_fit": null,
            "object_position": null,
            "order": null,
            "overflow": null,
            "overflow_x": null,
            "overflow_y": null,
            "padding": null,
            "right": null,
            "top": null,
            "visibility": null,
            "width": null
          }
        },
        "e5141db1876d4325afed2f0a962c64fb": {
          "model_module": "@jupyter-widgets/controls",
          "model_module_version": "1.5.0",
          "model_name": "VBoxModel",
          "state": {
            "_dom_classes": [
              "widget-interact"
            ],
            "_model_module": "@jupyter-widgets/controls",
            "_model_module_version": "1.5.0",
            "_model_name": "VBoxModel",
            "_view_count": null,
            "_view_module": "@jupyter-widgets/controls",
            "_view_module_version": "1.5.0",
            "_view_name": "VBoxView",
            "box_style": "",
            "children": [
              "IPY_MODEL_46c835529d6345dbad16bb67a795ad05",
              "IPY_MODEL_5537d3cf126b4dc0adfbcb158c20a535"
            ],
            "layout": "IPY_MODEL_ac67d23cc6254bdf9d86985970eca7e1"
          }
        },
        "e78a736a421f4b6b9a0321284a654645": {
          "model_module": "@jupyter-widgets/controls",
          "model_module_version": "1.5.0",
          "model_name": "ToggleButtonsModel",
          "state": {
            "_dom_classes": [],
            "_model_module": "@jupyter-widgets/controls",
            "_model_module_version": "1.5.0",
            "_model_name": "ToggleButtonsModel",
            "_options_labels": [
              "Pipeline Plot",
              "Hyperparameters",
              "AUC",
              "Confusion Matrix",
              "Threshold",
              "Precision Recall",
              "Prediction Error",
              "Class Report",
              "Feature Selection",
              "Learning Curve",
              "Manifold Learning",
              "Calibration Curve",
              "Validation Curve",
              "Dimensions",
              "Feature Importance",
              "Feature Importance (All)",
              "Decision Boundary",
              "Lift Chart",
              "Gain Chart",
              "Decision Tree",
              "KS Statistic Plot"
            ],
            "_view_count": null,
            "_view_module": "@jupyter-widgets/controls",
            "_view_module_version": "1.5.0",
            "_view_name": "ToggleButtonsView",
            "button_style": "",
            "description": "Plot Type:",
            "description_tooltip": null,
            "disabled": false,
            "icons": [
              ""
            ],
            "index": 0,
            "layout": "IPY_MODEL_327ab32ae539421a979d187e5c5779ab",
            "style": "IPY_MODEL_cffdefe3bf7a4964ab83775472ec5e6b",
            "tooltips": []
          }
        },
        "e8c8a7c40a1848db826d7db6080bb005": {
          "model_module": "@jupyter-widgets/base",
          "model_module_version": "1.2.0",
          "model_name": "LayoutModel",
          "state": {
            "_model_module": "@jupyter-widgets/base",
            "_model_module_version": "1.2.0",
            "_model_name": "LayoutModel",
            "_view_count": null,
            "_view_module": "@jupyter-widgets/base",
            "_view_module_version": "1.2.0",
            "_view_name": "LayoutView",
            "align_content": null,
            "align_items": null,
            "align_self": null,
            "border": null,
            "bottom": null,
            "display": null,
            "flex": null,
            "flex_flow": null,
            "grid_area": null,
            "grid_auto_columns": null,
            "grid_auto_flow": null,
            "grid_auto_rows": null,
            "grid_column": null,
            "grid_gap": null,
            "grid_row": null,
            "grid_template_areas": null,
            "grid_template_columns": null,
            "grid_template_rows": null,
            "height": null,
            "justify_content": null,
            "justify_items": null,
            "left": null,
            "margin": null,
            "max_height": null,
            "max_width": null,
            "min_height": null,
            "min_width": null,
            "object_fit": null,
            "object_position": null,
            "order": null,
            "overflow": null,
            "overflow_x": null,
            "overflow_y": null,
            "padding": null,
            "right": null,
            "top": null,
            "visibility": null,
            "width": null
          }
        },
        "ecc9f830d284474a8f0da027299f8d81": {
          "model_module": "@jupyter-widgets/base",
          "model_module_version": "1.2.0",
          "model_name": "LayoutModel",
          "state": {
            "_model_module": "@jupyter-widgets/base",
            "_model_module_version": "1.2.0",
            "_model_name": "LayoutModel",
            "_view_count": null,
            "_view_module": "@jupyter-widgets/base",
            "_view_module_version": "1.2.0",
            "_view_name": "LayoutView",
            "align_content": null,
            "align_items": null,
            "align_self": null,
            "border": null,
            "bottom": null,
            "display": null,
            "flex": null,
            "flex_flow": null,
            "grid_area": null,
            "grid_auto_columns": null,
            "grid_auto_flow": null,
            "grid_auto_rows": null,
            "grid_column": null,
            "grid_gap": null,
            "grid_row": null,
            "grid_template_areas": null,
            "grid_template_columns": null,
            "grid_template_rows": null,
            "height": null,
            "justify_content": null,
            "justify_items": null,
            "left": null,
            "margin": null,
            "max_height": null,
            "max_width": null,
            "min_height": null,
            "min_width": null,
            "object_fit": null,
            "object_position": null,
            "order": null,
            "overflow": null,
            "overflow_x": null,
            "overflow_y": null,
            "padding": null,
            "right": null,
            "top": null,
            "visibility": null,
            "width": null
          }
        },
        "ee76d6e3e71545f2abecf23490132057": {
          "model_module": "@jupyter-widgets/base",
          "model_module_version": "1.2.0",
          "model_name": "LayoutModel",
          "state": {
            "_model_module": "@jupyter-widgets/base",
            "_model_module_version": "1.2.0",
            "_model_name": "LayoutModel",
            "_view_count": null,
            "_view_module": "@jupyter-widgets/base",
            "_view_module_version": "1.2.0",
            "_view_name": "LayoutView",
            "align_content": null,
            "align_items": null,
            "align_self": null,
            "border": null,
            "bottom": null,
            "display": null,
            "flex": null,
            "flex_flow": null,
            "grid_area": null,
            "grid_auto_columns": null,
            "grid_auto_flow": null,
            "grid_auto_rows": null,
            "grid_column": null,
            "grid_gap": null,
            "grid_row": null,
            "grid_template_areas": null,
            "grid_template_columns": null,
            "grid_template_rows": null,
            "height": null,
            "justify_content": null,
            "justify_items": null,
            "left": null,
            "margin": null,
            "max_height": null,
            "max_width": null,
            "min_height": null,
            "min_width": null,
            "object_fit": null,
            "object_position": null,
            "order": null,
            "overflow": null,
            "overflow_x": null,
            "overflow_y": null,
            "padding": null,
            "right": null,
            "top": null,
            "visibility": "hidden",
            "width": null
          }
        },
        "ef31f8a94bc74552b11df3ccb88069c2": {
          "model_module": "@jupyter-widgets/controls",
          "model_module_version": "1.5.0",
          "model_name": "HTMLModel",
          "state": {
            "_dom_classes": [],
            "_model_module": "@jupyter-widgets/controls",
            "_model_module_version": "1.5.0",
            "_model_name": "HTMLModel",
            "_view_count": null,
            "_view_module": "@jupyter-widgets/controls",
            "_view_module_version": "1.5.0",
            "_view_name": "HTMLView",
            "description": "",
            "description_tooltip": null,
            "layout": "IPY_MODEL_d81b009e5a854df9bff4afd80a261a73",
            "placeholder": "​",
            "style": "IPY_MODEL_f5d08bf2944a4e82adca0d693b166a4c",
            "value": " 77/77 [00:45&lt;00:00,  1.88it/s]"
          }
        },
        "f17b332b4a3d4d889c79aa7c15348ef0": {
          "model_module": "@jupyter-widgets/controls",
          "model_module_version": "1.5.0",
          "model_name": "ToggleButtonsStyleModel",
          "state": {
            "_model_module": "@jupyter-widgets/controls",
            "_model_module_version": "1.5.0",
            "_model_name": "ToggleButtonsStyleModel",
            "_view_count": null,
            "_view_module": "@jupyter-widgets/base",
            "_view_module_version": "1.2.0",
            "_view_name": "StyleView",
            "button_width": "",
            "description_width": "",
            "font_weight": ""
          }
        },
        "f4f23c0a92dd46b3b074b468b7178af1": {
          "model_module": "@jupyter-widgets/controls",
          "model_module_version": "1.5.0",
          "model_name": "DescriptionStyleModel",
          "state": {
            "_model_module": "@jupyter-widgets/controls",
            "_model_module_version": "1.5.0",
            "_model_name": "DescriptionStyleModel",
            "_view_count": null,
            "_view_module": "@jupyter-widgets/base",
            "_view_module_version": "1.2.0",
            "_view_name": "StyleView",
            "description_width": ""
          }
        },
        "f5d08bf2944a4e82adca0d693b166a4c": {
          "model_module": "@jupyter-widgets/controls",
          "model_module_version": "1.5.0",
          "model_name": "DescriptionStyleModel",
          "state": {
            "_model_module": "@jupyter-widgets/controls",
            "_model_module_version": "1.5.0",
            "_model_name": "DescriptionStyleModel",
            "_view_count": null,
            "_view_module": "@jupyter-widgets/base",
            "_view_module_version": "1.2.0",
            "_view_name": "StyleView",
            "description_width": ""
          }
        }
      }
    }
  },
  "nbformat": 4,
  "nbformat_minor": 0
}
