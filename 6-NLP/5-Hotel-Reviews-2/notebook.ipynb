{
 "cells": [
  {
   "cell_type": "markdown",
   "id": "58d86562",
   "metadata": {},
   "source": [
    "## Exercise: a bit more data processing\n",
    "\n",
    "Clean the data just a bit more. Add columns that will be useful later, change the values in other columns, and drop certain columns completely.\n"
   ]
  },
  {
   "cell_type": "code",
   "execution_count": null,
   "id": "41432977",
   "metadata": {},
   "outputs": [],
   "source": [
    "# drop lat and lng\n"
   ]
  }
 ],
 "metadata": {
  "language_info": {
   "name": "python"
  }
 },
 "nbformat": 4,
 "nbformat_minor": 5
}
