{
 "cells": [
  {
   "cell_type": "code",
   "execution_count": 1,
   "metadata": {},
   "outputs": [],
   "source": [
    "from textblob import TextBlob\n"
   ]
  },
  {
   "cell_type": "code",
   "execution_count": 3,
   "metadata": {},
   "outputs": [],
   "source": [
    "# You should download the book text, clean it, and import it here\n",
    "with open(\"pride.txt\", encoding=\"utf8\") as f:\n",
    "    file_contents = f.read()\n"
   ]
  },
  {
   "cell_type": "code",
   "execution_count": 4,
   "metadata": {},
   "outputs": [],
   "source": [
    "book_pride = TextBlob(file_contents)\n",
    "positive_sentiment_sentences = []\n",
    "negative_sentiment_sentences = []"
   ]
  },
  {
   "cell_type": "code",
   "execution_count": 5,
   "metadata": {},
   "outputs": [],
   "source": [
    "for sentence in book_pride.sentences:\n",
    "    if sentence.sentiment.polarity == 1:\n",
    "        positive_sentiment_sentences.append(sentence)\n",
    "    if sentence.sentiment.polarity == -1:\n",
    "        negative_sentiment_sentences.append(sentence)\n"
   ]
  },
  {
   "cell_type": "code",
   "execution_count": 6,
   "metadata": {},
   "outputs": [
    {
     "name": "stdout",
     "output_type": "stream",
     "text": [
      "The 39 most positive sentences:\n",
      "+ \"What an excellent father you have, girls!\"\n",
      "+ Everybody said how wellshe looked; and Mr. Bingley thought her quite beautiful, and danced withher twice!\n",
      "+ He walked here, and he walked there, fancying himself so verygreat!\n",
      "+ Elizabeth assured him that she could suit herself perfectly with thosein the room.\n",
      "+ What a delightful library you have atPemberley, Mr.\n",
      "+ Her performance on the pianoforte is exquisite.\"\n",
      "+ yes--I understand you perfectly.\"\n",
      "+ \"I am perfectly convinced by it that Mr. Darcy has no defect.\n",
      "+ \"It _is_ wonderful,\" replied Wickham, \"for almost all his actions maybe traced to pride; and pride had often been his best friend.\n",
      "+ Family pride, and _filial_ pride--for he is very proud of whathis father was--have done this.\n",
      "+ _That_ would be the greatest misfortune of all!\n",
      "+ How wonderfully these sort of things occur!\n",
      "+ She owedher greatest relief to her friend Miss Lucas, who often joined them, andgood-naturedly engaged Mr. Collins's conversation to herself.\n",
      "+ \"An excellent consolation in its way,\" said Elizabeth, \"but it will notdo for _us_.\n",
      "+ The improvementof spending a night in London was added in time, and the plan becameperfect as plan could be.\n",
      "+ It is the greatest of favourswhen Miss de Bourgh comes in.\"\n",
      "+ Anne would havebeen a delightful performer, had her health allowed her to learn.\"\n",
      "+ \"Perfectly so, I thank you.\"\n",
      "+ She is avery great favourite with some ladies of my acquaintance, Mrs. Hurst andMiss Bingley.\n",
      "+ Perhaps thisconcealment, this disguise was beneath me; it is done, however, and itwas done for the best.\n",
      "+ I have the greatest dislike inthe world to that sort of thing.\n",
      "+ cried Elizabeth, with the greatest satisfaction.\n",
      "+ Charlotte is anexcellent manager, I dare say.\n",
      "+ \"His father was an excellent man,\" said Mrs. Gardiner.\n",
      "+ \"He is perfectly well behaved, polite, and unassuming,\" said her uncle.\n",
      "+ On reaching the house, they were shown through the hall into the saloon,whose northern aspect rendered it delightful for summer.\n",
      "+ Ourdistress, my dear Lizzy, is very great.\n",
      "+ And tell my dear Lydia not togive any directions about her clothes till she has seen me, for she doesnot know which are the best warehouses.\n",
      "+ We acted with the best intentions.\"\n",
      "+ It now occurred to the girls that their mother was in all likelihoodperfectly ignorant of what had happened.\n",
      "+ \"This is delightful indeed!\n",
      "+ I am so happy!\n",
      "+ But, however, he is very welcometo come to Netherfield, if he likes it.\n",
      "+ Happy shall I be, when his stay at Netherfield is over!\"\n",
      "+ You will be a very happy woman.\"\n",
      "+ my dear, dear Jane, I am sohappy!\n",
      "+ If I could but see _you_ as happy!\n",
      "+ He is perfectly amiable.\n",
      "+ Youridea of the ponies is delightful.\n"
     ]
    }
   ],
   "source": [
    "print(\"The \" + str(len(positive_sentiment_sentences)) + \" most positive sentences:\")\n",
    "for sentence in positive_sentiment_sentences:\n",
    "    print(\"+ \" + str(sentence.replace(\"\\n\", \"\").replace(\"      \", \" \")))\n"
   ]
  },
  {
   "cell_type": "code",
   "execution_count": 7,
   "metadata": {},
   "outputs": [
    {
     "name": "stdout",
     "output_type": "stream",
     "text": [
      "The 18 most negative sentences:\n",
      "- shocking!\"\n",
      "- Everybody is disgusted with his pride.\n",
      "- \"This is quite shocking!\n",
      "- What canhave induced him to behave so cruelly?\"\n",
      "- His dispositionmust be dreadful.\"\n",
      "- To finda man agreeable whom one is determined to hate!\n",
      "- \"You shall hear then--but prepare yourself for something very dreadful.\n",
      "- The pause was to Elizabeth's feelingsdreadful.\n",
      "- \"Wickham sovery bad!\n",
      "- The separationbetween her and her family was rather noisy than pathetic.\n",
      "- It would be dreadful!\n",
      "- It is every way horrible!\"\n",
      "- \"Oh, yes!--that, that is the worst of all.\n",
      "- \"She is so fond of Mrs. Forster,\" said she, \"it will be quite shockingto send her away!\n",
      "- It was all over before I arrived; so my curiosity was not sodreadfully racked as _yours_ seems to have been.\n",
      "- Hecalled it, therefore, his duty to step forward, and endeavour to remedyan evil which had been brought on by himself.\n",
      "- \"Hate you!\n",
      "- You were disgusted with the women who were always speaking,and looking, and thinking for _your_ approbation alone.\n"
     ]
    }
   ],
   "source": [
    "print(\"The \" + str(len(negative_sentiment_sentences)) + \" most negative sentences:\")\n",
    "for sentence in negative_sentiment_sentences:\n",
    "    print(\"- \" + str(sentence.replace(\"\\n\", \"\").replace(\"      \", \" \")))"
   ]
  }
 ],
 "metadata": {
  "kernelspec": {
   "display_name": "ml-for-beginners",
   "language": "python",
   "name": "python3"
  },
  "language_info": {
   "codemirror_mode": {
    "name": "ipython",
    "version": 3
   },
   "file_extension": ".py",
   "mimetype": "text/x-python",
   "name": "python",
   "nbconvert_exporter": "python",
   "pygments_lexer": "ipython3",
   "version": "3.12.11"
  },
  "orig_nbformat": 4
 },
 "nbformat": 4,
 "nbformat_minor": 2
}
