{
  "cells": [
    {
      "cell_type": "markdown",
      "metadata": {
        "id": "vomJzxlCL4yM"
      },
      "source": [
        "---\n",
        "6 Natural Language Processing (NLP)\n",
        "---\n",
        "\n",
        "[![Open In Colab](https://colab.research.google.com/assets/colab-badge.svg)](https://colab.research.google.com/github/SMC-AAU-CPH/ML-For-Beginners/blob/main/6-NLP/images/6-NLP.ipynb)\n"
      ]
    },
    {
      "cell_type": "code",
      "execution_count": 2,
      "metadata": {
        "colab": {
          "base_uri": "https://localhost:8080/"
        },
        "id": "rqYNwDJoM_JC",
        "outputId": "40e4bd6d-acd2-4c98-a8b4-aca7fabb9139"
      },
      "outputs": [
        {
          "output_type": "stream",
          "name": "stdout",
          "text": [
            "  % Total    % Received % Xferd  Average Speed   Time    Time     Time  Current\n",
            "                                 Dload  Upload   Total   Spent    Left  Speed\n",
            "  0     0    0     0    0     0      0      0 --:--:-- --:--:-- --:--:--     0\n",
            "100 45.0M  100 45.0M    0     0  66.8M      0 --:--:-- --:--:-- --:--:-- 66.8M\n",
            "mv: cannot stat '515k-hotel-reviews-data-in-europe.csv': No such file or directory\n",
            "  % Total    % Received % Xferd  Average Speed   Time    Time     Time  Current\n",
            "                                 Dload  Upload   Total   Spent    Left  Speed\n",
            "100  700k  100  700k    0     0  2212k      0 --:--:-- --:--:-- --:--:-- 2210k\n",
            "Requirement already satisfied: textblob==0.17.1 in /usr/local/lib/python3.12/dist-packages (0.17.1)\n",
            "Requirement already satisfied: nltk>=3.1 in /usr/local/lib/python3.12/dist-packages (from textblob==0.17.1) (3.9.1)\n",
            "Requirement already satisfied: click in /usr/local/lib/python3.12/dist-packages (from nltk>=3.1->textblob==0.17.1) (8.2.1)\n",
            "Requirement already satisfied: joblib in /usr/local/lib/python3.12/dist-packages (from nltk>=3.1->textblob==0.17.1) (1.5.2)\n",
            "Requirement already satisfied: regex>=2021.8.3 in /usr/local/lib/python3.12/dist-packages (from nltk>=3.1->textblob==0.17.1) (2024.11.6)\n",
            "Requirement already satisfied: tqdm in /usr/local/lib/python3.12/dist-packages (from nltk>=3.1->textblob==0.17.1) (4.67.1)\n"
          ]
        }
      ],
      "source": [
        "try:\n",
        "  import google.colab\n",
        "  IN_COLAB = True\n",
        "  # !mkdir -p data\n",
        "  !curl -L https://www.kaggle.com/api/v1/datasets/download/jiashenliu/515k-hotel-reviews-data-in-europe -o /tmp/515k-hotel-reviews-data-in-europe.zip\n",
        "  !unzip -q /tmp/515k-hotel-reviews-data-in-europe.zip -d .\n",
        "  !mv 515k-hotel-reviews-data-in-europe.csv Hotel_Reviews.csv\n",
        "  !curl https://raw.githubusercontent.com/cs109/2015lab8/master/data/pride_and_prejudice.txt -o pride.txt\n",
        "  !pip install textblob==0.17.1\n",
        "except:\n",
        "  IN_COLAB = False"
      ]
    },
    {
      "cell_type": "markdown",
      "metadata": {
        "id": "jCroLNd_PTQB"
      },
      "source": [
        "# 6.1 Introduction\n",
        "Where we learn about Elisa, Turing Test, and Computational Lingustics, then build a (random) conversational bot.\n",
        "\n",
        "## 6.1.1 The plan\n",
        "\n",
        "Your steps when building a conversational bot:\n",
        "\n",
        "1. Print instructions advising the user how to interact with the bot\n",
        "2. Start a loop\n",
        "    * Accept user input\n",
        "    * If user has asked to exit, then exit\n",
        "    * Process user input and determine response (in this case, the response is a random choice from a list of possible generic responses)\n",
        "    * Print response\n",
        "3. loop back to step 2"
      ]
    },
    {
      "cell_type": "code",
      "execution_count": 3,
      "metadata": {
        "colab": {
          "base_uri": "https://localhost:8080/"
        },
        "id": "KvjcAphqL4yO",
        "outputId": "0add3e0f-20f4-4e79-b955-6aa578f19429"
      },
      "outputs": [
        {
          "output_type": "stream",
          "name": "stdout",
          "text": [
            "Hello, I am Marvin, the simple robot.\n",
            "You can end this conversation at any time by typing 'bye'\n",
            "After typing each answer, press 'enter'\n",
            "How are you today?\n",
            "> good\n",
            "I see. Do go on.\n",
            "> bye\n",
            "It was nice talking to you, goodbye!\n"
          ]
        }
      ],
      "source": [
        "import random\n",
        "\n",
        "# This list contains the random responses (you can add your own or translate them into your own language too)\n",
        "random_responses = [\"That is quite interesting, please tell me more.\",\n",
        "                    \"I see. Do go on.\",\n",
        "                    \"Why do you say that?\",\n",
        "                    \"Funny weather we've been having, isn't it?\",\n",
        "                    \"Let's change the subject.\",\n",
        "                    \"Did you catch the game last night?\"]\n",
        "\n",
        "print(\"Hello, I am Marvin, the simple robot.\")\n",
        "print(\"You can end this conversation at any time by typing 'bye'\")\n",
        "print(\"After typing each answer, press 'enter'\")\n",
        "print(\"How are you today?\")\n",
        "\n",
        "while True:\n",
        "    # wait for the user to enter some text\n",
        "    user_input = input(\"> \")\n",
        "    if user_input.lower() == \"bye\":\n",
        "        # if they typed in 'bye' (or even BYE, ByE, byE etc.), break out of the loop\n",
        "        break\n",
        "    else:\n",
        "        response = random.choices(random_responses)[0]\n",
        "    print(response)\n",
        "\n",
        "print(\"It was nice talking to you, goodbye!\")"
      ]
    },
    {
      "cell_type": "markdown",
      "metadata": {
        "id": "mQCBDYylL4yP"
      },
      "source": [
        "✅ Stop and consider\n",
        "\n",
        "* Do you think the random responses would 'trick' someone into thinking that the bot actually understood them?\n",
        "* What features would the bot need to be more effective?\n",
        "* If a bot could really 'understand' the meaning of a sentence, would it need to 'remember' the meaning of previous sentences in a conversation too?\n"
      ]
    },
    {
      "cell_type": "markdown",
      "metadata": {
        "id": "i2Lohr4AL4yQ"
      },
      "source": [
        "# 6.2 [Common NLP tasks](https://paperswithcode.com/area/natural-language-processing) and techniques\n",
        "Where we learn about **tokenization** (splitting text into *tokens*), Embeddings (convert text to numerical data so that similar / related words cluster), Parsing & Part of speech tagging (e.g., as a noun, verb, or adjective), word and phrase frequencies, n-grams (A text can be split into sequences of words of a set length $n$), Noun phrase Extraction, [Sentiment analysis](https://paperswithcode.com/task/sentiment-analysis), inflection, and lemmatization (rooting of words). There are useful databases like WordNet, [GLUE and SST](https://paperswithcode.com/datasets?task=sentiment-analysis) and frameworks from classical NLP (e.g., TextBlob) or Deep Learning (e.g., [Transormers](https://huggingface.co/learn/nlp-course)).\n",
        "\n",
        "💡Take a look at a [deep learning embeddings on TensorFlow (and recall PCA and T-SNE)](https://projector.tensorflow.org)\n",
        "\n"
      ]
    },
    {
      "cell_type": "markdown",
      "metadata": {
        "id": "RsCANW5SL4yQ"
      },
      "source": [
        "### 6.2.1 Exercise  - using `TextBlob` library\n",
        "\n",
        "Let's use a library called TextBlob as it contains helpful APIs for tackling these types of tasks. TextBlob \"stands on the giant shoulders of [NLTK](https://nltk.org) and [pattern](https://github.com/clips/pattern), and plays nicely with both.\" It has a considerable amount of ML embedded in its API.\n",
        "\n",
        "> 💡 Note: A useful [Quick Start](https://textblob.readthedocs.io/en/dev/quickstart.html#quickstart) guide is available for TextBlob that is recommended for experienced Python developers\n",
        "\n",
        "When attempting to identify *noun phrases*, TextBlob offers several options of extractors to find noun phrases.\n",
        "\n",
        "1. Take a look at `ConllExtractor`.\n",
        "\n",
        "   ```python\n",
        "   from textblob import TextBlob\n",
        "   from textblob.np_extractors import ConllExtractor\n",
        "   # import and create a Conll extractor to use later\n",
        "   extractor = ConllExtractor()\n",
        "\n",
        "   # later when you need a noun phrase extractor:\n",
        "   user_input = input(\"> \")\n",
        "   user_input_blob = TextBlob(user_input, np_extractor=extractor)  # note non-default extractor specified\n",
        "   np = user_input_blob.noun_phrases                                  \n",
        "   ```\n",
        "   > What's going on here?\n",
        "   [ConllExtractor](https://textblob.readthedocs.io/en/dev/api_reference.html?highlight=Conll#textblob.en.np_extractors.ConllExtractor) is \"A noun phrase extractor that uses chunk parsing trained with the ConLL-2000 training corpus.\" ConLL-2000 refers to the 2000 Conference on Computational Natural Language Learning. Each year the conference hosted a workshop to tackle a thorny NLP problem, and in 2000 it was noun chunking. A model was trained on the Wall Street Journal, with \"sections 15-18 as training data (211727 tokens) and section 20 as test data (47377 tokens)\". You can look at the procedures used [here](https://www.clips.uantwerpen.be/conll2000/chunking/) and the [results](https://ifarm.nl/erikt/research/np-chunking.html).\n",
        "   >"
      ]
    },
    {
      "cell_type": "markdown",
      "metadata": {
        "id": "QfFABUBwL4yQ"
      },
      "source": [
        "### 6.2.2 Challenge - improving our bot with NLP\n",
        "\n",
        "In 6.1 we built a very simple Q&A bot. Now, we'll make Marvin a bit more sympathetic by analyzing your input for sentiment and printing out a response to match the sentiment. We'll also need to identify a `noun_phrase` and ask about it.\n",
        "\n",
        "Our steps when building a better conversational bot:\n",
        "\n",
        "1. Print instructions advising the user how to interact with the bot\n",
        "2. Start loop\n",
        "   1. Accept user input\n",
        "   2. If user has asked to exit, then exit\n",
        "   3. Process user input and determine appropriate sentiment response\n",
        "   4. If a noun phrase is detected in the sentiment, pluralize it and ask for more input on that topic\n",
        "   5. Print response\n",
        "3. loop back to step 2"
      ]
    },
    {
      "cell_type": "code",
      "execution_count": 5,
      "metadata": {
        "colab": {
          "base_uri": "https://localhost:8080/"
        },
        "id": "gpFc3nGWL4yR",
        "outputId": "ead339de-48b6-434f-c533-b9b3690f551a"
      },
      "outputs": [
        {
          "output_type": "stream",
          "name": "stdout",
          "text": [
            "Hello, I am Marvin, the simple robot.\n",
            "You can end this conversation at any time by typing 'bye'\n",
            "After typing each answer, press 'enter'\n",
            "How are you today?\n",
            "> good\n",
            "Wow, that sounds great. Can you tell me more?\n",
            "> bye\n",
            "It was nice talking to you, goodbye!\n"
          ]
        }
      ],
      "source": [
        "import random\n",
        "from textblob import TextBlob\n",
        "from textblob.np_extractors import ConllExtractor\n",
        "import nltk\n",
        "\n",
        "# DONE make these quiet: we don't want to see the download messages\n",
        "nltk.download('punkt', quiet=True)\n",
        "nltk.download('punkt_tab', quiet=True) # Download the missing resource\n",
        "extractor = ConllExtractor()\n",
        "\n",
        "\n",
        "nltk.download('conll2000', quiet=True)\n",
        "\n",
        "print(\"Hello, I am Marvin, the simple robot.\")\n",
        "print(\"You can end this conversation at any time by typing 'bye'\")\n",
        "print(\"After typing each answer, press 'enter'\")\n",
        "print(\"How are you today?\")\n",
        "\n",
        "while True:\n",
        "        # wait for the user to enter some text\n",
        "        user_input = input(\"> \")\n",
        "\n",
        "        if user_input.lower() == \"bye\":\n",
        "            # if they typed in 'bye' (or even BYE, ByE, byE etc.), break out of the loop\n",
        "            break\n",
        "        else:\n",
        "            # Create a TextBlob based on the user input. Then extract the noun phrases\n",
        "            user_input_blob = TextBlob(user_input, np_extractor=extractor)\n",
        "            np = user_input_blob.noun_phrases\n",
        "            response = \"\"\n",
        "            if user_input_blob.polarity <= -0.5:\n",
        "                response = \"Oh dear, that sounds bad. \"\n",
        "            elif user_input_blob.polarity <= 0:\n",
        "                response = \"Hmm, that's not great. \"\n",
        "            elif user_input_blob.polarity <= 0.5:\n",
        "                response = \"Well, that sounds positive. \"\n",
        "            elif user_input_blob.polarity <= 1:\n",
        "                response = \"Wow, that sounds great. \"\n",
        "\n",
        "            if len(np) != 0:\n",
        "                # There was at least one noun phrase detected, so ask about that and pluralise it\n",
        "                # e.g. cat -> cats or mouse -> mice\n",
        "                response = response + \"Can you tell me more about \" + np[0].pluralize() + \"?\"\n",
        "            else:\n",
        "                response = response + \"Can you tell me more?\"\n",
        "            print(response)\n",
        "\n",
        "print(\"It was nice talking to you, goodbye!\")"
      ]
    },
    {
      "cell_type": "markdown",
      "metadata": {
        "id": "9sLRpRT9L4yR"
      },
      "source": [
        "# 6.3 Translation and sentiment analysis with ML"
      ]
    },
    {
      "cell_type": "markdown",
      "metadata": {
        "id": "NwbsDAIUL4yR"
      },
      "source": [
        "### 6.3.1 Translation"
      ]
    },
    {
      "cell_type": "code",
      "execution_count": 6,
      "metadata": {
        "colab": {
          "base_uri": "https://localhost:8080/"
        },
        "id": "VFZ4ol3qL4yR",
        "outputId": "a8f921fb-45da-4f69-f5c8-5ec68c27829b"
      },
      "outputs": [
        {
          "output_type": "execute_result",
          "data": {
            "text/plain": [
              "TextBlob(\"Det er en sandhed, der universelt er anerkendt, at en enkelt mand, der er i besiddelse af en lykke, skal være i mangel på en kone!\")"
            ]
          },
          "metadata": {},
          "execution_count": 6
        }
      ],
      "source": [
        "from textblob import TextBlob\n",
        "\n",
        "blob = TextBlob(\n",
        "    \"It is a truth universally acknowledged, that a single man in possession of a good fortune, must be in want of a wife!\"\n",
        ")\n",
        "blob.translate(from_lang=\"en\",to=\"da\")"
      ]
    },
    {
      "cell_type": "markdown",
      "metadata": {
        "id": "B-OjMWiWL4yS"
      },
      "source": [
        "> ❓ What's going on here? and why is TextBlob so good at translation?\n",
        "\n",
        "Well, behind the scenes, it's using Google translate, a sophisticated AI able to parse millions of phrases to predict the best strings for the task at hand. There's nothing manual going on here and you need an internet connection to use `blob.translate`.\n",
        "\n",
        "✅ Try some more sentences. Which is better, ML or human translation? In which cases?"
      ]
    },
    {
      "cell_type": "markdown",
      "metadata": {
        "id": "13cZNCgyL4yS"
      },
      "source": [
        "### 6.3.2 Sentiment\n",
        "Sentiment is measured in with a *polarity* of -1 to 1, meaning -1 is the most negative sentiment, and 1 is the most positive.\n",
        "\n",
        "Sentiment is also measured with an 0 - 1 score for objectivity (0) and subjectivity (1)."
      ]
    },
    {
      "cell_type": "code",
      "execution_count": 7,
      "metadata": {
        "colab": {
          "base_uri": "https://localhost:8080/"
        },
        "id": "6s298B_FL4yS",
        "outputId": "c9c5822d-568f-412d-cbc3-a6d6db23651b"
      },
      "outputs": [
        {
          "output_type": "stream",
          "name": "stdout",
          "text": [
            "It is a truth universally acknowledged, that a single man in possession of a good fortune, must be in want of a wife. has a sentiment of Sentiment(polarity=0.20952380952380953, subjectivity=0.27142857142857146)\n",
            "Darcy, as well as Elizabeth, really loved them; and they were both ever sensible of the warmest gratitude towards the persons who, by bringing her into Derbyshire, had been the means of uniting them. has a sentiment of Sentiment(polarity=0.7, subjectivity=0.8)\n"
          ]
        }
      ],
      "source": [
        "from textblob import TextBlob\n",
        "\n",
        "quote1 = \"\"\"It is a truth universally acknowledged, that a single man in possession of a good fortune, must be in want of a wife.\"\"\"\n",
        "\n",
        "quote2 = \"\"\"Darcy, as well as Elizabeth, really loved them; and they were both ever sensible of the warmest gratitude towards the persons who, by bringing her into Derbyshire, had been the means of uniting them.\"\"\"\n",
        "\n",
        "sentiment1 = TextBlob(quote1).sentiment\n",
        "sentiment2 = TextBlob(quote2).sentiment\n",
        "\n",
        "print(quote1 + \" has a sentiment of \" + str(sentiment1))\n",
        "print(quote2 + \" has a sentiment of \" + str(sentiment2))"
      ]
    },
    {
      "cell_type": "markdown",
      "metadata": {
        "id": "KKMJQoXwL4yS"
      },
      "source": [
        "#### Challenge - check sentiment polarity\n",
        "Our task is to determine, using sentiment polarity, if *Pride and Prejudice* has more absolutely positive sentences than absolutely negative ones. For this task, you may assume that a polarity score of 1 or -1 is absolutely positive or negative respectively.\n",
        "\n",
        "**Steps:**\n",
        "\n",
        "1. ~~Download a [copy of Pride and Prejudice](https://www.gutenberg.org/files/1342/1342-h/1342-h.htm) from Project Gutenberg as a .txt file. Remove the metadata at the start and end of the file, leaving only the original text~~ Cumhur used\n",
        "\n",
        "`curl https://raw.githubusercontent.com/cs109/2015lab8/master/data/pride_and_prejudice.txt -o pride.txt`\n",
        "\n",
        "and did not clean up (as metadata is neutral).\n",
        "\n",
        "2. Open the file in Python and extract the contents as a string\n",
        "\n",
        "3. Create a TextBlob using the book string\n",
        "\n",
        "4. Analyse each sentence in the book in a loop\n",
        "   4.1. If the polarity is 1 or -1 store the sentence in an array or list of positive or negative messages\n",
        "\n",
        "5. At the end, print out all the positive sentences and negative sentences (separately) and the number of each."
      ]
    },
    {
      "cell_type": "code",
      "execution_count": 8,
      "metadata": {
        "id": "D-OUYqP2L4yS"
      },
      "outputs": [],
      "source": [
        "from textblob import TextBlob\n"
      ]
    },
    {
      "cell_type": "code",
      "execution_count": 9,
      "metadata": {
        "id": "QC4NiiufL4yS"
      },
      "outputs": [],
      "source": [
        "# You should download the book text, clean it, and import it here\n",
        "with open(\"pride.txt\", encoding=\"utf8\") as f:\n",
        "    file_contents = f.read()\n"
      ]
    },
    {
      "cell_type": "code",
      "execution_count": 10,
      "metadata": {
        "id": "Ej8z_t0CL4yS"
      },
      "outputs": [],
      "source": [
        "book_pride = TextBlob(file_contents)\n",
        "positive_sentiment_sentences = []\n",
        "negative_sentiment_sentences = []"
      ]
    },
    {
      "cell_type": "code",
      "execution_count": 11,
      "metadata": {
        "id": "wNK1smxLL4yS"
      },
      "outputs": [],
      "source": [
        "for sentence in book_pride.sentences:\n",
        "    if sentence.sentiment.polarity == 1:\n",
        "        positive_sentiment_sentences.append(sentence)\n",
        "    if sentence.sentiment.polarity == -1:\n",
        "        negative_sentiment_sentences.append(sentence)\n"
      ]
    },
    {
      "cell_type": "code",
      "execution_count": 12,
      "metadata": {
        "colab": {
          "base_uri": "https://localhost:8080/"
        },
        "id": "_OvcBxdyL4yS",
        "outputId": "1d075dae-b477-4b9f-b71e-e557b83ae7d8"
      },
      "outputs": [
        {
          "output_type": "stream",
          "name": "stdout",
          "text": [
            "The 39 most positive sentences:\n",
            "+ \"What an excellent father you have, girls!\"\n",
            "+ Everybody said how wellshe looked; and Mr. Bingley thought her quite beautiful, and danced withher twice!\n",
            "+ He walked here, and he walked there, fancying himself so verygreat!\n",
            "+ Elizabeth assured him that she could suit herself perfectly with thosein the room.\n",
            "+ What a delightful library you have atPemberley, Mr.\n",
            "+ Her performance on the pianoforte is exquisite.\"\n",
            "+ yes--I understand you perfectly.\"\n",
            "+ \"I am perfectly convinced by it that Mr. Darcy has no defect.\n",
            "+ \"It _is_ wonderful,\" replied Wickham, \"for almost all his actions maybe traced to pride; and pride had often been his best friend.\n",
            "+ Family pride, and _filial_ pride--for he is very proud of whathis father was--have done this.\n",
            "+ _That_ would be the greatest misfortune of all!\n",
            "+ How wonderfully these sort of things occur!\n",
            "+ She owedher greatest relief to her friend Miss Lucas, who often joined them, andgood-naturedly engaged Mr. Collins's conversation to herself.\n",
            "+ \"An excellent consolation in its way,\" said Elizabeth, \"but it will notdo for _us_.\n",
            "+ The improvementof spending a night in London was added in time, and the plan becameperfect as plan could be.\n",
            "+ It is the greatest of favourswhen Miss de Bourgh comes in.\"\n",
            "+ Anne would havebeen a delightful performer, had her health allowed her to learn.\"\n",
            "+ \"Perfectly so, I thank you.\"\n",
            "+ She is avery great favourite with some ladies of my acquaintance, Mrs. Hurst andMiss Bingley.\n",
            "+ Perhaps thisconcealment, this disguise was beneath me; it is done, however, and itwas done for the best.\n",
            "+ I have the greatest dislike inthe world to that sort of thing.\n",
            "+ cried Elizabeth, with the greatest satisfaction.\n",
            "+ Charlotte is anexcellent manager, I dare say.\n",
            "+ \"His father was an excellent man,\" said Mrs. Gardiner.\n",
            "+ \"He is perfectly well behaved, polite, and unassuming,\" said her uncle.\n",
            "+ On reaching the house, they were shown through the hall into the saloon,whose northern aspect rendered it delightful for summer.\n",
            "+ Ourdistress, my dear Lizzy, is very great.\n",
            "+ And tell my dear Lydia not togive any directions about her clothes till she has seen me, for she doesnot know which are the best warehouses.\n",
            "+ We acted with the best intentions.\"\n",
            "+ It now occurred to the girls that their mother was in all likelihoodperfectly ignorant of what had happened.\n",
            "+ \"This is delightful indeed!\n",
            "+ I am so happy!\n",
            "+ But, however, he is very welcometo come to Netherfield, if he likes it.\n",
            "+ Happy shall I be, when his stay at Netherfield is over!\"\n",
            "+ You will be a very happy woman.\"\n",
            "+ my dear, dear Jane, I am sohappy!\n",
            "+ If I could but see _you_ as happy!\n",
            "+ He is perfectly amiable.\n",
            "+ Youridea of the ponies is delightful.\n"
          ]
        }
      ],
      "source": [
        "print(\"The \" + str(len(positive_sentiment_sentences)) + \" most positive sentences:\")\n",
        "for sentence in positive_sentiment_sentences:\n",
        "    print(\"+ \" + str(sentence.replace(\"\\n\", \"\").replace(\"      \", \" \")))\n"
      ]
    },
    {
      "cell_type": "code",
      "execution_count": 13,
      "metadata": {
        "colab": {
          "base_uri": "https://localhost:8080/"
        },
        "id": "WXnWKelGL4yS",
        "outputId": "bbbd3a79-353b-4c0f-a26f-870b36d2e13a"
      },
      "outputs": [
        {
          "output_type": "stream",
          "name": "stdout",
          "text": [
            "The 18 most negative sentences:\n",
            "- shocking!\"\n",
            "- Everybody is disgusted with his pride.\n",
            "- \"This is quite shocking!\n",
            "- What canhave induced him to behave so cruelly?\"\n",
            "- His dispositionmust be dreadful.\"\n",
            "- To finda man agreeable whom one is determined to hate!\n",
            "- \"You shall hear then--but prepare yourself for something very dreadful.\n",
            "- The pause was to Elizabeth's feelingsdreadful.\n",
            "- \"Wickham sovery bad!\n",
            "- The separationbetween her and her family was rather noisy than pathetic.\n",
            "- It would be dreadful!\n",
            "- It is every way horrible!\"\n",
            "- \"Oh, yes!--that, that is the worst of all.\n",
            "- \"She is so fond of Mrs. Forster,\" said she, \"it will be quite shockingto send her away!\n",
            "- It was all over before I arrived; so my curiosity was not sodreadfully racked as _yours_ seems to have been.\n",
            "- Hecalled it, therefore, his duty to step forward, and endeavour to remedyan evil which had been brought on by himself.\n",
            "- \"Hate you!\n",
            "- You were disgusted with the women who were always speaking,and looking, and thinking for _your_ approbation alone.\n"
          ]
        }
      ],
      "source": [
        "print(\"The \" + str(len(negative_sentiment_sentences)) + \" most negative sentences:\")\n",
        "for sentence in negative_sentiment_sentences:\n",
        "    print(\"- \" + str(sentence.replace(\"\\n\", \"\").replace(\"      \", \" \")))"
      ]
    },
    {
      "cell_type": "markdown",
      "metadata": {
        "id": "UIVmJt8-L4yT"
      },
      "source": [
        "✅ Knowledge Check: Consult to the [3-Translation-Sentiment/README.md](../3-Translation-Sentiment/README.md)"
      ]
    },
    {
      "cell_type": "markdown",
      "metadata": {
        "id": "rTIzqIuJL4yT"
      },
      "source": [
        "# 6.4 Hotel Reviews 1\n",
        "\n",
        "See [4-Hotel-Reviews-1/README.md](../4-Hotel-Reviews-1/README.md) for details and the questions we ask.\n",
        "\n",
        "❗️If you don't like downloading from Kaggle or elsewhere as we do, you could try if you have huggingface =datasets= installed:\n",
        " ```python\n",
        " from datasets import load_dataset\n",
        " dataset = load_dataset(\"ashraq/hotel-reviews\")\n",
        " df = dataset[\"train\"].to_pandas()\n",
        " df.head() # note the data HF has only 3 columns and already cleaned\n",
        "```"
      ]
    },
    {
      "cell_type": "code",
      "execution_count": 14,
      "metadata": {
        "id": "DuZyBkFOL4yT"
      },
      "outputs": [],
      "source": [
        "## EDA\n",
        "import pandas as pd\n",
        "import time"
      ]
    },
    {
      "cell_type": "code",
      "execution_count": 15,
      "metadata": {
        "id": "wAq9OiLLL4yT"
      },
      "outputs": [],
      "source": [
        "def get_difference_review_avg(row):\n",
        "    return row[\"Average_Score\"] - row[\"Calc_Average_Score\"]"
      ]
    },
    {
      "cell_type": "code",
      "execution_count": 16,
      "metadata": {
        "colab": {
          "base_uri": "https://localhost:8080/"
        },
        "id": "OuhuGIU6L4yT",
        "outputId": "e7ff5ed1-06ef-4b21-f8dd-7a657d0c9103"
      },
      "outputs": [
        {
          "output_type": "stream",
          "name": "stdout",
          "text": [
            "Loading data file now, this could take a while depending on file size\n",
            "Loading took 4.79 seconds\n"
          ]
        }
      ],
      "source": [
        "# Load the hotel reviews from CSV\n",
        "print(\"Loading data file now, this could take a while depending on file size\")\n",
        "start = time.time()\n",
        "df = pd.read_csv('Hotel_Reviews.csv')\n",
        "end = time.time()\n",
        "print(\"Loading took \" + str(round(end - start, 2)) + \" seconds\")\n"
      ]
    },
    {
      "cell_type": "code",
      "execution_count": 17,
      "metadata": {
        "colab": {
          "base_uri": "https://localhost:8080/"
        },
        "id": "_1cT3oniL4yT",
        "outputId": "23822958-5415-4768-abdf-2ff8358230ac"
      },
      "outputs": [
        {
          "output_type": "stream",
          "name": "stdout",
          "text": [
            "The shape of the data (rows, cols) is (515738, 17)\n"
          ]
        }
      ],
      "source": [
        "# What shape is the data (rows, columns)?\n",
        "print(\"The shape of the data (rows, cols) is \" + str(df.shape))\n"
      ]
    },
    {
      "cell_type": "code",
      "execution_count": 18,
      "metadata": {
        "colab": {
          "base_uri": "https://localhost:8080/",
          "height": 694
        },
        "id": "yvYmh4Ohb-H1",
        "outputId": "93ac7d38-96c1-4354-e653-38863d739f83"
      },
      "outputs": [
        {
          "output_type": "execute_result",
          "data": {
            "text/plain": [
              "                                       Hotel_Address  \\\n",
              "0   s Gravesandestraat 55 Oost 1092 AA Amsterdam ...   \n",
              "1   s Gravesandestraat 55 Oost 1092 AA Amsterdam ...   \n",
              "2   s Gravesandestraat 55 Oost 1092 AA Amsterdam ...   \n",
              "3   s Gravesandestraat 55 Oost 1092 AA Amsterdam ...   \n",
              "4   s Gravesandestraat 55 Oost 1092 AA Amsterdam ...   \n",
              "\n",
              "   Additional_Number_of_Scoring Review_Date  Average_Score   Hotel_Name  \\\n",
              "0                           194    8/3/2017            7.7  Hotel Arena   \n",
              "1                           194    8/3/2017            7.7  Hotel Arena   \n",
              "2                           194   7/31/2017            7.7  Hotel Arena   \n",
              "3                           194   7/31/2017            7.7  Hotel Arena   \n",
              "4                           194   7/24/2017            7.7  Hotel Arena   \n",
              "\n",
              "  Reviewer_Nationality                                    Negative_Review  \\\n",
              "0              Russia    I am so angry that i made this post available...   \n",
              "1             Ireland                                         No Negative   \n",
              "2           Australia    Rooms are nice but for elderly a bit difficul...   \n",
              "3      United Kingdom    My room was dirty and I was afraid to walk ba...   \n",
              "4         New Zealand    You When I booked with your company on line y...   \n",
              "\n",
              "   Review_Total_Negative_Word_Counts  Total_Number_of_Reviews  \\\n",
              "0                                397                     1403   \n",
              "1                                  0                     1403   \n",
              "2                                 42                     1403   \n",
              "3                                210                     1403   \n",
              "4                                140                     1403   \n",
              "\n",
              "                                     Positive_Review  \\\n",
              "0   Only the park outside of the hotel was beauti...   \n",
              "1   No real complaints the hotel was great great ...   \n",
              "2   Location was good and staff were ok It is cut...   \n",
              "3   Great location in nice surroundings the bar a...   \n",
              "4    Amazing location and building Romantic setting    \n",
              "\n",
              "   Review_Total_Positive_Word_Counts  \\\n",
              "0                                 11   \n",
              "1                                105   \n",
              "2                                 21   \n",
              "3                                 26   \n",
              "4                                  8   \n",
              "\n",
              "   Total_Number_of_Reviews_Reviewer_Has_Given  Reviewer_Score  \\\n",
              "0                                           7             2.9   \n",
              "1                                           7             7.5   \n",
              "2                                           9             7.1   \n",
              "3                                           1             3.8   \n",
              "4                                           3             6.7   \n",
              "\n",
              "                                                Tags days_since_review  \\\n",
              "0  [' Leisure trip ', ' Couple ', ' Duplex Double...            0 days   \n",
              "1  [' Leisure trip ', ' Couple ', ' Duplex Double...            0 days   \n",
              "2  [' Leisure trip ', ' Family with young childre...            3 days   \n",
              "3  [' Leisure trip ', ' Solo traveler ', ' Duplex...            3 days   \n",
              "4  [' Leisure trip ', ' Couple ', ' Suite ', ' St...           10 days   \n",
              "\n",
              "         lat       lng  \n",
              "0  52.360576  4.915968  \n",
              "1  52.360576  4.915968  \n",
              "2  52.360576  4.915968  \n",
              "3  52.360576  4.915968  \n",
              "4  52.360576  4.915968  "
            ],
            "text/html": [
              "\n",
              "  <div id=\"df-6a3d150f-2c84-4fde-aa99-402d57d4e576\" class=\"colab-df-container\">\n",
              "    <div>\n",
              "<style scoped>\n",
              "    .dataframe tbody tr th:only-of-type {\n",
              "        vertical-align: middle;\n",
              "    }\n",
              "\n",
              "    .dataframe tbody tr th {\n",
              "        vertical-align: top;\n",
              "    }\n",
              "\n",
              "    .dataframe thead th {\n",
              "        text-align: right;\n",
              "    }\n",
              "</style>\n",
              "<table border=\"1\" class=\"dataframe\">\n",
              "  <thead>\n",
              "    <tr style=\"text-align: right;\">\n",
              "      <th></th>\n",
              "      <th>Hotel_Address</th>\n",
              "      <th>Additional_Number_of_Scoring</th>\n",
              "      <th>Review_Date</th>\n",
              "      <th>Average_Score</th>\n",
              "      <th>Hotel_Name</th>\n",
              "      <th>Reviewer_Nationality</th>\n",
              "      <th>Negative_Review</th>\n",
              "      <th>Review_Total_Negative_Word_Counts</th>\n",
              "      <th>Total_Number_of_Reviews</th>\n",
              "      <th>Positive_Review</th>\n",
              "      <th>Review_Total_Positive_Word_Counts</th>\n",
              "      <th>Total_Number_of_Reviews_Reviewer_Has_Given</th>\n",
              "      <th>Reviewer_Score</th>\n",
              "      <th>Tags</th>\n",
              "      <th>days_since_review</th>\n",
              "      <th>lat</th>\n",
              "      <th>lng</th>\n",
              "    </tr>\n",
              "  </thead>\n",
              "  <tbody>\n",
              "    <tr>\n",
              "      <th>0</th>\n",
              "      <td>s Gravesandestraat 55 Oost 1092 AA Amsterdam ...</td>\n",
              "      <td>194</td>\n",
              "      <td>8/3/2017</td>\n",
              "      <td>7.7</td>\n",
              "      <td>Hotel Arena</td>\n",
              "      <td>Russia</td>\n",
              "      <td>I am so angry that i made this post available...</td>\n",
              "      <td>397</td>\n",
              "      <td>1403</td>\n",
              "      <td>Only the park outside of the hotel was beauti...</td>\n",
              "      <td>11</td>\n",
              "      <td>7</td>\n",
              "      <td>2.9</td>\n",
              "      <td>[' Leisure trip ', ' Couple ', ' Duplex Double...</td>\n",
              "      <td>0 days</td>\n",
              "      <td>52.360576</td>\n",
              "      <td>4.915968</td>\n",
              "    </tr>\n",
              "    <tr>\n",
              "      <th>1</th>\n",
              "      <td>s Gravesandestraat 55 Oost 1092 AA Amsterdam ...</td>\n",
              "      <td>194</td>\n",
              "      <td>8/3/2017</td>\n",
              "      <td>7.7</td>\n",
              "      <td>Hotel Arena</td>\n",
              "      <td>Ireland</td>\n",
              "      <td>No Negative</td>\n",
              "      <td>0</td>\n",
              "      <td>1403</td>\n",
              "      <td>No real complaints the hotel was great great ...</td>\n",
              "      <td>105</td>\n",
              "      <td>7</td>\n",
              "      <td>7.5</td>\n",
              "      <td>[' Leisure trip ', ' Couple ', ' Duplex Double...</td>\n",
              "      <td>0 days</td>\n",
              "      <td>52.360576</td>\n",
              "      <td>4.915968</td>\n",
              "    </tr>\n",
              "    <tr>\n",
              "      <th>2</th>\n",
              "      <td>s Gravesandestraat 55 Oost 1092 AA Amsterdam ...</td>\n",
              "      <td>194</td>\n",
              "      <td>7/31/2017</td>\n",
              "      <td>7.7</td>\n",
              "      <td>Hotel Arena</td>\n",
              "      <td>Australia</td>\n",
              "      <td>Rooms are nice but for elderly a bit difficul...</td>\n",
              "      <td>42</td>\n",
              "      <td>1403</td>\n",
              "      <td>Location was good and staff were ok It is cut...</td>\n",
              "      <td>21</td>\n",
              "      <td>9</td>\n",
              "      <td>7.1</td>\n",
              "      <td>[' Leisure trip ', ' Family with young childre...</td>\n",
              "      <td>3 days</td>\n",
              "      <td>52.360576</td>\n",
              "      <td>4.915968</td>\n",
              "    </tr>\n",
              "    <tr>\n",
              "      <th>3</th>\n",
              "      <td>s Gravesandestraat 55 Oost 1092 AA Amsterdam ...</td>\n",
              "      <td>194</td>\n",
              "      <td>7/31/2017</td>\n",
              "      <td>7.7</td>\n",
              "      <td>Hotel Arena</td>\n",
              "      <td>United Kingdom</td>\n",
              "      <td>My room was dirty and I was afraid to walk ba...</td>\n",
              "      <td>210</td>\n",
              "      <td>1403</td>\n",
              "      <td>Great location in nice surroundings the bar a...</td>\n",
              "      <td>26</td>\n",
              "      <td>1</td>\n",
              "      <td>3.8</td>\n",
              "      <td>[' Leisure trip ', ' Solo traveler ', ' Duplex...</td>\n",
              "      <td>3 days</td>\n",
              "      <td>52.360576</td>\n",
              "      <td>4.915968</td>\n",
              "    </tr>\n",
              "    <tr>\n",
              "      <th>4</th>\n",
              "      <td>s Gravesandestraat 55 Oost 1092 AA Amsterdam ...</td>\n",
              "      <td>194</td>\n",
              "      <td>7/24/2017</td>\n",
              "      <td>7.7</td>\n",
              "      <td>Hotel Arena</td>\n",
              "      <td>New Zealand</td>\n",
              "      <td>You When I booked with your company on line y...</td>\n",
              "      <td>140</td>\n",
              "      <td>1403</td>\n",
              "      <td>Amazing location and building Romantic setting</td>\n",
              "      <td>8</td>\n",
              "      <td>3</td>\n",
              "      <td>6.7</td>\n",
              "      <td>[' Leisure trip ', ' Couple ', ' Suite ', ' St...</td>\n",
              "      <td>10 days</td>\n",
              "      <td>52.360576</td>\n",
              "      <td>4.915968</td>\n",
              "    </tr>\n",
              "  </tbody>\n",
              "</table>\n",
              "</div>\n",
              "    <div class=\"colab-df-buttons\">\n",
              "\n",
              "  <div class=\"colab-df-container\">\n",
              "    <button class=\"colab-df-convert\" onclick=\"convertToInteractive('df-6a3d150f-2c84-4fde-aa99-402d57d4e576')\"\n",
              "            title=\"Convert this dataframe to an interactive table.\"\n",
              "            style=\"display:none;\">\n",
              "\n",
              "  <svg xmlns=\"http://www.w3.org/2000/svg\" height=\"24px\" viewBox=\"0 -960 960 960\">\n",
              "    <path d=\"M120-120v-720h720v720H120Zm60-500h600v-160H180v160Zm220 220h160v-160H400v160Zm0 220h160v-160H400v160ZM180-400h160v-160H180v160Zm440 0h160v-160H620v160ZM180-180h160v-160H180v160Zm440 0h160v-160H620v160Z\"/>\n",
              "  </svg>\n",
              "    </button>\n",
              "\n",
              "  <style>\n",
              "    .colab-df-container {\n",
              "      display:flex;\n",
              "      gap: 12px;\n",
              "    }\n",
              "\n",
              "    .colab-df-convert {\n",
              "      background-color: #E8F0FE;\n",
              "      border: none;\n",
              "      border-radius: 50%;\n",
              "      cursor: pointer;\n",
              "      display: none;\n",
              "      fill: #1967D2;\n",
              "      height: 32px;\n",
              "      padding: 0 0 0 0;\n",
              "      width: 32px;\n",
              "    }\n",
              "\n",
              "    .colab-df-convert:hover {\n",
              "      background-color: #E2EBFA;\n",
              "      box-shadow: 0px 1px 2px rgba(60, 64, 67, 0.3), 0px 1px 3px 1px rgba(60, 64, 67, 0.15);\n",
              "      fill: #174EA6;\n",
              "    }\n",
              "\n",
              "    .colab-df-buttons div {\n",
              "      margin-bottom: 4px;\n",
              "    }\n",
              "\n",
              "    [theme=dark] .colab-df-convert {\n",
              "      background-color: #3B4455;\n",
              "      fill: #D2E3FC;\n",
              "    }\n",
              "\n",
              "    [theme=dark] .colab-df-convert:hover {\n",
              "      background-color: #434B5C;\n",
              "      box-shadow: 0px 1px 3px 1px rgba(0, 0, 0, 0.15);\n",
              "      filter: drop-shadow(0px 1px 2px rgba(0, 0, 0, 0.3));\n",
              "      fill: #FFFFFF;\n",
              "    }\n",
              "  </style>\n",
              "\n",
              "    <script>\n",
              "      const buttonEl =\n",
              "        document.querySelector('#df-6a3d150f-2c84-4fde-aa99-402d57d4e576 button.colab-df-convert');\n",
              "      buttonEl.style.display =\n",
              "        google.colab.kernel.accessAllowed ? 'block' : 'none';\n",
              "\n",
              "      async function convertToInteractive(key) {\n",
              "        const element = document.querySelector('#df-6a3d150f-2c84-4fde-aa99-402d57d4e576');\n",
              "        const dataTable =\n",
              "          await google.colab.kernel.invokeFunction('convertToInteractive',\n",
              "                                                    [key], {});\n",
              "        if (!dataTable) return;\n",
              "\n",
              "        const docLinkHtml = 'Like what you see? Visit the ' +\n",
              "          '<a target=\"_blank\" href=https://colab.research.google.com/notebooks/data_table.ipynb>data table notebook</a>'\n",
              "          + ' to learn more about interactive tables.';\n",
              "        element.innerHTML = '';\n",
              "        dataTable['output_type'] = 'display_data';\n",
              "        await google.colab.output.renderOutput(dataTable, element);\n",
              "        const docLink = document.createElement('div');\n",
              "        docLink.innerHTML = docLinkHtml;\n",
              "        element.appendChild(docLink);\n",
              "      }\n",
              "    </script>\n",
              "  </div>\n",
              "\n",
              "\n",
              "    <div id=\"df-44ae01b2-c645-46a6-851a-446c455f707c\">\n",
              "      <button class=\"colab-df-quickchart\" onclick=\"quickchart('df-44ae01b2-c645-46a6-851a-446c455f707c')\"\n",
              "                title=\"Suggest charts\"\n",
              "                style=\"display:none;\">\n",
              "\n",
              "<svg xmlns=\"http://www.w3.org/2000/svg\" height=\"24px\"viewBox=\"0 0 24 24\"\n",
              "     width=\"24px\">\n",
              "    <g>\n",
              "        <path d=\"M19 3H5c-1.1 0-2 .9-2 2v14c0 1.1.9 2 2 2h14c1.1 0 2-.9 2-2V5c0-1.1-.9-2-2-2zM9 17H7v-7h2v7zm4 0h-2V7h2v10zm4 0h-2v-4h2v4z\"/>\n",
              "    </g>\n",
              "</svg>\n",
              "      </button>\n",
              "\n",
              "<style>\n",
              "  .colab-df-quickchart {\n",
              "      --bg-color: #E8F0FE;\n",
              "      --fill-color: #1967D2;\n",
              "      --hover-bg-color: #E2EBFA;\n",
              "      --hover-fill-color: #174EA6;\n",
              "      --disabled-fill-color: #AAA;\n",
              "      --disabled-bg-color: #DDD;\n",
              "  }\n",
              "\n",
              "  [theme=dark] .colab-df-quickchart {\n",
              "      --bg-color: #3B4455;\n",
              "      --fill-color: #D2E3FC;\n",
              "      --hover-bg-color: #434B5C;\n",
              "      --hover-fill-color: #FFFFFF;\n",
              "      --disabled-bg-color: #3B4455;\n",
              "      --disabled-fill-color: #666;\n",
              "  }\n",
              "\n",
              "  .colab-df-quickchart {\n",
              "    background-color: var(--bg-color);\n",
              "    border: none;\n",
              "    border-radius: 50%;\n",
              "    cursor: pointer;\n",
              "    display: none;\n",
              "    fill: var(--fill-color);\n",
              "    height: 32px;\n",
              "    padding: 0;\n",
              "    width: 32px;\n",
              "  }\n",
              "\n",
              "  .colab-df-quickchart:hover {\n",
              "    background-color: var(--hover-bg-color);\n",
              "    box-shadow: 0 1px 2px rgba(60, 64, 67, 0.3), 0 1px 3px 1px rgba(60, 64, 67, 0.15);\n",
              "    fill: var(--button-hover-fill-color);\n",
              "  }\n",
              "\n",
              "  .colab-df-quickchart-complete:disabled,\n",
              "  .colab-df-quickchart-complete:disabled:hover {\n",
              "    background-color: var(--disabled-bg-color);\n",
              "    fill: var(--disabled-fill-color);\n",
              "    box-shadow: none;\n",
              "  }\n",
              "\n",
              "  .colab-df-spinner {\n",
              "    border: 2px solid var(--fill-color);\n",
              "    border-color: transparent;\n",
              "    border-bottom-color: var(--fill-color);\n",
              "    animation:\n",
              "      spin 1s steps(1) infinite;\n",
              "  }\n",
              "\n",
              "  @keyframes spin {\n",
              "    0% {\n",
              "      border-color: transparent;\n",
              "      border-bottom-color: var(--fill-color);\n",
              "      border-left-color: var(--fill-color);\n",
              "    }\n",
              "    20% {\n",
              "      border-color: transparent;\n",
              "      border-left-color: var(--fill-color);\n",
              "      border-top-color: var(--fill-color);\n",
              "    }\n",
              "    30% {\n",
              "      border-color: transparent;\n",
              "      border-left-color: var(--fill-color);\n",
              "      border-top-color: var(--fill-color);\n",
              "      border-right-color: var(--fill-color);\n",
              "    }\n",
              "    40% {\n",
              "      border-color: transparent;\n",
              "      border-right-color: var(--fill-color);\n",
              "      border-top-color: var(--fill-color);\n",
              "    }\n",
              "    60% {\n",
              "      border-color: transparent;\n",
              "      border-right-color: var(--fill-color);\n",
              "    }\n",
              "    80% {\n",
              "      border-color: transparent;\n",
              "      border-right-color: var(--fill-color);\n",
              "      border-bottom-color: var(--fill-color);\n",
              "    }\n",
              "    90% {\n",
              "      border-color: transparent;\n",
              "      border-bottom-color: var(--fill-color);\n",
              "    }\n",
              "  }\n",
              "</style>\n",
              "\n",
              "      <script>\n",
              "        async function quickchart(key) {\n",
              "          const quickchartButtonEl =\n",
              "            document.querySelector('#' + key + ' button');\n",
              "          quickchartButtonEl.disabled = true;  // To prevent multiple clicks.\n",
              "          quickchartButtonEl.classList.add('colab-df-spinner');\n",
              "          try {\n",
              "            const charts = await google.colab.kernel.invokeFunction(\n",
              "                'suggestCharts', [key], {});\n",
              "          } catch (error) {\n",
              "            console.error('Error during call to suggestCharts:', error);\n",
              "          }\n",
              "          quickchartButtonEl.classList.remove('colab-df-spinner');\n",
              "          quickchartButtonEl.classList.add('colab-df-quickchart-complete');\n",
              "        }\n",
              "        (() => {\n",
              "          let quickchartButtonEl =\n",
              "            document.querySelector('#df-44ae01b2-c645-46a6-851a-446c455f707c button');\n",
              "          quickchartButtonEl.style.display =\n",
              "            google.colab.kernel.accessAllowed ? 'block' : 'none';\n",
              "        })();\n",
              "      </script>\n",
              "    </div>\n",
              "\n",
              "    </div>\n",
              "  </div>\n"
            ],
            "application/vnd.google.colaboratory.intrinsic+json": {
              "type": "dataframe",
              "variable_name": "df"
            }
          },
          "metadata": {},
          "execution_count": 18
        }
      ],
      "source": [
        "df.head()"
      ]
    },
    {
      "cell_type": "code",
      "execution_count": 19,
      "metadata": {
        "id": "WvR4zM5wL4yT"
      },
      "outputs": [],
      "source": [
        "# value_counts() creates a Series object that has index and values\n",
        "#                in this case, the country and the frequency they occur in reviewer nationality\n",
        "nationality_freq = df[\"Reviewer_Nationality\"].value_counts()\n"
      ]
    },
    {
      "cell_type": "code",
      "execution_count": 20,
      "metadata": {
        "colab": {
          "base_uri": "https://localhost:8080/"
        },
        "id": "UKzRwHRxL4yT",
        "outputId": "1aa5190b-aa42-4fc6-822a-dfe788578a0a"
      },
      "outputs": [
        {
          "output_type": "stream",
          "name": "stdout",
          "text": [
            "The highest frequency reviewer nationality is United Kingdom with 245246 reviews.\n"
          ]
        }
      ],
      "source": [
        "# What reviewer nationality is the most common in the dataset?\n",
        "print(\"The highest frequency reviewer nationality is \" + str(nationality_freq.index[0]).strip() + \" with \" + str(nationality_freq.iloc[0]) + \" reviews.\")\n"
      ]
    },
    {
      "cell_type": "code",
      "execution_count": 21,
      "metadata": {
        "colab": {
          "base_uri": "https://localhost:8080/"
        },
        "id": "HnAIP3zaL4yT",
        "outputId": "49d14af2-07f7-4250-f754-1f9bfc9a337b"
      },
      "outputs": [
        {
          "output_type": "stream",
          "name": "stdout",
          "text": [
            "The top 10 highest frequency reviewer nationalities are:\n",
            "Reviewer_Nationality\n",
            "United Kingdom               245246\n",
            "United States of America      35437\n",
            "Australia                     21686\n",
            "Ireland                       14827\n",
            "United Arab Emirates          10235\n",
            "Saudi Arabia                   8951\n",
            "Netherlands                    8772\n",
            "Switzerland                    8678\n",
            "Germany                        7941\n",
            "Canada                         7894\n"
          ]
        }
      ],
      "source": [
        "# What is the top 10 most common nationalities and their frequencies?\n",
        "print(\"The top 10 highest frequency reviewer nationalities are:\")\n",
        "print(nationality_freq[0:10].to_string())\n"
      ]
    },
    {
      "cell_type": "code",
      "execution_count": 22,
      "metadata": {
        "colab": {
          "base_uri": "https://localhost:8080/"
        },
        "id": "6Uqc31gtL4yT",
        "outputId": "15020af7-4451-468b-f1d3-2931a2359e87"
      },
      "outputs": [
        {
          "output_type": "stream",
          "name": "stdout",
          "text": [
            "There are 227 unique nationalities in the dataset\n"
          ]
        }
      ],
      "source": [
        "# How many unique nationalities are there?\n",
        "print(\"There are \" + str(nationality_freq.index.size) + \" unique nationalities in the dataset\")\n"
      ]
    },
    {
      "cell_type": "code",
      "execution_count": 23,
      "metadata": {
        "colab": {
          "base_uri": "https://localhost:8080/"
        },
        "id": "0vQuZ4ECL4yT",
        "outputId": "948b17d8-4976-447a-fa16-b6188a1ac4de"
      },
      "outputs": [
        {
          "output_type": "stream",
          "name": "stdout",
          "text": [
            "The most reviewed hotel for United Kingdom was Britannia International Hotel Canary Wharf with 3833 reviews.\n",
            "The most reviewed hotel for United States of America was Hotel Esther a with 423 reviews.\n",
            "The most reviewed hotel for Australia was Park Plaza Westminster Bridge London with 167 reviews.\n",
            "The most reviewed hotel for Ireland was Copthorne Tara Hotel London Kensington with 239 reviews.\n",
            "The most reviewed hotel for United Arab Emirates was Millennium Hotel London Knightsbridge with 129 reviews.\n",
            "The most reviewed hotel for Saudi Arabia was The Cumberland A Guoman Hotel with 142 reviews.\n",
            "The most reviewed hotel for Netherlands was Jaz Amsterdam with 97 reviews.\n",
            "The most reviewed hotel for Switzerland was Hotel Da Vinci with 97 reviews.\n",
            "The most reviewed hotel for Germany was Hotel Da Vinci with 86 reviews.\n",
            "The most reviewed hotel for Canada was St James Court A Taj Hotel London with 61 reviews.\n"
          ]
        }
      ],
      "source": [
        "# What was the most frequently reviewed hotel for the top 10 nationalities - print the hotel and number of reviews\n",
        "for nat in nationality_freq[:10].index:\n",
        "   # First, extract all the rows that match the criteria into a new dataframe\n",
        "   nat_df = df[df[\"Reviewer_Nationality\"] == nat]\n",
        "   # Now get the hotel freq\n",
        "   freq = nat_df[\"Hotel_Name\"].value_counts()\n",
        "   print(\"The most reviewed hotel for \" + str(nat).strip() + \" was \" + str(freq.index[0]) + \" with \" + str(freq.iloc[0]) + \" reviews.\")\n"
      ]
    },
    {
      "cell_type": "code",
      "execution_count": 24,
      "metadata": {
        "id": "BbIoWcuLL4yT"
      },
      "outputs": [],
      "source": [
        "# How many reviews are there per hotel (frequency count of hotel) and do the results match the value in `Total_Number_of_Reviews`?\n",
        "# First create a new dataframe based on the old one, removing the uneeded columns\n",
        "hotel_freq_df = df.drop([\"Hotel_Address\", \"Additional_Number_of_Scoring\", \"Review_Date\", \"Average_Score\", \"Reviewer_Nationality\", \"Negative_Review\", \"Review_Total_Negative_Word_Counts\", \"Positive_Review\", \"Review_Total_Positive_Word_Counts\", \"Total_Number_of_Reviews_Reviewer_Has_Given\", \"Reviewer_Score\", \"Tags\", \"days_since_review\", \"lat\", \"lng\"], axis = 1)\n",
        "# Group the rows by Hotel_Name, count them and put the result in a new column Total_Reviews_Found\n",
        "hotel_freq_df['Total_Reviews_Found'] = hotel_freq_df.groupby('Hotel_Name').transform('count')\n",
        "# Get rid of all the duplicated rows\n",
        "hotel_freq_df = hotel_freq_df.drop_duplicates(subset = [\"Hotel_Name\"])\n",
        "# print()\n",
        "# print(hotel_freq_df.to_string())\n",
        "# print(str(hotel_freq_df.shape))"
      ]
    },
    {
      "cell_type": "code",
      "execution_count": 25,
      "metadata": {
        "colab": {
          "base_uri": "https://localhost:8080/"
        },
        "id": "-1WsRMEdL4yT",
        "outputId": "7f62eb59-d031-4e9e-f0fa-a6ca2c38ec20"
      },
      "outputs": [
        {
          "output_type": "stream",
          "name": "stdout",
          "text": [
            "        Average_Score_Difference  Average_Score  Calc_Average_Score  \\\n",
            "495945                      -0.8            7.7                 8.5   \n",
            "111027                      -0.7            8.8                 9.5   \n",
            "43688                       -0.7            7.5                 8.2   \n",
            "178253                      -0.7            7.9                 8.6   \n",
            "71274                       -0.5            8.9                 9.4   \n",
            "...                          ...            ...                 ...   \n",
            "201776                       0.7            7.5                 6.8   \n",
            "22189                        0.8            7.1                 6.3   \n",
            "250308                       0.9            8.6                 7.7   \n",
            "68936                        0.9            6.8                 5.9   \n",
            "3813                         1.3            7.2                 5.9   \n",
            "\n",
            "                                               Hotel_Name  \n",
            "495945                         Best Western Hotel Astoria  \n",
            "111027  Hotel Stendhal Place Vend me Paris MGallery by...  \n",
            "43688                       Mercure Paris Porte d Orleans  \n",
            "178253                    Renaissance Paris Vendome Hotel  \n",
            "71274                                       Drawing Hotel  \n",
            "...                                                   ...  \n",
            "201776            Mercure Paris Op ra Faubourg Montmartre  \n",
            "22189              Holiday Inn Paris Montparnasse Pasteur  \n",
            "250308          MARQUIS Faubourg St Honor Relais Ch teaux  \n",
            "68936                                       Villa Eugenie  \n",
            "3813                                   Kube Hotel Ice Bar  \n",
            "\n",
            "[1492 rows x 4 columns]\n"
          ]
        }
      ],
      "source": [
        "# While there is an `Average_Score` for each hotel according to the dataset,\n",
        "# you can also calculate an average score (getting the average of all reviewer scores in the dataset for each hotel)\n",
        "# Add a new column to your dataframe with the column header `Calc_Average_Score` that contains that calculated average.\n",
        "df['Calc_Average_Score'] = round(df.groupby('Hotel_Name').Reviewer_Score.transform('mean'), 1)\n",
        "# Add a new column with the difference between the two average scores\n",
        "df[\"Average_Score_Difference\"] = df.apply(get_difference_review_avg, axis = 1)\n",
        "# Create a df without all the duplicates of Hotel_Name (so only 1 row per hotel)\n",
        "review_scores_df = df.drop_duplicates(subset = [\"Hotel_Name\"])\n",
        "# Sort the dataframe to find the lowest and highest average score difference\n",
        "review_scores_df = review_scores_df.sort_values(by=[\"Average_Score_Difference\"])\n",
        "print(review_scores_df[[\"Average_Score_Difference\", \"Average_Score\", \"Calc_Average_Score\", \"Hotel_Name\"]])\n",
        "# Do any hotels have the same (rounded to 1 decimal place) `Average_Score` and `Calc_Average_Score`?\n"
      ]
    },
    {
      "cell_type": "markdown",
      "metadata": {
        "id": "tFYEihQ4L4yT"
      },
      "source": [
        "💡As we proceed to NLP, take this opportunity to read through the '[NLTK book](https://www.nltk.org/book/)' and try out its exercises."
      ]
    },
    {
      "cell_type": "markdown",
      "metadata": {
        "id": "ZnhcRLTKL4yT"
      },
      "source": [
        "# 6.5-Hotel-Reviews-2: Sentiment Analysis\n",
        "\n",
        "Now that you have explored the dataset in detail, it's time to filter the columns and then use NLP techniques on the dataset to gain new insights about the hotels."
      ]
    },
    {
      "cell_type": "markdown",
      "metadata": {
        "id": "Enbqlm86L4yU"
      },
      "source": [
        "### Exercise: a bit more data processing\n",
        "\n",
        "Clean the data just a bit more. Add columns that will be useful later, change the values in other columns, and drop certain columns completely."
      ]
    },
    {
      "cell_type": "code",
      "execution_count": 26,
      "metadata": {
        "id": "B36iB40cL4yU"
      },
      "outputs": [],
      "source": [
        "import ast"
      ]
    },
    {
      "cell_type": "code",
      "execution_count": 27,
      "metadata": {
        "id": "2ZL8ELpOL4yU"
      },
      "outputs": [],
      "source": [
        "def replace_address(row):\n",
        "    if \"Netherlands\" in row[\"Hotel_Address\"]:\n",
        "        return \"Amsterdam, Netherlands\"\n",
        "    elif \"Barcelona\" in row[\"Hotel_Address\"]:\n",
        "        return \"Barcelona, Spain\"\n",
        "    elif \"United Kingdom\" in row[\"Hotel_Address\"]:\n",
        "        return \"London, United Kingdom\"\n",
        "    elif \"Milan\" in row[\"Hotel_Address\"]:\n",
        "        return \"Milan, Italy\"\n",
        "    elif \"France\" in row[\"Hotel_Address\"]:\n",
        "        return \"Paris, France\"\n",
        "    elif \"Vienna\" in row[\"Hotel_Address\"]:\n",
        "        return \"Vienna, Austria\"\n",
        "    else:\n",
        "        return row.Hotel_Address\n"
      ]
    },
    {
      "cell_type": "code",
      "execution_count": 28,
      "metadata": {
        "id": "B4X5tN6RL4yU"
      },
      "outputs": [],
      "source": [
        "# dropping columns we will not use:\n",
        "df.drop([\"lat\", \"lng\"], axis = 1, inplace=True)"
      ]
    },
    {
      "cell_type": "code",
      "execution_count": 29,
      "metadata": {
        "id": "ixaFNvlJL4yY"
      },
      "outputs": [],
      "source": [
        "# Replace all the addresses with a shortened, more useful form\n",
        "df[\"Hotel_Address\"] = df.apply(replace_address, axis = 1)\n",
        "# Drop `Additional_Number_of_Scoring`\n",
        "df.drop([\"Additional_Number_of_Scoring\"], axis = 1, inplace=True)"
      ]
    },
    {
      "cell_type": "code",
      "execution_count": 30,
      "metadata": {
        "id": "jHsjqtMGL4yY"
      },
      "outputs": [],
      "source": [
        "# Replace `Total_Number_of_Reviews` and `Average_Score` with our own calculated values\n",
        "df.Average_Score = round(df.groupby('Hotel_Name').Reviewer_Score.transform('mean'), 1)"
      ]
    },
    {
      "cell_type": "code",
      "execution_count": 31,
      "metadata": {
        "id": "5Oz7kPUyL4yY"
      },
      "outputs": [],
      "source": [
        "# Process the Tags into new columns\n",
        "# The file Hotel_Reviews_Tags.py, identifies the most important tags\n",
        "# Leisure trip, Couple, Solo traveler, Business trip, Group combined with Travelers with friends,\n",
        "# Family with young children, Family with older children, With a pet\n",
        "\n",
        "df[\"Leisure_trip\"] = df.Tags.apply(lambda tag: 1 if \"Leisure trip\" in tag else 0)\n",
        "df[\"Couple\"] = df.Tags.apply(lambda tag: 1 if \"Couple\" in tag else 0)\n",
        "df[\"Solo_traveler\"] = df.Tags.apply(lambda tag: 1 if \"Solo traveler\" in tag else 0)\n",
        "df[\"Business_trip\"] = df.Tags.apply(lambda tag: 1 if \"Business trip\" in tag else 0)\n",
        "df[\"Group\"] = df.Tags.apply(lambda tag: 1 if \"Group\" in tag or \"Travelers with friends\" in tag else 0)\n",
        "df[\"Family_with_young_children\"] = df.Tags.apply(lambda tag: 1 if \"Family with young children\" in tag else 0)\n",
        "df[\"Family_with_older_children\"] = df.Tags.apply(lambda tag: 1 if \"Family with older children\" in tag else 0)\n",
        "df[\"With_a_pet\"] = df.Tags.apply(lambda tag: 1 if \"With a pet\" in tag else 0)"
      ]
    },
    {
      "cell_type": "code",
      "execution_count": 32,
      "metadata": {
        "id": "WSC-1WI8L4yY"
      },
      "outputs": [],
      "source": [
        "# No longer need any of these columns\n",
        "df.drop([\"Review_Date\", \"Review_Total_Negative_Word_Counts\", \"Review_Total_Positive_Word_Counts\", \"days_since_review\", \"Total_Number_of_Reviews_Reviewer_Has_Given\"], axis = 1, inplace=True)\n"
      ]
    },
    {
      "cell_type": "code",
      "execution_count": 33,
      "metadata": {
        "colab": {
          "base_uri": "https://localhost:8080/"
        },
        "id": "W-dD4VZ4L4yY",
        "outputId": "6a5f64e1-7ae3-49ae-d7c0-f2d4a64fed07"
      },
      "outputs": [
        {
          "output_type": "stream",
          "name": "stdout",
          "text": [
            "Saving results to Hotel_Reviews_Filtered.csv\n",
            "Filtering took 28.56 seconds\n"
          ]
        }
      ],
      "source": [
        "# Saving new data file with calculated columns\n",
        "print(\"Saving results to Hotel_Reviews_Filtered.csv\")\n",
        "df.to_csv(r'Hotel_Reviews_Filtered.csv', index = False)\n",
        "end = time.time()\n",
        "print(\"Filtering took \" + str(round(end - start, 2)) + \" seconds\")"
      ]
    },
    {
      "cell_type": "markdown",
      "metadata": {
        "id": "f3qbusuUL4yY"
      },
      "source": [
        "### Exercise: load and save the filtered data for sentiment analysis\n",
        "The code skeleton should like this (assuming) independent execution:\n",
        "```python\n",
        "import time\n",
        "import pandas as pd\n",
        "import nltk as nltk\n",
        "from nltk.corpus import stopwords\n",
        "from nltk.sentiment.vader import SentimentIntensityAnalyzer\n",
        "nltk.download('vader_lexicon')\n",
        "\n",
        "# Load the filtered hotel reviews from CSV\n",
        "df = pd.read_csv('Hotel_Reviews_Filtered.csv')\n",
        "\n",
        "# You code will be added here\n",
        "\n",
        "\n",
        "# Finally remember to save the hotel reviews with new NLP data added\n",
        "print(\"Saving results to Hotel_Reviews_NLP.csv\")\n",
        "df.to_csv(r'Hotel_Reviews_NLP.csv', index = False)\n",
        "```\n",
        "\n",
        "The actual code is below."
      ]
    },
    {
      "cell_type": "code",
      "execution_count": 34,
      "metadata": {
        "colab": {
          "base_uri": "https://localhost:8080/"
        },
        "id": "yAwg3QmNL4yY",
        "outputId": "f2a0f349-5e2b-4f5d-f99d-d41c440436ce"
      },
      "outputs": [
        {
          "output_type": "stream",
          "name": "stderr",
          "text": [
            "[nltk_data] Downloading package stopwords to /root/nltk_data...\n",
            "[nltk_data]   Unzipping corpora/stopwords.zip.\n",
            "[nltk_data] Downloading package vader_lexicon to /root/nltk_data...\n"
          ]
        },
        {
          "output_type": "execute_result",
          "data": {
            "text/plain": [
              "True"
            ]
          },
          "metadata": {},
          "execution_count": 34
        }
      ],
      "source": [
        "nltk.download('stopwords')\n",
        "from nltk.corpus import stopwords\n",
        "from nltk.sentiment.vader import SentimentIntensityAnalyzer\n",
        "nltk.download('vader_lexicon')"
      ]
    },
    {
      "cell_type": "code",
      "execution_count": 35,
      "metadata": {
        "id": "_s-q6UwjL4yY"
      },
      "outputs": [],
      "source": [
        "vader_sentiment = SentimentIntensityAnalyzer()"
      ]
    },
    {
      "cell_type": "code",
      "execution_count": 36,
      "metadata": {
        "id": "FDA1htYCL4yY"
      },
      "outputs": [],
      "source": [
        "# There are 3 possibilities of input for a review:\n",
        "# It could be \"No Negative\", in which case, return 0\n",
        "# It could be \"No Positive\", in which case, return 0\n",
        "# It could be a review, in which case calculate the sentiment\n",
        "def calc_sentiment(review):\n",
        "    if review == \"No Negative\" or review == \"No Positive\":\n",
        "        return 0\n",
        "    return vader_sentiment.polarity_scores(review)[\"compound\"]"
      ]
    },
    {
      "cell_type": "code",
      "execution_count": 37,
      "metadata": {
        "id": "JcuFwJNuL4yY"
      },
      "outputs": [],
      "source": [
        "# Load the hotel reviews from CSV (already filtered)\n",
        "df = pd.read_csv(\"Hotel_Reviews_Filtered.csv\")"
      ]
    },
    {
      "cell_type": "code",
      "execution_count": 38,
      "metadata": {
        "id": "iI3ZXUqAL4yY"
      },
      "outputs": [],
      "source": [
        "# Remove stop words - can be slow for a lot of text!\n",
        "# Ryan Han (ryanxjhan on Kaggle) has a great post measuring performance of different stop words removal approaches\n",
        "# https://www.kaggle.com/ryanxjhan/fast-stop-words-removal # using the approach that Ryan recommends\n",
        "start = time.time()\n",
        "cache = set(stopwords.words(\"english\"))\n",
        "def remove_stopwords(review):\n",
        "    # handle NaN / non-string values\n",
        "    if pd.isna(review):\n",
        "        return \"\"\n",
        "    if not isinstance(review, str):\n",
        "        review = str(review)\n",
        "    text = \" \".join([word for word in review.split() if word not in cache])\n",
        "    return text\n"
      ]
    },
    {
      "cell_type": "code",
      "execution_count": 39,
      "metadata": {
        "id": "QxFn_oCQL4yZ"
      },
      "outputs": [],
      "source": [
        "# Remove the stop words from both columns\n",
        "df.Negative_Review = df.Negative_Review.apply(remove_stopwords)\n",
        "df.Positive_Review = df.Positive_Review.apply(remove_stopwords)\n"
      ]
    },
    {
      "cell_type": "code",
      "execution_count": 40,
      "metadata": {
        "colab": {
          "base_uri": "https://localhost:8080/"
        },
        "id": "5vUcQ7PKL4yZ",
        "outputId": "93ae5482-0a88-494e-8515-5fdbf563c3c2"
      },
      "outputs": [
        {
          "output_type": "stream",
          "name": "stdout",
          "text": [
            "Removing stop words took 3.59 seconds\n"
          ]
        }
      ],
      "source": [
        "end = time.time()\n",
        "print(\"Removing stop words took \" + str(round(end - start, 2)) + \" seconds\")\n"
      ]
    },
    {
      "cell_type": "code",
      "execution_count": 41,
      "metadata": {
        "colab": {
          "base_uri": "https://localhost:8080/"
        },
        "id": "nAn4ZzzPL4yZ",
        "outputId": "2dd87e0c-fa03-4998-e32f-59b11f1e408c"
      },
      "outputs": [
        {
          "output_type": "stream",
          "name": "stdout",
          "text": [
            "Calculating sentiment columns for both positive and negative reviews\n",
            "Calculating sentiment took 141.88 seconds\n"
          ]
        }
      ],
      "source": [
        "# Add a negative sentiment and positive sentiment column. (This can take a moment, ~1,5 minute)\n",
        "print(\"Calculating sentiment columns for both positive and negative reviews\")\n",
        "start = time.time()\n",
        "df[\"Negative_Sentiment\"] = df.Negative_Review.apply(calc_sentiment)\n",
        "df[\"Positive_Sentiment\"] = df.Positive_Review.apply(calc_sentiment)\n",
        "end = time.time()\n",
        "print(\"Calculating sentiment took \" + str(round(end - start, 2)) + \" seconds\")"
      ]
    },
    {
      "cell_type": "code",
      "execution_count": 42,
      "metadata": {
        "colab": {
          "base_uri": "https://localhost:8080/"
        },
        "id": "U9MIQftXL4yZ",
        "outputId": "92ad52b0-ca49-4738-d259-f256ecd5ca5a"
      },
      "outputs": [
        {
          "output_type": "stream",
          "name": "stdout",
          "text": [
            "                                          Negative_Review  Negative_Sentiment\n",
            "186584  So bad experience memories I hotel The first n...             -0.9920\n",
            "129503  First charged twice room booked booking second...             -0.9896\n",
            "307286  The staff Had bad experience even booking Janu...             -0.9889\n",
            "201953  Everything DO NOT STAY AT THIS HOTEL I never i...             -0.9886\n",
            "452092  No WLAN room Incredibly rude restaurant staff ...             -0.9884\n",
            "...                                                   ...                 ...\n",
            "138365  Wifi terribly slow I speed test network upload...              0.9938\n",
            "79215   I find anything hotel first I walked past hote...              0.9938\n",
            "278506  The property great location There bakery next ...              0.9945\n",
            "339189  Guys I like hotel I wish return next year Howe...              0.9948\n",
            "480509  I travel lot far visited countless number hote...              0.9957\n",
            "\n",
            "[515738 rows x 2 columns]\n",
            "                                          Positive_Review  Positive_Sentiment\n",
            "137893  Bathroom Shower We going stay twice hotel 2 ni...             -0.9820\n",
            "5839    I completely disappointed mad since reception ...             -0.9780\n",
            "64158   get everything extra internet parking breakfas...             -0.9751\n",
            "124178  I didnt like anythig Room small Asked upgrade ...             -0.9721\n",
            "489137  Very rude manager abusive staff reception Dirt...             -0.9703\n",
            "...                                                   ...                 ...\n",
            "417442  We celebrated wedding night Langham I commend ...              0.9985\n",
            "322920  From moment stepped doors Guesthouse Hotel sta...              0.9985\n",
            "287419  When first arrived hotel staff incredibly frie...              0.9987\n",
            "132492  We arrived super cute boutique hotel area expl...              0.9987\n",
            "179007  We went Andaz 40th birthday celebration This a...              0.9991\n",
            "\n",
            "[515738 rows x 2 columns]\n"
          ]
        }
      ],
      "source": [
        "df = df.sort_values(by=[\"Negative_Sentiment\"], ascending=True)\n",
        "print(df[[\"Negative_Review\", \"Negative_Sentiment\"]])\n",
        "df = df.sort_values(by=[\"Positive_Sentiment\"], ascending=True)\n",
        "print(df[[\"Positive_Review\", \"Positive_Sentiment\"]])"
      ]
    },
    {
      "cell_type": "code",
      "execution_count": 43,
      "metadata": {
        "id": "AXP3AA3zL4yZ"
      },
      "outputs": [],
      "source": [
        "# Reorder the columns (This is cosmetic, but to make it easier to explore the data later)\n",
        "df = df.reindex([\"Hotel_Name\", \"Hotel_Address\", \"Total_Number_of_Reviews\", \"Average_Score\", \"Reviewer_Score\", \"Negative_Sentiment\", \"Positive_Sentiment\", \"Reviewer_Nationality\", \"Leisure_trip\", \"Couple\", \"Solo_traveler\", \"Business_trip\", \"Group\", \"Family_with_young_children\", \"Family_with_older_children\", \"With_a_pet\", \"Negative_Review\", \"Positive_Review\"], axis=1)\n"
      ]
    },
    {
      "cell_type": "code",
      "execution_count": 44,
      "metadata": {
        "colab": {
          "base_uri": "https://localhost:8080/"
        },
        "id": "Wzq_fQcaL4yZ",
        "outputId": "faf01b24-12e0-48fb-a36a-66e38957064b"
      },
      "outputs": [
        {
          "output_type": "stream",
          "name": "stdout",
          "text": [
            "Saving results to Hotel_Reviews_NLP.csv\n"
          ]
        }
      ],
      "source": [
        "print(\"Saving results to Hotel_Reviews_NLP.csv\")\n",
        "df.to_csv(r\"Hotel_Reviews_NLP.csv\", index = False)"
      ]
    }
  ],
  "metadata": {
    "colab": {
      "provenance": []
    },
    "kernelspec": {
      "display_name": "ml-for-beginners",
      "language": "python",
      "name": "python3"
    },
    "language_info": {
      "codemirror_mode": {
        "name": "ipython",
        "version": 3
      },
      "file_extension": ".py",
      "mimetype": "text/x-python",
      "name": "python",
      "nbconvert_exporter": "python",
      "pygments_lexer": "ipython3",
      "version": "3.12.11"
    }
  },
  "nbformat": 4,
  "nbformat_minor": 0
}