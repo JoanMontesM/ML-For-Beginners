{
 "cells": [
  {
   "cell_type": "code",
   "execution_count": null,
   "id": "f3e91cf7",
   "metadata": {},
   "outputs": [],
   "source": [
    "## Start with EDA then NLP\n"
   ]
  }
 ],
 "metadata": {
  "kernelspec": {
   "display_name": "ml-for-beginners",
   "language": "python",
   "name": "python3"
  },
  "language_info": {
   "name": "python",
   "version": "3.11.13"
  }
 },
 "nbformat": 4,
 "nbformat_minor": 5
}
