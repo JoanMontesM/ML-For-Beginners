{
 "cells": [
  {
   "cell_type": "markdown",
   "metadata": {},
   "source": [
    "---\n",
    "5 Clustering\n",
    "---\n",
    "\n",
    "Our topic today is an unsupervised ML method [Clustering](https://en.wikipedia.org/wiki/Cluster_analysis), which does not require a supervisor to provide the label values for any datapoint. Clustering methods aim to decompose datapoints into a few subsets which we refer to as clusters. They learn according to our question (a *hypothesis*) for assigning each data point either to one cluster or several clusters with different degrees of belonging.\n",
    "\n",
    "Broadly speaking, clustering can be divided into two subgroups:\n",
    "\n",
    "- **Hard Clustering**: In hard clustering, each data point either belongs to a cluster completely or not. \n",
    "- **Soft Clustering**: In soft clustering, instead of putting each data point into a separate cluster, a probability or likelihood of that data point to be in those clusters is assigned. \n",
    "\n",
    "Clustering of unlabeled data can be performed with the module [`sklearn.cluster`](https://scikit-learn.org/stable/modules/classes.html#module-sklearn.cluster). Each clustering algorithm comes in two variants: a class ([python class](https://docs.python.org/3/tutorial/classes.html)), that implements the `fit.()` method to learn the clusters on training data, and a function, that, given training data, returns an array of integer labels corresponding to the different clusters. For the class, the labels over the training data can be found in the `labels_` attribute. Here is the overview of [clustering methods](https://scikit-learn.org/stable/modules/clustering.html#overview-of-clustering-methods).\n",
    "\n",
    "Here, we will use **K-means** to solve a **hard-clustering** task. \n",
    "\n",
    "## Learning goals\n",
    "* Learn how to **construct** and **train** K-means for **hard-clustering** task using `scikit-learn`. \n",
    "* Learn the importance of K-means initialization.\n",
    "* Learn about the properties of K-means clusters.\n",
    "* Learn how to use inertia and silhouette coefficient to choose the number of clusters k.\n",
    "* Learn how to construct new features using clustering, and to leverage those for more expressive (supervised) models."
   ]
  },
  {
   "cell_type": "markdown",
   "metadata": {},
   "source": [
    "The **[KMeans](https://en.wikipedia.org/wiki/K-means_clustering)** algorithm clusters data by trying to separate samples in n groups of equal variance, minimizing a criterion known as the inertia or within-cluster sum-of-squares (see below). This algorithm requires the number of clusters to be specified. It scales well to large number of samples and has been used across a large range of application areas in many different fields.\n",
    "\n",
    "The k-means algorithm divides a set of $N$ samples $X = \\{x_1,x_2,...,x_n\\}$ into $K$ disjoint clusters $C_1,C_2,...,C_k$, each described by the mean $\\mu_j$ of the samples in the cluster $C_j$, for $j \\in \\{1,2,3,...,k\\}$ . The means are commonly called the cluster “centroids”; note that they are not, in general, points from $X$, although they live in the same space.\n",
    "\n",
    "The K-means algorithm aims to choose centroids that minimise the **inertia**, or **within-cluster sum-of-squares criterion**:\n",
    "$$\n",
    "\\mathop{min}\\limits_{\\mathbf{\\mu}}\n",
    "\\sum^{k}_{j=1}\n",
    "\\sum^{}_{x_i\\in C_j}\n",
    "\\| x_i - \\mu_j\\|^2\n",
    "$$\n",
    "\n",
    "Furthermore, since the total variance in the data is a constant, by minimizing the within-cluster (intra) variance we are also implicitly *maximizing* the between-cluster (inter) variance. As a result, K-means tries to find well separated spherical clusters with equal densities. More specifically, K-means can only produce convex clusters, which makes it less useful when the targeted/real clusters are strongly overlapping or entangled. And finally, whether or not there is actually any \"clustering/grouping\" we as humans might recognize or wish to find in the data, K-means **will** return us k cluster centroids, and those centroids will partition the input space in convex partitions using euclidean distance. It is solely on the analyst to interpret and validate the results using ingenuity and existing tools (goodness measures, visual inspection etc.)."
   ]
  },
  {
   "cell_type": "markdown",
   "metadata": {},
   "source": [
    "# 5.1 Visualize Nigerian Music scraped from Spotify - an analysis"
   ]
  },
  {
   "cell_type": "code",
   "execution_count": 1,
   "metadata": {},
   "outputs": [],
   "source": [
    "import matplotlib.pyplot as plt\n",
    "import pandas as pd\n"
   ]
  },
  {
   "cell_type": "code",
   "execution_count": 2,
   "metadata": {},
   "outputs": [
    {
     "data": {
      "text/html": [
       "<div>\n",
       "<style scoped>\n",
       "    .dataframe tbody tr th:only-of-type {\n",
       "        vertical-align: middle;\n",
       "    }\n",
       "\n",
       "    .dataframe tbody tr th {\n",
       "        vertical-align: top;\n",
       "    }\n",
       "\n",
       "    .dataframe thead th {\n",
       "        text-align: right;\n",
       "    }\n",
       "</style>\n",
       "<table border=\"1\" class=\"dataframe\">\n",
       "  <thead>\n",
       "    <tr style=\"text-align: right;\">\n",
       "      <th></th>\n",
       "      <th>name</th>\n",
       "      <th>album</th>\n",
       "      <th>artist</th>\n",
       "      <th>artist_top_genre</th>\n",
       "      <th>release_date</th>\n",
       "      <th>length</th>\n",
       "      <th>popularity</th>\n",
       "      <th>danceability</th>\n",
       "      <th>acousticness</th>\n",
       "      <th>energy</th>\n",
       "      <th>instrumentalness</th>\n",
       "      <th>liveness</th>\n",
       "      <th>loudness</th>\n",
       "      <th>speechiness</th>\n",
       "      <th>tempo</th>\n",
       "      <th>time_signature</th>\n",
       "    </tr>\n",
       "  </thead>\n",
       "  <tbody>\n",
       "    <tr>\n",
       "      <th>0</th>\n",
       "      <td>Sparky</td>\n",
       "      <td>Mandy &amp; The Jungle</td>\n",
       "      <td>Cruel Santino</td>\n",
       "      <td>alternative r&amp;b</td>\n",
       "      <td>2019</td>\n",
       "      <td>144000</td>\n",
       "      <td>48</td>\n",
       "      <td>0.666</td>\n",
       "      <td>0.8510</td>\n",
       "      <td>0.420</td>\n",
       "      <td>0.534000</td>\n",
       "      <td>0.1100</td>\n",
       "      <td>-6.699</td>\n",
       "      <td>0.0829</td>\n",
       "      <td>133.015</td>\n",
       "      <td>5</td>\n",
       "    </tr>\n",
       "    <tr>\n",
       "      <th>1</th>\n",
       "      <td>shuga rush</td>\n",
       "      <td>EVERYTHING YOU HEARD IS TRUE</td>\n",
       "      <td>Odunsi (The Engine)</td>\n",
       "      <td>afropop</td>\n",
       "      <td>2020</td>\n",
       "      <td>89488</td>\n",
       "      <td>30</td>\n",
       "      <td>0.710</td>\n",
       "      <td>0.0822</td>\n",
       "      <td>0.683</td>\n",
       "      <td>0.000169</td>\n",
       "      <td>0.1010</td>\n",
       "      <td>-5.640</td>\n",
       "      <td>0.3600</td>\n",
       "      <td>129.993</td>\n",
       "      <td>3</td>\n",
       "    </tr>\n",
       "    <tr>\n",
       "      <th>2</th>\n",
       "      <td>LITT!</td>\n",
       "      <td>LITT!</td>\n",
       "      <td>AYLØ</td>\n",
       "      <td>indie r&amp;b</td>\n",
       "      <td>2018</td>\n",
       "      <td>207758</td>\n",
       "      <td>40</td>\n",
       "      <td>0.836</td>\n",
       "      <td>0.2720</td>\n",
       "      <td>0.564</td>\n",
       "      <td>0.000537</td>\n",
       "      <td>0.1100</td>\n",
       "      <td>-7.127</td>\n",
       "      <td>0.0424</td>\n",
       "      <td>130.005</td>\n",
       "      <td>4</td>\n",
       "    </tr>\n",
       "    <tr>\n",
       "      <th>3</th>\n",
       "      <td>Confident / Feeling Cool</td>\n",
       "      <td>Enjoy Your Life</td>\n",
       "      <td>Lady Donli</td>\n",
       "      <td>nigerian pop</td>\n",
       "      <td>2019</td>\n",
       "      <td>175135</td>\n",
       "      <td>14</td>\n",
       "      <td>0.894</td>\n",
       "      <td>0.7980</td>\n",
       "      <td>0.611</td>\n",
       "      <td>0.000187</td>\n",
       "      <td>0.0964</td>\n",
       "      <td>-4.961</td>\n",
       "      <td>0.1130</td>\n",
       "      <td>111.087</td>\n",
       "      <td>4</td>\n",
       "    </tr>\n",
       "    <tr>\n",
       "      <th>4</th>\n",
       "      <td>wanted you</td>\n",
       "      <td>rare.</td>\n",
       "      <td>Odunsi (The Engine)</td>\n",
       "      <td>afropop</td>\n",
       "      <td>2018</td>\n",
       "      <td>152049</td>\n",
       "      <td>25</td>\n",
       "      <td>0.702</td>\n",
       "      <td>0.1160</td>\n",
       "      <td>0.833</td>\n",
       "      <td>0.910000</td>\n",
       "      <td>0.3480</td>\n",
       "      <td>-6.044</td>\n",
       "      <td>0.0447</td>\n",
       "      <td>105.115</td>\n",
       "      <td>4</td>\n",
       "    </tr>\n",
       "  </tbody>\n",
       "</table>\n",
       "</div>"
      ],
      "text/plain": [
       "                       name                         album  \\\n",
       "0                    Sparky            Mandy & The Jungle   \n",
       "1                shuga rush  EVERYTHING YOU HEARD IS TRUE   \n",
       "2                     LITT!                         LITT!   \n",
       "3  Confident / Feeling Cool               Enjoy Your Life   \n",
       "4                wanted you                         rare.   \n",
       "\n",
       "                artist artist_top_genre  release_date  length  popularity  \\\n",
       "0        Cruel Santino  alternative r&b          2019  144000          48   \n",
       "1  Odunsi (The Engine)          afropop          2020   89488          30   \n",
       "2                 AYLØ        indie r&b          2018  207758          40   \n",
       "3           Lady Donli     nigerian pop          2019  175135          14   \n",
       "4  Odunsi (The Engine)          afropop          2018  152049          25   \n",
       "\n",
       "   danceability  acousticness  energy  instrumentalness  liveness  loudness  \\\n",
       "0         0.666        0.8510   0.420          0.534000    0.1100    -6.699   \n",
       "1         0.710        0.0822   0.683          0.000169    0.1010    -5.640   \n",
       "2         0.836        0.2720   0.564          0.000537    0.1100    -7.127   \n",
       "3         0.894        0.7980   0.611          0.000187    0.0964    -4.961   \n",
       "4         0.702        0.1160   0.833          0.910000    0.3480    -6.044   \n",
       "\n",
       "   speechiness    tempo  time_signature  \n",
       "0       0.0829  133.015               5  \n",
       "1       0.3600  129.993               3  \n",
       "2       0.0424  130.005               4  \n",
       "3       0.1130  111.087               4  \n",
       "4       0.0447  105.115               4  "
      ]
     },
     "execution_count": 2,
     "metadata": {},
     "output_type": "execute_result"
    }
   ],
   "source": [
    "df = pd.read_csv(\"../data/nigerian-songs.csv\")\n",
    "df.head()\n"
   ]
  },
  {
   "cell_type": "code",
   "execution_count": 3,
   "metadata": {},
   "outputs": [
    {
     "name": "stdout",
     "output_type": "stream",
     "text": [
      "<class 'pandas.core.frame.DataFrame'>\n",
      "RangeIndex: 530 entries, 0 to 529\n",
      "Data columns (total 16 columns):\n",
      " #   Column            Non-Null Count  Dtype  \n",
      "---  ------            --------------  -----  \n",
      " 0   name              530 non-null    object \n",
      " 1   album             530 non-null    object \n",
      " 2   artist            530 non-null    object \n",
      " 3   artist_top_genre  530 non-null    object \n",
      " 4   release_date      530 non-null    int64  \n",
      " 5   length            530 non-null    int64  \n",
      " 6   popularity        530 non-null    int64  \n",
      " 7   danceability      530 non-null    float64\n",
      " 8   acousticness      530 non-null    float64\n",
      " 9   energy            530 non-null    float64\n",
      " 10  instrumentalness  530 non-null    float64\n",
      " 11  liveness          530 non-null    float64\n",
      " 12  loudness          530 non-null    float64\n",
      " 13  speechiness       530 non-null    float64\n",
      " 14  tempo             530 non-null    float64\n",
      " 15  time_signature    530 non-null    int64  \n",
      "dtypes: float64(8), int64(4), object(4)\n",
      "memory usage: 66.4+ KB\n"
     ]
    }
   ],
   "source": [
    "# Get information about the dataframe\n",
    "df.info()\n"
   ]
  },
  {
   "cell_type": "code",
   "execution_count": 4,
   "metadata": {},
   "outputs": [
    {
     "data": {
      "text/plain": [
       "name                0\n",
       "album               0\n",
       "artist              0\n",
       "artist_top_genre    0\n",
       "release_date        0\n",
       "length              0\n",
       "popularity          0\n",
       "danceability        0\n",
       "acousticness        0\n",
       "energy              0\n",
       "instrumentalness    0\n",
       "liveness            0\n",
       "loudness            0\n",
       "speechiness         0\n",
       "tempo               0\n",
       "time_signature      0\n",
       "dtype: int64"
      ]
     },
     "execution_count": 4,
     "metadata": {},
     "output_type": "execute_result"
    }
   ],
   "source": [
    "# Double-check for null values.\n",
    "df.isnull().sum()\n"
   ]
  },
  {
   "cell_type": "code",
   "execution_count": 5,
   "metadata": {},
   "outputs": [
    {
     "data": {
      "text/html": [
       "<div>\n",
       "<style scoped>\n",
       "    .dataframe tbody tr th:only-of-type {\n",
       "        vertical-align: middle;\n",
       "    }\n",
       "\n",
       "    .dataframe tbody tr th {\n",
       "        vertical-align: top;\n",
       "    }\n",
       "\n",
       "    .dataframe thead th {\n",
       "        text-align: right;\n",
       "    }\n",
       "</style>\n",
       "<table border=\"1\" class=\"dataframe\">\n",
       "  <thead>\n",
       "    <tr style=\"text-align: right;\">\n",
       "      <th></th>\n",
       "      <th>release_date</th>\n",
       "      <th>length</th>\n",
       "      <th>popularity</th>\n",
       "      <th>danceability</th>\n",
       "      <th>acousticness</th>\n",
       "      <th>energy</th>\n",
       "      <th>instrumentalness</th>\n",
       "      <th>liveness</th>\n",
       "      <th>loudness</th>\n",
       "      <th>speechiness</th>\n",
       "      <th>tempo</th>\n",
       "      <th>time_signature</th>\n",
       "    </tr>\n",
       "  </thead>\n",
       "  <tbody>\n",
       "    <tr>\n",
       "      <th>count</th>\n",
       "      <td>530.000000</td>\n",
       "      <td>530.000000</td>\n",
       "      <td>530.000000</td>\n",
       "      <td>530.000000</td>\n",
       "      <td>530.000000</td>\n",
       "      <td>530.000000</td>\n",
       "      <td>530.000000</td>\n",
       "      <td>530.000000</td>\n",
       "      <td>530.000000</td>\n",
       "      <td>530.000000</td>\n",
       "      <td>530.000000</td>\n",
       "      <td>530.000000</td>\n",
       "    </tr>\n",
       "    <tr>\n",
       "      <th>mean</th>\n",
       "      <td>2015.390566</td>\n",
       "      <td>222298.169811</td>\n",
       "      <td>17.507547</td>\n",
       "      <td>0.741619</td>\n",
       "      <td>0.265412</td>\n",
       "      <td>0.760623</td>\n",
       "      <td>0.016305</td>\n",
       "      <td>0.147308</td>\n",
       "      <td>-4.953011</td>\n",
       "      <td>0.130748</td>\n",
       "      <td>116.487864</td>\n",
       "      <td>3.986792</td>\n",
       "    </tr>\n",
       "    <tr>\n",
       "      <th>std</th>\n",
       "      <td>3.131688</td>\n",
       "      <td>39696.822259</td>\n",
       "      <td>18.992212</td>\n",
       "      <td>0.117522</td>\n",
       "      <td>0.208342</td>\n",
       "      <td>0.148533</td>\n",
       "      <td>0.090321</td>\n",
       "      <td>0.123588</td>\n",
       "      <td>2.464186</td>\n",
       "      <td>0.092939</td>\n",
       "      <td>23.518601</td>\n",
       "      <td>0.333701</td>\n",
       "    </tr>\n",
       "    <tr>\n",
       "      <th>min</th>\n",
       "      <td>1998.000000</td>\n",
       "      <td>89488.000000</td>\n",
       "      <td>0.000000</td>\n",
       "      <td>0.255000</td>\n",
       "      <td>0.000665</td>\n",
       "      <td>0.111000</td>\n",
       "      <td>0.000000</td>\n",
       "      <td>0.028300</td>\n",
       "      <td>-19.362000</td>\n",
       "      <td>0.027800</td>\n",
       "      <td>61.695000</td>\n",
       "      <td>3.000000</td>\n",
       "    </tr>\n",
       "    <tr>\n",
       "      <th>25%</th>\n",
       "      <td>2014.000000</td>\n",
       "      <td>199305.000000</td>\n",
       "      <td>0.000000</td>\n",
       "      <td>0.681000</td>\n",
       "      <td>0.089525</td>\n",
       "      <td>0.669000</td>\n",
       "      <td>0.000000</td>\n",
       "      <td>0.075650</td>\n",
       "      <td>-6.298750</td>\n",
       "      <td>0.059100</td>\n",
       "      <td>102.961250</td>\n",
       "      <td>4.000000</td>\n",
       "    </tr>\n",
       "    <tr>\n",
       "      <th>50%</th>\n",
       "      <td>2016.000000</td>\n",
       "      <td>218509.000000</td>\n",
       "      <td>13.000000</td>\n",
       "      <td>0.761000</td>\n",
       "      <td>0.220500</td>\n",
       "      <td>0.784500</td>\n",
       "      <td>0.000004</td>\n",
       "      <td>0.103500</td>\n",
       "      <td>-4.558500</td>\n",
       "      <td>0.097950</td>\n",
       "      <td>112.714500</td>\n",
       "      <td>4.000000</td>\n",
       "    </tr>\n",
       "    <tr>\n",
       "      <th>75%</th>\n",
       "      <td>2017.000000</td>\n",
       "      <td>242098.500000</td>\n",
       "      <td>31.000000</td>\n",
       "      <td>0.829500</td>\n",
       "      <td>0.403000</td>\n",
       "      <td>0.875750</td>\n",
       "      <td>0.000234</td>\n",
       "      <td>0.164000</td>\n",
       "      <td>-3.331000</td>\n",
       "      <td>0.177000</td>\n",
       "      <td>125.039250</td>\n",
       "      <td>4.000000</td>\n",
       "    </tr>\n",
       "    <tr>\n",
       "      <th>max</th>\n",
       "      <td>2020.000000</td>\n",
       "      <td>511738.000000</td>\n",
       "      <td>73.000000</td>\n",
       "      <td>0.966000</td>\n",
       "      <td>0.954000</td>\n",
       "      <td>0.995000</td>\n",
       "      <td>0.910000</td>\n",
       "      <td>0.811000</td>\n",
       "      <td>0.582000</td>\n",
       "      <td>0.514000</td>\n",
       "      <td>206.007000</td>\n",
       "      <td>5.000000</td>\n",
       "    </tr>\n",
       "  </tbody>\n",
       "</table>\n",
       "</div>"
      ],
      "text/plain": [
       "       release_date         length  popularity  danceability  acousticness  \\\n",
       "count    530.000000     530.000000  530.000000    530.000000    530.000000   \n",
       "mean    2015.390566  222298.169811   17.507547      0.741619      0.265412   \n",
       "std        3.131688   39696.822259   18.992212      0.117522      0.208342   \n",
       "min     1998.000000   89488.000000    0.000000      0.255000      0.000665   \n",
       "25%     2014.000000  199305.000000    0.000000      0.681000      0.089525   \n",
       "50%     2016.000000  218509.000000   13.000000      0.761000      0.220500   \n",
       "75%     2017.000000  242098.500000   31.000000      0.829500      0.403000   \n",
       "max     2020.000000  511738.000000   73.000000      0.966000      0.954000   \n",
       "\n",
       "           energy  instrumentalness    liveness    loudness  speechiness  \\\n",
       "count  530.000000        530.000000  530.000000  530.000000   530.000000   \n",
       "mean     0.760623          0.016305    0.147308   -4.953011     0.130748   \n",
       "std      0.148533          0.090321    0.123588    2.464186     0.092939   \n",
       "min      0.111000          0.000000    0.028300  -19.362000     0.027800   \n",
       "25%      0.669000          0.000000    0.075650   -6.298750     0.059100   \n",
       "50%      0.784500          0.000004    0.103500   -4.558500     0.097950   \n",
       "75%      0.875750          0.000234    0.164000   -3.331000     0.177000   \n",
       "max      0.995000          0.910000    0.811000    0.582000     0.514000   \n",
       "\n",
       "            tempo  time_signature  \n",
       "count  530.000000      530.000000  \n",
       "mean   116.487864        3.986792  \n",
       "std     23.518601        0.333701  \n",
       "min     61.695000        3.000000  \n",
       "25%    102.961250        4.000000  \n",
       "50%    112.714500        4.000000  \n",
       "75%    125.039250        4.000000  \n",
       "max    206.007000        5.000000  "
      ]
     },
     "execution_count": 5,
     "metadata": {},
     "output_type": "execute_result"
    }
   ],
   "source": [
    "# Look at the general values of the data. Note that popularity can be '0' - and there are many rows with that value\n",
    "df.describe()\n"
   ]
  },
  {
   "cell_type": "code",
   "execution_count": 6,
   "metadata": {},
   "outputs": [
    {
     "data": {
      "text/plain": [
       "Text(0.5, 1.0, 'Top genres')"
      ]
     },
     "execution_count": 6,
     "metadata": {},
     "output_type": "execute_result"
    },
    {
     "data": {
      "image/png": "[encoded data removed]",
      "text/plain": [
       "<Figure size 1000x700 with 1 Axes>"
      ]
     },
     "metadata": {},
     "output_type": "display_data"
    }
   ],
   "source": [
    "# Let's examine the genres. Quite a few are listed as 'Missing' which means they aren't categorized in the dataset with a genre \n",
    "import seaborn as sns\n",
    "\n",
    "top = df['artist_top_genre'].value_counts()\n",
    "plt.figure(figsize=(10,7))\n",
    "sns.barplot(x=top[:5].index,y=top[:5].values)\n",
    "plt.xticks(rotation=45)\n",
    "plt.title('Top genres',color = 'blue')\n"
   ]
  },
  {
   "cell_type": "code",
   "execution_count": 7,
   "metadata": {},
   "outputs": [
    {
     "data": {
      "text/plain": [
       "Text(0.5, 1.0, 'Top genres')"
      ]
     },
     "execution_count": 7,
     "metadata": {},
     "output_type": "execute_result"
    },
    {
     "data": {
      "image/png": "[encoded data removed]",
      "text/plain": [
       "<Figure size 1000x700 with 1 Axes>"
      ]
     },
     "metadata": {},
     "output_type": "display_data"
    }
   ],
   "source": [
    "# Remove 'Missing' genres, as it's not classified in Spotify\n",
    "df = df[df['artist_top_genre'] != 'Missing']\n",
    "top = df['artist_top_genre'].value_counts()\n",
    "plt.figure(figsize=(10,7))\n",
    "sns.barplot(x=top.index,y=top.values)\n",
    "plt.xticks(rotation=45)\n",
    "plt.title('Top genres',color = 'blue')\n"
   ]
  },
  {
   "cell_type": "code",
   "execution_count": 8,
   "metadata": {},
   "outputs": [
    {
     "data": {
      "text/plain": [
       "Text(0.5, 1.0, 'Top genres')"
      ]
     },
     "execution_count": 8,
     "metadata": {},
     "output_type": "execute_result"
    },
    {
     "data": {
      "image/png": "[encoded data removed]",
      "text/plain": [
       "<Figure size 1000x700 with 1 Axes>"
      ]
     },
     "metadata": {},
     "output_type": "display_data"
    }
   ],
   "source": [
    "# The top three genres comprise the greatest part of the dataset, so let's focus on those\n",
    "df = df[(df['artist_top_genre'] == 'afro dancehall') | (df['artist_top_genre'] == 'afropop') | (df['artist_top_genre'] == 'nigerian pop')]\n",
    "df = df[(df['popularity'] > 0)]\n",
    "top = df['artist_top_genre'].value_counts()\n",
    "plt.figure(figsize=(10,7))\n",
    "sns.barplot(x=top.index,y=top.values)\n",
    "plt.xticks(rotation=45)\n",
    "plt.title('Top genres',color = 'blue')"
   ]
  },
  {
   "cell_type": "code",
   "execution_count": 9,
   "metadata": {},
   "outputs": [
    {
     "data": {
      "image/png": "[encoded data removed]",
      "text/plain": [
       "<Figure size 1200x900 with 2 Axes>"
      ]
     },
     "metadata": {},
     "output_type": "display_data"
    }
   ],
   "source": [
    "# The data is not strongly correlated except between energy and loudness, which makes sense. \n",
    "# Popularity has a correspondence to release data, which also makes sense, as more recent songs are probably more popular. \n",
    "# Length and energy seem to have a correlation - perhaps shorter songs are more energetic?\n",
    "corrmat = df.corr(numeric_only=True)\n",
    "f, ax = plt.subplots(figsize=(12, 9))\n",
    "sns.heatmap(corrmat, vmax=.8, square=True);"
   ]
  },
  {
   "cell_type": "code",
   "execution_count": 10,
   "metadata": {},
   "outputs": [
    {
     "data": {
      "image/png": "[encoded data removed]",
      "text/plain": [
       "<Figure size 600x600 with 3 Axes>"
      ]
     },
     "metadata": {},
     "output_type": "display_data"
    }
   ],
   "source": [
    "# Are the genres significantly different in the perception of their danceability, based on their popularity? \n",
    "# Examine our top three genres data distribution for popularity and danceability along a given x and y axis \n",
    "sns.set_theme(style=\"ticks\")\n",
    "\n",
    "# Show the joint distribution using kernel density estimation\n",
    "g = sns.jointplot(\n",
    "    data=df,\n",
    "    x=\"popularity\", y=\"danceability\", hue=\"artist_top_genre\",\n",
    "    kind=\"kde\",\n",
    ")"
   ]
  },
  {
   "cell_type": "code",
   "execution_count": 11,
   "metadata": {},
   "outputs": [
    {
     "data": {
      "text/plain": [
       "<seaborn.axisgrid.FacetGrid at 0x15e7e6d70>"
      ]
     },
     "execution_count": 11,
     "metadata": {},
     "output_type": "execute_result"
    },
    {
     "data": {
      "image/png": "[encoded data removed]",
      "text/plain": [
       "<Figure size 651.375x500 with 1 Axes>"
      ]
     },
     "metadata": {},
     "output_type": "display_data"
    }
   ],
   "source": [
    "# In general, the three genres align in terms of their popularity and danceability.  \n",
    "# A scatterplot of the same axes shows a similar pattern of convergence. \n",
    "# Try a scatterplot to check the distribution of data per genre\n",
    "sns.FacetGrid(df, hue=\"artist_top_genre\", height=5).map(plt.scatter, \"popularity\", \"danceability\").add_legend()"
   ]
  },
  {
   "cell_type": "markdown",
   "metadata": {},
   "source": [
    "# 5.2 K-Means\n",
    "We will focus only on 3 genres. Maybe we can get 3 clusters built. But how clean is our data? \n",
    "\n",
    "Check for outliers using box plots. We will concentrate on columns with fewer outliers (although you could clean out the outliers). Boxplots can show the range of the data and will help choose which columns to use. Note, Boxplots do not show variance, an important element of good clusterable data (https://stats.stackexchange.com/questions/91536/deduce-variance-from-boxplot)"
   ]
  },
  {
   "cell_type": "code",
   "execution_count": 12,
   "metadata": {},
   "outputs": [
    {
     "data": {
      "text/plain": [
       "<Axes: xlabel='release_date'>"
      ]
     },
     "execution_count": 12,
     "metadata": {},
     "output_type": "execute_result"
    },
    {
     "data": {
      "image/png": "[encoded data removed]",
      "text/plain": [
       "<Figure size 4000x4000 with 12 Axes>"
      ]
     },
     "metadata": {},
     "output_type": "display_data"
    }
   ],
   "source": [
    "plt.figure(figsize=(20,20), dpi=200)\n",
    "\n",
    "plt.subplot(4,3,1)\n",
    "sns.boxplot(x = 'popularity', data = df)\n",
    "\n",
    "plt.subplot(4,3,2)\n",
    "sns.boxplot(x = 'acousticness', data = df)\n",
    "\n",
    "plt.subplot(4,3,3)\n",
    "sns.boxplot(x = 'energy', data = df)\n",
    "\n",
    "plt.subplot(4,3,4)\n",
    "sns.boxplot(x = 'instrumentalness', data = df)\n",
    "\n",
    "plt.subplot(4,3,5)\n",
    "sns.boxplot(x = 'liveness', data = df)\n",
    "\n",
    "plt.subplot(4,3,6)\n",
    "sns.boxplot(x = 'loudness', data = df)\n",
    "\n",
    "plt.subplot(4,3,7)\n",
    "sns.boxplot(x = 'speechiness', data = df)\n",
    "\n",
    "plt.subplot(4,3,8)\n",
    "sns.boxplot(x = 'tempo', data = df)\n",
    "\n",
    "plt.subplot(4,3,9)\n",
    "sns.boxplot(x = 'time_signature', data = df)\n",
    "\n",
    "plt.subplot(4,3,10)\n",
    "sns.boxplot(x = 'danceability', data = df)\n",
    "\n",
    "plt.subplot(4,3,11)\n",
    "sns.boxplot(x = 'length', data = df)\n",
    "\n",
    "plt.subplot(4,3,12)\n",
    "sns.boxplot(x = 'release_date', data = df)"
   ]
  },
  {
   "cell_type": "code",
   "execution_count": 13,
   "metadata": {},
   "outputs": [],
   "source": [
    "# Choose several columns with similar ranges. Make sure to include the artist_top_genre column to keep our genres straight.\n",
    "from sklearn.preprocessing import LabelEncoder, StandardScaler\n",
    "le = LabelEncoder()\n",
    "\n",
    "# scaler = StandardScaler()\n",
    "\n",
    "X = df.loc[:, ('artist_top_genre','popularity','danceability','acousticness','loudness','energy')]\n",
    "\n",
    "y = df['artist_top_genre']\n",
    "\n",
    "X['artist_top_genre'] = le.fit_transform(X['artist_top_genre'])\n",
    "\n",
    "# X = scaler.fit_transform(X)\n",
    "\n",
    "y = le.transform(y)\n"
   ]
  },
  {
   "cell_type": "code",
   "execution_count": 14,
   "metadata": {},
   "outputs": [
    {
     "data": {
      "text/plain": [
       "array([1, 2, 1, 2, 2, 1, 2, 1, 2, 2, 1, 1, 2, 1, 2, 1, 2, 2, 1, 1, 1, 0,\n",
       "       0, 0, 0, 0, 1, 0, 0, 0, 0, 0, 1, 2, 1, 0, 0, 0, 1, 1, 0, 0, 0, 0,\n",
       "       0, 0, 1, 0, 1, 0, 0, 0, 0, 0, 1, 0, 0, 0, 0, 0, 0, 0, 1, 0, 0, 0,\n",
       "       0, 1, 1, 0, 0, 1, 0, 0, 0, 0, 1, 0, 0, 0, 1, 0, 0, 0, 0, 0, 0, 0,\n",
       "       0, 0, 0, 0, 0, 0, 0, 0, 0, 0, 0, 0, 0, 0, 0, 0, 1, 0, 0, 0, 0, 0,\n",
       "       1, 0, 0, 0, 0, 0, 0, 0, 0, 0, 1, 0, 0, 1, 1, 0, 1, 0, 0, 0, 0, 0,\n",
       "       0, 2, 0, 0, 1, 0, 1, 1, 0, 0, 0, 0, 0, 0, 0, 0, 0, 1, 0, 0, 1, 0,\n",
       "       0, 0, 1, 0, 0, 0, 0, 0, 0, 0, 0, 0, 1, 1, 2, 1, 0, 0, 0, 0, 1, 0,\n",
       "       0, 0, 0, 0, 2, 1, 1, 1, 0, 1, 1, 1, 0, 1, 0, 0, 0, 0, 1, 0, 0, 1,\n",
       "       1, 1, 0, 0, 0, 0, 0, 0, 0, 0, 0, 1, 1, 0, 0, 0, 0, 0, 0, 1, 0, 0,\n",
       "       0, 0, 0, 0, 0, 0, 0, 0, 0, 0, 0, 0, 0, 0, 0, 0, 0, 0, 1, 0, 1, 0,\n",
       "       0, 0, 0, 1, 0, 0, 0, 0, 0, 0, 2, 2, 1, 0, 2, 2, 0, 1, 0, 0, 0, 0,\n",
       "       0, 0, 0, 2, 0, 0, 0, 0, 0, 0, 0, 0, 0, 0, 0, 0, 0, 0, 0, 1, 0, 0])"
      ]
     },
     "execution_count": 14,
     "metadata": {},
     "output_type": "execute_result"
    }
   ],
   "source": [
    "y"
   ]
  },
  {
   "cell_type": "code",
   "execution_count": 15,
   "metadata": {},
   "outputs": [
    {
     "data": {
      "text/plain": [
       "array([2, 1, 2, 2, 2, 2, 2, 2, 2, 1, 2, 2, 1, 2, 0, 2, 1, 1, 0, 1, 0, 0,\n",
       "       0, 1, 0, 2, 0, 0, 2, 2, 1, 1, 0, 2, 2, 2, 2, 1, 1, 0, 2, 0, 2, 0,\n",
       "       2, 0, 0, 1, 1, 2, 1, 0, 0, 2, 2, 2, 2, 1, 1, 0, 1, 2, 2, 1, 2, 2,\n",
       "       1, 2, 1, 2, 2, 1, 1, 1, 1, 1, 2, 1, 2, 2, 0, 2, 1, 1, 1, 2, 2, 2,\n",
       "       2, 1, 2, 2, 2, 2, 1, 1, 2, 1, 1, 2, 1, 2, 1, 2, 1, 2, 2, 1, 2, 0,\n",
       "       1, 1, 2, 1, 1, 2, 2, 2, 2, 2, 2, 2, 0, 1, 1, 1, 1, 0, 1, 2, 1, 2,\n",
       "       1, 2, 2, 2, 0, 2, 1, 1, 1, 2, 1, 0, 1, 2, 2, 1, 1, 1, 0, 1, 2, 2,\n",
       "       2, 1, 1, 0, 1, 2, 1, 1, 1, 1, 2, 0, 0, 0, 1, 0, 0, 0, 0, 0, 0, 2,\n",
       "       0, 1, 0, 0, 1, 0, 0, 2, 0, 0, 1, 1, 2, 0, 2, 2, 0, 2, 2, 1, 1, 0,\n",
       "       1, 1, 0, 0, 1, 0, 2, 0, 1, 0, 2, 0, 0, 2, 2, 2, 1, 1, 1, 1, 1, 0,\n",
       "       2, 2, 2, 2, 2, 1, 1, 1, 1, 1, 2, 2, 1, 1, 0, 1, 1, 1, 0, 2, 2, 2,\n",
       "       1, 1, 0, 0, 1, 1, 2, 0, 0, 0, 0, 0, 2, 0, 0, 2, 1, 1, 1, 2, 2, 2,\n",
       "       1, 2, 1, 2, 1, 1, 1, 0, 2, 2, 2, 1, 2, 1, 0, 1, 2, 1, 1, 1, 2, 1],\n",
       "      dtype=int32)"
      ]
     },
     "execution_count": 15,
     "metadata": {},
     "output_type": "execute_result"
    }
   ],
   "source": [
    "# K-Means Clustering has the drawback of needing to tell it how many clusters to build. \n",
    "# We know there are three song types, so let's focus on 3.\n",
    "from sklearn.cluster import KMeans\n",
    "\n",
    "nclusters = 3 \n",
    "seed = 0\n",
    "\n",
    "km = KMeans(n_clusters=nclusters, random_state=seed,n_init='auto')\n",
    "km.fit(X)\n",
    "\n",
    "# Predict the cluster for each data point\n",
    "\n",
    "y_cluster_kmeans = km.predict(X)\n",
    "y_cluster_kmeans"
   ]
  },
  {
   "cell_type": "markdown",
   "metadata": {},
   "source": [
    "## 5.2.1 Evaluation\n"
   ]
  },
  {
   "cell_type": "markdown",
   "metadata": {},
   "source": [
    "Cluster quality metrics evaluated (see [Clustering performance evaluation](https://scikit-learn.org/stable/modules/clustering.html#clustering-evaluation) for definitions and discussions of the metrics):\n",
    "\n",
    "| Shorthand | full name |\n",
    "| ---- | ---- |\n",
    "| homo | homogeneity score |\n",
    "| compl | completeness score |\n",
    "| v-meas | V measure |\n",
    "| ARI | adjusted Rand index |\n",
    "| AMI | adjusted mutual information |\n",
    "| silhouette | silhouette coefficient |\n",
    "\n",
    "**NOTE**: Homogeneity/Completeness score, V measure, ARI and AMI are all **external validity indices** - so called since they require labels (i.e., external information). \n",
    "\n",
    "Silhouette coefficient on the other hand only requires the data points and cluster assignments, and is an example of an **internal validity index**. Validity indices can be used to evaluate single clustering, choose k, or compare multiple clusterings. However, there are some nuances in the use of these measures and how they should be used with different clustering models, which goes beyond this course."
   ]
  },
  {
   "cell_type": "code",
   "execution_count": 16,
   "metadata": {},
   "outputs": [
    {
     "data": {
      "text/plain": [
       "0.5466747351275563"
      ]
     },
     "execution_count": 16,
     "metadata": {},
     "output_type": "execute_result"
    }
   ],
   "source": [
    "# The numbers above do not mean much to us, so let's get a 'silhouette score' to see the accuracy. \n",
    "# Our score is in the middle.\n",
    "from sklearn import metrics\n",
    "score = metrics.silhouette_score(X, y_cluster_kmeans)\n",
    "score"
   ]
  },
  {
   "cell_type": "code",
   "execution_count": 17,
   "metadata": {},
   "outputs": [],
   "source": [
    "# Import KMeans and build a model\n",
    "from sklearn.cluster import KMeans\n",
    "wcss = []\n",
    "\n",
    "# We'll try 10 clusters and see how the inertia changes.\n",
    "for i in range(1, 11):\n",
    "    kmeans = KMeans(n_clusters = i, init = 'k-means++', random_state = 42, n_init='auto')\n",
    "    kmeans.fit(X)\n",
    "    wcss.append(kmeans.inertia_)"
   ]
  },
  {
   "cell_type": "code",
   "execution_count": 18,
   "metadata": {},
   "outputs": [
    {
     "data": {
      "image/png": "[encoded data removed]",
      "text/plain": [
       "<Figure size 1000x500 with 1 Axes>"
      ]
     },
     "metadata": {},
     "output_type": "display_data"
    }
   ],
   "source": [
    "# Use that model to decide, using the Elbow Method, the best number of clusters to build\n",
    "plt.figure(figsize=(10,5))\n",
    "sns.lineplot(x=range(1, 11), y=wcss,marker='o',color='red')\n",
    "plt.title('Elbow')\n",
    "plt.xlabel('Number of clusters')\n",
    "plt.ylabel('WCSS')\n",
    "plt.show()"
   ]
  },
  {
   "cell_type": "markdown",
   "metadata": {},
   "source": [
    "Looks like 3 is a good number after all. \n",
    "\n",
    "Fit the model again with `n_clusters=3` and create a scatterplot of your clusters. \n",
    "\n",
    "They do group in bunches, but they are pretty close together."
   ]
  },
  {
   "cell_type": "code",
   "execution_count": 19,
   "metadata": {},
   "outputs": [
    {
     "data": {
      "image/png": "[encoded data removed]",
      "text/plain": [
       "<Figure size 640x480 with 1 Axes>"
      ]
     },
     "metadata": {},
     "output_type": "display_data"
    }
   ],
   "source": [
    "from sklearn.cluster import KMeans\n",
    "kmeans = KMeans(n_clusters = 3, n_init='auto', init = 'k-means++')\n",
    "kmeans.fit(X)\n",
    "labels = kmeans.predict(X)\n",
    "plt.scatter(df['popularity'],df['danceability'],c = labels)\n",
    "plt.xlabel('popularity')\n",
    "plt.ylabel('danceability')\n",
    "plt.show()"
   ]
  },
  {
   "cell_type": "code",
   "execution_count": 20,
   "metadata": {},
   "outputs": [
    {
     "name": "stdout",
     "output_type": "stream",
     "text": [
      "Result: 69 out of 286 samples were correctly labeled.\n",
      "Accuracy score: 0.241\n"
     ]
    }
   ],
   "source": [
    "labels = kmeans.labels_\n",
    "correct_labels = sum(y == labels)\n",
    "\n",
    "print(\"Result: %d out of %d samples were correctly labeled.\" % (correct_labels, y.size))\n",
    "print('Accuracy score: {0:0.3f}'. format(correct_labels/float(y.size)))"
   ]
  },
  {
   "cell_type": "markdown",
   "metadata": {},
   "source": [
    "This model's accuracy is not bad, but not great. \n",
    "\n",
    "It may be that the data may not lend itself well to K-Means Clustering. You might try a different method."
   ]
  },
  {
   "cell_type": "markdown",
   "metadata": {},
   "source": [
    "# 5.3 👋 Experiments with PyCaret Clustering \n",
    "\n",
    "**Setup** ➡️ **Create Model** ➡️ **Assign Labels** ➡️ **Analyze Model** ➡️ (*Prediction* ➡️ *Save Model*)"
   ]
  },
  {
   "cell_type": "code",
   "execution_count": 22,
   "metadata": {},
   "outputs": [
    {
     "data": {
      "text/plain": [
       "'3.0.4'"
      ]
     },
     "execution_count": 22,
     "metadata": {},
     "output_type": "execute_result"
    }
   ],
   "source": [
    "# check installed version\n",
    "# if you have issues with .venv, try issuing in MLME-23 conda environment\n",
    "# mamba install seaborn=0.12.2 scikit-learn=1.2.2 numpy=1.23.5 pycaret\n",
    "\n",
    "import pycaret\n",
    "pycaret.__version__"
   ]
  },
  {
   "cell_type": "code",
   "execution_count": 37,
   "metadata": {},
   "outputs": [
    {
     "data": {
      "text/html": [
       "<style type=\"text/css\">\n",
       "#T_093c4_row4_col1 {\n",
       "  background-color: lightgreen;\n",
       "}\n",
       "</style>\n",
       "<table id=\"T_093c4\">\n",
       "  <thead>\n",
       "    <tr>\n",
       "      <th class=\"blank level0\" >&nbsp;</th>\n",
       "      <th id=\"T_093c4_level0_col0\" class=\"col_heading level0 col0\" >Description</th>\n",
       "      <th id=\"T_093c4_level0_col1\" class=\"col_heading level0 col1\" >Value</th>\n",
       "    </tr>\n",
       "  </thead>\n",
       "  <tbody>\n",
       "    <tr>\n",
       "      <th id=\"T_093c4_level0_row0\" class=\"row_heading level0 row0\" >0</th>\n",
       "      <td id=\"T_093c4_row0_col0\" class=\"data row0 col0\" >Session id</td>\n",
       "      <td id=\"T_093c4_row0_col1\" class=\"data row0 col1\" >456</td>\n",
       "    </tr>\n",
       "    <tr>\n",
       "      <th id=\"T_093c4_level0_row1\" class=\"row_heading level0 row1\" >1</th>\n",
       "      <td id=\"T_093c4_row1_col0\" class=\"data row1 col0\" >Original data shape</td>\n",
       "      <td id=\"T_093c4_row1_col1\" class=\"data row1 col1\" >(530, 12)</td>\n",
       "    </tr>\n",
       "    <tr>\n",
       "      <th id=\"T_093c4_level0_row2\" class=\"row_heading level0 row2\" >2</th>\n",
       "      <td id=\"T_093c4_row2_col0\" class=\"data row2 col0\" >Transformed data shape</td>\n",
       "      <td id=\"T_093c4_row2_col1\" class=\"data row2 col1\" >(530, 12)</td>\n",
       "    </tr>\n",
       "    <tr>\n",
       "      <th id=\"T_093c4_level0_row3\" class=\"row_heading level0 row3\" >3</th>\n",
       "      <td id=\"T_093c4_row3_col0\" class=\"data row3 col0\" >Numeric features</td>\n",
       "      <td id=\"T_093c4_row3_col1\" class=\"data row3 col1\" >12</td>\n",
       "    </tr>\n",
       "    <tr>\n",
       "      <th id=\"T_093c4_level0_row4\" class=\"row_heading level0 row4\" >4</th>\n",
       "      <td id=\"T_093c4_row4_col0\" class=\"data row4 col0\" >Preprocess</td>\n",
       "      <td id=\"T_093c4_row4_col1\" class=\"data row4 col1\" >True</td>\n",
       "    </tr>\n",
       "    <tr>\n",
       "      <th id=\"T_093c4_level0_row5\" class=\"row_heading level0 row5\" >5</th>\n",
       "      <td id=\"T_093c4_row5_col0\" class=\"data row5 col0\" >Imputation type</td>\n",
       "      <td id=\"T_093c4_row5_col1\" class=\"data row5 col1\" >simple</td>\n",
       "    </tr>\n",
       "    <tr>\n",
       "      <th id=\"T_093c4_level0_row6\" class=\"row_heading level0 row6\" >6</th>\n",
       "      <td id=\"T_093c4_row6_col0\" class=\"data row6 col0\" >Numeric imputation</td>\n",
       "      <td id=\"T_093c4_row6_col1\" class=\"data row6 col1\" >mean</td>\n",
       "    </tr>\n",
       "    <tr>\n",
       "      <th id=\"T_093c4_level0_row7\" class=\"row_heading level0 row7\" >7</th>\n",
       "      <td id=\"T_093c4_row7_col0\" class=\"data row7 col0\" >Categorical imputation</td>\n",
       "      <td id=\"T_093c4_row7_col1\" class=\"data row7 col1\" >mode</td>\n",
       "    </tr>\n",
       "    <tr>\n",
       "      <th id=\"T_093c4_level0_row8\" class=\"row_heading level0 row8\" >8</th>\n",
       "      <td id=\"T_093c4_row8_col0\" class=\"data row8 col0\" >CPU Jobs</td>\n",
       "      <td id=\"T_093c4_row8_col1\" class=\"data row8 col1\" >-1</td>\n",
       "    </tr>\n",
       "    <tr>\n",
       "      <th id=\"T_093c4_level0_row9\" class=\"row_heading level0 row9\" >9</th>\n",
       "      <td id=\"T_093c4_row9_col0\" class=\"data row9 col0\" >Use GPU</td>\n",
       "      <td id=\"T_093c4_row9_col1\" class=\"data row9 col1\" >False</td>\n",
       "    </tr>\n",
       "    <tr>\n",
       "      <th id=\"T_093c4_level0_row10\" class=\"row_heading level0 row10\" >10</th>\n",
       "      <td id=\"T_093c4_row10_col0\" class=\"data row10 col0\" >Log Experiment</td>\n",
       "      <td id=\"T_093c4_row10_col1\" class=\"data row10 col1\" >False</td>\n",
       "    </tr>\n",
       "    <tr>\n",
       "      <th id=\"T_093c4_level0_row11\" class=\"row_heading level0 row11\" >11</th>\n",
       "      <td id=\"T_093c4_row11_col0\" class=\"data row11 col0\" >Experiment Name</td>\n",
       "      <td id=\"T_093c4_row11_col1\" class=\"data row11 col1\" >cluster-default-name</td>\n",
       "    </tr>\n",
       "    <tr>\n",
       "      <th id=\"T_093c4_level0_row12\" class=\"row_heading level0 row12\" >12</th>\n",
       "      <td id=\"T_093c4_row12_col0\" class=\"data row12 col0\" >USI</td>\n",
       "      <td id=\"T_093c4_row12_col1\" class=\"data row12 col1\" >ad07</td>\n",
       "    </tr>\n",
       "  </tbody>\n",
       "</table>\n"
      ],
      "text/plain": [
       "<pandas.io.formats.style.Styler at 0x28d633910>"
      ]
     },
     "metadata": {},
     "output_type": "display_data"
    }
   ],
   "source": [
    "from pycaret.clustering import *\n",
    "# Comment the next two lines to check the setup, then\n",
    "# drop name, album, artists and encode artist_top_genre\n",
    "myY = le.fit_transform(mydata['artist_top_genre'])\n",
    "mydata = mydata.drop(['name','album','artist','artist_top_genre'],axis=1)\n",
    "\n",
    "mys = setup(mydata, session_id = 456)"
   ]
  },
  {
   "cell_type": "code",
   "execution_count": 24,
   "metadata": {},
   "outputs": [
    {
     "data": {
      "text/html": [
       "<div>\n",
       "<style scoped>\n",
       "    .dataframe tbody tr th:only-of-type {\n",
       "        vertical-align: middle;\n",
       "    }\n",
       "\n",
       "    .dataframe tbody tr th {\n",
       "        vertical-align: top;\n",
       "    }\n",
       "\n",
       "    .dataframe thead th {\n",
       "        text-align: right;\n",
       "    }\n",
       "</style>\n",
       "<table border=\"1\" class=\"dataframe\">\n",
       "  <thead>\n",
       "    <tr style=\"text-align: right;\">\n",
       "      <th></th>\n",
       "      <th>Name</th>\n",
       "      <th>Display Name</th>\n",
       "      <th>Score Function</th>\n",
       "      <th>Scorer</th>\n",
       "      <th>Target</th>\n",
       "      <th>Args</th>\n",
       "      <th>Greater is Better</th>\n",
       "      <th>Needs Ground Truth</th>\n",
       "      <th>Custom</th>\n",
       "    </tr>\n",
       "    <tr>\n",
       "      <th>ID</th>\n",
       "      <th></th>\n",
       "      <th></th>\n",
       "      <th></th>\n",
       "      <th></th>\n",
       "      <th></th>\n",
       "      <th></th>\n",
       "      <th></th>\n",
       "      <th></th>\n",
       "      <th></th>\n",
       "    </tr>\n",
       "  </thead>\n",
       "  <tbody>\n",
       "    <tr>\n",
       "      <th>silhouette</th>\n",
       "      <td>Silhouette</td>\n",
       "      <td>Silhouette</td>\n",
       "      <td>&lt;function silhouette_score at 0x15fbd5630&gt;</td>\n",
       "      <td>make_scorer(silhouette_score)</td>\n",
       "      <td>pred</td>\n",
       "      <td>{}</td>\n",
       "      <td>True</td>\n",
       "      <td>False</td>\n",
       "      <td>False</td>\n",
       "    </tr>\n",
       "    <tr>\n",
       "      <th>chs</th>\n",
       "      <td>Calinski-Harabasz</td>\n",
       "      <td>Calinski-Harabasz</td>\n",
       "      <td>&lt;function calinski_harabasz_score at 0x15fbd57e0&gt;</td>\n",
       "      <td>make_scorer(calinski_harabasz_score)</td>\n",
       "      <td>pred</td>\n",
       "      <td>{}</td>\n",
       "      <td>True</td>\n",
       "      <td>False</td>\n",
       "      <td>False</td>\n",
       "    </tr>\n",
       "    <tr>\n",
       "      <th>db</th>\n",
       "      <td>Davies-Bouldin</td>\n",
       "      <td>Davies-Bouldin</td>\n",
       "      <td>&lt;function davies_bouldin_score at 0x15fbd5870&gt;</td>\n",
       "      <td>make_scorer(davies_bouldin_score)</td>\n",
       "      <td>pred</td>\n",
       "      <td>{}</td>\n",
       "      <td>True</td>\n",
       "      <td>False</td>\n",
       "      <td>False</td>\n",
       "    </tr>\n",
       "    <tr>\n",
       "      <th>hs</th>\n",
       "      <td>Homogeneity Score</td>\n",
       "      <td>Homogeneity</td>\n",
       "      <td>&lt;function homogeneity_score at 0x15fb7a9e0&gt;</td>\n",
       "      <td>make_scorer(homogeneity_score)</td>\n",
       "      <td>pred</td>\n",
       "      <td>{}</td>\n",
       "      <td>True</td>\n",
       "      <td>True</td>\n",
       "      <td>False</td>\n",
       "    </tr>\n",
       "    <tr>\n",
       "      <th>ari</th>\n",
       "      <td>Rand Index</td>\n",
       "      <td>Rand Index</td>\n",
       "      <td>&lt;function adjusted_rand_score at 0x15fb7a8c0&gt;</td>\n",
       "      <td>make_scorer(adjusted_rand_score)</td>\n",
       "      <td>pred</td>\n",
       "      <td>{}</td>\n",
       "      <td>True</td>\n",
       "      <td>True</td>\n",
       "      <td>False</td>\n",
       "    </tr>\n",
       "    <tr>\n",
       "      <th>cs</th>\n",
       "      <td>Completeness Score</td>\n",
       "      <td>Completeness</td>\n",
       "      <td>&lt;function completeness_score at 0x15fb7aa70&gt;</td>\n",
       "      <td>make_scorer(completeness_score)</td>\n",
       "      <td>pred</td>\n",
       "      <td>{}</td>\n",
       "      <td>True</td>\n",
       "      <td>True</td>\n",
       "      <td>False</td>\n",
       "    </tr>\n",
       "  </tbody>\n",
       "</table>\n",
       "</div>"
      ],
      "text/plain": [
       "                          Name       Display Name  \\\n",
       "ID                                                  \n",
       "silhouette          Silhouette         Silhouette   \n",
       "chs          Calinski-Harabasz  Calinski-Harabasz   \n",
       "db              Davies-Bouldin     Davies-Bouldin   \n",
       "hs           Homogeneity Score        Homogeneity   \n",
       "ari                 Rand Index         Rand Index   \n",
       "cs          Completeness Score       Completeness   \n",
       "\n",
       "                                               Score Function  \\\n",
       "ID                                                              \n",
       "silhouette         <function silhouette_score at 0x15fbd5630>   \n",
       "chs         <function calinski_harabasz_score at 0x15fbd57e0>   \n",
       "db             <function davies_bouldin_score at 0x15fbd5870>   \n",
       "hs                <function homogeneity_score at 0x15fb7a9e0>   \n",
       "ari             <function adjusted_rand_score at 0x15fb7a8c0>   \n",
       "cs               <function completeness_score at 0x15fb7aa70>   \n",
       "\n",
       "                                          Scorer Target Args  \\\n",
       "ID                                                             \n",
       "silhouette         make_scorer(silhouette_score)   pred   {}   \n",
       "chs         make_scorer(calinski_harabasz_score)   pred   {}   \n",
       "db             make_scorer(davies_bouldin_score)   pred   {}   \n",
       "hs                make_scorer(homogeneity_score)   pred   {}   \n",
       "ari             make_scorer(adjusted_rand_score)   pred   {}   \n",
       "cs               make_scorer(completeness_score)   pred   {}   \n",
       "\n",
       "            Greater is Better  Needs Ground Truth  Custom  \n",
       "ID                                                         \n",
       "silhouette               True               False   False  \n",
       "chs                      True               False   False  \n",
       "db                       True               False   False  \n",
       "hs                       True                True   False  \n",
       "ari                      True                True   False  \n",
       "cs                       True                True   False  "
      ]
     },
     "execution_count": 24,
     "metadata": {},
     "output_type": "execute_result"
    }
   ],
   "source": [
    "all_metrics = get_metrics()\n",
    "all_metrics"
   ]
  },
  {
   "cell_type": "code",
   "execution_count": 38,
   "metadata": {},
   "outputs": [
    {
     "data": {
      "text/html": [],
      "text/plain": [
       "<IPython.core.display.HTML object>"
      ]
     },
     "metadata": {},
     "output_type": "display_data"
    },
    {
     "data": {
      "text/html": [
       "<style type=\"text/css\">\n",
       "</style>\n",
       "<table id=\"T_3111b\">\n",
       "  <thead>\n",
       "    <tr>\n",
       "      <th class=\"blank level0\" >&nbsp;</th>\n",
       "      <th id=\"T_3111b_level0_col0\" class=\"col_heading level0 col0\" >Silhouette</th>\n",
       "      <th id=\"T_3111b_level0_col1\" class=\"col_heading level0 col1\" >Calinski-Harabasz</th>\n",
       "      <th id=\"T_3111b_level0_col2\" class=\"col_heading level0 col2\" >Davies-Bouldin</th>\n",
       "      <th id=\"T_3111b_level0_col3\" class=\"col_heading level0 col3\" >Homogeneity</th>\n",
       "      <th id=\"T_3111b_level0_col4\" class=\"col_heading level0 col4\" >Rand Index</th>\n",
       "      <th id=\"T_3111b_level0_col5\" class=\"col_heading level0 col5\" >Completeness</th>\n",
       "    </tr>\n",
       "  </thead>\n",
       "  <tbody>\n",
       "    <tr>\n",
       "      <th id=\"T_3111b_level0_row0\" class=\"row_heading level0 row0\" >0</th>\n",
       "      <td id=\"T_3111b_row0_col0\" class=\"data row0 col0\" >0.5404</td>\n",
       "      <td id=\"T_3111b_row0_col1\" class=\"data row0 col1\" >828.7876</td>\n",
       "      <td id=\"T_3111b_row0_col2\" class=\"data row0 col2\" >0.5289</td>\n",
       "      <td id=\"T_3111b_row0_col3\" class=\"data row0 col3\" >0</td>\n",
       "      <td id=\"T_3111b_row0_col4\" class=\"data row0 col4\" >0</td>\n",
       "      <td id=\"T_3111b_row0_col5\" class=\"data row0 col5\" >0</td>\n",
       "    </tr>\n",
       "  </tbody>\n",
       "</table>\n"
      ],
      "text/plain": [
       "<pandas.io.formats.style.Styler at 0x28dcf8580>"
      ]
     },
     "metadata": {},
     "output_type": "display_data"
    },
    {
     "data": {
      "text/html": [],
      "text/plain": [
       "<IPython.core.display.HTML object>"
      ]
     },
     "metadata": {},
     "output_type": "display_data"
    }
   ],
   "source": [
    "# Let's start with the default of 4 clusters\n",
    "mykmeans = create_model('kmeans')"
   ]
  },
  {
   "cell_type": "code",
   "execution_count": 39,
   "metadata": {},
   "outputs": [
    {
     "name": "stdout",
     "output_type": "stream",
     "text": [
      "KMeans(n_clusters=4, random_state=456)\n"
     ]
    }
   ],
   "source": [
    "print(mykmeans)"
   ]
  },
  {
   "cell_type": "code",
   "execution_count": 27,
   "metadata": {},
   "outputs": [
    {
     "data": {
      "text/html": [
       "<div>\n",
       "<style scoped>\n",
       "    .dataframe tbody tr th:only-of-type {\n",
       "        vertical-align: middle;\n",
       "    }\n",
       "\n",
       "    .dataframe tbody tr th {\n",
       "        vertical-align: top;\n",
       "    }\n",
       "\n",
       "    .dataframe thead th {\n",
       "        text-align: right;\n",
       "    }\n",
       "</style>\n",
       "<table border=\"1\" class=\"dataframe\">\n",
       "  <thead>\n",
       "    <tr style=\"text-align: right;\">\n",
       "      <th></th>\n",
       "      <th>release_date</th>\n",
       "      <th>length</th>\n",
       "      <th>popularity</th>\n",
       "      <th>danceability</th>\n",
       "      <th>acousticness</th>\n",
       "      <th>energy</th>\n",
       "      <th>instrumentalness</th>\n",
       "      <th>liveness</th>\n",
       "      <th>loudness</th>\n",
       "      <th>speechiness</th>\n",
       "      <th>tempo</th>\n",
       "      <th>time_signature</th>\n",
       "      <th>Cluster</th>\n",
       "    </tr>\n",
       "  </thead>\n",
       "  <tbody>\n",
       "    <tr>\n",
       "      <th>0</th>\n",
       "      <td>2019</td>\n",
       "      <td>144000</td>\n",
       "      <td>48</td>\n",
       "      <td>0.666</td>\n",
       "      <td>0.8510</td>\n",
       "      <td>0.420</td>\n",
       "      <td>0.534000</td>\n",
       "      <td>0.1100</td>\n",
       "      <td>-6.699</td>\n",
       "      <td>0.0829</td>\n",
       "      <td>133.014999</td>\n",
       "      <td>5</td>\n",
       "      <td>Cluster 3</td>\n",
       "    </tr>\n",
       "    <tr>\n",
       "      <th>1</th>\n",
       "      <td>2020</td>\n",
       "      <td>89488</td>\n",
       "      <td>30</td>\n",
       "      <td>0.710</td>\n",
       "      <td>0.0822</td>\n",
       "      <td>0.683</td>\n",
       "      <td>0.000169</td>\n",
       "      <td>0.1010</td>\n",
       "      <td>-5.640</td>\n",
       "      <td>0.3600</td>\n",
       "      <td>129.992996</td>\n",
       "      <td>3</td>\n",
       "      <td>Cluster 3</td>\n",
       "    </tr>\n",
       "    <tr>\n",
       "      <th>2</th>\n",
       "      <td>2018</td>\n",
       "      <td>207758</td>\n",
       "      <td>40</td>\n",
       "      <td>0.836</td>\n",
       "      <td>0.2720</td>\n",
       "      <td>0.564</td>\n",
       "      <td>0.000537</td>\n",
       "      <td>0.1100</td>\n",
       "      <td>-7.127</td>\n",
       "      <td>0.0424</td>\n",
       "      <td>130.005005</td>\n",
       "      <td>4</td>\n",
       "      <td>Cluster 1</td>\n",
       "    </tr>\n",
       "    <tr>\n",
       "      <th>3</th>\n",
       "      <td>2019</td>\n",
       "      <td>175135</td>\n",
       "      <td>14</td>\n",
       "      <td>0.894</td>\n",
       "      <td>0.7980</td>\n",
       "      <td>0.611</td>\n",
       "      <td>0.000187</td>\n",
       "      <td>0.0964</td>\n",
       "      <td>-4.961</td>\n",
       "      <td>0.1130</td>\n",
       "      <td>111.086998</td>\n",
       "      <td>4</td>\n",
       "      <td>Cluster 3</td>\n",
       "    </tr>\n",
       "    <tr>\n",
       "      <th>4</th>\n",
       "      <td>2018</td>\n",
       "      <td>152049</td>\n",
       "      <td>25</td>\n",
       "      <td>0.702</td>\n",
       "      <td>0.1160</td>\n",
       "      <td>0.833</td>\n",
       "      <td>0.910000</td>\n",
       "      <td>0.3480</td>\n",
       "      <td>-6.044</td>\n",
       "      <td>0.0447</td>\n",
       "      <td>105.114998</td>\n",
       "      <td>4</td>\n",
       "      <td>Cluster 3</td>\n",
       "    </tr>\n",
       "  </tbody>\n",
       "</table>\n",
       "</div>"
      ],
      "text/plain": [
       "   release_date  length  popularity  danceability  acousticness  energy  \\\n",
       "0          2019  144000          48         0.666        0.8510   0.420   \n",
       "1          2020   89488          30         0.710        0.0822   0.683   \n",
       "2          2018  207758          40         0.836        0.2720   0.564   \n",
       "3          2019  175135          14         0.894        0.7980   0.611   \n",
       "4          2018  152049          25         0.702        0.1160   0.833   \n",
       "\n",
       "   instrumentalness  liveness  loudness  speechiness       tempo  \\\n",
       "0          0.534000    0.1100    -6.699       0.0829  133.014999   \n",
       "1          0.000169    0.1010    -5.640       0.3600  129.992996   \n",
       "2          0.000537    0.1100    -7.127       0.0424  130.005005   \n",
       "3          0.000187    0.0964    -4.961       0.1130  111.086998   \n",
       "4          0.910000    0.3480    -6.044       0.0447  105.114998   \n",
       "\n",
       "   time_signature    Cluster  \n",
       "0               5  Cluster 3  \n",
       "1               3  Cluster 3  \n",
       "2               4  Cluster 1  \n",
       "3               4  Cluster 3  \n",
       "4               4  Cluster 3  "
      ]
     },
     "execution_count": 27,
     "metadata": {},
     "output_type": "execute_result"
    }
   ],
   "source": [
    "mykmeans_cluster = assign_model(mykmeans)\n",
    "mykmeans_cluster.head()"
   ]
  },
  {
   "cell_type": "code",
   "execution_count": 28,
   "metadata": {},
   "outputs": [
    {
     "data": {
      "application/vnd.jupyter.widget-view+json": {
       "model_id": "1ffe844361234e1897e5637574a59f40",
       "version_major": 2,
       "version_minor": 0
      },
      "text/plain": [
       "interactive(children=(ToggleButtons(description='Plot Type:', icons=('',), options=(('Pipeline Plot', 'pipelin…"
      ]
     },
     "metadata": {},
     "output_type": "display_data"
    },
    {
     "data": {
      "application/vnd.plotly.v1+json": {
       "config": {
        "plotlyServerURL": "https://plot.ly"
       },
       "data": [
        {
         "customdata": [
          [
           2009
          ],
          [
           2015
          ],
          [
           2009
          ],
          [
           2014
          ],
          [
           2013
          ],
          [
           2015
          ],
          [
           2017
          ],
          [
           2004
          ],
          [
           2014
          ],
          [
           2006
          ],
          [
           2011
          ],
          [
           2017
          ],
          [
           2008
          ],
          [
           2016
          ],
          [
           2015
          ],
          [
           2009
          ],
          [
           2015
          ],
          [
           2015
          ],
          [
           2019
          ],
          [
           2019
          ],
          [
           2016
          ],
          [
           2018
          ],
          [
           2015
          ],
          [
           2012
          ],
          [
           2001
          ],
          [
           2011
          ],
          [
           2018
          ],
          [
           2010
          ],
          [
           2012
          ],
          [
           2020
          ],
          [
           2008
          ],
          [
           2009
          ],
          [
           2009
          ],
          [
           2019
          ],
          [
           2014
          ],
          [
           2017
          ],
          [
           2011
          ],
          [
           2017
          ],
          [
           2016
          ],
          [
           2013
          ],
          [
           2017
          ],
          [
           2016
          ],
          [
           2008
          ],
          [
           2014
          ],
          [
           2014
          ],
          [
           2017
          ],
          [
           2015
          ],
          [
           2016
          ],
          [
           2012
          ],
          [
           2016
          ],
          [
           2014
          ],
          [
           2009
          ],
          [
           2017
          ],
          [
           2015
          ],
          [
           2015
          ],
          [
           2014
          ],
          [
           2016
          ],
          [
           2014
          ],
          [
           2015
          ],
          [
           2015
          ],
          [
           2016
          ],
          [
           2010
          ],
          [
           2009
          ],
          [
           2010
          ],
          [
           2012
          ],
          [
           2019
          ],
          [
           2008
          ],
          [
           2014
          ],
          [
           2016
          ],
          [
           2014
          ],
          [
           2018
          ],
          [
           2014
          ],
          [
           2017
          ],
          [
           2012
          ],
          [
           2015
          ],
          [
           2018
          ],
          [
           2017
          ],
          [
           2018
          ],
          [
           2010
          ],
          [
           2007
          ],
          [
           2019
          ],
          [
           2016
          ],
          [
           2019
          ],
          [
           2011
          ],
          [
           2012
          ],
          [
           2016
          ],
          [
           2016
          ],
          [
           2014
          ],
          [
           2016
          ],
          [
           2017
          ],
          [
           2013
          ],
          [
           2014
          ],
          [
           2015
          ],
          [
           2020
          ],
          [
           2015
          ],
          [
           2013
          ],
          [
           1998
          ],
          [
           2019
          ],
          [
           2008
          ],
          [
           2011
          ],
          [
           2019
          ],
          [
           2012
          ],
          [
           2015
          ],
          [
           2012
          ],
          [
           2013
          ],
          [
           2011
          ],
          [
           2014
          ],
          [
           2017
          ],
          [
           2016
          ],
          [
           2014
          ],
          [
           2018
          ],
          [
           2010
          ],
          [
           2014
          ],
          [
           2015
          ],
          [
           2013
          ],
          [
           2014
          ],
          [
           2017
          ],
          [
           2013
          ],
          [
           2014
          ],
          [
           2003
          ],
          [
           2011
          ],
          [
           2008
          ],
          [
           2014
          ],
          [
           2014
          ],
          [
           2014
          ],
          [
           2014
          ],
          [
           2003
          ]
         ],
         "hovertemplate": "Cluster=Cluster 0<br>PCA1=%{x}<br>PCA2=%{y}<br>Feature=%{customdata[0]}<extra></extra>",
         "legendgroup": "Cluster 0",
         "marker": {
          "color": "#636efa",
          "opacity": 0.5,
          "symbol": "circle"
         },
         "mode": "markers",
         "name": "Cluster 0",
         "orientation": "v",
         "showlegend": true,
         "textposition": "top center",
         "type": "scatter",
         "x": [
          76501.8309862479,
          26142.829252726813,
          85074.83005371699,
          58727.83088729642,
          25133.829213034955,
          27353.830661629476,
          24101.83071737645,
          38687.83015285195,
          30222.82961191504,
          47434.82939451015,
          69807.82977529279,
          31608.83014720482,
          59007.830439405,
          29080.82970430292,
          66850.82980193007,
          91701.83075384995,
          24244.830734690455,
          65256.830215562855,
          23437.829684976925,
          45361.829460556815,
          28913.829844379452,
          20209.829417031953,
          36548.83103868375,
          72847.83072775077,
          26127.830374471378,
          56447.83009250412,
          24493.829041395373,
          69064.82922520222,
          34514.82964000085,
          29547.828817832844,
          66114.83007911604,
          66781.82999928757,
          79421.82992723801,
          32968.83053747335,
          49826.83056843731,
          61103.82903138172,
          31701.829968940732,
          41485.829685012766,
          29731.829911550114,
          40407.82985665547,
          66794.83062595566,
          49766.83065996249,
          46674.830461977755,
          35452.83093530188,
          53031.83061867476,
          47127.83060689942,
          29434.830634579946,
          40023.83087558385,
          22741.830426022134,
          36327.830513327055,
          44221.83080963201,
          35567.830656506085,
          37607.830510389154,
          23661.830383072876,
          24688.83065812145,
          29625.830659905914,
          62293.83076351616,
          62474.829583537205,
          77926.83088045304,
          31167.83066165432,
          31541.82913440746,
          20718.82987934973,
          31701.830915008995,
          72087.83076991937,
          71813.8307647846,
          32921.829543201406,
          34092.83092265284,
          20144.830136796212,
          20594.82917102293,
          23957.830686856854,
          40727.829285453015,
          37764.82942871033,
          24447.83061679778,
          21475.829986831963,
          26327.83072238529,
          29945.82896582021,
          42756.830695217286,
          33309.82866417109,
          74514.82985673656,
          77527.82978957453,
          48016.8287615126,
          27988.829625573348,
          40437.82786493483,
          68114.83040545606,
          49217.83066014721,
          25394.830658291616,
          38768.83039411106,
          37074.8305932724,
          20741.830552389176,
          28621.82903396021,
          31634.82999745791,
          24533.829304957642,
          30409.83038029395,
          27951.830294838222,
          55981.830617490625,
          76514.83052997441,
          29416.83129942706,
          48016.82866631503,
          44314.82999994999,
          72661.82977331178,
          29006.829833478158,
          86847.8302075531,
          33574.83010685983,
          58354.83031249224,
          24461.82975500841,
          39127.83121103004,
          52247.83062716156,
          22568.82984821357,
          64838.830792636814,
          63219.83070703212,
          27021.828340602817,
          54311.830938681625,
          43141.830208465784,
          39674.830736338605,
          35701.83006364935,
          32525.830168320852,
          24336.830466049334,
          77874.8309390502,
          70638.83055229044,
          52421.83087917209,
          33104.8311134857,
          40527.83047190319,
          35947.83069068591,
          62515.82986524369,
          37847.83072936258,
          45821.83085363015,
          33127.83039950213
         ],
         "xaxis": "x",
         "y": [
          -18.546212691657423,
          76.92711122613686,
          -24.480331545627553,
          -17.727598501606277,
          11.577080556166555,
          9.28781300329529,
          -6.322484788813734,
          -37.38927113385257,
          56.08536091504916,
          55.19727105751863,
          -16.588936718179063,
          13.920548178330936,
          -12.949163380409907,
          -0.723102278212383,
          -21.983903684879174,
          14.235642093322134,
          0.27308916442432546,
          -47.03017795994165,
          -12.797612278959186,
          -12.931476599830425,
          -9.674725811890074,
          -17.103864695782427,
          -38.536451988699355,
          3.6595882258705865,
          -6.439527673469533,
          80.33707191554767,
          -11.441625559327559,
          45.496576285045165,
          13.266964605518103,
          -27.715606516107062,
          -28.80433372673221,
          -16.34414389621618,
          13.828247687490315,
          8.416838668597576,
          11.402892775292523,
          78.66636269605449,
          -1.549292764934434,
          90.06585765591389,
          -46.23860769183693,
          -27.981732834077025,
          -21.1848995576434,
          4.419043931623673,
          -6.064482953461618,
          -14.955734913236656,
          4.351792359756725,
          -0.6297465892568275,
          12.29978638944593,
          -14.92498875494543,
          3.8635916133535546,
          -12.94697876604833,
          -5.558797339861313,
          6.2161204039117814,
          4.304658601174084,
          9.994455555988717,
          9.20246874784386,
          12.347300420316843,
          -25.965292565465415,
          7.5220116385009685,
          -20.303001067957567,
          9.331443739940411,
          12.83769831638152,
          23.458647017295764,
          -0.6352013913721303,
          -15.482267032199275,
          2.6556046701239127,
          8.731997508701163,
          -2.6822168220517613,
          -13.547956483003725,
          -44.75421280809162,
          10.253511069704281,
          -17.113909902368825,
          11.168592080443497,
          9.31425291844919,
          8.53060187352796,
          -4.425250834982099,
          -19.557871783667487,
          -32.8719448120739,
          -9.750043008439352,
          23.912506602826145,
          8.655906753056538,
          9.15319798385607,
          9.283499265688894,
          72.20140622902602,
          46.34766182436292,
          14.366732993862804,
          8.422507936540315,
          14.125914500975671,
          20.109815184589472,
          4.127501529084123,
          -7.423519441865215,
          8.653415204154392,
          5.036372187506181,
          38.275055012099614,
          9.040032141228208,
          8.468568606819753,
          24.681730147641026,
          -13.578394804911145,
          9.056593212603607,
          -6.540080568793227,
          3.652263397720379,
          -14.633864973769764,
          -2.637774159212331,
          -1.3024613454596474,
          -7.9891464818752125,
          5.364628416793829,
          -40.95089091184106,
          15.55031006145662,
          83.95219000219006,
          -13.437586428594233,
          3.3055280878698503,
          88.6915955366155,
          -9.478790018219918,
          -18.286926551789346,
          -4.328487782186114,
          -10.49773036643457,
          9.765874519770449,
          18.323761416067043,
          -20.274232680949435,
          20.97877397472191,
          -15.625540724174098,
          -32.92392055789291,
          4.061423670181302,
          9.399667590259424,
          7.7707418780869215,
          -12.80158835955827,
          -13.57208738954748,
          10.818154630135647
         ],
         "yaxis": "y"
        },
        {
         "customdata": [
          [
           2012
          ],
          [
           2015
          ],
          [
           2014
          ],
          [
           2016
          ],
          [
           2015
          ],
          [
           2016
          ],
          [
           2016
          ],
          [
           2017
          ],
          [
           2015
          ],
          [
           2015
          ],
          [
           2018
          ],
          [
           2018
          ],
          [
           2019
          ],
          [
           2019
          ],
          [
           2018
          ],
          [
           2017
          ],
          [
           2019
          ],
          [
           2019
          ],
          [
           2018
          ],
          [
           2019
          ],
          [
           2019
          ],
          [
           2017
          ],
          [
           2017
          ],
          [
           2017
          ],
          [
           2016
          ],
          [
           2016
          ],
          [
           2016
          ],
          [
           2017
          ],
          [
           2017
          ],
          [
           2015
          ],
          [
           2017
          ],
          [
           2017
          ],
          [
           2014
          ],
          [
           2013
          ],
          [
           2016
          ],
          [
           2014
          ],
          [
           2016
          ],
          [
           2015
          ],
          [
           2014
          ],
          [
           2016
          ],
          [
           2020
          ],
          [
           2020
          ],
          [
           2020
          ],
          [
           2015
          ],
          [
           2017
          ],
          [
           2017
          ],
          [
           2019
          ],
          [
           2016
          ],
          [
           2019
          ],
          [
           2018
          ],
          [
           2019
          ],
          [
           2011
          ],
          [
           2019
          ],
          [
           2017
          ],
          [
           2009
          ],
          [
           2014
          ],
          [
           2016
          ],
          [
           2014
          ],
          [
           2014
          ],
          [
           2014
          ],
          [
           2014
          ],
          [
           2014
          ],
          [
           2014
          ],
          [
           2014
          ],
          [
           2014
          ],
          [
           2013
          ],
          [
           2014
          ],
          [
           2014
          ],
          [
           2014
          ],
          [
           2014
          ],
          [
           2014
          ],
          [
           2013
          ],
          [
           2014
          ],
          [
           2012
          ],
          [
           2013
          ],
          [
           2013
          ],
          [
           2013
          ],
          [
           2014
          ],
          [
           2013
          ],
          [
           2014
          ],
          [
           2014
          ],
          [
           2015
          ],
          [
           2015
          ],
          [
           2015
          ],
          [
           2015
          ],
          [
           2015
          ],
          [
           2015
          ],
          [
           2015
          ],
          [
           2015
          ],
          [
           2014
          ],
          [
           2014
          ],
          [
           2012
          ],
          [
           2014
          ],
          [
           2014
          ],
          [
           2014
          ],
          [
           2013
          ],
          [
           2014
          ],
          [
           2014
          ],
          [
           2000
          ],
          [
           2014
          ],
          [
           2014
          ],
          [
           2014
          ],
          [
           2013
          ],
          [
           2014
          ],
          [
           2013
          ],
          [
           2018
          ],
          [
           2010
          ],
          [
           2014
          ],
          [
           2017
          ],
          [
           2017
          ],
          [
           2017
          ],
          [
           2017
          ],
          [
           2012
          ],
          [
           2017
          ],
          [
           2017
          ],
          [
           2017
          ],
          [
           2017
          ],
          [
           2017
          ],
          [
           2017
          ],
          [
           2017
          ],
          [
           2015
          ],
          [
           2017
          ],
          [
           2015
          ],
          [
           2016
          ],
          [
           2014
          ],
          [
           2017
          ],
          [
           2017
          ],
          [
           2014
          ],
          [
           2016
          ],
          [
           2013
          ],
          [
           2014
          ],
          [
           2018
          ],
          [
           2018
          ],
          [
           2016
          ],
          [
           2020
          ],
          [
           2018
          ],
          [
           2016
          ],
          [
           2020
          ],
          [
           2020
          ],
          [
           2020
          ],
          [
           2020
          ],
          [
           2020
          ],
          [
           2014
          ],
          [
           2012
          ],
          [
           2018
          ],
          [
           2018
          ],
          [
           2018
          ],
          [
           2016
          ],
          [
           2013
          ],
          [
           2013
          ],
          [
           2012
          ],
          [
           2017
          ],
          [
           2015
          ],
          [
           2017
          ],
          [
           2015
          ],
          [
           2019
          ],
          [
           2017
          ],
          [
           2016
          ],
          [
           2018
          ],
          [
           2012
          ],
          [
           2015
          ],
          [
           2012
          ],
          [
           2017
          ],
          [
           2019
          ],
          [
           2011
          ],
          [
           2016
          ],
          [
           2016
          ],
          [
           2015
          ],
          [
           2015
          ],
          [
           2013
          ],
          [
           2015
          ],
          [
           2018
          ],
          [
           2016
          ],
          [
           2018
          ],
          [
           2014
          ],
          [
           2016
          ],
          [
           2016
          ],
          [
           2012
          ],
          [
           2016
          ],
          [
           2011
          ],
          [
           2012
          ],
          [
           2010
          ],
          [
           2016
          ],
          [
           2016
          ],
          [
           2012
          ],
          [
           2011
          ],
          [
           2012
          ],
          [
           2010
          ],
          [
           2011
          ],
          [
           2011
          ],
          [
           2004
          ],
          [
           2011
          ],
          [
           2009
          ],
          [
           2012
          ],
          [
           2008
          ],
          [
           2012
          ],
          [
           2015
          ],
          [
           2011
          ],
          [
           2017
          ],
          [
           2017
          ],
          [
           2015
          ],
          [
           2018
          ],
          [
           2020
          ],
          [
           2017
          ],
          [
           2017
          ],
          [
           2016
          ],
          [
           2019
          ],
          [
           2018
          ],
          [
           2009
          ],
          [
           2014
          ],
          [
           2019
          ],
          [
           2018
          ],
          [
           2017
          ],
          [
           2018
          ],
          [
           2019
          ],
          [
           2016
          ],
          [
           2018
          ],
          [
           2018
          ],
          [
           2018
          ],
          [
           2016
          ],
          [
           2017
          ],
          [
           2016
          ],
          [
           2017
          ],
          [
           2015
          ],
          [
           2017
          ],
          [
           2018
          ],
          [
           2020
          ],
          [
           2016
          ],
          [
           2014
          ],
          [
           2015
          ],
          [
           2017
          ],
          [
           2015
          ],
          [
           2017
          ],
          [
           2018
          ],
          [
           2015
          ],
          [
           2015
          ],
          [
           2017
          ],
          [
           2017
          ],
          [
           2017
          ],
          [
           2015
          ],
          [
           2017
          ],
          [
           2014
          ],
          [
           2016
          ],
          [
           2017
          ],
          [
           2016
          ],
          [
           2016
          ],
          [
           2017
          ],
          [
           2016
          ],
          [
           2017
          ],
          [
           2016
          ],
          [
           2016
          ],
          [
           2016
          ],
          [
           2017
          ],
          [
           2017
          ],
          [
           2017
          ],
          [
           2016
          ],
          [
           2016
          ],
          [
           2016
          ],
          [
           2017
          ],
          [
           2015
          ],
          [
           2016
          ],
          [
           2016
          ],
          [
           2016
          ],
          [
           2016
          ],
          [
           2016
          ],
          [
           2016
          ],
          [
           2016
          ],
          [
           2014
          ],
          [
           2017
          ],
          [
           2017
          ],
          [
           2017
          ],
          [
           2014
          ],
          [
           2016
          ],
          [
           2017
          ],
          [
           2016
          ],
          [
           2017
          ],
          [
           2016
          ],
          [
           2016
          ],
          [
           2016
          ],
          [
           2016
          ],
          [
           2017
          ],
          [
           2016
          ],
          [
           2016
          ]
         ],
         "hovertemplate": "Cluster=Cluster 1<br>PCA1=%{x}<br>PCA2=%{y}<br>Feature=%{customdata[0]}<extra></extra>",
         "legendgroup": "Cluster 1",
         "marker": {
          "color": "#EF553B",
          "opacity": 0.5,
          "symbol": "circle"
         },
         "mode": "markers",
         "name": "Cluster 1",
         "orientation": "v",
         "showlegend": true,
         "textposition": "top center",
         "type": "scatter",
         "x": [
          14056.83076512987,
          -25074.169078267103,
          -7592.169123759839,
          -13867.169365283451,
          -989.169285429238,
          -14233.169811161204,
          8807.830489462305,
          -15802.170447006665,
          -10298.169620801282,
          13474.830687776337,
          -9569.169172889407,
          -7546.169987803888,
          1793.8303165566867,
          -23931.171072052795,
          13701.829510448144,
          -6240.169214692777,
          -20605.169399446648,
          -9636.17079309996,
          -13879.170512496585,
          -1414.1710442115661,
          -23125.171178522996,
          -9115.169247547441,
          17766.829550915994,
          -13112.169616023615,
          1729.8308613311774,
          14512.8310692163,
          -13943.169292119335,
          -6553.169796257768,
          -19018.16907626855,
          -13425.170969926447,
          14056.82930113314,
          -12405.17019085762,
          13713.830335366603,
          708.8306888179553,
          -5752.1691849117315,
          13977.830662381852,
          -15339.17015243695,
          -25022.169050722612,
          -5925.169039931522,
          -15983.17144355383,
          -20076.171240565174,
          -18152.16971134001,
          -23100.170823210028,
          -17112.16910323468,
          -6266.169182372611,
          -23324.170684120432,
          -6237.169666414462,
          558.8308120498922,
          -18334.170395008405,
          18766.83032046377,
          -20267.1698122645,
          -1218.170480242294,
          -5144.170495300635,
          -23274.16922460398,
          14767.830237511811,
          -1258.1693005283848,
          -13632.170252776801,
          -6056.170817569092,
          17766.830761635163,
          -21443.169562980893,
          -20712.16969359107,
          239.83073475578644,
          14945.830723818179,
          -13425.169322455926,
          5174.830399574247,
          -4112.170331645518,
          2223.829918579604,
          13215.830599860179,
          18007.83083159983,
          6634.830716567159,
          -20527.169253146774,
          -2432.169352099613,
          9821.829789581516,
          2536.830724280549,
          394.8298675314044,
          13713.829693780553,
          15247.830526849046,
          -13762.169334317452,
          -5378.169247644782,
          -12717.169226450878,
          17367.830459202083,
          860.8307237900775,
          2474.8307098981404,
          11471.83080574303,
          -6138.170524636616,
          -13446.169375781608,
          -6978.16974212351,
          7607.8300219963885,
          1647.829933293667,
          14030.829893405626,
          -12472.169368303274,
          13554.830004733516,
          -4203.170601307006,
          -20058.16932521555,
          -2295.1692845184934,
          942.8302698544848,
          -3706.1692613572873,
          -23951.16929988935,
          -13136.168913498439,
          8258.829455967783,
          -760.1703211793408,
          4154.830674380688,
          -18178.16950146043,
          -22227.16949788133,
          -5665.169266070865,
          11549.830662501892,
          -3417.1688523288785,
          7044.830766736494,
          -9765.169249241084,
          -23324.169224464942,
          -21338.170009753096,
          10634.830652212962,
          13795.830765407933,
          -11307.169389813544,
          2455.830674036054,
          -22672.16914262456,
          -17107.16918801029,
          15807.830720884114,
          -14298.169402291709,
          -6423.169577972271,
          13901.830633499103,
          1753.8301775881089,
          -6298.170315761126,
          -23325.16931166565,
          -22125.17013023609,
          -7324.170354267623,
          8973.82929224163,
          2772.8307132475097,
          6194.829473689174,
          2275.830729972845,
          -10978.169273035297,
          3764.8305521358343,
          -8695.169881756805,
          1152.8297290803503,
          -13920.170423078263,
          -5587.1708306779365,
          -3218.1703205259514,
          -18903.170600672496,
          -16406.17204523211,
          7356.829174671901,
          -8699.17109193762,
          -19592.172201157526,
          -16328.170383422106,
          7487.830393541183,
          8754.829375035322,
          -24521.16923688039,
          -23298.169246140318,
          -11458.16975648795,
          -4598.169047592861,
          -24240.170330214725,
          577.8309336472878,
          -20137.169780609845,
          -8872.169124711763,
          -15698.169682099178,
          -24085.16968010874,
          3701.8305566192007,
          -12298.170222239722,
          -6032.16909122322,
          -1877.169841662225,
          5152.830209682495,
          -24107.169185700965,
          -578.1692323338445,
          -19618.16915921304,
          -3575.1690938015213,
          -10293.170455748064,
          -3218.1694637477704,
          10597.830180246507,
          18594.83021786613,
          -22285.16925200931,
          11131.830783255153,
          -20684.16973274219,
          5822.82976421156,
          -12457.170409676724,
          -18805.169863628584,
          8206.830996377215,
          11968.830631472068,
          -2712.1692663008807,
          8415.830329134202,
          -15017.17001964982,
          -4124.1704052845025,
          2341.8307911537663,
          8061.830704970155,
          6847.83077289599,
          4794.830605424296,
          -1538.1701388302486,
          -3658.170041461782,
          3901.830565029904,
          -14485.16922408494,
          13621.83024628787,
          16277.83049045825,
          4194.8303988668795,
          -3967.1697227349105,
          18712.830358231644,
          -20699.16918377804,
          2007.8297959256881,
          11601.830392254587,
          238.8299988501244,
          -1755.169050379268,
          -12248.169200704724,
          -23794.169155759875,
          -1955.1699142934986,
          -24761.169984760938,
          -2095.1701201205797,
          15415.828997247363,
          11293.829507424327,
          -6392.170863509054,
          -7128.169340861872,
          -19850.170894408264,
          -3872.1702773663214,
          12754.830786896482,
          5201.829992637247,
          -6002.171198078377,
          -16903.170008095352,
          -21216.170181698624,
          -21361.170221610377,
          3847.8298939733213,
          -19650.170095051555,
          -14540.170726558883,
          -10472.169264282385,
          -17472.169306477794,
          -8093.170780007752,
          3634.8292878261564,
          -8774.169295235874,
          6977.830727070638,
          10244.829992616682,
          -781.1692023956979,
          -16848.17032419257,
          12306.829704387292,
          1201.8284417423904,
          11418.829091881984,
          -14103.1696565316,
          -10605.169178196977,
          -21885.17067730955,
          12489.830636840234,
          -10298.169280981341,
          -18088.16918232582,
          17701.828851378352,
          7334.829899431623,
          -11007.170866477421,
          -16032.168748565962,
          -6187.16933652953,
          9648.829951793232,
          -15658.169541894124,
          3346.829469782932,
          -21913.1692806095,
          -965.1690407598234,
          -7072.169564771739,
          -15126.16913178302,
          -6538.1699851810645,
          9087.83078122047,
          -9949.16924551259,
          5486.830843667602,
          -2869.1691775275212,
          -2108.1696040588636,
          -3027.170304849286,
          3701.8305619144007,
          2381.8287477001686,
          -24326.169087590413,
          -21571.16923354438,
          -8384.169222294177,
          -17290.170365266094,
          -12851.169872060163,
          10765.830922562289,
          -7912.169294269003,
          -5299.170404909402,
          -17325.169359471332,
          11621.830794939353,
          13482.829840230921,
          -14782.169298278448,
          -4117.170363537716,
          -11025.170723616926,
          -12796.169164169542,
          -14965.170597806811,
          -7277.169227773222,
          342.8302762538101,
          -24991.16917605699,
          9728.830971242194,
          -12639.169638663858,
          -10550.16949623964,
          1621.8309223653243,
          8381.830692027052,
          -1805.1691650095065,
          15075.829339757885
         ],
         "xaxis": "x",
         "y": [
          9.260940496140968,
          -11.874725737485617,
          -3.9587287229964563,
          13.016245811917218,
          8.086009041076023,
          -36.897509557040664,
          6.888420551230512,
          -7.241681252586572,
          -26.791931547918196,
          -0.9495018126071274,
          -15.00670083817091,
          -52.67123139288522,
          -11.40395968460643,
          -19.992935474136974,
          -21.21391954675446,
          -8.935179577239623,
          -16.33854273560492,
          -12.556303839896431,
          -11.252056199110157,
          -4.777010441829196,
          -14.462034254942223,
          -6.044730096440015,
          -21.09909971617253,
          -13.63487052151659,
          -13.971525311791911,
          -39.28456498033595,
          -0.11403489550922624,
          -8.537793781344943,
          -20.046915722081355,
          13.336387476987664,
          -9.336926514409837,
          -4.946555586991203,
          8.934942494687402,
          14.141697876116295,
          -15.351669424341289,
          14.199672527362118,
          -2.836922781984057,
          -16.03446688581851,
          -17.971635448710753,
          -4.304591597263821,
          -10.064001812047344,
          -28.29026051001366,
          -18.088649261048303,
          -16.355595684826174,
          -26.064624610553494,
          -7.547302326203662,
          -3.459093699336415,
          -10.931851411204827,
          63.40011895223906,
          -2.765718643964569,
          -26.8026517548338,
          -8.408549492157562,
          -18.229906031053652,
          -6.058759921558506,
          -14.942584154949657,
          14.18037746080294,
          -10.137038306859859,
          -17.6977280622036,
          -0.9118073104813289,
          -13.536420317242387,
          56.72205396431483,
          8.13477475162861,
          7.234168927185105,
          14.98033393332771,
          10.736895175058079,
          13.640114342650355,
          12.30723196697331,
          -9.72723202915265,
          -8.765278142240918,
          7.203401027133651,
          10.019362265381742,
          10.998357727914446,
          9.267439955493865,
          14.1738100316189,
          -7.165042633796406,
          8.220835045979781,
          14.094858171038116,
          13.896214081281103,
          9.089725453775777,
          6.028597123090176,
          20.1265236799511,
          5.154882027294925,
          8.211468376106899,
          -3.789386346653566,
          81.38189939067873,
          9.942812661992434,
          7.64877767638,
          11.604464804701921,
          -7.815927210382168,
          11.395365712528829,
          21.259955414276046,
          8.438253219521801,
          -23.081157411999282,
          9.844624443272775,
          10.122315486361552,
          14.711480343284483,
          12.151863224166005,
          10.873644357351493,
          16.10565395588462,
          7.880930532608092,
          78.60853452140775,
          10.179654644106861,
          -16.599508754296995,
          7.59132905479052,
          10.117473898396732,
          -0.9096597104665873,
          -28.417935483704483,
          7.261122954155603,
          -16.11663983096694,
          -6.0691291517120005,
          84.77736999295011,
          6.180849713245423,
          9.257994216705546,
          12.002418391424346,
          6.198178073514559,
          -13.680669331580036,
          -11.058253490315963,
          -5.80700295205419,
          0.849770860013559,
          -13.405428092493786,
          14.206793497122481,
          45.30818029063088,
          -17.265630150308755,
          6.892354842670763,
          5.015381588552784,
          8.074254252137457,
          -7.340816988269066,
          10.118186819342275,
          2.9014589106278073,
          14.23047167195458,
          12.184271294048875,
          -13.043964851462981,
          -7.76051979438292,
          -4.9803252136679514,
          -11.226853246015192,
          -14.630270811445296,
          -1.9991407378640909,
          -21.79315112051391,
          81.90182871141332,
          -1.3561450472424683,
          -18.015776797698592,
          81.45488082183614,
          16.90415127997796,
          -13.301307190149789,
          -13.327715782039837,
          -8.196544042452059,
          -8.12052703723644,
          -10.639028517468462,
          -13.03470127112589,
          -14.327817618434013,
          -9.284019489505075,
          -6.632069561653081,
          -8.969494444990508,
          -10.589331990845494,
          52.38942025437748,
          4.020459853071088,
          -11.063077559508248,
          -16.95122585570096,
          -6.513456552858431,
          3.5252247789409967,
          -2.117559377260032,
          8.05822721665725,
          -10.006302369266098,
          -25.810109795079278,
          2.68615835047787,
          -1.1296977965919484,
          9.7143906575969,
          3.777167366870471,
          -3.6720325736700317,
          2.1605380196012063,
          57.7435398362494,
          3.2010029169527194,
          -5.243814977599904,
          -11.674175557138955,
          -30.06555195899776,
          -7.959427406633589,
          1.7163279161668732,
          -11.454606189927318,
          6.152916803224043,
          19.23136409907807,
          9.20076227875367,
          3.989550442469914,
          -6.926056982370801,
          15.134986031266356,
          5.154802533778561,
          1.1524266525676936,
          3.8429214232813695,
          13.931432687475217,
          8.599307332765722,
          -10.238204490174935,
          -20.72777356311073,
          -11.684006435663187,
          -28.00781985232494,
          9.030388937087682,
          -7.0519126357775574,
          51.33636539684044,
          -5.083569179457933,
          -6.8691793510392545,
          -10.079398040928279,
          -12.051838948975362,
          -2.6122773225586577,
          -13.965012534767716,
          -26.106959810341795,
          -12.615935907527792,
          -14.116732239605573,
          -10.626464789301309,
          -1.9581606052204092,
          -15.813931392459846,
          -14.619987945512795,
          -0.8152044011709388,
          3.407820932838979,
          44.44288664882129,
          -8.524928997282322,
          -26.220531153858683,
          42.82187730318283,
          23.39251034533515,
          -21.239004203311353,
          12.626055651376678,
          -5.943359009746684,
          7.232867810663237,
          -10.50987991192372,
          -13.463756387345894,
          2.0378453512272228,
          4.161825856090647,
          4.5077823462900914,
          -11.912082121480555,
          -20.58758876015485,
          -17.023452839912455,
          77.20339222486963,
          -5.533272369289407,
          -13.746370012080414,
          -3.9346660072597217,
          9.559611902951982,
          4.114198119045538,
          3.971861568363526,
          -2.067994247492129,
          -11.785739297243753,
          89.73415044862732,
          -5.602953619985268,
          -54.32181957474377,
          3.9326182320698013,
          2.3602723591889587,
          -13.483066685359884,
          -17.21815589366714,
          1.87978622983895,
          -25.974207809633366,
          -11.303742663145341,
          -16.108630910538213,
          -17.005516274166137,
          -4.838139073106213,
          -6.127325125873939,
          -17.60196902894835,
          -10.967662136180873,
          -22.62578092041693,
          -15.095621397450893,
          -26.29180386212356,
          7.166616938552013,
          -18.024536447705774,
          -6.165537544279756,
          -0.03361673270518813,
          -4.212306508524479,
          -16.782817826136903,
          -25.8502390153098,
          -2.006725466131467,
          7.924518185684824,
          11.946307507466965,
          -3.477413995233569,
          43.57367928043868,
          1.9846920120642655,
          59.49136287764238,
          -17.63145906286783,
          -6.033473117291967,
          -7.44286087695288,
          -5.949021058293638,
          7.617085740781475,
          -12.134356121411933,
          -27.591849988346294,
          0.5887760467436074,
          16.89658046363988,
          -23.9175166815515,
          2.1475328734579504,
          -10.865383951304313,
          -19.264624924140453
         ],
         "yaxis": "y"
        },
        {
         "customdata": [
          [
           2013
          ],
          [
           2017
          ],
          [
           2019
          ],
          [
           2018
          ],
          [
           2016
          ],
          [
           2019
          ]
         ],
         "hovertemplate": "Cluster=Cluster 2<br>PCA1=%{x}<br>PCA2=%{y}<br>Feature=%{customdata[0]}<extra></extra>",
         "legendgroup": "Cluster 2",
         "marker": {
          "color": "#00cc96",
          "opacity": 0.5,
          "symbol": "circle"
         },
         "mode": "markers",
         "name": "Cluster 2",
         "orientation": "v",
         "showlegend": true,
         "textposition": "top center",
         "type": "scatter",
         "x": [
          173927.82947247496,
          168702.83028087803,
          187746.8300178462,
          289439.83072793,
          145699.83051665738,
          120363.82941275461
         ],
         "xaxis": "x",
         "y": [
          -0.7419784281885922,
          -8.582774747480908,
          -25.200719541754978,
          -34.2473412267901,
          6.454642198185753,
          7.901403761548594
         ],
         "yaxis": "y"
        },
        {
         "customdata": [
          [
           2018
          ],
          [
           2015
          ],
          [
           2019
          ],
          [
           2020
          ],
          [
           2020
          ],
          [
           2013
          ],
          [
           2020
          ],
          [
           2014
          ],
          [
           2015
          ],
          [
           2016
          ],
          [
           2018
          ],
          [
           2018
          ],
          [
           2018
          ],
          [
           2019
          ],
          [
           2019
          ],
          [
           2017
          ],
          [
           2015
          ],
          [
           2016
          ],
          [
           2018
          ],
          [
           2019
          ],
          [
           2019
          ],
          [
           2020
          ],
          [
           2018
          ],
          [
           2020
          ],
          [
           2019
          ],
          [
           2020
          ],
          [
           2020
          ],
          [
           2020
          ],
          [
           2017
          ],
          [
           2019
          ],
          [
           2019
          ],
          [
           2018
          ],
          [
           2016
          ],
          [
           2019
          ],
          [
           2018
          ],
          [
           2019
          ],
          [
           2014
          ],
          [
           2019
          ],
          [
           2019
          ],
          [
           2019
          ],
          [
           2019
          ],
          [
           2013
          ],
          [
           2014
          ],
          [
           2014
          ],
          [
           2019
          ],
          [
           2015
          ],
          [
           2019
          ],
          [
           2017
          ],
          [
           2015
          ],
          [
           2014
          ],
          [
           2015
          ],
          [
           2020
          ],
          [
           2018
          ],
          [
           2018
          ],
          [
           2018
          ],
          [
           2017
          ],
          [
           2019
          ],
          [
           2017
          ],
          [
           2016
          ],
          [
           2019
          ],
          [
           2020
          ],
          [
           2019
          ],
          [
           2017
          ],
          [
           2018
          ],
          [
           2009
          ],
          [
           2017
          ],
          [
           2010
          ],
          [
           2016
          ],
          [
           2011
          ],
          [
           2016
          ],
          [
           2016
          ],
          [
           2016
          ],
          [
           2016
          ],
          [
           2017
          ],
          [
           2016
          ],
          [
           2016
          ],
          [
           2013
          ],
          [
           2016
          ],
          [
           2016
          ],
          [
           2016
          ],
          [
           2017
          ],
          [
           2016
          ],
          [
           2019
          ],
          [
           2016
          ],
          [
           2019
          ],
          [
           2014
          ],
          [
           2019
          ],
          [
           2018
          ],
          [
           2017
          ],
          [
           2016
          ],
          [
           2016
          ],
          [
           2018
          ],
          [
           2019
          ],
          [
           2020
          ],
          [
           2019
          ],
          [
           2016
          ],
          [
           2015
          ],
          [
           2018
          ],
          [
           2020
          ],
          [
           2016
          ],
          [
           2017
          ],
          [
           2014
          ],
          [
           2018
          ],
          [
           2014
          ],
          [
           2017
          ],
          [
           2016
          ],
          [
           2016
          ],
          [
           2016
          ],
          [
           2016
          ],
          [
           2019
          ],
          [
           2014
          ],
          [
           2017
          ],
          [
           2016
          ],
          [
           2019
          ]
         ],
         "hovertemplate": "Cluster=Cluster 3<br>PCA1=%{x}<br>PCA2=%{y}<br>Feature=%{customdata[0]}<extra></extra>",
         "legendgroup": "Cluster 3",
         "marker": {
          "color": "#ab63fa",
          "opacity": 0.5,
          "symbol": "circle"
         },
         "mode": "markers",
         "name": "Cluster 3",
         "orientation": "v",
         "showlegend": true,
         "textposition": "top center",
         "type": "scatter",
         "x": [
          -26570.170337420397,
          -50439.1691814055,
          -29675.17199118071,
          -37498.17007913752,
          -50298.171052830614,
          -35182.170154240404,
          -132810.17033323814,
          -35026.16904585703,
          -26498.17012790746,
          -69691.16984761035,
          -62298.16932187263,
          -70249.16996331279,
          -34504.17106925339,
          -47163.169709012654,
          -42523.169831016115,
          -37520.16926688449,
          -28338.169612552487,
          -47298.16930268035,
          -40265.17000598682,
          -34689.17119584294,
          -36400.17148606599,
          -49590.16990944268,
          -80365.17019819263,
          -76438.17122310335,
          -79441.16965577933,
          -125227.17091155147,
          -73632.17079974855,
          -35957.171209239285,
          -27298.170105895093,
          -35602.17015933401,
          -56145.17021621662,
          -29989.17025137895,
          -38240.16966007117,
          -99216.16992051133,
          -70994.17032302206,
          -34584.17048183957,
          -34374.169314483566,
          -111191.16986613606,
          -29049.170243645913,
          -39389.169784952515,
          -64246.171002886236,
          -34922.16892686691,
          -39755.16945523946,
          -30298.169187899046,
          -56850.169616826024,
          -28209.16924240394,
          -78729.1702803676,
          -31056.170254610224,
          -41688.16909007694,
          -34792.16920318316,
          -28218.169573969466,
          -56552.16924364788,
          -60705.16983709318,
          -46338.16932230826,
          -35013.171416188896,
          -39441.17090434986,
          -57848.16948010952,
          -54139.16885385516,
          -31148.170137297406,
          -26298.170653883833,
          -45336.16923812632,
          -43523.17094562039,
          -26876.169494819485,
          -40956.17032988117,
          -35298.16889478007,
          -40382.16921351789,
          -34478.16890762999,
          -44357.17009492154,
          -57596.169501979166,
          -36289.16956739609,
          -81315.16995828497,
          -40251.16915856493,
          -35632.16932330804,
          -59293.16909416697,
          -38298.16899710153,
          -40225.170032502065,
          -34432.170072005436,
          -46468.16983722978,
          -35001.16919166519,
          -60739.17041044001,
          -45345.169480504876,
          -60782.16995961764,
          -26298.169194187674,
          -30246.169080869673,
          -48255.171018147885,
          -49432.16923961453,
          -38769.16918050825,
          -44640.16956618702,
          -44698.16911011544,
          -57015.16974326665,
          -27373.16928281757,
          -29792.170414875152,
          -70842.16981909619,
          -53068.170926333914,
          -36214.16939700034,
          -34712.1690825422,
          -37854.169570250204,
          -52368.17067936384,
          -79869.1699998078,
          -52157.16989981894,
          -30809.169092346914,
          -31396.17013082616,
          -33727.16912698382,
          -29512.171082461715,
          -41792.16906380006,
          -28829.169494925285,
          -36938.16989486927,
          -32298.169120906703,
          -44042.16946059825,
          -44298.17046172028,
          -26685.169717095723,
          -35001.171324654664,
          -27242.16930274413,
          -78298.17096849337
         ],
         "xaxis": "x",
         "y": [
          -14.342595800533095,
          -6.42029027953913,
          83.84431685752692,
          -17.033741093139817,
          -22.155156916448256,
          9.946980574090297,
          12.056760978406906,
          -13.155269234916387,
          11.090231609065592,
          -14.14932640950069,
          7.599007272963528,
          -12.167834960806697,
          -8.103993540004105,
          -5.662697777818657,
          -6.827526349760734,
          -3.2474688076939358,
          11.524333943057007,
          6.783878225704902,
          1.0409797487705685,
          -24.387855324885475,
          -18.600384479184616,
          -20.5131969995405,
          2.4539244213704845,
          -10.478518273684434,
          -12.048891934423624,
          59.94058250197189,
          62.388361864062304,
          32.179964188342645,
          -37.295016265529505,
          -27.33056463387989,
          39.143064027603465,
          -22.2895566770322,
          3.3985912710316324,
          -40.69155077884583,
          -25.81717875252033,
          -2.3996999929811795,
          13.64272183421652,
          25.32122107150396,
          -0.12599353034768904,
          -11.730411529013203,
          -8.273428786201409,
          -26.116630063619677,
          11.709266701661702,
          -6.227864666845358,
          -11.790288594275609,
          4.900725812466176,
          -54.45744661645825,
          0.8805884302638921,
          -9.11354012680929,
          4.8561666605547265,
          4.529342919729968,
          -12.43689632232729,
          -13.030343031321959,
          -0.28200884045850116,
          82.34851550706087,
          -12.759468239145727,
          -9.928298758361555,
          -49.727601029230584,
          -4.117341808883785,
          -17.676010048111394,
          -16.59978622845316,
          -20.166958609716204,
          12.701143835615916,
          -10.347911184890556,
          -20.780169384497842,
          -10.2967125220298,
          -18.825507393510595,
          5.916004655174794,
          -1.8013819974423022,
          -26.84509079207822,
          88.43084393517378,
          -7.219978786159377,
          8.762477434760456,
          -14.235102762890252,
          -26.267016670919464,
          -6.26687620989961,
          13.06943168415532,
          -2.0802782806902966,
          -8.263614319104526,
          -18.80198797422804,
          -6.525455344631221,
          83.63952548636288,
          -16.194736888907013,
          -16.13692121108048,
          5.051513960617983,
          9.71917365857675,
          -14.131048570998495,
          -16.765682507240875,
          -16.5342944550237,
          -11.030785315142264,
          4.955132615069398,
          -21.577714310899548,
          20.19250467780863,
          -1.0026221370478279,
          8.89207723704266,
          -16.155645825732595,
          11.558977573010917,
          -11.828131260284266,
          -14.395164184933016,
          9.039246598153635,
          -22.493585802043125,
          4.872669610673084,
          -18.129466641200242,
          41.86133170941615,
          -22.629167797045053,
          -18.53857783422134,
          -10.359114191762952,
          -20.17074523709499,
          -2.567614985509398,
          2.65072297354377,
          7.46185835295505,
          82.4971813624433,
          2.195520243816258,
          14.89483463595284
         ],
         "yaxis": "y"
        }
       ],
       "layout": {
        "height": 600,
        "legend": {
         "title": {
          "text": "Cluster"
         },
         "tracegroupgap": 0
        },
        "margin": {
         "t": 60
        },
        "plot_bgcolor": "rgb(240,240,240)",
        "template": {
         "data": {
          "bar": [
           {
            "error_x": {
             "color": "#2a3f5f"
            },
            "error_y": {
             "color": "#2a3f5f"
            },
            "marker": {
             "line": {
              "color": "#E5ECF6",
              "width": 0.5
             },
             "pattern": {
              "fillmode": "overlay",
              "size": 10,
              "solidity": 0.2
             }
            },
            "type": "bar"
           }
          ],
          "barpolar": [
           {
            "marker": {
             "line": {
              "color": "#E5ECF6",
              "width": 0.5
             },
             "pattern": {
              "fillmode": "overlay",
              "size": 10,
              "solidity": 0.2
             }
            },
            "type": "barpolar"
           }
          ],
          "carpet": [
           {
            "aaxis": {
             "endlinecolor": "#2a3f5f",
             "gridcolor": "white",
             "linecolor": "white",
             "minorgridcolor": "white",
             "startlinecolor": "#2a3f5f"
            },
            "baxis": {
             "endlinecolor": "#2a3f5f",
             "gridcolor": "white",
             "linecolor": "white",
             "minorgridcolor": "white",
             "startlinecolor": "#2a3f5f"
            },
            "type": "carpet"
           }
          ],
          "choropleth": [
           {
            "colorbar": {
             "outlinewidth": 0,
             "ticks": ""
            },
            "type": "choropleth"
           }
          ],
          "contour": [
           {
            "colorbar": {
             "outlinewidth": 0,
             "ticks": ""
            },
            "colorscale": [
             [
              0,
              "#0d0887"
             ],
             [
              0.1111111111111111,
              "#46039f"
             ],
             [
              0.2222222222222222,
              "#7201a8"
             ],
             [
              0.3333333333333333,
              "#9c179e"
             ],
             [
              0.4444444444444444,
              "#bd3786"
             ],
             [
              0.5555555555555556,
              "#d8576b"
             ],
             [
              0.6666666666666666,
              "#ed7953"
             ],
             [
              0.7777777777777778,
              "#fb9f3a"
             ],
             [
              0.8888888888888888,
              "#fdca26"
             ],
             [
              1,
              "#f0f921"
             ]
            ],
            "type": "contour"
           }
          ],
          "contourcarpet": [
           {
            "colorbar": {
             "outlinewidth": 0,
             "ticks": ""
            },
            "type": "contourcarpet"
           }
          ],
          "heatmap": [
           {
            "colorbar": {
             "outlinewidth": 0,
             "ticks": ""
            },
            "colorscale": [
             [
              0,
              "#0d0887"
             ],
             [
              0.1111111111111111,
              "#46039f"
             ],
             [
              0.2222222222222222,
              "#7201a8"
             ],
             [
              0.3333333333333333,
              "#9c179e"
             ],
             [
              0.4444444444444444,
              "#bd3786"
             ],
             [
              0.5555555555555556,
              "#d8576b"
             ],
             [
              0.6666666666666666,
              "#ed7953"
             ],
             [
              0.7777777777777778,
              "#fb9f3a"
             ],
             [
              0.8888888888888888,
              "#fdca26"
             ],
             [
              1,
              "#f0f921"
             ]
            ],
            "type": "heatmap"
           }
          ],
          "heatmapgl": [
           {
            "colorbar": {
             "outlinewidth": 0,
             "ticks": ""
            },
            "colorscale": [
             [
              0,
              "#0d0887"
             ],
             [
              0.1111111111111111,
              "#46039f"
             ],
             [
              0.2222222222222222,
              "#7201a8"
             ],
             [
              0.3333333333333333,
              "#9c179e"
             ],
             [
              0.4444444444444444,
              "#bd3786"
             ],
             [
              0.5555555555555556,
              "#d8576b"
             ],
             [
              0.6666666666666666,
              "#ed7953"
             ],
             [
              0.7777777777777778,
              "#fb9f3a"
             ],
             [
              0.8888888888888888,
              "#fdca26"
             ],
             [
              1,
              "#f0f921"
             ]
            ],
            "type": "heatmapgl"
           }
          ],
          "histogram": [
           {
            "marker": {
             "pattern": {
              "fillmode": "overlay",
              "size": 10,
              "solidity": 0.2
             }
            },
            "type": "histogram"
           }
          ],
          "histogram2d": [
           {
            "colorbar": {
             "outlinewidth": 0,
             "ticks": ""
            },
            "colorscale": [
             [
              0,
              "#0d0887"
             ],
             [
              0.1111111111111111,
              "#46039f"
             ],
             [
              0.2222222222222222,
              "#7201a8"
             ],
             [
              0.3333333333333333,
              "#9c179e"
             ],
             [
              0.4444444444444444,
              "#bd3786"
             ],
             [
              0.5555555555555556,
              "#d8576b"
             ],
             [
              0.6666666666666666,
              "#ed7953"
             ],
             [
              0.7777777777777778,
              "#fb9f3a"
             ],
             [
              0.8888888888888888,
              "#fdca26"
             ],
             [
              1,
              "#f0f921"
             ]
            ],
            "type": "histogram2d"
           }
          ],
          "histogram2dcontour": [
           {
            "colorbar": {
             "outlinewidth": 0,
             "ticks": ""
            },
            "colorscale": [
             [
              0,
              "#0d0887"
             ],
             [
              0.1111111111111111,
              "#46039f"
             ],
             [
              0.2222222222222222,
              "#7201a8"
             ],
             [
              0.3333333333333333,
              "#9c179e"
             ],
             [
              0.4444444444444444,
              "#bd3786"
             ],
             [
              0.5555555555555556,
              "#d8576b"
             ],
             [
              0.6666666666666666,
              "#ed7953"
             ],
             [
              0.7777777777777778,
              "#fb9f3a"
             ],
             [
              0.8888888888888888,
              "#fdca26"
             ],
             [
              1,
              "#f0f921"
             ]
            ],
            "type": "histogram2dcontour"
           }
          ],
          "mesh3d": [
           {
            "colorbar": {
             "outlinewidth": 0,
             "ticks": ""
            },
            "type": "mesh3d"
           }
          ],
          "parcoords": [
           {
            "line": {
             "colorbar": {
              "outlinewidth": 0,
              "ticks": ""
             }
            },
            "type": "parcoords"
           }
          ],
          "pie": [
           {
            "automargin": true,
            "type": "pie"
           }
          ],
          "scatter": [
           {
            "fillpattern": {
             "fillmode": "overlay",
             "size": 10,
             "solidity": 0.2
            },
            "type": "scatter"
           }
          ],
          "scatter3d": [
           {
            "line": {
             "colorbar": {
              "outlinewidth": 0,
              "ticks": ""
             }
            },
            "marker": {
             "colorbar": {
              "outlinewidth": 0,
              "ticks": ""
             }
            },
            "type": "scatter3d"
           }
          ],
          "scattercarpet": [
           {
            "marker": {
             "colorbar": {
              "outlinewidth": 0,
              "ticks": ""
             }
            },
            "type": "scattercarpet"
           }
          ],
          "scattergeo": [
           {
            "marker": {
             "colorbar": {
              "outlinewidth": 0,
              "ticks": ""
             }
            },
            "type": "scattergeo"
           }
          ],
          "scattergl": [
           {
            "marker": {
             "colorbar": {
              "outlinewidth": 0,
              "ticks": ""
             }
            },
            "type": "scattergl"
           }
          ],
          "scattermapbox": [
           {
            "marker": {
             "colorbar": {
              "outlinewidth": 0,
              "ticks": ""
             }
            },
            "type": "scattermapbox"
           }
          ],
          "scatterpolar": [
           {
            "marker": {
             "colorbar": {
              "outlinewidth": 0,
              "ticks": ""
             }
            },
            "type": "scatterpolar"
           }
          ],
          "scatterpolargl": [
           {
            "marker": {
             "colorbar": {
              "outlinewidth": 0,
              "ticks": ""
             }
            },
            "type": "scatterpolargl"
           }
          ],
          "scatterternary": [
           {
            "marker": {
             "colorbar": {
              "outlinewidth": 0,
              "ticks": ""
             }
            },
            "type": "scatterternary"
           }
          ],
          "surface": [
           {
            "colorbar": {
             "outlinewidth": 0,
             "ticks": ""
            },
            "colorscale": [
             [
              0,
              "#0d0887"
             ],
             [
              0.1111111111111111,
              "#46039f"
             ],
             [
              0.2222222222222222,
              "#7201a8"
             ],
             [
              0.3333333333333333,
              "#9c179e"
             ],
             [
              0.4444444444444444,
              "#bd3786"
             ],
             [
              0.5555555555555556,
              "#d8576b"
             ],
             [
              0.6666666666666666,
              "#ed7953"
             ],
             [
              0.7777777777777778,
              "#fb9f3a"
             ],
             [
              0.8888888888888888,
              "#fdca26"
             ],
             [
              1,
              "#f0f921"
             ]
            ],
            "type": "surface"
           }
          ],
          "table": [
           {
            "cells": {
             "fill": {
              "color": "#EBF0F8"
             },
             "line": {
              "color": "white"
             }
            },
            "header": {
             "fill": {
              "color": "#C8D4E3"
             },
             "line": {
              "color": "white"
             }
            },
            "type": "table"
           }
          ]
         },
         "layout": {
          "annotationdefaults": {
           "arrowcolor": "#2a3f5f",
           "arrowhead": 0,
           "arrowwidth": 1
          },
          "autotypenumbers": "strict",
          "coloraxis": {
           "colorbar": {
            "outlinewidth": 0,
            "ticks": ""
           }
          },
          "colorscale": {
           "diverging": [
            [
             0,
             "#8e0152"
            ],
            [
             0.1,
             "#c51b7d"
            ],
            [
             0.2,
             "#de77ae"
            ],
            [
             0.3,
             "#f1b6da"
            ],
            [
             0.4,
             "#fde0ef"
            ],
            [
             0.5,
             "#f7f7f7"
            ],
            [
             0.6,
             "#e6f5d0"
            ],
            [
             0.7,
             "#b8e186"
            ],
            [
             0.8,
             "#7fbc41"
            ],
            [
             0.9,
             "#4d9221"
            ],
            [
             1,
             "#276419"
            ]
           ],
           "sequential": [
            [
             0,
             "#0d0887"
            ],
            [
             0.1111111111111111,
             "#46039f"
            ],
            [
             0.2222222222222222,
             "#7201a8"
            ],
            [
             0.3333333333333333,
             "#9c179e"
            ],
            [
             0.4444444444444444,
             "#bd3786"
            ],
            [
             0.5555555555555556,
             "#d8576b"
            ],
            [
             0.6666666666666666,
             "#ed7953"
            ],
            [
             0.7777777777777778,
             "#fb9f3a"
            ],
            [
             0.8888888888888888,
             "#fdca26"
            ],
            [
             1,
             "#f0f921"
            ]
           ],
           "sequentialminus": [
            [
             0,
             "#0d0887"
            ],
            [
             0.1111111111111111,
             "#46039f"
            ],
            [
             0.2222222222222222,
             "#7201a8"
            ],
            [
             0.3333333333333333,
             "#9c179e"
            ],
            [
             0.4444444444444444,
             "#bd3786"
            ],
            [
             0.5555555555555556,
             "#d8576b"
            ],
            [
             0.6666666666666666,
             "#ed7953"
            ],
            [
             0.7777777777777778,
             "#fb9f3a"
            ],
            [
             0.8888888888888888,
             "#fdca26"
            ],
            [
             1,
             "#f0f921"
            ]
           ]
          },
          "colorway": [
           "#636efa",
           "#EF553B",
           "#00cc96",
           "#ab63fa",
           "#FFA15A",
           "#19d3f3",
           "#FF6692",
           "#B6E880",
           "#FF97FF",
           "#FECB52"
          ],
          "font": {
           "color": "#2a3f5f"
          },
          "geo": {
           "bgcolor": "white",
           "lakecolor": "white",
           "landcolor": "#E5ECF6",
           "showlakes": true,
           "showland": true,
           "subunitcolor": "white"
          },
          "hoverlabel": {
           "align": "left"
          },
          "hovermode": "closest",
          "mapbox": {
           "style": "light"
          },
          "paper_bgcolor": "white",
          "plot_bgcolor": "#E5ECF6",
          "polar": {
           "angularaxis": {
            "gridcolor": "white",
            "linecolor": "white",
            "ticks": ""
           },
           "bgcolor": "#E5ECF6",
           "radialaxis": {
            "gridcolor": "white",
            "linecolor": "white",
            "ticks": ""
           }
          },
          "scene": {
           "xaxis": {
            "backgroundcolor": "#E5ECF6",
            "gridcolor": "white",
            "gridwidth": 2,
            "linecolor": "white",
            "showbackground": true,
            "ticks": "",
            "zerolinecolor": "white"
           },
           "yaxis": {
            "backgroundcolor": "#E5ECF6",
            "gridcolor": "white",
            "gridwidth": 2,
            "linecolor": "white",
            "showbackground": true,
            "ticks": "",
            "zerolinecolor": "white"
           },
           "zaxis": {
            "backgroundcolor": "#E5ECF6",
            "gridcolor": "white",
            "gridwidth": 2,
            "linecolor": "white",
            "showbackground": true,
            "ticks": "",
            "zerolinecolor": "white"
           }
          },
          "shapedefaults": {
           "line": {
            "color": "#2a3f5f"
           }
          },
          "ternary": {
           "aaxis": {
            "gridcolor": "white",
            "linecolor": "white",
            "ticks": ""
           },
           "baxis": {
            "gridcolor": "white",
            "linecolor": "white",
            "ticks": ""
           },
           "bgcolor": "#E5ECF6",
           "caxis": {
            "gridcolor": "white",
            "linecolor": "white",
            "ticks": ""
           }
          },
          "title": {
           "x": 0.05
          },
          "xaxis": {
           "automargin": true,
           "gridcolor": "white",
           "linecolor": "white",
           "ticks": "",
           "title": {
            "standoff": 15
           },
           "zerolinecolor": "white",
           "zerolinewidth": 2
          },
          "yaxis": {
           "automargin": true,
           "gridcolor": "white",
           "linecolor": "white",
           "ticks": "",
           "title": {
            "standoff": 15
           },
           "zerolinecolor": "white",
           "zerolinewidth": 2
          }
         }
        },
        "title": {
         "text": "2D Cluster PCA Plot"
        },
        "xaxis": {
         "anchor": "y",
         "domain": [
          0,
          1
         ],
         "title": {
          "text": "PCA1"
         }
        },
        "yaxis": {
         "anchor": "x",
         "domain": [
          0,
          1
         ],
         "title": {
          "text": "PCA2"
         }
        }
       }
      }
     },
     "metadata": {},
     "output_type": "display_data"
    }
   ],
   "source": [
    "evaluate_model(mykmeans)"
   ]
  },
  {
   "cell_type": "code",
   "execution_count": 40,
   "metadata": {},
   "outputs": [],
   "source": [
    "mylabels=predict_model(mykmeans,data=mydata)\n"
   ]
  },
  {
   "cell_type": "code",
   "execution_count": 41,
   "metadata": {},
   "outputs": [
    {
     "data": {
      "text/html": [
       "<div>\n",
       "<style scoped>\n",
       "    .dataframe tbody tr th:only-of-type {\n",
       "        vertical-align: middle;\n",
       "    }\n",
       "\n",
       "    .dataframe tbody tr th {\n",
       "        vertical-align: top;\n",
       "    }\n",
       "\n",
       "    .dataframe thead th {\n",
       "        text-align: right;\n",
       "    }\n",
       "</style>\n",
       "<table border=\"1\" class=\"dataframe\">\n",
       "  <thead>\n",
       "    <tr style=\"text-align: right;\">\n",
       "      <th></th>\n",
       "      <th>release_date</th>\n",
       "      <th>length</th>\n",
       "      <th>popularity</th>\n",
       "      <th>danceability</th>\n",
       "      <th>acousticness</th>\n",
       "      <th>energy</th>\n",
       "      <th>instrumentalness</th>\n",
       "      <th>liveness</th>\n",
       "      <th>loudness</th>\n",
       "      <th>speechiness</th>\n",
       "      <th>tempo</th>\n",
       "      <th>time_signature</th>\n",
       "      <th>Cluster</th>\n",
       "    </tr>\n",
       "  </thead>\n",
       "  <tbody>\n",
       "    <tr>\n",
       "      <th>0</th>\n",
       "      <td>2019.0</td>\n",
       "      <td>144000.0</td>\n",
       "      <td>48.0</td>\n",
       "      <td>0.666</td>\n",
       "      <td>0.8510</td>\n",
       "      <td>0.420</td>\n",
       "      <td>0.534000</td>\n",
       "      <td>0.1100</td>\n",
       "      <td>-6.699</td>\n",
       "      <td>0.0829</td>\n",
       "      <td>133.015</td>\n",
       "      <td>5.0</td>\n",
       "      <td>Cluster 3</td>\n",
       "    </tr>\n",
       "    <tr>\n",
       "      <th>1</th>\n",
       "      <td>2020.0</td>\n",
       "      <td>89488.0</td>\n",
       "      <td>30.0</td>\n",
       "      <td>0.710</td>\n",
       "      <td>0.0822</td>\n",
       "      <td>0.683</td>\n",
       "      <td>0.000169</td>\n",
       "      <td>0.1010</td>\n",
       "      <td>-5.640</td>\n",
       "      <td>0.3600</td>\n",
       "      <td>129.993</td>\n",
       "      <td>3.0</td>\n",
       "      <td>Cluster 3</td>\n",
       "    </tr>\n",
       "    <tr>\n",
       "      <th>2</th>\n",
       "      <td>2018.0</td>\n",
       "      <td>207758.0</td>\n",
       "      <td>40.0</td>\n",
       "      <td>0.836</td>\n",
       "      <td>0.2720</td>\n",
       "      <td>0.564</td>\n",
       "      <td>0.000537</td>\n",
       "      <td>0.1100</td>\n",
       "      <td>-7.127</td>\n",
       "      <td>0.0424</td>\n",
       "      <td>130.005</td>\n",
       "      <td>4.0</td>\n",
       "      <td>Cluster 1</td>\n",
       "    </tr>\n",
       "    <tr>\n",
       "      <th>3</th>\n",
       "      <td>2019.0</td>\n",
       "      <td>175135.0</td>\n",
       "      <td>14.0</td>\n",
       "      <td>0.894</td>\n",
       "      <td>0.7980</td>\n",
       "      <td>0.611</td>\n",
       "      <td>0.000187</td>\n",
       "      <td>0.0964</td>\n",
       "      <td>-4.961</td>\n",
       "      <td>0.1130</td>\n",
       "      <td>111.087</td>\n",
       "      <td>4.0</td>\n",
       "      <td>Cluster 3</td>\n",
       "    </tr>\n",
       "    <tr>\n",
       "      <th>4</th>\n",
       "      <td>2018.0</td>\n",
       "      <td>152049.0</td>\n",
       "      <td>25.0</td>\n",
       "      <td>0.702</td>\n",
       "      <td>0.1160</td>\n",
       "      <td>0.833</td>\n",
       "      <td>0.910000</td>\n",
       "      <td>0.3480</td>\n",
       "      <td>-6.044</td>\n",
       "      <td>0.0447</td>\n",
       "      <td>105.115</td>\n",
       "      <td>4.0</td>\n",
       "      <td>Cluster 3</td>\n",
       "    </tr>\n",
       "    <tr>\n",
       "      <th>...</th>\n",
       "      <td>...</td>\n",
       "      <td>...</td>\n",
       "      <td>...</td>\n",
       "      <td>...</td>\n",
       "      <td>...</td>\n",
       "      <td>...</td>\n",
       "      <td>...</td>\n",
       "      <td>...</td>\n",
       "      <td>...</td>\n",
       "      <td>...</td>\n",
       "      <td>...</td>\n",
       "      <td>...</td>\n",
       "      <td>...</td>\n",
       "    </tr>\n",
       "    <tr>\n",
       "      <th>525</th>\n",
       "      <td>2015.0</td>\n",
       "      <td>193960.0</td>\n",
       "      <td>10.0</td>\n",
       "      <td>0.735</td>\n",
       "      <td>0.6320</td>\n",
       "      <td>0.918</td>\n",
       "      <td>0.193000</td>\n",
       "      <td>0.0718</td>\n",
       "      <td>-2.582</td>\n",
       "      <td>0.0355</td>\n",
       "      <td>127.954</td>\n",
       "      <td>4.0</td>\n",
       "      <td>Cluster 3</td>\n",
       "    </tr>\n",
       "    <tr>\n",
       "      <th>526</th>\n",
       "      <td>2015.0</td>\n",
       "      <td>252708.0</td>\n",
       "      <td>0.0</td>\n",
       "      <td>0.602</td>\n",
       "      <td>0.1770</td>\n",
       "      <td>0.883</td>\n",
       "      <td>0.000004</td>\n",
       "      <td>0.1190</td>\n",
       "      <td>-6.183</td>\n",
       "      <td>0.0778</td>\n",
       "      <td>154.010</td>\n",
       "      <td>4.0</td>\n",
       "      <td>Cluster 0</td>\n",
       "    </tr>\n",
       "    <tr>\n",
       "      <th>527</th>\n",
       "      <td>2015.0</td>\n",
       "      <td>223159.0</td>\n",
       "      <td>0.0</td>\n",
       "      <td>0.729</td>\n",
       "      <td>0.2380</td>\n",
       "      <td>0.864</td>\n",
       "      <td>0.000000</td>\n",
       "      <td>0.1950</td>\n",
       "      <td>-3.942</td>\n",
       "      <td>0.0668</td>\n",
       "      <td>121.058</td>\n",
       "      <td>4.0</td>\n",
       "      <td>Cluster 1</td>\n",
       "    </tr>\n",
       "    <tr>\n",
       "      <th>528</th>\n",
       "      <td>2015.0</td>\n",
       "      <td>278280.0</td>\n",
       "      <td>0.0</td>\n",
       "      <td>0.809</td>\n",
       "      <td>0.0490</td>\n",
       "      <td>0.806</td>\n",
       "      <td>0.000000</td>\n",
       "      <td>0.0659</td>\n",
       "      <td>-6.547</td>\n",
       "      <td>0.2340</td>\n",
       "      <td>123.997</td>\n",
       "      <td>4.0</td>\n",
       "      <td>Cluster 0</td>\n",
       "    </tr>\n",
       "    <tr>\n",
       "      <th>529</th>\n",
       "      <td>2015.0</td>\n",
       "      <td>213426.0</td>\n",
       "      <td>0.0</td>\n",
       "      <td>0.816</td>\n",
       "      <td>0.1140</td>\n",
       "      <td>0.961</td>\n",
       "      <td>0.008500</td>\n",
       "      <td>0.1370</td>\n",
       "      <td>-2.204</td>\n",
       "      <td>0.1390</td>\n",
       "      <td>106.972</td>\n",
       "      <td>4.0</td>\n",
       "      <td>Cluster 1</td>\n",
       "    </tr>\n",
       "  </tbody>\n",
       "</table>\n",
       "<p>530 rows × 13 columns</p>\n",
       "</div>"
      ],
      "text/plain": [
       "     release_date    length  popularity  danceability  acousticness  energy  \\\n",
       "0          2019.0  144000.0        48.0         0.666        0.8510   0.420   \n",
       "1          2020.0   89488.0        30.0         0.710        0.0822   0.683   \n",
       "2          2018.0  207758.0        40.0         0.836        0.2720   0.564   \n",
       "3          2019.0  175135.0        14.0         0.894        0.7980   0.611   \n",
       "4          2018.0  152049.0        25.0         0.702        0.1160   0.833   \n",
       "..            ...       ...         ...           ...           ...     ...   \n",
       "525        2015.0  193960.0        10.0         0.735        0.6320   0.918   \n",
       "526        2015.0  252708.0         0.0         0.602        0.1770   0.883   \n",
       "527        2015.0  223159.0         0.0         0.729        0.2380   0.864   \n",
       "528        2015.0  278280.0         0.0         0.809        0.0490   0.806   \n",
       "529        2015.0  213426.0         0.0         0.816        0.1140   0.961   \n",
       "\n",
       "     instrumentalness  liveness  loudness  speechiness    tempo  \\\n",
       "0            0.534000    0.1100    -6.699       0.0829  133.015   \n",
       "1            0.000169    0.1010    -5.640       0.3600  129.993   \n",
       "2            0.000537    0.1100    -7.127       0.0424  130.005   \n",
       "3            0.000187    0.0964    -4.961       0.1130  111.087   \n",
       "4            0.910000    0.3480    -6.044       0.0447  105.115   \n",
       "..                ...       ...       ...          ...      ...   \n",
       "525          0.193000    0.0718    -2.582       0.0355  127.954   \n",
       "526          0.000004    0.1190    -6.183       0.0778  154.010   \n",
       "527          0.000000    0.1950    -3.942       0.0668  121.058   \n",
       "528          0.000000    0.0659    -6.547       0.2340  123.997   \n",
       "529          0.008500    0.1370    -2.204       0.1390  106.972   \n",
       "\n",
       "     time_signature    Cluster  \n",
       "0               5.0  Cluster 3  \n",
       "1               3.0  Cluster 3  \n",
       "2               4.0  Cluster 1  \n",
       "3               4.0  Cluster 3  \n",
       "4               4.0  Cluster 3  \n",
       "..              ...        ...  \n",
       "525             4.0  Cluster 3  \n",
       "526             4.0  Cluster 0  \n",
       "527             4.0  Cluster 1  \n",
       "528             4.0  Cluster 0  \n",
       "529             4.0  Cluster 1  \n",
       "\n",
       "[530 rows x 13 columns]"
      ]
     },
     "execution_count": 41,
     "metadata": {},
     "output_type": "execute_result"
    }
   ],
   "source": [
    "mylabels"
   ]
  },
  {
   "cell_type": "code",
   "execution_count": 46,
   "metadata": {},
   "outputs": [
    {
     "data": {
      "text/html": [
       "<div>\n",
       "<style scoped>\n",
       "    .dataframe tbody tr th:only-of-type {\n",
       "        vertical-align: middle;\n",
       "    }\n",
       "\n",
       "    .dataframe tbody tr th {\n",
       "        vertical-align: top;\n",
       "    }\n",
       "\n",
       "    .dataframe thead th {\n",
       "        text-align: right;\n",
       "    }\n",
       "</style>\n",
       "<table border=\"1\" class=\"dataframe\">\n",
       "  <thead>\n",
       "    <tr style=\"text-align: right;\">\n",
       "      <th></th>\n",
       "      <th>release_date</th>\n",
       "      <th>length</th>\n",
       "      <th>popularity</th>\n",
       "      <th>danceability</th>\n",
       "      <th>acousticness</th>\n",
       "      <th>energy</th>\n",
       "      <th>instrumentalness</th>\n",
       "      <th>liveness</th>\n",
       "      <th>loudness</th>\n",
       "      <th>speechiness</th>\n",
       "      <th>tempo</th>\n",
       "      <th>time_signature</th>\n",
       "      <th>Cluster</th>\n",
       "    </tr>\n",
       "  </thead>\n",
       "  <tbody>\n",
       "    <tr>\n",
       "      <th>0</th>\n",
       "      <td>2019.0</td>\n",
       "      <td>144000.0</td>\n",
       "      <td>48.0</td>\n",
       "      <td>0.666</td>\n",
       "      <td>0.8510</td>\n",
       "      <td>0.420</td>\n",
       "      <td>0.534000</td>\n",
       "      <td>0.1100</td>\n",
       "      <td>-6.699</td>\n",
       "      <td>0.0829</td>\n",
       "      <td>133.015</td>\n",
       "      <td>5.0</td>\n",
       "      <td>3</td>\n",
       "    </tr>\n",
       "    <tr>\n",
       "      <th>1</th>\n",
       "      <td>2020.0</td>\n",
       "      <td>89488.0</td>\n",
       "      <td>30.0</td>\n",
       "      <td>0.710</td>\n",
       "      <td>0.0822</td>\n",
       "      <td>0.683</td>\n",
       "      <td>0.000169</td>\n",
       "      <td>0.1010</td>\n",
       "      <td>-5.640</td>\n",
       "      <td>0.3600</td>\n",
       "      <td>129.993</td>\n",
       "      <td>3.0</td>\n",
       "      <td>3</td>\n",
       "    </tr>\n",
       "    <tr>\n",
       "      <th>2</th>\n",
       "      <td>2018.0</td>\n",
       "      <td>207758.0</td>\n",
       "      <td>40.0</td>\n",
       "      <td>0.836</td>\n",
       "      <td>0.2720</td>\n",
       "      <td>0.564</td>\n",
       "      <td>0.000537</td>\n",
       "      <td>0.1100</td>\n",
       "      <td>-7.127</td>\n",
       "      <td>0.0424</td>\n",
       "      <td>130.005</td>\n",
       "      <td>4.0</td>\n",
       "      <td>1</td>\n",
       "    </tr>\n",
       "    <tr>\n",
       "      <th>3</th>\n",
       "      <td>2019.0</td>\n",
       "      <td>175135.0</td>\n",
       "      <td>14.0</td>\n",
       "      <td>0.894</td>\n",
       "      <td>0.7980</td>\n",
       "      <td>0.611</td>\n",
       "      <td>0.000187</td>\n",
       "      <td>0.0964</td>\n",
       "      <td>-4.961</td>\n",
       "      <td>0.1130</td>\n",
       "      <td>111.087</td>\n",
       "      <td>4.0</td>\n",
       "      <td>3</td>\n",
       "    </tr>\n",
       "    <tr>\n",
       "      <th>4</th>\n",
       "      <td>2018.0</td>\n",
       "      <td>152049.0</td>\n",
       "      <td>25.0</td>\n",
       "      <td>0.702</td>\n",
       "      <td>0.1160</td>\n",
       "      <td>0.833</td>\n",
       "      <td>0.910000</td>\n",
       "      <td>0.3480</td>\n",
       "      <td>-6.044</td>\n",
       "      <td>0.0447</td>\n",
       "      <td>105.115</td>\n",
       "      <td>4.0</td>\n",
       "      <td>3</td>\n",
       "    </tr>\n",
       "    <tr>\n",
       "      <th>...</th>\n",
       "      <td>...</td>\n",
       "      <td>...</td>\n",
       "      <td>...</td>\n",
       "      <td>...</td>\n",
       "      <td>...</td>\n",
       "      <td>...</td>\n",
       "      <td>...</td>\n",
       "      <td>...</td>\n",
       "      <td>...</td>\n",
       "      <td>...</td>\n",
       "      <td>...</td>\n",
       "      <td>...</td>\n",
       "      <td>...</td>\n",
       "    </tr>\n",
       "    <tr>\n",
       "      <th>525</th>\n",
       "      <td>2015.0</td>\n",
       "      <td>193960.0</td>\n",
       "      <td>10.0</td>\n",
       "      <td>0.735</td>\n",
       "      <td>0.6320</td>\n",
       "      <td>0.918</td>\n",
       "      <td>0.193000</td>\n",
       "      <td>0.0718</td>\n",
       "      <td>-2.582</td>\n",
       "      <td>0.0355</td>\n",
       "      <td>127.954</td>\n",
       "      <td>4.0</td>\n",
       "      <td>3</td>\n",
       "    </tr>\n",
       "    <tr>\n",
       "      <th>526</th>\n",
       "      <td>2015.0</td>\n",
       "      <td>252708.0</td>\n",
       "      <td>0.0</td>\n",
       "      <td>0.602</td>\n",
       "      <td>0.1770</td>\n",
       "      <td>0.883</td>\n",
       "      <td>0.000004</td>\n",
       "      <td>0.1190</td>\n",
       "      <td>-6.183</td>\n",
       "      <td>0.0778</td>\n",
       "      <td>154.010</td>\n",
       "      <td>4.0</td>\n",
       "      <td>0</td>\n",
       "    </tr>\n",
       "    <tr>\n",
       "      <th>527</th>\n",
       "      <td>2015.0</td>\n",
       "      <td>223159.0</td>\n",
       "      <td>0.0</td>\n",
       "      <td>0.729</td>\n",
       "      <td>0.2380</td>\n",
       "      <td>0.864</td>\n",
       "      <td>0.000000</td>\n",
       "      <td>0.1950</td>\n",
       "      <td>-3.942</td>\n",
       "      <td>0.0668</td>\n",
       "      <td>121.058</td>\n",
       "      <td>4.0</td>\n",
       "      <td>1</td>\n",
       "    </tr>\n",
       "    <tr>\n",
       "      <th>528</th>\n",
       "      <td>2015.0</td>\n",
       "      <td>278280.0</td>\n",
       "      <td>0.0</td>\n",
       "      <td>0.809</td>\n",
       "      <td>0.0490</td>\n",
       "      <td>0.806</td>\n",
       "      <td>0.000000</td>\n",
       "      <td>0.0659</td>\n",
       "      <td>-6.547</td>\n",
       "      <td>0.2340</td>\n",
       "      <td>123.997</td>\n",
       "      <td>4.0</td>\n",
       "      <td>0</td>\n",
       "    </tr>\n",
       "    <tr>\n",
       "      <th>529</th>\n",
       "      <td>2015.0</td>\n",
       "      <td>213426.0</td>\n",
       "      <td>0.0</td>\n",
       "      <td>0.816</td>\n",
       "      <td>0.1140</td>\n",
       "      <td>0.961</td>\n",
       "      <td>0.008500</td>\n",
       "      <td>0.1370</td>\n",
       "      <td>-2.204</td>\n",
       "      <td>0.1390</td>\n",
       "      <td>106.972</td>\n",
       "      <td>4.0</td>\n",
       "      <td>1</td>\n",
       "    </tr>\n",
       "  </tbody>\n",
       "</table>\n",
       "<p>530 rows × 13 columns</p>\n",
       "</div>"
      ],
      "text/plain": [
       "     release_date    length  popularity  danceability  acousticness  energy  \\\n",
       "0          2019.0  144000.0        48.0         0.666        0.8510   0.420   \n",
       "1          2020.0   89488.0        30.0         0.710        0.0822   0.683   \n",
       "2          2018.0  207758.0        40.0         0.836        0.2720   0.564   \n",
       "3          2019.0  175135.0        14.0         0.894        0.7980   0.611   \n",
       "4          2018.0  152049.0        25.0         0.702        0.1160   0.833   \n",
       "..            ...       ...         ...           ...           ...     ...   \n",
       "525        2015.0  193960.0        10.0         0.735        0.6320   0.918   \n",
       "526        2015.0  252708.0         0.0         0.602        0.1770   0.883   \n",
       "527        2015.0  223159.0         0.0         0.729        0.2380   0.864   \n",
       "528        2015.0  278280.0         0.0         0.809        0.0490   0.806   \n",
       "529        2015.0  213426.0         0.0         0.816        0.1140   0.961   \n",
       "\n",
       "     instrumentalness  liveness  loudness  speechiness    tempo  \\\n",
       "0            0.534000    0.1100    -6.699       0.0829  133.015   \n",
       "1            0.000169    0.1010    -5.640       0.3600  129.993   \n",
       "2            0.000537    0.1100    -7.127       0.0424  130.005   \n",
       "3            0.000187    0.0964    -4.961       0.1130  111.087   \n",
       "4            0.910000    0.3480    -6.044       0.0447  105.115   \n",
       "..                ...       ...       ...          ...      ...   \n",
       "525          0.193000    0.0718    -2.582       0.0355  127.954   \n",
       "526          0.000004    0.1190    -6.183       0.0778  154.010   \n",
       "527          0.000000    0.1950    -3.942       0.0668  121.058   \n",
       "528          0.000000    0.0659    -6.547       0.2340  123.997   \n",
       "529          0.008500    0.1370    -2.204       0.1390  106.972   \n",
       "\n",
       "     time_signature Cluster  \n",
       "0               5.0       3  \n",
       "1               3.0       3  \n",
       "2               4.0       1  \n",
       "3               4.0       3  \n",
       "4               4.0       3  \n",
       "..              ...     ...  \n",
       "525             4.0       3  \n",
       "526             4.0       0  \n",
       "527             4.0       1  \n",
       "528             4.0       0  \n",
       "529             4.0       1  \n",
       "\n",
       "[530 rows x 13 columns]"
      ]
     },
     "execution_count": 46,
     "metadata": {},
     "output_type": "execute_result"
    }
   ],
   "source": [
    "# turn \"Cluster n\" to the number n\n",
    "mylabels['Cluster'] = mylabels['Cluster'].str.replace('Cluster ','')\n",
    "mylabels"
   ]
  },
  {
   "cell_type": "code",
   "execution_count": 48,
   "metadata": {},
   "outputs": [
    {
     "data": {
      "text/plain": [
       "array([ 5,  3, 14, 16,  3, 16, 16,  3, 16,  5,  5,  3,  5, 16,  5, 16, 14,\n",
       "        3,  5,  2,  3, 14, 16,  3, 16, 14,  3, 16,  5, 16,  3,  3,  3,  3,\n",
       "        1,  1,  1,  1,  1, 16,  3,  1,  1,  1,  1,  1,  3,  0, 16,  3,  1,\n",
       "        1,  1,  3,  1,  3,  1,  3,  1,  1,  3,  1,  1,  1,  6,  1,  1,  3,\n",
       "        1,  1,  3,  3,  1,  1,  1,  1,  1,  1,  3,  1,  1,  1,  1,  1, 16,\n",
       "        1,  1,  0,  1,  1,  1,  1,  1,  1,  1,  3, 17,  1,  3,  1,  1,  1,\n",
       "        1,  0,  3,  0,  3,  1,  1,  1,  3,  1,  1,  1,  1,  1,  3,  1,  1,\n",
       "        1, 13,  3,  1,  1,  1,  1,  3,  1,  1,  3, 10,  1,  1,  1, 15,  0,\n",
       "        1,  1,  1,  0,  1,  1,  1,  1,  3,  1,  1,  0,  1,  1,  1,  1,  1,\n",
       "        1,  1,  1,  1,  1,  0,  1,  1,  1, 12,  1,  1,  1,  1,  1,  1,  1,\n",
       "        3,  1,  0,  1,  1,  1,  1,  1,  1,  3,  1,  1,  1,  1,  1,  1,  1,\n",
       "        0,  3,  1,  1,  1,  1,  1,  3,  1,  0,  1,  1,  1,  3,  3,  1,  1,\n",
       "        3,  1,  1,  1,  1,  1,  1,  1,  1,  1,  1,  1,  1, 16, 16,  0,  1,\n",
       "        1,  0,  3,  3,  1,  3,  1,  1,  0,  1, 16,  1,  3,  0,  1,  3,  0,\n",
       "        1,  1,  1,  1,  1,  1,  1,  1,  1,  1,  1, 16,  1,  0,  1,  3,  1,\n",
       "        1,  3,  3,  0,  1,  1,  3,  1,  0,  0,  1,  1,  1,  1,  2,  0,  3,\n",
       "        1,  1,  1,  0,  7,  1,  1,  1,  1,  1,  0,  1,  1,  1,  1,  1,  1,\n",
       "       15,  0,  1,  3,  3, 16,  3,  1,  1,  1,  1,  3,  1,  1,  1,  1,  1,\n",
       "       16,  3,  1,  3,  1,  3,  1,  3,  7,  1,  0,  1,  3,  3,  1,  1,  1,\n",
       "        1,  3,  1,  1,  1,  1,  7,  1,  3,  1,  7,  7, 15,  1,  1,  1,  1,\n",
       "        3,  3,  3,  1,  1,  1, 18,  1,  1,  1,  1,  1,  1,  0,  1,  0,  0,\n",
       "        3,  3,  1,  1,  1,  1,  1,  3,  1,  1,  1,  1,  1,  1,  3,  1,  1,\n",
       "        1,  1,  1,  1,  8,  1,  3,  1,  1,  1,  1,  0,  1,  1,  1,  3,  1,\n",
       "        1,  0,  1,  3,  1,  1,  0,  1,  1,  1,  1,  3,  1,  1,  1,  1,  0,\n",
       "        1,  1,  1,  1,  1,  1,  1,  1,  1,  3,  0,  1,  3,  1,  3,  0,  1,\n",
       "        3,  0,  0,  1,  1,  1,  1,  4,  3,  3,  1,  2,  1,  1,  1,  1,  1,\n",
       "        0, 16, 16,  0,  3,  1, 16,  0,  0,  0,  0, 16,  1,  0,  1,  1,  1,\n",
       "        0,  0,  3,  1,  1,  1,  1,  1,  1,  1,  0,  0,  1,  3,  3,  1,  0,\n",
       "        0,  1,  1,  1,  1, 16,  1,  1,  1,  3,  7,  1,  1,  0,  1,  3,  1,\n",
       "        1,  1,  3,  1,  1,  3,  1,  1,  0,  1,  1,  7,  3,  1,  0,  0,  1,\n",
       "        1,  1, 11,  9,  1,  1,  1,  3,  1,  3,  1,  7,  1,  1,  1,  1,  1,\n",
       "        1,  1,  1])"
      ]
     },
     "execution_count": 48,
     "metadata": {},
     "output_type": "execute_result"
    }
   ],
   "source": [
    "myY"
   ]
  },
  {
   "cell_type": "code",
   "execution_count": 47,
   "metadata": {},
   "outputs": [
    {
     "name": "stdout",
     "output_type": "stream",
     "text": [
      "Result: 0 out of 530 samples were correctly labeled.\n",
      "Accuracy score: 0.000\n"
     ]
    }
   ],
   "source": [
    "correct_labels = sum(myY == mylabels['Cluster'])\n",
    "\n",
    "print(\"Result: %d out of %d samples were correctly labeled.\" % (correct_labels, myY.size))\n",
    "print('Accuracy score: {0:0.3f}'. format(correct_labels/float(myY.size)))\n"
   ]
  },
  {
   "cell_type": "markdown",
   "metadata": {},
   "source": [
    "*Note: pycaret uses* `predict_model()` *for predictions with unseen data*. "
   ]
  },
  {
   "cell_type": "markdown",
   "metadata": {},
   "source": [
    "## 📄 In class exercise (15 minutes): \n",
    "Experiment different setups and data using pycaret clustering for better accuracy. \n",
    "A low-hanging fruit is a higher `n_clusters`.\n",
    "Remember the pycaret clustering workflow and [cheat sheet](https://pycaret.gitbook.io/docs/learn-pycaret/cheat-sheet):\n",
    "\n",
    "\n",
    "**Setup** ➡️ **Create Model** ➡️ **Assign Labels** ➡️ **Analyze Model** ➡️ (*Prediction* ➡️ *Save Model*)"
   ]
  },
  {
   "cell_type": "markdown",
   "metadata": {},
   "source": [
    "\n",
    "# Assignment 4: Experiments with tsne\n",
    "\n",
    "## Steps to follow\n",
    "\n",
    "The purpose of this lesson was to introduce you to K-Means clustering. There are times when K-Means is not appropriate for your data. Show that clustering using t-sne may work better. Note that t-sne is not exactly a clustering algorithm, but can be used to visualize high dimensional data. Following are links that may be helpful to you in documenting and explaining your findings.\n",
    "\n",
    "- [How to use t-sne effectively](https://distill.pub/2016/misread-tsne/) \n",
    "\n",
    "- [t-sne tutorial](https://github.com/oreillymedia/t-SNE-tutorial) \n",
    "\n",
    "- [a very simple example of using t-sne with scikit](https://www.datatechnotes.com/2020/11/tsne-visualization-example-in-python.html)\n",
    "\n",
    "## An example of how to document your work\n",
    "I found that t-sne was able to \"cluster\" the genres fairly well. The clusters tended to be fairly tight, and most of the styes in a cluster were of the same genre. There were some clusters that were less well defined, however. For example, ... Overall, I found t-sne to be a fairly effective \"clustering\" algorithm for this dataset."
   ]
  },
  {
   "cell_type": "markdown",
   "metadata": {},
   "source": [
    "\n",
    "\n",
    "## Synthetic example from scikit doc\n",
    "https://scikit-learn.org/stable/modules/generated/sklearn.manifold.TSNE.html#sklearn.manifold.TSNE "
   ]
  },
  {
   "cell_type": "code",
   "execution_count": 33,
   "metadata": {},
   "outputs": [
    {
     "data": {
      "text/plain": [
       "array([[ 75.14307  , -30.81881  ],\n",
       "       [ -5.8793445, -60.845226 ],\n",
       "       [ 44.472427 ,  49.961926 ],\n",
       "       [-36.36955  ,  19.853529 ]], dtype=float32)"
      ]
     },
     "execution_count": 33,
     "metadata": {},
     "output_type": "execute_result"
    }
   ],
   "source": [
    "import numpy as np\n",
    "from sklearn.manifold import TSNE\n",
    "\n",
    "X = np.array([[0, 0, 0], [0, 1, 1], [1, 0, 1], [1, 1, 1]])\n",
    "X_embedded = TSNE(n_components=2, learning_rate='auto',init='random',perplexity=3).fit_transform(X)\n",
    "X_embedded"
   ]
  },
  {
   "cell_type": "markdown",
   "metadata": {},
   "source": [
    "## t-SNE: The effect of various perplexity values on the shape\n",
    "After https://scikit-learn.org/stable/auto_examples/manifold/plot_t_sne_perplexity.html\n",
    "\n",
    "For further details, “How to Use t-SNE Effectively” https://distill.pub/2016/misread-tsne/ provides a good discussion of the effects of various parameters, as well as interactive plots to explore those effects."
   ]
  },
  {
   "cell_type": "code",
   "execution_count": 34,
   "metadata": {},
   "outputs": [],
   "source": [
    "# YOUR CODE HERE\n",
    "\n",
    "from sklearn.manifold import TSNE\n",
    "\n",
    "tsne = TSNE(\n",
    "    n_components=3,\n",
    "    init=\"random\",\n",
    "    random_state=0,\n",
    "    perplexity=3,\n",
    "    learning_rate=\"auto\",\n",
    "    n_iter=300,\n",
    ")\n",
    "# ,,,"
   ]
  }
 ],
 "metadata": {
  "kernelspec": {
   "display_name": "Python 3.9.13 ('MLME-22')",
   "language": "python",
   "name": "python3"
  },
  "language_info": {
   "codemirror_mode": {
    "name": "ipython",
    "version": 3
   },
   "file_extension": ".py",
   "mimetype": "text/x-python",
   "name": "python",
   "nbconvert_exporter": "python",
   "pygments_lexer": "ipython3",
   "version": "3.10.10"
  },
  "orig_nbformat": 4,
  "vscode": {
   "interpreter": {
    "hash": "2cb9b8e4ba0e26b1cdc35fa509fd363b1c45cea0b423b3e9d0e061db9bbef286"
   }
  }
 },
 "nbformat": 4,
 "nbformat_minor": 2
}
