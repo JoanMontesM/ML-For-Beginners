{
  "cells": [
    {
      "cell_type": "markdown",
      "metadata": {
        "id": "view-in-github",
        "colab_type": "text"
      },
      "source": [
        "<a href=\"https://colab.research.google.com/github/SMC-AAU-CPH/ML-For-Beginners/blob/main/8-Reinforcement/images/8-Reinforcement.ipynb\" target=\"_parent\"><img src=\"https://colab.research.google.com/assets/colab-badge.svg\" alt=\"Open In Colab\"/></a>"
      ]
    },
    {
      "cell_type": "markdown",
      "metadata": {
        "id": "Wyw-mHX6tmi_"
      },
      "source": [
        "8-Reinforcement Learning\n",
        "================\n",
        "\n",
        "**Author:** Cumhur Erkut\n"
      ]
    },
    {
      "cell_type": "code",
      "execution_count": null,
      "metadata": {
        "id": "sSQvm5jZtmjA"
      },
      "outputs": [],
      "source": [
        "try:\n",
        "  import google.colab\n",
        "  IN_COLAB = True\n",
        "  ! mkdir -p ../1-QLearning/images\n",
        "  ! mkdir -p common\n",
        "  ! wget https://raw.githubusercontent.com/SMC-AAU-CPH/ML-For-Beginners/main/8-Reinforcement/1-QLearning/images/wolf.png -P ../1-QLearning/images/\n",
        "  ! wget https://raw.githubusercontent.com/SMC-AAU-CPH/ML-For-Beginners/main/8-Reinforcement/1-QLearning/images/apple.png -P ../1-QLearning/images/\n",
        "  ! wget https://raw.githubusercontent.com/SMC-AAU-CPH/ML-For-Beginners/main/8-Reinforcement/1-QLearning/images/human.png -P ../1-QLearning/images/\n",
        "  ! wget https://raw.githubusercontent.com/SMC-AAU-CPH/ML-For-Beginners/main/8-Reinforcement/images/rlboard.py .\n",
        "  ! pip install gym==0.26.1 opencv-contrib-python==4.6.0.66 pygame==2.2.0\n",
        "except:\n",
        "  IN_COLAB = False"
      ]
    },
    {
      "cell_type": "markdown",
      "metadata": {
        "id": "V0REQNr0Fi0l"
      },
      "source": [
        "# 8.1 Peter and the Wolf: Reinforcement Learning Primer\n",
        "\n",
        "In this tutorial, we will learn how to apply Reinforcement learning to a problem of path finding. The setting is inspired by [Peter and the Wolf](https://en.wikipedia.org/wiki/Peter_and_the_Wolf) musical fairy tale by Russian composer [Sergei Prokofiev](https://en.wikipedia.org/wiki/Sergei_Prokofiev). It is a story about young pioneer Peter, who bravely goes out of his house to the forest clearing to chase the wolf. We will train machine learning algorithms that will help Peter to explore the surroinding area and build an optimal navigation map.\n",
        "\n",
        "First, let's import a bunch of userful libraries:"
      ]
    },
    {
      "cell_type": "code",
      "execution_count": null,
      "metadata": {
        "id": "Y4NVcdoSFi0l"
      },
      "outputs": [],
      "source": [
        "import matplotlib.pyplot as plt\n",
        "import numpy as np\n",
        "import random\n",
        "import math"
      ]
    },
    {
      "cell_type": "markdown",
      "metadata": {
        "id": "m_V8DcBqFi0m"
      },
      "source": [
        "## Overview of Reinforcement Learning\n",
        "\n",
        "**Reinforcement Learning** (RL) is a learning technique that allows us to learn an optimal behaviour of an **agent** in some **environment** by running many experiments. An agent in this environment should have some **goal**, defined by a **reward function**.\n",
        "\n",
        "## The Environment\n",
        "\n",
        "For simplicity, let's consider Peter's world to be a square board of size `width` x `height`. Each cell in this board can either be:\n",
        "* **ground**, on which Peter and other creatures can walk\n",
        "* **water**, on which you obviously cannot walk\n",
        "* **a tree** or **grass** - a place where you cat take some rest\n",
        "* **an apple**, which represents something Peter would be glad to find in order to feed himself\n",
        "* **a wolf**, which is dangerous and should be avoided\n",
        "\n",
        "To work with the environment, we will define a class called `Board`. In order not to clutter this notebook too much, we have moved all code to work with the board into separate `rlboard` module, which we will now import. You may look inside this module to get more details about the internals of the implementation."
      ]
    },
    {
      "cell_type": "code",
      "execution_count": null,
      "metadata": {
        "id": "xJWDYexyFi0m"
      },
      "outputs": [],
      "source": [
        "from rlboard import *"
      ]
    },
    {
      "cell_type": "markdown",
      "metadata": {
        "id": "-2jz3PUXFi0m"
      },
      "source": [
        "Let's now create a random board and see how it looks:"
      ]
    },
    {
      "cell_type": "code",
      "execution_count": null,
      "metadata": {
        "id": "t1hrcMgoFi0m"
      },
      "outputs": [],
      "source": [
        "width, height = 8,8\n",
        "m = Board(width,height)\n",
        "m.randomize(seed=13)\n",
        "m.plot()"
      ]
    },
    {
      "cell_type": "markdown",
      "metadata": {
        "id": "TCei1ha1Fi0m"
      },
      "source": [
        "## Actions and Policy\n",
        "\n",
        "In our example, Peter's goal would be to find an apple, while avoiding the wolf and other obstacles. To do this, he can essentially walk around until he finds and apple. Therefore, at any position he can chose between one of the following actions: up, down, left and right. We will define those actions as a dictionary, and map them to pairs of corresponding coordinate changes. For example, moving right (`R`) would correspond to a pair `(1,0)`."
      ]
    },
    {
      "cell_type": "code",
      "execution_count": null,
      "metadata": {
        "id": "hd4mFaWaFi0m"
      },
      "outputs": [],
      "source": [
        "### BEGIN SOLUTION\n",
        "actions = { \"U\" : (0,-1), \"D\" : (0,1), \"L\" : (-1,0), \"R\" : (1,0) }\n",
        "action_idx = { a : i for i,a in enumerate(actions.keys()) }\n",
        "### END SOLUTION"
      ]
    },
    {
      "cell_type": "markdown",
      "metadata": {
        "id": "CoEJBJ53Fi0n"
      },
      "source": [
        "The strategy of our agent (Peter) is defined by a so-called **policy**. Let's consider the simplest policy called **random walk**.\n",
        "\n",
        "## Random walk\n",
        "\n",
        "Let's first solve our problem by implementing a random walk strategy."
      ]
    },
    {
      "cell_type": "code",
      "execution_count": null,
      "metadata": {
        "id": "yZfbnow6Fi0n"
      },
      "outputs": [],
      "source": [
        "def random_policy(m):\n",
        "    return random.choice(list(actions))\n",
        "\n",
        "def walk(m,policy,start_position=None):\n",
        "    n = 0 # number of steps\n",
        "    # set initial position\n",
        "    if start_position:\n",
        "        m.human = start_position\n",
        "    else:\n",
        "        m.random_start()\n",
        "    while True:\n",
        "        if m.at() == Board.Cell.apple:\n",
        "            return n # success!\n",
        "        if m.at() in [Board.Cell.wolf, Board.Cell.water]:\n",
        "            return -1 # eaten by wolf or drowned\n",
        "        while True:\n",
        "            a = actions[policy(m)]\n",
        "            new_pos = m.move_pos(m.human,a)\n",
        "            if m.is_valid(new_pos) and m.at(new_pos)!=Board.Cell.water:\n",
        "                m.move(a) # do the actual move\n",
        "                break\n",
        "        n+=1\n",
        "\n",
        "walk(m,random_policy)"
      ]
    },
    {
      "cell_type": "markdown",
      "metadata": {
        "id": "D2oKMaDSFi0n"
      },
      "source": [
        "Let's run random walk experiment several times and see the average number of steps taken:"
      ]
    },
    {
      "cell_type": "code",
      "execution_count": null,
      "metadata": {
        "id": "LF1S3RbYFi0n"
      },
      "outputs": [],
      "source": [
        "def print_statistics(policy):\n",
        "    s,w,n = 0,0,0\n",
        "    for _ in range(100):\n",
        "        z = walk(m,policy)\n",
        "        if z<0:\n",
        "            w+=1\n",
        "        else:\n",
        "            s += z\n",
        "            n += 1\n",
        "    print(f\"Average path length = {s/n}, eaten by wolf: {w} times\")\n",
        "\n",
        "print_statistics(random_policy)"
      ]
    },
    {
      "cell_type": "markdown",
      "metadata": {
        "id": "K_h2XNabFi0n"
      },
      "source": [
        "## Reward Function\n",
        "\n",
        "To make our policy more intelligent, we need to understand which moves are \"better\" than others.\n",
        "\n"
      ]
    },
    {
      "cell_type": "code",
      "execution_count": null,
      "metadata": {
        "id": "_JiGAkrIFi0n"
      },
      "outputs": [],
      "source": [
        "move_reward = -0.1\n",
        "goal_reward = 10\n",
        "end_reward = -10\n",
        "\n",
        "# your reward function reward(m,pos) here\n",
        "### BEGIN SOLUTION\n",
        "def reward(m,pos=None):\n",
        "    pos = pos or m.human\n",
        "    if not m.is_valid(pos):\n",
        "        return end_reward\n",
        "    x = m.at(pos)\n",
        "    if x==Board.Cell.water or x == Board.Cell.wolf:\n",
        "        return end_reward\n",
        "    if x==Board.Cell.apple:\n",
        "        return goal_reward\n",
        "    return move_reward\n",
        "### BEGIN SOLUTION"
      ]
    },
    {
      "cell_type": "markdown",
      "metadata": {
        "id": "oHu8EXdIFi0n"
      },
      "source": [
        "## Q-Learning\n",
        "\n",
        "Build a Q-Table, or multi-dimensional array. Since our board has dimensions `width` x `height`, we can represent Q-Table by a numpy array with shape `width` x `height` x `len(actions)`:"
      ]
    },
    {
      "cell_type": "code",
      "execution_count": null,
      "metadata": {
        "id": "tdau7MRXFi0n"
      },
      "outputs": [],
      "source": [
        "# your Q-table here\n",
        "### BEGIN SOLUTION\n",
        "Q = np.ones((width,height,len(actions)),dtype=float)*1.0/len(actions)\n",
        "### BEGIN SOLUTION"
      ]
    },
    {
      "cell_type": "markdown",
      "metadata": {
        "id": "TcFUPK3CFi0n"
      },
      "source": [
        "Pass the Q-Table to the plot function in order to visualize the table on the board:"
      ]
    },
    {
      "cell_type": "code",
      "execution_count": null,
      "metadata": {
        "id": "Q9601tStFi0n"
      },
      "outputs": [],
      "source": [
        "m.plot(Q)"
      ]
    },
    {
      "cell_type": "markdown",
      "metadata": {
        "id": "7ssb-B3MFi0n"
      },
      "source": [
        "## Essence of Q-Learning: Bellman Equation and  Learning Algorithm\n",
        "\n",
        "Write a pseudo-code for our leaning algorithm:\n",
        "\n",
        "* Initialize Q-Table Q with equal numbers for all states and actions\n",
        "* Set learning rate $\\alpha\\leftarrow 1$\n",
        "* Repeat simulation many times\n",
        "   1. Start at random position\n",
        "   1. Repeat\n",
        "        1. Select an action $a$ at state $s$\n",
        "        2. Exectute action by moving to a new state $s'$\n",
        "        3. If we encounter end-of-game condition, or total reward is too small - exit simulation  \n",
        "        4. Compute reward $r$ at the new state\n",
        "        5. Update Q-Function according to Bellman equation: $Q(s,a)\\leftarrow (1-\\alpha)Q(s,a)+\\alpha(r+\\gamma\\max_{a'}Q(s',a'))$\n",
        "        6. $s\\leftarrow s'$\n",
        "        7. Update total reward and decrease $\\alpha$.\n",
        "\n",
        "## Exploit vs. Explore\n",
        "\n",
        "The best approach is to balance between exploration and exploitation. As we learn more about our environment, we would be more likely to follow the optimal route, however, choosing the unexplored path once in a while.\n",
        "\n",
        "## Python Implementation\n",
        "\n",
        "Now we are ready to implement the learning algorithm. Before that, we also need some function that will convert arbitrary numbers in the Q-Table into a vector of probabilities for corresponding actions:"
      ]
    },
    {
      "cell_type": "code",
      "execution_count": null,
      "metadata": {
        "id": "vFcaLxP-Fi0o"
      },
      "outputs": [],
      "source": [
        "def probs(v,eps=1e-4):\n",
        "    v = v-v.min()+eps\n",
        "    v = v/v.sum()\n",
        "    return v"
      ]
    },
    {
      "cell_type": "markdown",
      "metadata": {
        "id": "8OrQDc_7Fi0o"
      },
      "source": [
        "We add a small amount of `eps` to the original vector in order to avoid division by 0 in the initial case, when all components of the vector are identical.\n",
        "\n",
        "The actual learning algorithm we will run for 10000 experiments, also called **epochs**:"
      ]
    },
    {
      "cell_type": "code",
      "execution_count": null,
      "metadata": {
        "id": "ETnHJ_9hFi0o"
      },
      "outputs": [],
      "source": [
        "from IPython.display import clear_output\n",
        "\n",
        "lpath = []\n",
        "\n",
        "for epoch in range(10000):\n",
        "    clear_output(wait=True)\n",
        "    print(f\"Epoch = {epoch}\",end='')\n",
        "\n",
        "    # Pick initial point\n",
        "    m.random_start()\n",
        "\n",
        "    # Start travelling\n",
        "    n=0\n",
        "    cum_reward = 0\n",
        "    while True:\n",
        "        x,y = m.human\n",
        "        v = probs(Q[x,y])\n",
        "        a = random.choices(list(actions),weights=v)[0]\n",
        "        dpos = actions[a]\n",
        "        m.move(dpos,check_correctness=False) # we allow player to move outside the board, which terminates episode\n",
        "        r = reward(m)\n",
        "        cum_reward += r\n",
        "        if r==end_reward or cum_reward < -1000:\n",
        "            print(f\" {n} steps\",end='\\r')\n",
        "            lpath.append(n)\n",
        "            break\n",
        "        alpha = np.exp(-n / 3000)\n",
        "        gamma = 0.5\n",
        "        ai = action_idx[a]\n",
        "        Q[x,y,ai] = (1 - alpha) * Q[x,y,ai] + alpha * (r + gamma * Q[x+dpos[0], y+dpos[1]].max())\n",
        "        n+=1"
      ]
    },
    {
      "cell_type": "markdown",
      "metadata": {
        "id": "PsUUXHcPFi0o"
      },
      "source": [
        "After executing this algorithm, the Q-Table should be updated with values that define the attractiveness of different actions at each step. Visualize the table here:"
      ]
    },
    {
      "cell_type": "code",
      "execution_count": null,
      "metadata": {
        "id": "6He1AtMUFi0o"
      },
      "outputs": [],
      "source": [
        "m.plot(Q)"
      ]
    },
    {
      "cell_type": "markdown",
      "metadata": {
        "id": "lGZ7CkuiFi0o"
      },
      "source": [
        "## Checking the Policy\n",
        "\n",
        "Since Q-Table lists the \"attractiveness\" of each action at each state, it is quite easy to use it to define the efficient navigation in our world. In the simplest case, we can just select the action corresponding to the highest Q-Table value:"
      ]
    },
    {
      "cell_type": "code",
      "execution_count": null,
      "metadata": {
        "id": "h9z763_4Fi0o"
      },
      "outputs": [],
      "source": [
        "def qpolicy_strict(m):\n",
        "        x,y = m.human\n",
        "        v = probs(Q[x,y])\n",
        "        a = list(actions)[np.argmax(v)]\n",
        "        return a\n",
        "\n",
        "walk(m,qpolicy_strict)"
      ]
    },
    {
      "cell_type": "markdown",
      "metadata": {
        "id": "eYKgYYjvFi0o"
      },
      "source": [
        "If you try the code above several times, you may notice that sometimes it just \"hangs\", and you need to press the STOP button in the notebook to interrupt it.\n",
        "\n",
        "> **Task 1:** Modify the `walk` function to limit the maximum length of path by a certain number of steps (say, 100), and watch the code above return this value from time to time.\n",
        "\n",
        "> **Task 2:** Modify the `walk` function so that it does not go back to the places where is has already been previously. This will prevent `walk` from looping, however, the agent can still end up being \"trapped\" in a location from which it is unable to escape."
      ]
    },
    {
      "cell_type": "code",
      "execution_count": null,
      "metadata": {
        "id": "AZU5EB2xFi0o"
      },
      "outputs": [],
      "source": [
        "def qpolicy(m):\n",
        "        x,y = m.human\n",
        "        v = probs(Q[x,y])\n",
        "        a = random.choices(list(actions),weights=v)[0]\n",
        "        return a\n",
        "\n",
        "print_statistics(qpolicy)"
      ]
    },
    {
      "cell_type": "markdown",
      "metadata": {
        "id": "xha8jo5dFi0o"
      },
      "source": [
        "## Investigating the Learning Process"
      ]
    },
    {
      "cell_type": "code",
      "execution_count": null,
      "metadata": {
        "id": "oamx3Cq3Fi0o"
      },
      "outputs": [],
      "source": [
        "plt.plot(lpath)"
      ]
    },
    {
      "cell_type": "markdown",
      "metadata": {
        "id": "Wg2FS-TAFi0o"
      },
      "source": [
        "What we see here is that at first the average path length increased. This is probably due to the fact that when we know nothing about the environment - we are likely to get trapped into bad states, water or wolf. As we learn more and start using this knowledge, we can explore the environment for longer, but we still do not know well where apples are.\n",
        "\n",
        "Once we learn enough, it becomes easier for the agent to achieve the goal, and the path length starts to decrease. However, we are still open to exploration, so we often diverge away from the best path, and explore new options, making the path longer than optimal.\n",
        "\n",
        "What we also observe on this graph, is that at some point the length increased abruptly. This indicates stochastic nature of the process, and that we can at some point \"sploil\" the Q-Table coefficients, by overwriting them with new values. This ideally should be minimized by decreasing learning rate (i.e. towards the end of training we only adjust Q-Table values by a small value).\n",
        "\n",
        "Overall, it is important to remember that the success and quality of the learning process significantly depends on parameters, such as leaning rate, learning rate decay and discount factor. Those are often called **hyperparameters**, to distinguish them from **parameters** which we optimize during training (eg. Q-Table coefficients). The process of finding best hyperparameter values is called **hyperparameter optimization**, and it deserves a separate topic."
      ]
    },
    {
      "cell_type": "markdown",
      "metadata": {
        "id": "OHuCnpgOFi0p"
      },
      "source": [
        "## 🚀Challenge: A more realistic Peter and the Wolf World\n",
        "\n",
        "In our situation, Peter was able to move around almost without getting tired or hungry. In a more realistic world, he has to sit down and rest from time to time, and also to feed himself. Let's make our world more realistic by implementing the following rules:\n",
        "\n",
        "1. By moving from one place to another, Peter loses **energy** and gains some **fatigue**.\n",
        "2. Peter can gain more energy by eating apples.\n",
        "3. Peter can get rid of fatigue by resting under the tree or on the grass (i.e. walking into a board location with a tree or grass - green field)\n",
        "4. Peter needs to find and kill the wolf\n",
        "5. In order to kill the wolf, Peter needs to have certain levels of energy and fatigue, otherwise he loses the battle.\n",
        "\n",
        "Modify the reward function above according to the rules of the game, run the reinforcement learning algorithm to learn the best strategy for winning the game, and compare the results of random walk with your algorithm in terms of number of games won and lost.\n",
        "\n",
        "\n",
        "> **Note**: You may need to adjust hyperparameters to make it work, especially the number of epochs. Because the success of the game (fighting the wolf) is a rare event, you can expect much longer training time.\n"
      ]
    },
    {
      "cell_type": "markdown",
      "metadata": {
        "id": "8Q9jSavqPm76"
      },
      "source": [
        "# 8.2 CartPole Skating\n",
        "\n",
        "> **Problem**: If Peter wants to escape from the wolf, he needs to be able to move faster than him. We will see how Peter can learn to skate, in particular, to keep balance, using Q-Learning.\n",
        "\n",
        "First, let's install the gym and import required libraries:"
      ]
    },
    {
      "cell_type": "code",
      "execution_count": null,
      "metadata": {
        "id": "E0x58HSVPm76"
      },
      "outputs": [],
      "source": [
        "import sys\n",
        "import gym"
      ]
    },
    {
      "cell_type": "markdown",
      "metadata": {
        "id": "HOKolx8NPm76"
      },
      "source": [
        "## Create a cartpole environment"
      ]
    },
    {
      "cell_type": "code",
      "execution_count": null,
      "metadata": {
        "id": "bmUCkKGtPm76"
      },
      "outputs": [],
      "source": [
        "import sys\n",
        "# import gym # Replaced with gymnasium\n",
        "import gymnasium as gym"
      ]
    },
    {
      "cell_type": "code",
      "execution_count": null,
      "metadata": {
        "id": "jEbVJVakPm77"
      },
      "outputs": [],
      "source": [
        "## To see how the environment works, let's run a short episode for 100 steps\n",
        "\n",
        "env.reset()\n",
        "for i in range(100):\n",
        "   # env.render() # Removed render call from the loop\n",
        "   env.step(env.action_space.sample())\n",
        "env.close()"
      ]
    },
    {
      "cell_type": "markdown",
      "metadata": {
        "id": "hDKepINePm77"
      },
      "source": [
        "During simulation, we need to get observations in order to decide how to act. In fact, `step` function returns us back current observations, reward function, and the `done` flag that indicates whether it makes sense to continue the simulation or not:"
      ]
    },
    {
      "cell_type": "code",
      "execution_count": null,
      "metadata": {
        "id": "juC0GViHPm77"
      },
      "outputs": [],
      "source": [
        "env.reset()\n",
        "\n",
        "done = False\n",
        "while not done:\n",
        "   env.render()\n",
        "   obs, rew, done, info, _ = env.step(env.action_space.sample())\n",
        "   print(f\"{obs} -> {rew}\")\n",
        "env.close()"
      ]
    },
    {
      "cell_type": "markdown",
      "metadata": {
        "id": "4mdeDGcaPm77"
      },
      "source": [
        "We can get min and max value of those numbers:"
      ]
    },
    {
      "cell_type": "code",
      "execution_count": null,
      "metadata": {
        "id": "xfIxevubPm77"
      },
      "outputs": [],
      "source": [
        "print(env.observation_space.low)\n",
        "print(env.observation_space.high)"
      ]
    },
    {
      "cell_type": "markdown",
      "metadata": {
        "id": "dyc8xQaaPm77"
      },
      "source": [
        "## State Discretization"
      ]
    },
    {
      "cell_type": "code",
      "execution_count": null,
      "metadata": {
        "id": "i-2Lzo8BPm77"
      },
      "outputs": [],
      "source": [
        "def discretize(x):\n",
        "    return tuple((x/np.array([0.25, 0.25, 0.01, 0.1])).astype(int))"
      ]
    },
    {
      "cell_type": "code",
      "execution_count": null,
      "metadata": {
        "id": "2ow5kLRbPm77"
      },
      "outputs": [],
      "source": [
        "# Let's explore other discretization methods using bins\n",
        "def create_bins(i,num):\n",
        "    return np.arange(num+1)*(i[1]-i[0])/num+i[0]\n",
        "\n",
        "print(\"Sample bins for interval (-5,5) with 10 bins\\n\",create_bins((-5,5),10))\n",
        "\n",
        "ints = [(-5,5),(-2,2),(-0.5,0.5),(-2,2)] # intervals of values for each parameter\n",
        "nbins = [20,20,10,10] # number of bins for each parameter\n",
        "bins = [create_bins(ints[i],nbins[i]) for i in range(4)]\n",
        "\n",
        "def discretize_bins(x):\n",
        "    return tuple(np.digitize(x[i],bins[i]) for i in range(4))"
      ]
    },
    {
      "cell_type": "markdown",
      "metadata": {
        "id": "g7NqP-AjPm78"
      },
      "source": [
        "Let's now run a short simulation and observe those discrete environment values."
      ]
    },
    {
      "cell_type": "code",
      "execution_count": null,
      "metadata": {
        "id": "GZFwaFjvPm78"
      },
      "outputs": [],
      "source": [
        "env.reset()\n",
        "\n",
        "done = False\n",
        "while not done:\n",
        "   # env.render()\n",
        "   obs, rew, done, info, _ = env.step(env.action_space.sample())\n",
        "   #print(discretize_bins(obs))\n",
        "   print(discretize(obs))\n",
        "env.close()"
      ]
    },
    {
      "cell_type": "markdown",
      "metadata": {
        "id": "-37JOkyDPm78"
      },
      "source": [
        "## Q-Table Structure"
      ]
    },
    {
      "cell_type": "code",
      "execution_count": null,
      "metadata": {
        "id": "01PjilBvPm78"
      },
      "outputs": [],
      "source": [
        "Q = {}\n",
        "actions = (0,1)\n",
        "\n",
        "def qvalues(state):\n",
        "    return [Q.get((state,a),0) for a in actions]"
      ]
    },
    {
      "cell_type": "markdown",
      "metadata": {
        "id": "1rcd7dYZPm78"
      },
      "source": [
        "## Let's Start Q-Learning!"
      ]
    },
    {
      "cell_type": "code",
      "execution_count": null,
      "metadata": {
        "id": "9EzPJou2Pm78"
      },
      "outputs": [],
      "source": [
        "# hyperparameters\n",
        "alpha = 0.3\n",
        "gamma = 0.9\n",
        "epsilon = 0.90"
      ]
    },
    {
      "cell_type": "code",
      "execution_count": null,
      "metadata": {
        "id": "xyglvOBKPm78"
      },
      "outputs": [],
      "source": [
        "import tqdm\n",
        "def probs(v,eps=1e-4):\n",
        "    v = v-v.min()+eps\n",
        "    v = v/v.sum()\n",
        "    return v\n",
        "\n",
        "Qmax = 0\n",
        "cum_rewards = []\n",
        "rewards = []\n",
        "for epoch in tqdm.tqdm(range(500)):\n",
        "    obs, _ = env.reset()\n",
        "    done = False\n",
        "    cum_reward=0\n",
        "    # == do the simulation ==\n",
        "    while not done:\n",
        "        s = discretize(obs)\n",
        "        if random.random()<epsilon:\n",
        "            # exploitation - chose the action according to Q-Table probabilities\n",
        "            v = probs(np.array(qvalues(s)))\n",
        "            a = random.choices(actions,weights=v)[0]\n",
        "        else:\n",
        "            # exploration - randomly chose the action\n",
        "            a = np.random.randint(env.action_space.n)\n",
        "\n",
        "        obs, rew, done, info, _ = env.step(a)\n",
        "        cum_reward+=rew\n",
        "        ns = discretize(obs)\n",
        "        Q[(s,a)] = (1 - alpha) * Q.get((s,a),0) + alpha * (rew + gamma * max(qvalues(ns)))\n",
        "    cum_rewards.append(cum_reward)\n",
        "    rewards.append(cum_reward)\n",
        "    # == Periodically print results and calculate average reward ==\n",
        "    if epoch%5000==0:\n",
        "        print(f\"{epoch}: {np.average(cum_rewards)}, alpha={alpha}, epsilon={epsilon}\")\n",
        "        if np.average(cum_rewards) > Qmax:\n",
        "            Qmax = np.average(cum_rewards)\n",
        "            Qbest = Q\n",
        "        cum_rewards=[]"
      ]
    },
    {
      "cell_type": "markdown",
      "metadata": {
        "id": "pVC3qjPPPm78"
      },
      "source": [
        "## Plotting Training Progress"
      ]
    },
    {
      "cell_type": "code",
      "execution_count": null,
      "metadata": {
        "id": "gvlYTe_cPm78"
      },
      "outputs": [],
      "source": [
        "plt.plot(rewards)"
      ]
    },
    {
      "cell_type": "markdown",
      "metadata": {
        "id": "ioQ07BbUPm78"
      },
      "source": [
        "From this graph, it is not possible to tell anything, because due to the nature of stochastic training process the length of training sessions varies greatly. To make more sense of this graph, we can calculate **running average** over series of experiments, let's say 100. This can be done conveniently using `np.convolve`:"
      ]
    },
    {
      "cell_type": "code",
      "execution_count": null,
      "metadata": {
        "id": "05GepTpaPm78"
      },
      "outputs": [],
      "source": [
        "def running_average(x,window):\n",
        "    return np.convolve(x,np.ones(window)/window,mode='valid')\n",
        "\n",
        "plt.plot(running_average(rewards,100))"
      ]
    },
    {
      "cell_type": "markdown",
      "metadata": {
        "id": "e_THtoEEPm78"
      },
      "source": [
        "## Varying Hyperparameters and Seeing the Result in Action\n",
        "\n",
        "Now it would be interesting to actually see how the trained model behaves. Let's run the simulation, and we will be following the same action selection strategy as during training: sampling according to the probability distribution in Q-Table:"
      ]
    },
    {
      "cell_type": "code",
      "execution_count": null,
      "metadata": {
        "id": "d683jNeoPm78"
      },
      "outputs": [],
      "source": [
        "obs, _ = env.reset()\n",
        "done = False\n",
        "while not done:\n",
        "   s = discretize(obs)\n",
        "   env.render()\n",
        "   v = probs(np.array(qvalues(s)))\n",
        "   a = random.choices(actions,weights=v)[0]\n",
        "   obs,_,done,_,_ = env.step(a)\n",
        "env.close()"
      ]
    },
    {
      "cell_type": "markdown",
      "metadata": {
        "id": "cTwLlIW1Pm78"
      },
      "source": [
        "## Saving result to an animated GIF\n",
        "\n",
        "If you want to impress your friends, you may want to send them the animated GIF picture of the balancing pole. To do this, we can invoke `env.render` to produce an image frame, and then save those to animated GIF using PIL library:"
      ]
    },
    {
      "cell_type": "code",
      "execution_count": null,
      "metadata": {
        "id": "gKy27euzPm78"
      },
      "outputs": [],
      "source": [
        "from PIL import Image\n",
        "obs, _ = env.reset()\n",
        "done = False\n",
        "i=0\n",
        "ims = []\n",
        "while not done:\n",
        "   s = discretize(obs)\n",
        "   img=env.render()[0]\n",
        "   ims.append(Image.fromarray(img))\n",
        "   v = probs(np.array([Qbest.get((s,a),0) for a in actions]))\n",
        "   a = random.choices(actions,weights=v)[0]\n",
        "   obs,_,done,_,_ = env.step(a)\n",
        "   i+=1\n",
        "env.close()\n",
        "ims[0].save('cartpole-balance.gif',save_all=True,append_images=ims[1::2],loop=0,duration=5)\n",
        "print(i)"
      ]
    }
  ],
  "metadata": {
    "colab": {
      "provenance": [],
      "include_colab_link": true
    },
    "kernelspec": {
      "display_name": "MLME-23",
      "language": "python",
      "name": "python3"
    },
    "language_info": {
      "codemirror_mode": {
        "name": "ipython",
        "version": 3
      },
      "file_extension": ".py",
      "mimetype": "text/x-python",
      "name": "python",
      "nbconvert_exporter": "python",
      "pygments_lexer": "ipython3",
      "version": "3.9.12"
    }
  },
  "nbformat": 4,
  "nbformat_minor": 0
}