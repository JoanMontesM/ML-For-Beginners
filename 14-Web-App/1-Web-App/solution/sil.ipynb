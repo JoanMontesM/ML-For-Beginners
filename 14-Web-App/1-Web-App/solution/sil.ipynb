{
 "cells": [
  {
   "cell_type": "code",
   "execution_count": 1,
   "metadata": {},
   "outputs": [
    {
     "name": "stderr",
     "output_type": "stream",
     "text": [
      "2022-10-06 22:18:34.220 \n",
      "  \u001b[33m\u001b[1mWarning:\u001b[0m to view this Streamlit app on a browser, run it with the following\n",
      "  command:\n",
      "\n",
      "    streamlit run /opt/homebrew/Caskroom/miniforge/base/envs/MLME-22/lib/python3.9/site-packages/ipykernel_launcher.py [ARGUMENTS]\n",
      "2022-10-06 22:18:34.220 `label` got an empty value. This is discouraged for accessibility reasons and may be disallowed in the future by raising an exception. Please provide a non-empty label and hide it with label_visibility if needed.\n",
      "/opt/homebrew/Caskroom/miniforge/base/envs/MLME-22/lib/python3.9/site-packages/sklearn/base.py:450: UserWarning: X does not have valid feature names, but LogisticRegression was fitted with feature names\n",
      "  warnings.warn(\n"
     ]
    },
    {
     "data": {
      "text/plain": [
       "DeltaGenerator(_root_container=0, _provided_cursor=None, _parent=None, _block_type=None, _form_data=None)"
      ]
     },
     "execution_count": 1,
     "metadata": {},
     "output_type": "execute_result"
    }
   ],
   "source": [
    "import streamlit as st\n",
    "import pickle\n",
    "\n",
    "model = pickle.load(open('ufo-model.pkl','rb'))\n",
    "\n",
    "st.title(\"Prediction of UFO Sightings\")\n",
    "\n",
    "st.markdown(\"Enter the duration (seconds), for latitude 40, and longitude -12 of the UFO sighting to predict the country of the UFO sighting\")\n",
    "\n",
    "dur = st.number_input('', 0,10000)\n",
    "\n",
    "# Prediction\n",
    "st.subheader(\"Prediction\")\n",
    "st.code(float(model.predict([[dur, 40, -12]])))\n",
    "\n",
    "# p% rint(model.predict([[dur,44.]]))"
   ]
  }
 ],
 "metadata": {
  "kernelspec": {
   "display_name": "Python 3.9.13 ('MLME-22')",
   "language": "python",
   "name": "python3"
  },
  "language_info": {
   "codemirror_mode": {
    "name": "ipython",
    "version": 3
   },
   "file_extension": ".py",
   "mimetype": "text/x-python",
   "name": "python",
   "nbconvert_exporter": "python",
   "pygments_lexer": "ipython3",
   "version": "3.9.13"
  },
  "orig_nbformat": 4,
  "vscode": {
   "interpreter": {
    "hash": "2cb9b8e4ba0e26b1cdc35fa509fd363b1c45cea0b423b3e9d0e061db9bbef286"
   }
  }
 },
 "nbformat": 4,
 "nbformat_minor": 2
}
